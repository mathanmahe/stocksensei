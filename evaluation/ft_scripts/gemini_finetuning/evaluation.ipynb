{
 "cells": [
  {
   "cell_type": "code",
   "execution_count": 9,
   "metadata": {},
   "outputs": [],
   "source": [
    "import json\n",
    "\n",
    "with open(\"/Users/ayushimathur/Downloads/cs6220-project-eval_will/gemini_finetuning/model_response.json\") as f:\n",
    "    testing_outputs = json.load(f)"
   ]
  },
  {
   "cell_type": "code",
   "execution_count": 10,
   "metadata": {},
   "outputs": [],
   "source": [
    "# testing_outputs = [\n",
    "#     {\n",
    "#         \"gold_ans\": \"Trump is the president.\",\n",
    "#         \"response\": \"President of the USA is Donald Trump.\"\n",
    "#     },\n",
    "#     {\n",
    "#         \"gold_ans\": \"LLAMA rules.\",\n",
    "#         \"response\": \"President of the USA is Donald Trump.\"\n",
    "#     },\n",
    "    \n",
    "# ]"
   ]
  },
  {
   "cell_type": "code",
   "execution_count": 11,
   "metadata": {},
   "outputs": [],
   "source": [
    "references = [_[\"gold_ans\"] for _ in testing_outputs]\n",
    "hypothesis = [_[\"response\"] for _ in testing_outputs]"
   ]
  },
  {
   "cell_type": "code",
   "execution_count": 12,
   "metadata": {},
   "outputs": [
    {
     "name": "stdout",
     "output_type": "stream",
     "text": [
      "BLEU Score: 68.4869\n"
     ]
    }
   ],
   "source": [
    "# BLEU score\n",
    "from sacrebleu import corpus_bleu\n",
    "\n",
    "references_for_bleu = [[ref] for ref in references]\n",
    "bleu = corpus_bleu(hypothesis, references_for_bleu)\n",
    "print(f\"BLEU Score: {bleu.score:.4f}\")\n",
    "\n",
    "\n"
   ]
  },
  {
   "cell_type": "code",
   "execution_count": 13,
   "metadata": {},
   "outputs": [
    {
     "name": "stderr",
     "output_type": "stream",
     "text": [
      "Some weights of RobertaModel were not initialized from the model checkpoint at roberta-large and are newly initialized: ['roberta.pooler.dense.bias', 'roberta.pooler.dense.weight']\n",
      "You should probably TRAIN this model on a down-stream task to be able to use it for predictions and inference.\n",
      "Warning: Empty candidate sentence detected; setting raw BERTscores to 0.\n",
      "Warning: Empty candidate sentence detected; setting raw BERTscores to 0.\n",
      "Warning: Empty candidate sentence detected; setting raw BERTscores to 0.\n",
      "Warning: Empty candidate sentence detected; setting raw BERTscores to 0.\n",
      "Warning: Empty candidate sentence detected; setting raw BERTscores to 0.\n",
      "Warning: Empty candidate sentence detected; setting raw BERTscores to 0.\n",
      "Warning: Empty candidate sentence detected; setting raw BERTscores to 0.\n",
      "Warning: Empty candidate sentence detected; setting raw BERTscores to 0.\n"
     ]
    },
    {
     "name": "stdout",
     "output_type": "stream",
     "text": [
      "BERTScore - Precision: -4.1057, Recall: -4.1020, F1: -4.0957\n"
     ]
    },
    {
     "name": "stderr",
     "output_type": "stream",
     "text": [
      "Warning: Empty candidate sentence detected; setting raw BERTscores to 0.\n",
      "Warning: Empty candidate sentence detected; setting raw BERTscores to 0.\n",
      "Warning: Empty candidate sentence detected; setting raw BERTscores to 0.\n",
      "Warning: Empty candidate sentence detected; setting raw BERTscores to 0.\n"
     ]
    }
   ],
   "source": [
    "# BERT score\n",
    "from bert_score import score as bert_score\n",
    "\n",
    "P, R, F1 = bert_score(hypothesis, references, lang=\"en\", rescale_with_baseline=True)\n",
    "print(f\"BERTScore - Precision: {P.mean().item():.4f}, Recall: {R.mean().item():.4f}, F1: {F1.mean().item():.4f}\")\n"
   ]
  },
  {
   "cell_type": "code",
   "execution_count": 14,
   "metadata": {},
   "outputs": [
    {
     "name": "stdout",
     "output_type": "stream",
     "text": [
      "ROUGE-L Score: 0.0422\n"
     ]
    }
   ],
   "source": [
    "# Rouge-L Score\n",
    "from rouge_score import rouge_scorer\n",
    "rouge_scorer_instance = rouge_scorer.RougeScorer([\"rougeL\"], use_stemmer=True)\n",
    "rouge_l_scores = [\n",
    "    rouge_scorer_instance.score(ref, hyp)[\"rougeL\"].fmeasure\n",
    "    for ref, hyp in zip(references, hypothesis)\n",
    "]\n",
    "avg_rouge_l = sum(rouge_l_scores) / len(rouge_l_scores)\n",
    "print(f\"ROUGE-L Score: {avg_rouge_l:.4f}\")"
   ]
  },
  {
   "cell_type": "code",
   "execution_count": null,
   "metadata": {},
   "outputs": [],
   "source": []
  }
 ],
 "metadata": {
  "kernelspec": {
   "display_name": "ml_hw1",
   "language": "python",
   "name": "python3"
  },
  "language_info": {
   "codemirror_mode": {
    "name": "ipython",
    "version": 3
   },
   "file_extension": ".py",
   "mimetype": "text/x-python",
   "name": "python",
   "nbconvert_exporter": "python",
   "pygments_lexer": "ipython3",
   "version": "3.11.7"
  }
 },
 "nbformat": 4,
 "nbformat_minor": 2
}
