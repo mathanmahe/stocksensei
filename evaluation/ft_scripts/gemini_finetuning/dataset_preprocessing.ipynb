{
 "cells": [
  {
   "cell_type": "code",
   "execution_count": 5,
   "metadata": {},
   "outputs": [],
   "source": [
    "QUESTION_PROMPT_TEMPLATE = \"\"\"You are an agent that answers questions related to stocks of companies. You must use your knowledge of the real world and information given to answer a question about {company} given.\n",
    "Question: {question}\n",
    "Answer: \"\"\""
   ]
  },
  {
   "cell_type": "code",
   "execution_count": 6,
   "metadata": {},
   "outputs": [],
   "source": [
    "import csv\n",
    "\n",
    "# Open and read a CSV file\n",
    "formatted_data = []\n",
    "with open('/Users/ayushimathur/Downloads/cs6220-project-eval_will/evaluation/evaluation_dataset.csv', mode='r') as file:\n",
    "    csv_reader = csv.reader(file)\n",
    "    \n",
    "    # Skip the header row (optional)\n",
    "    header = next(csv_reader)\n",
    "    \n",
    "    # Read rows\n",
    "    for row in csv_reader:\n",
    "        formatted_data.append({\"text_input\": QUESTION_PROMPT_TEMPLATE.format(company=row[2], question=row[3]), \"output\": row[4]})\n",
    "        \n",
    "        \n"
   ]
  },
  {
   "cell_type": "code",
   "execution_count": 7,
   "metadata": {},
   "outputs": [
    {
     "name": "stdout",
     "output_type": "stream",
     "text": [
      "1210\n"
     ]
    }
   ],
   "source": [
    "# Size of the data\n",
    "print(len(formatted_data))\n"
   ]
  },
  {
   "cell_type": "code",
   "execution_count": 9,
   "metadata": {},
   "outputs": [],
   "source": [
    "# Using 500 random samples for finetuning and remaining for testing\n",
    "import random\n",
    "import json\n",
    "\n",
    "random.shuffle(formatted_data)\n",
    "training_samples = formatted_data[:500]\n",
    "testing_samples = formatted_data[500:]\n",
    "\n",
    "with open(\"/Users/ayushimathur/Downloads/cs6220-project-eval_will/gemini_finetuning/training_data.json\", \"w\") as f:\n",
    "    json.dump(training_samples, f, indent=4)\n",
    "with open(\"/Users/ayushimathur/Downloads/cs6220-project-eval_will/gemini_finetuning/testing_data.json\", \"w\") as f:\n",
    "    json.dump(testing_samples, f, indent=4)\n",
    "    \n"
   ]
  },
  {
   "cell_type": "code",
   "execution_count": null,
   "metadata": {},
   "outputs": [],
   "source": []
  }
 ],
 "metadata": {
  "kernelspec": {
   "display_name": "ml_hw1",
   "language": "python",
   "name": "python3"
  },
  "language_info": {
   "codemirror_mode": {
    "name": "ipython",
    "version": 3
   },
   "file_extension": ".py",
   "mimetype": "text/x-python",
   "name": "python",
   "nbconvert_exporter": "python",
   "pygments_lexer": "ipython3",
   "version": "3.11.7"
  }
 },
 "nbformat": 4,
 "nbformat_minor": 2
}
