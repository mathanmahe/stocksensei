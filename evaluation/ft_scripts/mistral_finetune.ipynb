{
 "cells": [
  {
   "cell_type": "code",
   "execution_count": 2,
   "metadata": {
    "id": "boL0xzORJmHt"
   },
   "outputs": [],
   "source": [
    "\n",
    "%%capture\n",
    "import torch\n",
    "major_version, minor_version = torch.cuda.get_device_capability()\n",
    "# Must install separately since Colab has torch 2.2.1, which breaks packages\n",
    "!pip install \"unsloth[colab-new] @ git+https://github.com/unslothai/unsloth.git\"\n",
    "if major_version >= 8:\n",
    "    # Use this for new GPUs like Ampere, Hopper GPUs (RTX 30xx, RTX 40xx, A100, H100, L40)\n",
    "    !pip install --no-deps packaging ninja einops flash-attn xformers trl peft accelerate bitsandbytes\n",
    "else:\n",
    "    # Use this for older GPUs (V100, Tesla T4, RTX 20xx)\n",
    "    !pip install --no-deps xformers trl peft accelerate bitsandbytes\n",
    "pass"
   ]
  },
  {
   "cell_type": "code",
   "execution_count": 3,
   "metadata": {
    "id": "Ko9kdqvJJpre"
   },
   "outputs": [
    {
     "name": "stdout",
     "output_type": "stream",
     "text": [
      "🦥 Unsloth: Will patch your computer to enable 2x faster free finetuning.\n"
     ]
    },
    {
     "name": "stderr",
     "output_type": "stream",
     "text": [
      "/home/hice1/mmahendran7/.local/lib/python3.10/site-packages/tqdm/auto.py:21: TqdmWarning: IProgress not found. Please update jupyter and ipywidgets. See https://ipywidgets.readthedocs.io/en/stable/user_install.html\n",
      "  from .autonotebook import tqdm as notebook_tqdm\n"
     ]
    },
    {
     "name": "stdout",
     "output_type": "stream",
     "text": [
      "🦥 Unsloth Zoo will now patch everything to make training faster!\n",
      "==((====))==  Unsloth 2024.11.10: Fast Mistral patching. Transformers:4.46.3.\n",
      "   \\\\   /|    GPU: Tesla V100-PCIE-16GB. Max memory: 15.766 GB. Platform: Linux.\n",
      "O^O/ \\_/ \\    Torch: 2.5.1+cu124. CUDA: 7.0. CUDA Toolkit: 12.4. Triton: 3.1.0\n",
      "\\        /    Bfloat16 = FALSE. FA [Xformers = 0.0.28.post3. FA2 = False]\n",
      " \"-____-\"     Free Apache license: http://github.com/unslothai/unsloth\n",
      "Unsloth: Fast downloading is enabled - ignore downloading bars which are red colored!\n"
     ]
    }
   ],
   "source": [
    "from unsloth import FastLanguageModel\n",
    "import torch\n",
    "\n",
    "max_seq_length = 2048\n",
    "# model_name = \"unsloth/mistral-7b-v0.3\"\n",
    "model_name = \"unsloth/mistral-7b-instruct-v0.3-bnb-4bit\"\n",
    "dtype = None\n",
    "load_in_4bit = True\n",
    "\n",
    "model, tokenizer = FastLanguageModel.from_pretrained(\n",
    "    model_name,\n",
    "    max_seq_length=max_seq_length,\n",
    "    dtype=dtype,\n",
    "    load_in_4bit=load_in_4bit,\n",
    ")\n"
   ]
  },
  {
   "cell_type": "code",
   "execution_count": 4,
   "metadata": {
    "id": "mOogETPmKJio"
   },
   "outputs": [
    {
     "name": "stderr",
     "output_type": "stream",
     "text": [
      "Unsloth 2024.11.10 patched 32 layers with 32 QKV layers, 32 O layers and 32 MLP layers.\n"
     ]
    }
   ],
   "source": [
    "model = FastLanguageModel.get_peft_model(\n",
    "    model,\n",
    "    r = 16, # Choose any number > 0 ! Suggested 8, 16, 32, 64, 128\n",
    "    target_modules = [\"q_proj\", \"k_proj\", \"v_proj\", \"o_proj\",\n",
    "                      \"gate_proj\", \"up_proj\", \"down_proj\",],\n",
    "    lora_alpha = 16,\n",
    "    lora_dropout = 0, # Supports any, but = 0 is optimized\n",
    "    bias = \"none\",    # Supports any, but = \"none\" is optimized\n",
    "    # [NEW] \"unsloth\" uses 30% less VRAM, fits 2x larger batch sizes!\n",
    "    use_gradient_checkpointing = \"unsloth\", # True or \"unsloth\" for very long context\n",
    "    random_state = 3407,\n",
    "    use_rslora = False,  # We support rank stabilized LoRA\n",
    "    loftq_config = None, # And LoftQ\n",
    ")"
   ]
  },
  {
   "cell_type": "code",
   "execution_count": 5,
   "metadata": {
    "id": "kzvydNygKY8H"
   },
   "outputs": [],
   "source": [
    "\n",
    "# Now the dataset\n",
    "import pandas as pd\n",
    "import json\n",
    "import os\n",
    "\n",
    "def ingest_train_data(directory: str):\n",
    "    all_data = []\n",
    "    for file in os.listdir(directory):\n",
    "        path = os.path.join(directory, file)\n",
    "        with open(path, 'r') as f:\n",
    "            data = json.load(f)\n",
    "            company_name = data['company']\n",
    "            # drop keys that don't matter\n",
    "            del_keys = [\n",
    "                'state_location'\n",
    "                'cik',\n",
    "                'company',\n",
    "                'filing_type',\n",
    "                'filing_date',\n",
    "                'period_of_report',\n",
    "                'sic',\n",
    "                'state_of_inc',\n",
    "                'fiscal_year_end',\n",
    "                'filing_html_index',\n",
    "                'htm_filing_link',\n",
    "                'complete_text_filing_link',\n",
    "                'filename'\n",
    "            ]\n",
    "            all_data.extend([(data[text], text, company_name) for text in data.keys() if text not in del_keys])\n",
    "    return all_data\n",
    "\n",
    "\n",
    "def create_master_dataset(directory: str):\n",
    "    df = pd.DataFrame(columns=[\"prompt\", \"completion\"])\n",
    "    data = ingest_train_data(directory=directory)\n",
    "    for completion, item, company in data:\n",
    "        prompt = f\"What did {item} in {company}'s SEC 10-K filing say?\"\n",
    "        df.loc[len(df.index)] = [prompt, completion]\n",
    "    return df\n",
    "\n",
    "directory = './10-K/'\n",
    "master_set = create_master_dataset(directory=directory)"
   ]
  },
  {
   "cell_type": "code",
   "execution_count": 6,
   "metadata": {},
   "outputs": [
    {
     "name": "stdout",
     "output_type": "stream",
     "text": [
      "sanity check\n"
     ]
    }
   ],
   "source": [
    "print(\"sanity check\")"
   ]
  },
  {
   "cell_type": "code",
   "execution_count": 7,
   "metadata": {
    "id": "N0kzrTdSKaeJ"
   },
   "outputs": [
    {
     "name": "stdout",
     "output_type": "stream",
     "text": [
      "Defaulting to user installation because normal site-packages is not writeable\n",
      "Requirement already satisfied: datasets in /home/hice1/mmahendran7/.local/lib/python3.10/site-packages (3.1.0)\n",
      "Requirement already satisfied: pyyaml>=5.1 in /storage/pace-apps/manual/packages/anaconda3/2023.03/lib/python3.10/site-packages (from datasets) (6.0)\n",
      "Requirement already satisfied: aiohttp in /home/hice1/mmahendran7/.local/lib/python3.10/site-packages (from datasets) (3.11.8)\n",
      "Requirement already satisfied: tqdm>=4.66.3 in /home/hice1/mmahendran7/.local/lib/python3.10/site-packages (from datasets) (4.67.1)\n",
      "Requirement already satisfied: dill<0.3.9,>=0.3.0 in /home/hice1/mmahendran7/.local/lib/python3.10/site-packages (from datasets) (0.3.8)\n",
      "Requirement already satisfied: filelock in /storage/pace-apps/manual/packages/anaconda3/2023.03/lib/python3.10/site-packages (from datasets) (3.9.0)\n",
      "Requirement already satisfied: pandas in /storage/pace-apps/manual/packages/anaconda3/2023.03/lib/python3.10/site-packages (from datasets) (2.2.0)\n",
      "Requirement already satisfied: requests>=2.32.2 in /home/hice1/mmahendran7/.local/lib/python3.10/site-packages (from datasets) (2.32.3)\n",
      "Requirement already satisfied: numpy>=1.17 in /storage/pace-apps/manual/packages/anaconda3/2023.03/lib/python3.10/site-packages (from datasets) (1.24.3)\n",
      "Requirement already satisfied: multiprocess<0.70.17 in /home/hice1/mmahendran7/.local/lib/python3.10/site-packages (from datasets) (0.70.16)\n",
      "Requirement already satisfied: fsspec[http]<=2024.9.0,>=2023.1.0 in /home/hice1/mmahendran7/.local/lib/python3.10/site-packages (from datasets) (2024.9.0)\n",
      "Requirement already satisfied: xxhash in /home/hice1/mmahendran7/.local/lib/python3.10/site-packages (from datasets) (3.5.0)\n",
      "Requirement already satisfied: pyarrow>=15.0.0 in /home/hice1/mmahendran7/.local/lib/python3.10/site-packages (from datasets) (18.1.0)\n",
      "Requirement already satisfied: huggingface-hub>=0.23.0 in /home/hice1/mmahendran7/.local/lib/python3.10/site-packages (from datasets) (0.26.3)\n",
      "Requirement already satisfied: packaging in /home/hice1/mmahendran7/.local/lib/python3.10/site-packages (from datasets) (24.2)\n",
      "Requirement already satisfied: frozenlist>=1.1.1 in /home/hice1/mmahendran7/.local/lib/python3.10/site-packages (from aiohttp->datasets) (1.5.0)\n",
      "Requirement already satisfied: attrs>=17.3.0 in /storage/pace-apps/manual/packages/anaconda3/2023.03/lib/python3.10/site-packages (from aiohttp->datasets) (22.1.0)\n",
      "Requirement already satisfied: aiohappyeyeballs>=2.3.0 in /home/hice1/mmahendran7/.local/lib/python3.10/site-packages (from aiohttp->datasets) (2.4.3)\n",
      "Requirement already satisfied: propcache>=0.2.0 in /home/hice1/mmahendran7/.local/lib/python3.10/site-packages (from aiohttp->datasets) (0.2.0)\n",
      "Requirement already satisfied: multidict<7.0,>=4.5 in /home/hice1/mmahendran7/.local/lib/python3.10/site-packages (from aiohttp->datasets) (6.1.0)\n",
      "Requirement already satisfied: yarl<2.0,>=1.17.0 in /home/hice1/mmahendran7/.local/lib/python3.10/site-packages (from aiohttp->datasets) (1.18.0)\n",
      "Requirement already satisfied: aiosignal>=1.1.2 in /home/hice1/mmahendran7/.local/lib/python3.10/site-packages (from aiohttp->datasets) (1.3.1)\n",
      "Requirement already satisfied: async-timeout<6.0,>=4.0 in /home/hice1/mmahendran7/.local/lib/python3.10/site-packages (from aiohttp->datasets) (5.0.1)\n",
      "Requirement already satisfied: typing-extensions>=3.7.4.3 in /home/hice1/mmahendran7/.local/lib/python3.10/site-packages (from huggingface-hub>=0.23.0->datasets) (4.12.2)\n",
      "Requirement already satisfied: charset-normalizer<4,>=2 in /storage/pace-apps/manual/packages/anaconda3/2023.03/lib/python3.10/site-packages (from requests>=2.32.2->datasets) (2.0.4)\n",
      "Requirement already satisfied: urllib3<3,>=1.21.1 in /storage/pace-apps/manual/packages/anaconda3/2023.03/lib/python3.10/site-packages (from requests>=2.32.2->datasets) (1.26.15)\n",
      "Requirement already satisfied: idna<4,>=2.5 in /storage/pace-apps/manual/packages/anaconda3/2023.03/lib/python3.10/site-packages (from requests>=2.32.2->datasets) (3.4)\n",
      "Requirement already satisfied: certifi>=2017.4.17 in /storage/pace-apps/manual/packages/anaconda3/2023.03/lib/python3.10/site-packages (from requests>=2.32.2->datasets) (2024.2.2)\n",
      "Requirement already satisfied: python-dateutil>=2.8.2 in /storage/pace-apps/manual/packages/anaconda3/2023.03/lib/python3.10/site-packages (from pandas->datasets) (2.8.2)\n",
      "Requirement already satisfied: tzdata>=2022.7 in /storage/pace-apps/manual/packages/anaconda3/2023.03/lib/python3.10/site-packages (from pandas->datasets) (2023.4)\n",
      "Requirement already satisfied: pytz>=2020.1 in /storage/pace-apps/manual/packages/anaconda3/2023.03/lib/python3.10/site-packages (from pandas->datasets) (2022.7)\n",
      "Requirement already satisfied: six>=1.5 in /storage/pace-apps/manual/packages/anaconda3/2023.03/lib/python3.10/site-packages (from python-dateutil>=2.8.2->pandas->datasets) (1.16.0)\n"
     ]
    }
   ],
   "source": [
    "!pip install datasets\n"
   ]
  },
  {
   "cell_type": "code",
   "execution_count": 8,
   "metadata": {
    "id": "yJDSrYjpKdJK"
   },
   "outputs": [
    {
     "name": "stderr",
     "output_type": "stream",
     "text": [
      "Merging columns: 100%|██████████| 11960/11960 [00:00<00:00, 111093.61 examples/s]\n",
      "Converting to ShareGPT: 100%|██████████| 11960/11960 [00:00<00:00, 30240.01 examples/s]\n",
      "Standardizing format: 100%|██████████| 11960/11960 [00:00<00:00, 24403.82 examples/s]\n"
     ]
    }
   ],
   "source": [
    "\n",
    "# format dataset how unsloth wants\n",
    "from unsloth import to_sharegpt\n",
    "from datasets import Dataset\n",
    "\n",
    "dataset = Dataset.from_pandas(master_set)\n",
    "\n",
    "dataset = to_sharegpt(\n",
    "    dataset,\n",
    "    merged_prompt = \"Your input is: {prompt}\",\n",
    "    output_column_name='completion',\n",
    ")\n",
    "\n",
    "from unsloth import standardize_sharegpt\n",
    "dataset = standardize_sharegpt(dataset)"
   ]
  },
  {
   "cell_type": "code",
   "execution_count": 9,
   "metadata": {},
   "outputs": [
    {
     "data": {
      "text/html": [
       "<div>\n",
       "<style scoped>\n",
       "    .dataframe tbody tr th:only-of-type {\n",
       "        vertical-align: middle;\n",
       "    }\n",
       "\n",
       "    .dataframe tbody tr th {\n",
       "        vertical-align: top;\n",
       "    }\n",
       "\n",
       "    .dataframe thead th {\n",
       "        text-align: right;\n",
       "    }\n",
       "</style>\n",
       "<table border=\"1\" class=\"dataframe\">\n",
       "  <thead>\n",
       "    <tr style=\"text-align: right;\">\n",
       "      <th></th>\n",
       "      <th>prompt</th>\n",
       "      <th>completion</th>\n",
       "    </tr>\n",
       "  </thead>\n",
       "  <tbody>\n",
       "    <tr>\n",
       "      <th>0</th>\n",
       "      <td>What did cik in Mondelez International, Inc.'s...</td>\n",
       "      <td>1103982</td>\n",
       "    </tr>\n",
       "    <tr>\n",
       "      <th>1</th>\n",
       "      <td>What did state_location in Mondelez Internatio...</td>\n",
       "      <td>IL</td>\n",
       "    </tr>\n",
       "    <tr>\n",
       "      <th>2</th>\n",
       "      <td>What did item_1 in Mondelez International, Inc...</td>\n",
       "      <td>Item 1. Business.\\nGeneral\\nMondelēz Internati...</td>\n",
       "    </tr>\n",
       "    <tr>\n",
       "      <th>3</th>\n",
       "      <td>What did item_1A in Mondelez International, In...</td>\n",
       "      <td>Item 1A. Risk Factors.\\nYou should carefully r...</td>\n",
       "    </tr>\n",
       "    <tr>\n",
       "      <th>4</th>\n",
       "      <td>What did item_1B in Mondelez International, In...</td>\n",
       "      <td>Item 1B. Unresolved Staff Comments.\\nNone.</td>\n",
       "    </tr>\n",
       "    <tr>\n",
       "      <th>...</th>\n",
       "      <td>...</td>\n",
       "      <td>...</td>\n",
       "    </tr>\n",
       "    <tr>\n",
       "      <th>11955</th>\n",
       "      <td>What did item_13 in ADVANCED MICRO DEVICES INC...</td>\n",
       "      <td>ITEM 13. CERTAIN RELATIONSHIPS AND RELATED TRA...</td>\n",
       "    </tr>\n",
       "    <tr>\n",
       "      <th>11956</th>\n",
       "      <td>What did item_14 in ADVANCED MICRO DEVICES INC...</td>\n",
       "      <td>ITEM 14. PRINCIPAL ACCOUNTING FEES AND SERVICE...</td>\n",
       "    </tr>\n",
       "    <tr>\n",
       "      <th>11957</th>\n",
       "      <td>What did item_15 in ADVANCED MICRO DEVICES INC...</td>\n",
       "      <td>ITEM 15. EXHIBITS, FINANCIAL STATEMENT SCHEDUL...</td>\n",
       "    </tr>\n",
       "    <tr>\n",
       "      <th>11958</th>\n",
       "      <td>What did item_16 in ADVANCED MICRO DEVICES INC...</td>\n",
       "      <td>ITEM 16. FORM 10-K SUMMARY\\nNot applicable.</td>\n",
       "    </tr>\n",
       "    <tr>\n",
       "      <th>11959</th>\n",
       "      <td>What did stock_ticker in ADVANCED MICRO DEVICE...</td>\n",
       "      <td>AMD</td>\n",
       "    </tr>\n",
       "  </tbody>\n",
       "</table>\n",
       "<p>11960 rows × 2 columns</p>\n",
       "</div>"
      ],
      "text/plain": [
       "                                                  prompt  \\\n",
       "0      What did cik in Mondelez International, Inc.'s...   \n",
       "1      What did state_location in Mondelez Internatio...   \n",
       "2      What did item_1 in Mondelez International, Inc...   \n",
       "3      What did item_1A in Mondelez International, In...   \n",
       "4      What did item_1B in Mondelez International, In...   \n",
       "...                                                  ...   \n",
       "11955  What did item_13 in ADVANCED MICRO DEVICES INC...   \n",
       "11956  What did item_14 in ADVANCED MICRO DEVICES INC...   \n",
       "11957  What did item_15 in ADVANCED MICRO DEVICES INC...   \n",
       "11958  What did item_16 in ADVANCED MICRO DEVICES INC...   \n",
       "11959  What did stock_ticker in ADVANCED MICRO DEVICE...   \n",
       "\n",
       "                                              completion  \n",
       "0                                                1103982  \n",
       "1                                                     IL  \n",
       "2      Item 1. Business.\\nGeneral\\nMondelēz Internati...  \n",
       "3      Item 1A. Risk Factors.\\nYou should carefully r...  \n",
       "4             Item 1B. Unresolved Staff Comments.\\nNone.  \n",
       "...                                                  ...  \n",
       "11955  ITEM 13. CERTAIN RELATIONSHIPS AND RELATED TRA...  \n",
       "11956  ITEM 14. PRINCIPAL ACCOUNTING FEES AND SERVICE...  \n",
       "11957  ITEM 15. EXHIBITS, FINANCIAL STATEMENT SCHEDUL...  \n",
       "11958        ITEM 16. FORM 10-K SUMMARY\\nNot applicable.  \n",
       "11959                                                AMD  \n",
       "\n",
       "[11960 rows x 2 columns]"
      ]
     },
     "execution_count": 9,
     "metadata": {},
     "output_type": "execute_result"
    }
   ],
   "source": [
    "master_set"
   ]
  },
  {
   "cell_type": "code",
   "execution_count": 10,
   "metadata": {
    "id": "MinPpGmkKfb7"
   },
   "outputs": [
    {
     "name": "stderr",
     "output_type": "stream",
     "text": [
      "Map (num_proc=4): 100%|██████████| 11960/11960 [00:39<00:00, 303.94 examples/s]\n",
      "max_steps is given, it will override any value given in num_train_epochs\n"
     ]
    }
   ],
   "source": [
    "\n",
    "# Now it's time to start training the model\n",
    "from trl import SFTTrainer\n",
    "from transformers import TrainingArguments\n",
    "from unsloth import is_bfloat16_supported\n",
    "\n",
    "trainer = SFTTrainer(\n",
    "    model=model,\n",
    "    tokenizer=tokenizer,\n",
    "    train_dataset=dataset,\n",
    "    dataset_text_field=\"text\",\n",
    "    max_seq_length=max_seq_length,\n",
    "    dataset_num_proc=4,\n",
    "    packing=False,\n",
    "    args=TrainingArguments(\n",
    "        per_device_train_batch_size=4,\n",
    "        gradient_accumulation_steps=4,\n",
    "        warmup_steps=50,\n",
    "        max_steps=1000,\n",
    "        learning_rate=5e-6,\n",
    "        fp16=not is_bfloat16_supported(),\n",
    "#         fp16=True,\n",
    "        bf16=is_bfloat16_supported(),\n",
    "        logging_steps=10,\n",
    "        output_dir=\"outputs1\",\n",
    "        optim=\"adamw_8bit\",\n",
    "        weight_decay=0.001,\n",
    "        lr_scheduler_type=\"cosine\",\n",
    "        report_to='none'\n",
    "    ),\n",
    ")"
   ]
  },
  {
   "cell_type": "code",
   "execution_count": 11,
   "metadata": {
    "id": "YaWSTPXWKg1g"
   },
   "outputs": [
    {
     "name": "stderr",
     "output_type": "stream",
     "text": [
      "==((====))==  Unsloth - 2x faster free finetuning | Num GPUs = 1\n",
      "   \\\\   /|    Num examples = 11,960 | Num Epochs = 2\n",
      "O^O/ \\_/ \\    Batch size per device = 4 | Gradient Accumulation steps = 4\n",
      "\\        /    Total batch size = 16 | Total steps = 1,000\n",
      " \"-____-\"     Number of trainable parameters = 41,943,040\n"
     ]
    },
    {
     "data": {
      "text/html": [
       "\n",
       "    <div>\n",
       "      \n",
       "      <progress value='1000' max='1000' style='width:300px; height:20px; vertical-align: middle;'></progress>\n",
       "      [1000/1000 50:19, Epoch 1/2]\n",
       "    </div>\n",
       "    <table border=\"1\" class=\"dataframe\">\n",
       "  <thead>\n",
       " <tr style=\"text-align: left;\">\n",
       "      <th>Step</th>\n",
       "      <th>Training Loss</th>\n",
       "    </tr>\n",
       "  </thead>\n",
       "  <tbody>\n",
       "    <tr>\n",
       "      <td>10</td>\n",
       "      <td>1.692500</td>\n",
       "    </tr>\n",
       "    <tr>\n",
       "      <td>20</td>\n",
       "      <td>1.751700</td>\n",
       "    </tr>\n",
       "    <tr>\n",
       "      <td>30</td>\n",
       "      <td>1.640900</td>\n",
       "    </tr>\n",
       "    <tr>\n",
       "      <td>40</td>\n",
       "      <td>1.659200</td>\n",
       "    </tr>\n",
       "    <tr>\n",
       "      <td>50</td>\n",
       "      <td>1.630500</td>\n",
       "    </tr>\n",
       "    <tr>\n",
       "      <td>60</td>\n",
       "      <td>1.475400</td>\n",
       "    </tr>\n",
       "    <tr>\n",
       "      <td>70</td>\n",
       "      <td>1.358800</td>\n",
       "    </tr>\n",
       "    <tr>\n",
       "      <td>80</td>\n",
       "      <td>1.433900</td>\n",
       "    </tr>\n",
       "    <tr>\n",
       "      <td>90</td>\n",
       "      <td>1.303200</td>\n",
       "    </tr>\n",
       "    <tr>\n",
       "      <td>100</td>\n",
       "      <td>1.252100</td>\n",
       "    </tr>\n",
       "    <tr>\n",
       "      <td>110</td>\n",
       "      <td>1.230300</td>\n",
       "    </tr>\n",
       "    <tr>\n",
       "      <td>120</td>\n",
       "      <td>1.240200</td>\n",
       "    </tr>\n",
       "    <tr>\n",
       "      <td>130</td>\n",
       "      <td>1.265100</td>\n",
       "    </tr>\n",
       "    <tr>\n",
       "      <td>140</td>\n",
       "      <td>1.201800</td>\n",
       "    </tr>\n",
       "    <tr>\n",
       "      <td>150</td>\n",
       "      <td>1.313900</td>\n",
       "    </tr>\n",
       "    <tr>\n",
       "      <td>160</td>\n",
       "      <td>1.258900</td>\n",
       "    </tr>\n",
       "    <tr>\n",
       "      <td>170</td>\n",
       "      <td>1.134500</td>\n",
       "    </tr>\n",
       "    <tr>\n",
       "      <td>180</td>\n",
       "      <td>1.170600</td>\n",
       "    </tr>\n",
       "    <tr>\n",
       "      <td>190</td>\n",
       "      <td>1.255900</td>\n",
       "    </tr>\n",
       "    <tr>\n",
       "      <td>200</td>\n",
       "      <td>1.190000</td>\n",
       "    </tr>\n",
       "    <tr>\n",
       "      <td>210</td>\n",
       "      <td>1.235400</td>\n",
       "    </tr>\n",
       "    <tr>\n",
       "      <td>220</td>\n",
       "      <td>1.202900</td>\n",
       "    </tr>\n",
       "    <tr>\n",
       "      <td>230</td>\n",
       "      <td>1.106600</td>\n",
       "    </tr>\n",
       "    <tr>\n",
       "      <td>240</td>\n",
       "      <td>1.172100</td>\n",
       "    </tr>\n",
       "    <tr>\n",
       "      <td>250</td>\n",
       "      <td>1.230600</td>\n",
       "    </tr>\n",
       "    <tr>\n",
       "      <td>260</td>\n",
       "      <td>1.173900</td>\n",
       "    </tr>\n",
       "    <tr>\n",
       "      <td>270</td>\n",
       "      <td>1.118800</td>\n",
       "    </tr>\n",
       "    <tr>\n",
       "      <td>280</td>\n",
       "      <td>1.107400</td>\n",
       "    </tr>\n",
       "    <tr>\n",
       "      <td>290</td>\n",
       "      <td>1.225100</td>\n",
       "    </tr>\n",
       "    <tr>\n",
       "      <td>300</td>\n",
       "      <td>1.210400</td>\n",
       "    </tr>\n",
       "    <tr>\n",
       "      <td>310</td>\n",
       "      <td>1.082700</td>\n",
       "    </tr>\n",
       "    <tr>\n",
       "      <td>320</td>\n",
       "      <td>1.264700</td>\n",
       "    </tr>\n",
       "    <tr>\n",
       "      <td>330</td>\n",
       "      <td>1.093300</td>\n",
       "    </tr>\n",
       "    <tr>\n",
       "      <td>340</td>\n",
       "      <td>1.143400</td>\n",
       "    </tr>\n",
       "    <tr>\n",
       "      <td>350</td>\n",
       "      <td>1.255100</td>\n",
       "    </tr>\n",
       "    <tr>\n",
       "      <td>360</td>\n",
       "      <td>1.222500</td>\n",
       "    </tr>\n",
       "    <tr>\n",
       "      <td>370</td>\n",
       "      <td>1.135900</td>\n",
       "    </tr>\n",
       "    <tr>\n",
       "      <td>380</td>\n",
       "      <td>1.068300</td>\n",
       "    </tr>\n",
       "    <tr>\n",
       "      <td>390</td>\n",
       "      <td>1.119300</td>\n",
       "    </tr>\n",
       "    <tr>\n",
       "      <td>400</td>\n",
       "      <td>1.089900</td>\n",
       "    </tr>\n",
       "    <tr>\n",
       "      <td>410</td>\n",
       "      <td>1.204000</td>\n",
       "    </tr>\n",
       "    <tr>\n",
       "      <td>420</td>\n",
       "      <td>1.095200</td>\n",
       "    </tr>\n",
       "    <tr>\n",
       "      <td>430</td>\n",
       "      <td>0.997000</td>\n",
       "    </tr>\n",
       "    <tr>\n",
       "      <td>440</td>\n",
       "      <td>1.173200</td>\n",
       "    </tr>\n",
       "    <tr>\n",
       "      <td>450</td>\n",
       "      <td>1.097400</td>\n",
       "    </tr>\n",
       "    <tr>\n",
       "      <td>460</td>\n",
       "      <td>1.083300</td>\n",
       "    </tr>\n",
       "    <tr>\n",
       "      <td>470</td>\n",
       "      <td>1.149900</td>\n",
       "    </tr>\n",
       "    <tr>\n",
       "      <td>480</td>\n",
       "      <td>1.137800</td>\n",
       "    </tr>\n",
       "    <tr>\n",
       "      <td>490</td>\n",
       "      <td>1.165500</td>\n",
       "    </tr>\n",
       "    <tr>\n",
       "      <td>500</td>\n",
       "      <td>1.164200</td>\n",
       "    </tr>\n",
       "    <tr>\n",
       "      <td>510</td>\n",
       "      <td>1.133200</td>\n",
       "    </tr>\n",
       "    <tr>\n",
       "      <td>520</td>\n",
       "      <td>0.965800</td>\n",
       "    </tr>\n",
       "    <tr>\n",
       "      <td>530</td>\n",
       "      <td>1.107700</td>\n",
       "    </tr>\n",
       "    <tr>\n",
       "      <td>540</td>\n",
       "      <td>1.105600</td>\n",
       "    </tr>\n",
       "    <tr>\n",
       "      <td>550</td>\n",
       "      <td>1.078500</td>\n",
       "    </tr>\n",
       "    <tr>\n",
       "      <td>560</td>\n",
       "      <td>1.187700</td>\n",
       "    </tr>\n",
       "    <tr>\n",
       "      <td>570</td>\n",
       "      <td>1.158500</td>\n",
       "    </tr>\n",
       "    <tr>\n",
       "      <td>580</td>\n",
       "      <td>1.117600</td>\n",
       "    </tr>\n",
       "    <tr>\n",
       "      <td>590</td>\n",
       "      <td>1.245200</td>\n",
       "    </tr>\n",
       "    <tr>\n",
       "      <td>600</td>\n",
       "      <td>0.959700</td>\n",
       "    </tr>\n",
       "    <tr>\n",
       "      <td>610</td>\n",
       "      <td>1.021000</td>\n",
       "    </tr>\n",
       "    <tr>\n",
       "      <td>620</td>\n",
       "      <td>1.101400</td>\n",
       "    </tr>\n",
       "    <tr>\n",
       "      <td>630</td>\n",
       "      <td>1.133300</td>\n",
       "    </tr>\n",
       "    <tr>\n",
       "      <td>640</td>\n",
       "      <td>1.106400</td>\n",
       "    </tr>\n",
       "    <tr>\n",
       "      <td>650</td>\n",
       "      <td>1.160200</td>\n",
       "    </tr>\n",
       "    <tr>\n",
       "      <td>660</td>\n",
       "      <td>1.191900</td>\n",
       "    </tr>\n",
       "    <tr>\n",
       "      <td>670</td>\n",
       "      <td>1.056100</td>\n",
       "    </tr>\n",
       "    <tr>\n",
       "      <td>680</td>\n",
       "      <td>1.153900</td>\n",
       "    </tr>\n",
       "    <tr>\n",
       "      <td>690</td>\n",
       "      <td>0.962100</td>\n",
       "    </tr>\n",
       "    <tr>\n",
       "      <td>700</td>\n",
       "      <td>1.239900</td>\n",
       "    </tr>\n",
       "    <tr>\n",
       "      <td>710</td>\n",
       "      <td>1.100000</td>\n",
       "    </tr>\n",
       "    <tr>\n",
       "      <td>720</td>\n",
       "      <td>1.005900</td>\n",
       "    </tr>\n",
       "    <tr>\n",
       "      <td>730</td>\n",
       "      <td>1.053800</td>\n",
       "    </tr>\n",
       "    <tr>\n",
       "      <td>740</td>\n",
       "      <td>1.053300</td>\n",
       "    </tr>\n",
       "    <tr>\n",
       "      <td>750</td>\n",
       "      <td>1.172400</td>\n",
       "    </tr>\n",
       "    <tr>\n",
       "      <td>760</td>\n",
       "      <td>1.141200</td>\n",
       "    </tr>\n",
       "    <tr>\n",
       "      <td>770</td>\n",
       "      <td>1.191900</td>\n",
       "    </tr>\n",
       "    <tr>\n",
       "      <td>780</td>\n",
       "      <td>1.162500</td>\n",
       "    </tr>\n",
       "    <tr>\n",
       "      <td>790</td>\n",
       "      <td>1.083300</td>\n",
       "    </tr>\n",
       "    <tr>\n",
       "      <td>800</td>\n",
       "      <td>1.292700</td>\n",
       "    </tr>\n",
       "    <tr>\n",
       "      <td>810</td>\n",
       "      <td>1.066100</td>\n",
       "    </tr>\n",
       "    <tr>\n",
       "      <td>820</td>\n",
       "      <td>1.125900</td>\n",
       "    </tr>\n",
       "    <tr>\n",
       "      <td>830</td>\n",
       "      <td>1.129200</td>\n",
       "    </tr>\n",
       "    <tr>\n",
       "      <td>840</td>\n",
       "      <td>1.092000</td>\n",
       "    </tr>\n",
       "    <tr>\n",
       "      <td>850</td>\n",
       "      <td>1.130000</td>\n",
       "    </tr>\n",
       "    <tr>\n",
       "      <td>860</td>\n",
       "      <td>1.008900</td>\n",
       "    </tr>\n",
       "    <tr>\n",
       "      <td>870</td>\n",
       "      <td>0.952600</td>\n",
       "    </tr>\n",
       "    <tr>\n",
       "      <td>880</td>\n",
       "      <td>1.051700</td>\n",
       "    </tr>\n",
       "    <tr>\n",
       "      <td>890</td>\n",
       "      <td>1.164200</td>\n",
       "    </tr>\n",
       "    <tr>\n",
       "      <td>900</td>\n",
       "      <td>1.073200</td>\n",
       "    </tr>\n",
       "    <tr>\n",
       "      <td>910</td>\n",
       "      <td>0.994400</td>\n",
       "    </tr>\n",
       "    <tr>\n",
       "      <td>920</td>\n",
       "      <td>1.033400</td>\n",
       "    </tr>\n",
       "    <tr>\n",
       "      <td>930</td>\n",
       "      <td>0.982800</td>\n",
       "    </tr>\n",
       "    <tr>\n",
       "      <td>940</td>\n",
       "      <td>1.085400</td>\n",
       "    </tr>\n",
       "    <tr>\n",
       "      <td>950</td>\n",
       "      <td>1.019100</td>\n",
       "    </tr>\n",
       "    <tr>\n",
       "      <td>960</td>\n",
       "      <td>1.103700</td>\n",
       "    </tr>\n",
       "    <tr>\n",
       "      <td>970</td>\n",
       "      <td>1.065200</td>\n",
       "    </tr>\n",
       "    <tr>\n",
       "      <td>980</td>\n",
       "      <td>1.149900</td>\n",
       "    </tr>\n",
       "    <tr>\n",
       "      <td>990</td>\n",
       "      <td>0.965900</td>\n",
       "    </tr>\n",
       "    <tr>\n",
       "      <td>1000</td>\n",
       "      <td>1.043100</td>\n",
       "    </tr>\n",
       "  </tbody>\n",
       "</table><p>"
      ],
      "text/plain": [
       "<IPython.core.display.HTML object>"
      ]
     },
     "metadata": {},
     "output_type": "display_data"
    }
   ],
   "source": [
    "trainer_stats = trainer.train()\n"
   ]
  },
  {
   "cell_type": "code",
   "execution_count": 12,
   "metadata": {
    "id": "x6GCOLqyKi8Z"
   },
   "outputs": [
    {
     "data": {
      "text/plain": [
       "('mistral-7b-ft-3/tokenizer_config.json',\n",
       " 'mistral-7b-ft-3/special_tokens_map.json',\n",
       " 'mistral-7b-ft-3/tokenizer.model',\n",
       " 'mistral-7b-ft-3/added_tokens.json',\n",
       " 'mistral-7b-ft-3/tokenizer.json')"
      ]
     },
     "execution_count": 12,
     "metadata": {},
     "output_type": "execute_result"
    }
   ],
   "source": [
    "model.save_pretrained('mistral-7b-ft-3')\n",
    "tokenizer.save_pretrained('mistral-7b-ft-3')"
   ]
  },
  {
   "cell_type": "code",
   "execution_count": 13,
   "metadata": {
    "id": "1q22NvQCKoXF"
   },
   "outputs": [],
   "source": [
    "%%capture\n",
    "!curl -fsSL https://ollama.com/install.sh | sh"
   ]
  },
  {
   "cell_type": "code",
   "execution_count": 20,
   "metadata": {},
   "outputs": [
    {
     "name": "stdout",
     "output_type": "stream",
     "text": [
      "/storage/ice1/5/1/mmahendran7\r\n"
     ]
    }
   ],
   "source": [
    "!pwd"
   ]
  },
  {
   "cell_type": "code",
   "execution_count": 25,
   "metadata": {},
   "outputs": [
    {
     "name": "stdout",
     "output_type": "stream",
     "text": [
      "Usage:\r\n",
      "  ollama [flags]\r\n",
      "  ollama [command]\r\n",
      "\r\n",
      "Available Commands:\r\n",
      "  serve       Start ollama\r\n",
      "  create      Create a model from a Modelfile\r\n",
      "  show        Show information for a model\r\n",
      "  run         Run a model\r\n",
      "  stop        Stop a running model\r\n",
      "  pull        Pull a model from a registry\r\n",
      "  push        Push a model to a registry\r\n",
      "  list        List models\r\n",
      "  ps          List running models\r\n",
      "  cp          Copy a model\r\n",
      "  rm          Remove a model\r\n",
      "  help        Help about any command\r\n",
      "\r\n",
      "Flags:\r\n",
      "  -h, --help      help for ollama\r\n",
      "  -v, --version   Show version information\r\n",
      "\r\n",
      "Use \"ollama [command] --help\" for more information about a command.\r\n"
     ]
    }
   ],
   "source": [
    "!./bin/bin/ollama"
   ]
  },
  {
   "cell_type": "code",
   "execution_count": 17,
   "metadata": {
    "id": "BjvtBOBpKrwg"
   },
   "outputs": [
    {
     "name": "stdout",
     "output_type": "stream",
     "text": [
      "Unsloth: Merging 4bit and LoRA weights to 16bit...\n",
      "Unsloth: Will use up to 1658.54 out of 2015.05 RAM for saving.\n"
     ]
    },
    {
     "name": "stderr",
     "output_type": "stream",
     "text": [
      "100%|██████████| 32/32 [00:00<00:00, 119.28it/s]\n"
     ]
    },
    {
     "name": "stdout",
     "output_type": "stream",
     "text": [
      "Unsloth: Saving tokenizer... Done.\n",
      "Unsloth: Saving model... This might take 5 minutes for Llama-7b...\n",
      "Done.\n",
      "==((====))==  Unsloth: Conversion from QLoRA to GGUF information\n",
      "   \\\\   /|    [0] Installing llama.cpp will take 3 minutes.\n",
      "O^O/ \\_/ \\    [1] Converting HF to GGUF 16bits will take 3 minutes.\n",
      "\\        /    [2] Converting GGUF 16bits to ['q8_0'] will take 10 minutes each.\n",
      " \"-____-\"     In total, you will have to wait at least 16 minutes.\n",
      "\n",
      "Unsloth: [0] Installing llama.cpp. This will take 3 minutes...\n",
      "Unsloth: [1] Converting model at ft_mistral into q8_0 GGUF format.\n",
      "The output location will be /storage/ice1/5/1/mmahendran7/ft_mistral/unsloth.Q8_0.gguf\n",
      "This will take 3 minutes...\n",
      "INFO:hf-to-gguf:Loading model: ft_mistral\n",
      "INFO:gguf.gguf_writer:gguf: This GGUF file is for Little Endian only\n",
      "INFO:hf-to-gguf:Exporting model...\n",
      "INFO:hf-to-gguf:gguf: loading model weight map from 'model.safetensors.index.json'\n",
      "INFO:hf-to-gguf:gguf: loading model part 'model-00001-of-00003.safetensors'\n",
      "INFO:hf-to-gguf:token_embd.weight,           torch.bfloat16 --> Q8_0, shape = {4096, 32768}\n",
      "INFO:hf-to-gguf:blk.0.attn_norm.weight,      torch.bfloat16 --> F32, shape = {4096}\n",
      "INFO:hf-to-gguf:blk.0.ffn_down.weight,       torch.bfloat16 --> Q8_0, shape = {14336, 4096}\n",
      "INFO:hf-to-gguf:blk.0.ffn_gate.weight,       torch.bfloat16 --> Q8_0, shape = {4096, 14336}\n",
      "INFO:hf-to-gguf:blk.0.ffn_up.weight,         torch.bfloat16 --> Q8_0, shape = {4096, 14336}\n",
      "INFO:hf-to-gguf:blk.0.ffn_norm.weight,       torch.bfloat16 --> F32, shape = {4096}\n",
      "INFO:hf-to-gguf:blk.0.attn_k.weight,         torch.bfloat16 --> Q8_0, shape = {4096, 1024}\n",
      "INFO:hf-to-gguf:blk.0.attn_output.weight,    torch.bfloat16 --> Q8_0, shape = {4096, 4096}\n",
      "INFO:hf-to-gguf:blk.0.attn_q.weight,         torch.bfloat16 --> Q8_0, shape = {4096, 4096}\n",
      "INFO:hf-to-gguf:blk.0.attn_v.weight,         torch.bfloat16 --> Q8_0, shape = {4096, 1024}\n",
      "INFO:hf-to-gguf:blk.1.attn_norm.weight,      torch.bfloat16 --> F32, shape = {4096}\n",
      "INFO:hf-to-gguf:blk.1.ffn_down.weight,       torch.bfloat16 --> Q8_0, shape = {14336, 4096}\n",
      "INFO:hf-to-gguf:blk.1.ffn_gate.weight,       torch.bfloat16 --> Q8_0, shape = {4096, 14336}\n",
      "INFO:hf-to-gguf:blk.1.ffn_up.weight,         torch.bfloat16 --> Q8_0, shape = {4096, 14336}\n",
      "INFO:hf-to-gguf:blk.1.ffn_norm.weight,       torch.bfloat16 --> F32, shape = {4096}\n",
      "INFO:hf-to-gguf:blk.1.attn_k.weight,         torch.bfloat16 --> Q8_0, shape = {4096, 1024}\n",
      "INFO:hf-to-gguf:blk.1.attn_output.weight,    torch.bfloat16 --> Q8_0, shape = {4096, 4096}\n",
      "INFO:hf-to-gguf:blk.1.attn_q.weight,         torch.bfloat16 --> Q8_0, shape = {4096, 4096}\n",
      "INFO:hf-to-gguf:blk.1.attn_v.weight,         torch.bfloat16 --> Q8_0, shape = {4096, 1024}\n",
      "INFO:hf-to-gguf:blk.10.ffn_gate.weight,      torch.bfloat16 --> Q8_0, shape = {4096, 14336}\n",
      "INFO:hf-to-gguf:blk.10.ffn_up.weight,        torch.bfloat16 --> Q8_0, shape = {4096, 14336}\n",
      "INFO:hf-to-gguf:blk.10.attn_k.weight,        torch.bfloat16 --> Q8_0, shape = {4096, 1024}\n",
      "INFO:hf-to-gguf:blk.10.attn_output.weight,   torch.bfloat16 --> Q8_0, shape = {4096, 4096}\n",
      "INFO:hf-to-gguf:blk.10.attn_q.weight,        torch.bfloat16 --> Q8_0, shape = {4096, 4096}\n",
      "INFO:hf-to-gguf:blk.10.attn_v.weight,        torch.bfloat16 --> Q8_0, shape = {4096, 1024}\n",
      "INFO:hf-to-gguf:blk.2.attn_norm.weight,      torch.bfloat16 --> F32, shape = {4096}\n",
      "INFO:hf-to-gguf:blk.2.ffn_down.weight,       torch.bfloat16 --> Q8_0, shape = {14336, 4096}\n",
      "INFO:hf-to-gguf:blk.2.ffn_gate.weight,       torch.bfloat16 --> Q8_0, shape = {4096, 14336}\n",
      "INFO:hf-to-gguf:blk.2.ffn_up.weight,         torch.bfloat16 --> Q8_0, shape = {4096, 14336}\n",
      "INFO:hf-to-gguf:blk.2.ffn_norm.weight,       torch.bfloat16 --> F32, shape = {4096}\n",
      "INFO:hf-to-gguf:blk.2.attn_k.weight,         torch.bfloat16 --> Q8_0, shape = {4096, 1024}\n",
      "INFO:hf-to-gguf:blk.2.attn_output.weight,    torch.bfloat16 --> Q8_0, shape = {4096, 4096}\n",
      "INFO:hf-to-gguf:blk.2.attn_q.weight,         torch.bfloat16 --> Q8_0, shape = {4096, 4096}\n",
      "INFO:hf-to-gguf:blk.2.attn_v.weight,         torch.bfloat16 --> Q8_0, shape = {4096, 1024}\n",
      "INFO:hf-to-gguf:blk.3.attn_norm.weight,      torch.bfloat16 --> F32, shape = {4096}\n",
      "INFO:hf-to-gguf:blk.3.ffn_down.weight,       torch.bfloat16 --> Q8_0, shape = {14336, 4096}\n",
      "INFO:hf-to-gguf:blk.3.ffn_gate.weight,       torch.bfloat16 --> Q8_0, shape = {4096, 14336}\n",
      "INFO:hf-to-gguf:blk.3.ffn_up.weight,         torch.bfloat16 --> Q8_0, shape = {4096, 14336}\n",
      "INFO:hf-to-gguf:blk.3.ffn_norm.weight,       torch.bfloat16 --> F32, shape = {4096}\n",
      "INFO:hf-to-gguf:blk.3.attn_k.weight,         torch.bfloat16 --> Q8_0, shape = {4096, 1024}\n",
      "INFO:hf-to-gguf:blk.3.attn_output.weight,    torch.bfloat16 --> Q8_0, shape = {4096, 4096}\n",
      "INFO:hf-to-gguf:blk.3.attn_q.weight,         torch.bfloat16 --> Q8_0, shape = {4096, 4096}\n",
      "INFO:hf-to-gguf:blk.3.attn_v.weight,         torch.bfloat16 --> Q8_0, shape = {4096, 1024}\n",
      "INFO:hf-to-gguf:blk.4.attn_norm.weight,      torch.bfloat16 --> F32, shape = {4096}\n",
      "INFO:hf-to-gguf:blk.4.ffn_down.weight,       torch.bfloat16 --> Q8_0, shape = {14336, 4096}\n",
      "INFO:hf-to-gguf:blk.4.ffn_gate.weight,       torch.bfloat16 --> Q8_0, shape = {4096, 14336}\n",
      "INFO:hf-to-gguf:blk.4.ffn_up.weight,         torch.bfloat16 --> Q8_0, shape = {4096, 14336}\n",
      "INFO:hf-to-gguf:blk.4.ffn_norm.weight,       torch.bfloat16 --> F32, shape = {4096}\n",
      "INFO:hf-to-gguf:blk.4.attn_k.weight,         torch.bfloat16 --> Q8_0, shape = {4096, 1024}\n",
      "INFO:hf-to-gguf:blk.4.attn_output.weight,    torch.bfloat16 --> Q8_0, shape = {4096, 4096}\n",
      "INFO:hf-to-gguf:blk.4.attn_q.weight,         torch.bfloat16 --> Q8_0, shape = {4096, 4096}\n",
      "INFO:hf-to-gguf:blk.4.attn_v.weight,         torch.bfloat16 --> Q8_0, shape = {4096, 1024}\n",
      "INFO:hf-to-gguf:blk.5.attn_norm.weight,      torch.bfloat16 --> F32, shape = {4096}\n",
      "INFO:hf-to-gguf:blk.5.ffn_down.weight,       torch.bfloat16 --> Q8_0, shape = {14336, 4096}\n",
      "INFO:hf-to-gguf:blk.5.ffn_gate.weight,       torch.bfloat16 --> Q8_0, shape = {4096, 14336}\n",
      "INFO:hf-to-gguf:blk.5.ffn_up.weight,         torch.bfloat16 --> Q8_0, shape = {4096, 14336}\n",
      "INFO:hf-to-gguf:blk.5.ffn_norm.weight,       torch.bfloat16 --> F32, shape = {4096}\n",
      "INFO:hf-to-gguf:blk.5.attn_k.weight,         torch.bfloat16 --> Q8_0, shape = {4096, 1024}\n",
      "INFO:hf-to-gguf:blk.5.attn_output.weight,    torch.bfloat16 --> Q8_0, shape = {4096, 4096}\n",
      "INFO:hf-to-gguf:blk.5.attn_q.weight,         torch.bfloat16 --> Q8_0, shape = {4096, 4096}\n",
      "INFO:hf-to-gguf:blk.5.attn_v.weight,         torch.bfloat16 --> Q8_0, shape = {4096, 1024}\n",
      "INFO:hf-to-gguf:blk.6.attn_norm.weight,      torch.bfloat16 --> F32, shape = {4096}\n",
      "INFO:hf-to-gguf:blk.6.ffn_down.weight,       torch.bfloat16 --> Q8_0, shape = {14336, 4096}\n",
      "INFO:hf-to-gguf:blk.6.ffn_gate.weight,       torch.bfloat16 --> Q8_0, shape = {4096, 14336}\n",
      "INFO:hf-to-gguf:blk.6.ffn_up.weight,         torch.bfloat16 --> Q8_0, shape = {4096, 14336}\n",
      "INFO:hf-to-gguf:blk.6.ffn_norm.weight,       torch.bfloat16 --> F32, shape = {4096}\n",
      "INFO:hf-to-gguf:blk.6.attn_k.weight,         torch.bfloat16 --> Q8_0, shape = {4096, 1024}\n",
      "INFO:hf-to-gguf:blk.6.attn_output.weight,    torch.bfloat16 --> Q8_0, shape = {4096, 4096}\n",
      "INFO:hf-to-gguf:blk.6.attn_q.weight,         torch.bfloat16 --> Q8_0, shape = {4096, 4096}\n",
      "INFO:hf-to-gguf:blk.6.attn_v.weight,         torch.bfloat16 --> Q8_0, shape = {4096, 1024}\n",
      "INFO:hf-to-gguf:blk.7.attn_norm.weight,      torch.bfloat16 --> F32, shape = {4096}\n",
      "INFO:hf-to-gguf:blk.7.ffn_down.weight,       torch.bfloat16 --> Q8_0, shape = {14336, 4096}\n",
      "INFO:hf-to-gguf:blk.7.ffn_gate.weight,       torch.bfloat16 --> Q8_0, shape = {4096, 14336}\n",
      "INFO:hf-to-gguf:blk.7.ffn_up.weight,         torch.bfloat16 --> Q8_0, shape = {4096, 14336}\n",
      "INFO:hf-to-gguf:blk.7.ffn_norm.weight,       torch.bfloat16 --> F32, shape = {4096}\n",
      "INFO:hf-to-gguf:blk.7.attn_k.weight,         torch.bfloat16 --> Q8_0, shape = {4096, 1024}\n",
      "INFO:hf-to-gguf:blk.7.attn_output.weight,    torch.bfloat16 --> Q8_0, shape = {4096, 4096}\n",
      "INFO:hf-to-gguf:blk.7.attn_q.weight,         torch.bfloat16 --> Q8_0, shape = {4096, 4096}\n",
      "INFO:hf-to-gguf:blk.7.attn_v.weight,         torch.bfloat16 --> Q8_0, shape = {4096, 1024}\n",
      "INFO:hf-to-gguf:blk.8.attn_norm.weight,      torch.bfloat16 --> F32, shape = {4096}\n",
      "INFO:hf-to-gguf:blk.8.ffn_down.weight,       torch.bfloat16 --> Q8_0, shape = {14336, 4096}\n",
      "INFO:hf-to-gguf:blk.8.ffn_gate.weight,       torch.bfloat16 --> Q8_0, shape = {4096, 14336}\n",
      "INFO:hf-to-gguf:blk.8.ffn_up.weight,         torch.bfloat16 --> Q8_0, shape = {4096, 14336}\n",
      "INFO:hf-to-gguf:blk.8.ffn_norm.weight,       torch.bfloat16 --> F32, shape = {4096}\n",
      "INFO:hf-to-gguf:blk.8.attn_k.weight,         torch.bfloat16 --> Q8_0, shape = {4096, 1024}\n",
      "INFO:hf-to-gguf:blk.8.attn_output.weight,    torch.bfloat16 --> Q8_0, shape = {4096, 4096}\n",
      "INFO:hf-to-gguf:blk.8.attn_q.weight,         torch.bfloat16 --> Q8_0, shape = {4096, 4096}\n",
      "INFO:hf-to-gguf:blk.8.attn_v.weight,         torch.bfloat16 --> Q8_0, shape = {4096, 1024}\n",
      "INFO:hf-to-gguf:blk.9.attn_norm.weight,      torch.bfloat16 --> F32, shape = {4096}\n",
      "INFO:hf-to-gguf:blk.9.ffn_down.weight,       torch.bfloat16 --> Q8_0, shape = {14336, 4096}\n",
      "INFO:hf-to-gguf:blk.9.ffn_gate.weight,       torch.bfloat16 --> Q8_0, shape = {4096, 14336}\n",
      "INFO:hf-to-gguf:blk.9.ffn_up.weight,         torch.bfloat16 --> Q8_0, shape = {4096, 14336}\n",
      "INFO:hf-to-gguf:blk.9.ffn_norm.weight,       torch.bfloat16 --> F32, shape = {4096}\n",
      "INFO:hf-to-gguf:blk.9.attn_k.weight,         torch.bfloat16 --> Q8_0, shape = {4096, 1024}\n",
      "INFO:hf-to-gguf:blk.9.attn_output.weight,    torch.bfloat16 --> Q8_0, shape = {4096, 4096}\n",
      "INFO:hf-to-gguf:blk.9.attn_q.weight,         torch.bfloat16 --> Q8_0, shape = {4096, 4096}\n",
      "INFO:hf-to-gguf:blk.9.attn_v.weight,         torch.bfloat16 --> Q8_0, shape = {4096, 1024}\n",
      "INFO:hf-to-gguf:gguf: loading model part 'model-00002-of-00003.safetensors'\n",
      "INFO:hf-to-gguf:blk.10.attn_norm.weight,     torch.bfloat16 --> F32, shape = {4096}\n",
      "INFO:hf-to-gguf:blk.10.ffn_down.weight,      torch.bfloat16 --> Q8_0, shape = {14336, 4096}\n",
      "INFO:hf-to-gguf:blk.10.ffn_norm.weight,      torch.bfloat16 --> F32, shape = {4096}\n",
      "INFO:hf-to-gguf:blk.11.attn_norm.weight,     torch.bfloat16 --> F32, shape = {4096}\n",
      "INFO:hf-to-gguf:blk.11.ffn_down.weight,      torch.bfloat16 --> Q8_0, shape = {14336, 4096}\n",
      "INFO:hf-to-gguf:blk.11.ffn_gate.weight,      torch.bfloat16 --> Q8_0, shape = {4096, 14336}\n",
      "INFO:hf-to-gguf:blk.11.ffn_up.weight,        torch.bfloat16 --> Q8_0, shape = {4096, 14336}\n",
      "INFO:hf-to-gguf:blk.11.ffn_norm.weight,      torch.bfloat16 --> F32, shape = {4096}\n",
      "INFO:hf-to-gguf:blk.11.attn_k.weight,        torch.bfloat16 --> Q8_0, shape = {4096, 1024}\n",
      "INFO:hf-to-gguf:blk.11.attn_output.weight,   torch.bfloat16 --> Q8_0, shape = {4096, 4096}\n",
      "INFO:hf-to-gguf:blk.11.attn_q.weight,        torch.bfloat16 --> Q8_0, shape = {4096, 4096}\n",
      "INFO:hf-to-gguf:blk.11.attn_v.weight,        torch.bfloat16 --> Q8_0, shape = {4096, 1024}\n",
      "INFO:hf-to-gguf:blk.12.attn_norm.weight,     torch.bfloat16 --> F32, shape = {4096}\n",
      "INFO:hf-to-gguf:blk.12.ffn_down.weight,      torch.bfloat16 --> Q8_0, shape = {14336, 4096}\n",
      "INFO:hf-to-gguf:blk.12.ffn_gate.weight,      torch.bfloat16 --> Q8_0, shape = {4096, 14336}\n",
      "INFO:hf-to-gguf:blk.12.ffn_up.weight,        torch.bfloat16 --> Q8_0, shape = {4096, 14336}\n",
      "INFO:hf-to-gguf:blk.12.ffn_norm.weight,      torch.bfloat16 --> F32, shape = {4096}\n",
      "INFO:hf-to-gguf:blk.12.attn_k.weight,        torch.bfloat16 --> Q8_0, shape = {4096, 1024}\n",
      "INFO:hf-to-gguf:blk.12.attn_output.weight,   torch.bfloat16 --> Q8_0, shape = {4096, 4096}\n",
      "INFO:hf-to-gguf:blk.12.attn_q.weight,        torch.bfloat16 --> Q8_0, shape = {4096, 4096}\n",
      "INFO:hf-to-gguf:blk.12.attn_v.weight,        torch.bfloat16 --> Q8_0, shape = {4096, 1024}\n",
      "INFO:hf-to-gguf:blk.13.attn_norm.weight,     torch.bfloat16 --> F32, shape = {4096}\n",
      "INFO:hf-to-gguf:blk.13.ffn_down.weight,      torch.bfloat16 --> Q8_0, shape = {14336, 4096}\n",
      "INFO:hf-to-gguf:blk.13.ffn_gate.weight,      torch.bfloat16 --> Q8_0, shape = {4096, 14336}\n",
      "INFO:hf-to-gguf:blk.13.ffn_up.weight,        torch.bfloat16 --> Q8_0, shape = {4096, 14336}\n",
      "INFO:hf-to-gguf:blk.13.ffn_norm.weight,      torch.bfloat16 --> F32, shape = {4096}\n",
      "INFO:hf-to-gguf:blk.13.attn_k.weight,        torch.bfloat16 --> Q8_0, shape = {4096, 1024}\n",
      "INFO:hf-to-gguf:blk.13.attn_output.weight,   torch.bfloat16 --> Q8_0, shape = {4096, 4096}\n",
      "INFO:hf-to-gguf:blk.13.attn_q.weight,        torch.bfloat16 --> Q8_0, shape = {4096, 4096}\n",
      "INFO:hf-to-gguf:blk.13.attn_v.weight,        torch.bfloat16 --> Q8_0, shape = {4096, 1024}\n",
      "INFO:hf-to-gguf:blk.14.attn_norm.weight,     torch.bfloat16 --> F32, shape = {4096}\n",
      "INFO:hf-to-gguf:blk.14.ffn_down.weight,      torch.bfloat16 --> Q8_0, shape = {14336, 4096}\n",
      "INFO:hf-to-gguf:blk.14.ffn_gate.weight,      torch.bfloat16 --> Q8_0, shape = {4096, 14336}\n",
      "INFO:hf-to-gguf:blk.14.ffn_up.weight,        torch.bfloat16 --> Q8_0, shape = {4096, 14336}\n",
      "INFO:hf-to-gguf:blk.14.ffn_norm.weight,      torch.bfloat16 --> F32, shape = {4096}\n",
      "INFO:hf-to-gguf:blk.14.attn_k.weight,        torch.bfloat16 --> Q8_0, shape = {4096, 1024}\n",
      "INFO:hf-to-gguf:blk.14.attn_output.weight,   torch.bfloat16 --> Q8_0, shape = {4096, 4096}\n",
      "INFO:hf-to-gguf:blk.14.attn_q.weight,        torch.bfloat16 --> Q8_0, shape = {4096, 4096}\n",
      "INFO:hf-to-gguf:blk.14.attn_v.weight,        torch.bfloat16 --> Q8_0, shape = {4096, 1024}\n",
      "INFO:hf-to-gguf:blk.15.attn_norm.weight,     torch.bfloat16 --> F32, shape = {4096}\n",
      "INFO:hf-to-gguf:blk.15.ffn_down.weight,      torch.bfloat16 --> Q8_0, shape = {14336, 4096}\n",
      "INFO:hf-to-gguf:blk.15.ffn_gate.weight,      torch.bfloat16 --> Q8_0, shape = {4096, 14336}\n",
      "INFO:hf-to-gguf:blk.15.ffn_up.weight,        torch.bfloat16 --> Q8_0, shape = {4096, 14336}\n",
      "INFO:hf-to-gguf:blk.15.ffn_norm.weight,      torch.bfloat16 --> F32, shape = {4096}\n",
      "INFO:hf-to-gguf:blk.15.attn_k.weight,        torch.bfloat16 --> Q8_0, shape = {4096, 1024}\n",
      "INFO:hf-to-gguf:blk.15.attn_output.weight,   torch.bfloat16 --> Q8_0, shape = {4096, 4096}\n",
      "INFO:hf-to-gguf:blk.15.attn_q.weight,        torch.bfloat16 --> Q8_0, shape = {4096, 4096}\n",
      "INFO:hf-to-gguf:blk.15.attn_v.weight,        torch.bfloat16 --> Q8_0, shape = {4096, 1024}\n",
      "INFO:hf-to-gguf:blk.16.attn_norm.weight,     torch.bfloat16 --> F32, shape = {4096}\n",
      "INFO:hf-to-gguf:blk.16.ffn_down.weight,      torch.bfloat16 --> Q8_0, shape = {14336, 4096}\n",
      "INFO:hf-to-gguf:blk.16.ffn_gate.weight,      torch.bfloat16 --> Q8_0, shape = {4096, 14336}\n",
      "INFO:hf-to-gguf:blk.16.ffn_up.weight,        torch.bfloat16 --> Q8_0, shape = {4096, 14336}\n",
      "INFO:hf-to-gguf:blk.16.ffn_norm.weight,      torch.bfloat16 --> F32, shape = {4096}\n",
      "INFO:hf-to-gguf:blk.16.attn_k.weight,        torch.bfloat16 --> Q8_0, shape = {4096, 1024}\n",
      "INFO:hf-to-gguf:blk.16.attn_output.weight,   torch.bfloat16 --> Q8_0, shape = {4096, 4096}\n",
      "INFO:hf-to-gguf:blk.16.attn_q.weight,        torch.bfloat16 --> Q8_0, shape = {4096, 4096}\n",
      "INFO:hf-to-gguf:blk.16.attn_v.weight,        torch.bfloat16 --> Q8_0, shape = {4096, 1024}\n",
      "INFO:hf-to-gguf:blk.17.attn_norm.weight,     torch.bfloat16 --> F32, shape = {4096}\n",
      "INFO:hf-to-gguf:blk.17.ffn_down.weight,      torch.bfloat16 --> Q8_0, shape = {14336, 4096}\n",
      "INFO:hf-to-gguf:blk.17.ffn_gate.weight,      torch.bfloat16 --> Q8_0, shape = {4096, 14336}\n",
      "INFO:hf-to-gguf:blk.17.ffn_up.weight,        torch.bfloat16 --> Q8_0, shape = {4096, 14336}\n",
      "INFO:hf-to-gguf:blk.17.ffn_norm.weight,      torch.bfloat16 --> F32, shape = {4096}\n",
      "INFO:hf-to-gguf:blk.17.attn_k.weight,        torch.bfloat16 --> Q8_0, shape = {4096, 1024}\n",
      "INFO:hf-to-gguf:blk.17.attn_output.weight,   torch.bfloat16 --> Q8_0, shape = {4096, 4096}\n",
      "INFO:hf-to-gguf:blk.17.attn_q.weight,        torch.bfloat16 --> Q8_0, shape = {4096, 4096}\n",
      "INFO:hf-to-gguf:blk.17.attn_v.weight,        torch.bfloat16 --> Q8_0, shape = {4096, 1024}\n",
      "INFO:hf-to-gguf:blk.18.attn_norm.weight,     torch.bfloat16 --> F32, shape = {4096}\n",
      "INFO:hf-to-gguf:blk.18.ffn_down.weight,      torch.bfloat16 --> Q8_0, shape = {14336, 4096}\n",
      "INFO:hf-to-gguf:blk.18.ffn_gate.weight,      torch.bfloat16 --> Q8_0, shape = {4096, 14336}\n",
      "INFO:hf-to-gguf:blk.18.ffn_up.weight,        torch.bfloat16 --> Q8_0, shape = {4096, 14336}\n",
      "INFO:hf-to-gguf:blk.18.ffn_norm.weight,      torch.bfloat16 --> F32, shape = {4096}\n",
      "INFO:hf-to-gguf:blk.18.attn_k.weight,        torch.bfloat16 --> Q8_0, shape = {4096, 1024}\n",
      "INFO:hf-to-gguf:blk.18.attn_output.weight,   torch.bfloat16 --> Q8_0, shape = {4096, 4096}\n",
      "INFO:hf-to-gguf:blk.18.attn_q.weight,        torch.bfloat16 --> Q8_0, shape = {4096, 4096}\n",
      "INFO:hf-to-gguf:blk.18.attn_v.weight,        torch.bfloat16 --> Q8_0, shape = {4096, 1024}\n",
      "INFO:hf-to-gguf:blk.19.attn_norm.weight,     torch.bfloat16 --> F32, shape = {4096}\n",
      "INFO:hf-to-gguf:blk.19.ffn_down.weight,      torch.bfloat16 --> Q8_0, shape = {14336, 4096}\n",
      "INFO:hf-to-gguf:blk.19.ffn_gate.weight,      torch.bfloat16 --> Q8_0, shape = {4096, 14336}\n",
      "INFO:hf-to-gguf:blk.19.ffn_up.weight,        torch.bfloat16 --> Q8_0, shape = {4096, 14336}\n",
      "INFO:hf-to-gguf:blk.19.ffn_norm.weight,      torch.bfloat16 --> F32, shape = {4096}\n",
      "INFO:hf-to-gguf:blk.19.attn_k.weight,        torch.bfloat16 --> Q8_0, shape = {4096, 1024}\n",
      "INFO:hf-to-gguf:blk.19.attn_output.weight,   torch.bfloat16 --> Q8_0, shape = {4096, 4096}\n",
      "INFO:hf-to-gguf:blk.19.attn_q.weight,        torch.bfloat16 --> Q8_0, shape = {4096, 4096}\n",
      "INFO:hf-to-gguf:blk.19.attn_v.weight,        torch.bfloat16 --> Q8_0, shape = {4096, 1024}\n",
      "INFO:hf-to-gguf:blk.20.attn_norm.weight,     torch.bfloat16 --> F32, shape = {4096}\n",
      "INFO:hf-to-gguf:blk.20.ffn_down.weight,      torch.bfloat16 --> Q8_0, shape = {14336, 4096}\n",
      "INFO:hf-to-gguf:blk.20.ffn_gate.weight,      torch.bfloat16 --> Q8_0, shape = {4096, 14336}\n",
      "INFO:hf-to-gguf:blk.20.ffn_up.weight,        torch.bfloat16 --> Q8_0, shape = {4096, 14336}\n",
      "INFO:hf-to-gguf:blk.20.ffn_norm.weight,      torch.bfloat16 --> F32, shape = {4096}\n",
      "INFO:hf-to-gguf:blk.20.attn_k.weight,        torch.bfloat16 --> Q8_0, shape = {4096, 1024}\n",
      "INFO:hf-to-gguf:blk.20.attn_output.weight,   torch.bfloat16 --> Q8_0, shape = {4096, 4096}\n",
      "INFO:hf-to-gguf:blk.20.attn_q.weight,        torch.bfloat16 --> Q8_0, shape = {4096, 4096}\n",
      "INFO:hf-to-gguf:blk.20.attn_v.weight,        torch.bfloat16 --> Q8_0, shape = {4096, 1024}\n",
      "INFO:hf-to-gguf:blk.21.attn_norm.weight,     torch.bfloat16 --> F32, shape = {4096}\n",
      "INFO:hf-to-gguf:blk.21.ffn_down.weight,      torch.bfloat16 --> Q8_0, shape = {14336, 4096}\n",
      "INFO:hf-to-gguf:blk.21.ffn_gate.weight,      torch.bfloat16 --> Q8_0, shape = {4096, 14336}\n",
      "INFO:hf-to-gguf:blk.21.ffn_up.weight,        torch.bfloat16 --> Q8_0, shape = {4096, 14336}\n",
      "INFO:hf-to-gguf:blk.21.ffn_norm.weight,      torch.bfloat16 --> F32, shape = {4096}\n",
      "INFO:hf-to-gguf:blk.21.attn_k.weight,        torch.bfloat16 --> Q8_0, shape = {4096, 1024}\n",
      "INFO:hf-to-gguf:blk.21.attn_output.weight,   torch.bfloat16 --> Q8_0, shape = {4096, 4096}\n",
      "INFO:hf-to-gguf:blk.21.attn_q.weight,        torch.bfloat16 --> Q8_0, shape = {4096, 4096}\n",
      "INFO:hf-to-gguf:blk.21.attn_v.weight,        torch.bfloat16 --> Q8_0, shape = {4096, 1024}\n",
      "INFO:hf-to-gguf:blk.22.attn_k.weight,        torch.bfloat16 --> Q8_0, shape = {4096, 1024}\n",
      "INFO:hf-to-gguf:blk.22.attn_output.weight,   torch.bfloat16 --> Q8_0, shape = {4096, 4096}\n",
      "INFO:hf-to-gguf:blk.22.attn_q.weight,        torch.bfloat16 --> Q8_0, shape = {4096, 4096}\n",
      "INFO:hf-to-gguf:blk.22.attn_v.weight,        torch.bfloat16 --> Q8_0, shape = {4096, 1024}\n",
      "INFO:hf-to-gguf:gguf: loading model part 'model-00003-of-00003.safetensors'\n",
      "INFO:hf-to-gguf:output.weight,               torch.bfloat16 --> Q8_0, shape = {4096, 32768}\n",
      "INFO:hf-to-gguf:blk.22.attn_norm.weight,     torch.bfloat16 --> F32, shape = {4096}\n",
      "INFO:hf-to-gguf:blk.22.ffn_down.weight,      torch.bfloat16 --> Q8_0, shape = {14336, 4096}\n",
      "INFO:hf-to-gguf:blk.22.ffn_gate.weight,      torch.bfloat16 --> Q8_0, shape = {4096, 14336}\n",
      "INFO:hf-to-gguf:blk.22.ffn_up.weight,        torch.bfloat16 --> Q8_0, shape = {4096, 14336}\n",
      "INFO:hf-to-gguf:blk.22.ffn_norm.weight,      torch.bfloat16 --> F32, shape = {4096}\n",
      "INFO:hf-to-gguf:blk.23.attn_norm.weight,     torch.bfloat16 --> F32, shape = {4096}\n",
      "INFO:hf-to-gguf:blk.23.ffn_down.weight,      torch.bfloat16 --> Q8_0, shape = {14336, 4096}\n",
      "INFO:hf-to-gguf:blk.23.ffn_gate.weight,      torch.bfloat16 --> Q8_0, shape = {4096, 14336}\n",
      "INFO:hf-to-gguf:blk.23.ffn_up.weight,        torch.bfloat16 --> Q8_0, shape = {4096, 14336}\n",
      "INFO:hf-to-gguf:blk.23.ffn_norm.weight,      torch.bfloat16 --> F32, shape = {4096}\n",
      "INFO:hf-to-gguf:blk.23.attn_k.weight,        torch.bfloat16 --> Q8_0, shape = {4096, 1024}\n",
      "INFO:hf-to-gguf:blk.23.attn_output.weight,   torch.bfloat16 --> Q8_0, shape = {4096, 4096}\n",
      "INFO:hf-to-gguf:blk.23.attn_q.weight,        torch.bfloat16 --> Q8_0, shape = {4096, 4096}\n",
      "INFO:hf-to-gguf:blk.23.attn_v.weight,        torch.bfloat16 --> Q8_0, shape = {4096, 1024}\n",
      "INFO:hf-to-gguf:blk.24.attn_norm.weight,     torch.bfloat16 --> F32, shape = {4096}\n",
      "INFO:hf-to-gguf:blk.24.ffn_down.weight,      torch.bfloat16 --> Q8_0, shape = {14336, 4096}\n",
      "INFO:hf-to-gguf:blk.24.ffn_gate.weight,      torch.bfloat16 --> Q8_0, shape = {4096, 14336}\n",
      "INFO:hf-to-gguf:blk.24.ffn_up.weight,        torch.bfloat16 --> Q8_0, shape = {4096, 14336}\n",
      "INFO:hf-to-gguf:blk.24.ffn_norm.weight,      torch.bfloat16 --> F32, shape = {4096}\n",
      "INFO:hf-to-gguf:blk.24.attn_k.weight,        torch.bfloat16 --> Q8_0, shape = {4096, 1024}\n",
      "INFO:hf-to-gguf:blk.24.attn_output.weight,   torch.bfloat16 --> Q8_0, shape = {4096, 4096}\n",
      "INFO:hf-to-gguf:blk.24.attn_q.weight,        torch.bfloat16 --> Q8_0, shape = {4096, 4096}\n",
      "INFO:hf-to-gguf:blk.24.attn_v.weight,        torch.bfloat16 --> Q8_0, shape = {4096, 1024}\n",
      "INFO:hf-to-gguf:blk.25.attn_norm.weight,     torch.bfloat16 --> F32, shape = {4096}\n",
      "INFO:hf-to-gguf:blk.25.ffn_down.weight,      torch.bfloat16 --> Q8_0, shape = {14336, 4096}\n",
      "INFO:hf-to-gguf:blk.25.ffn_gate.weight,      torch.bfloat16 --> Q8_0, shape = {4096, 14336}\n",
      "INFO:hf-to-gguf:blk.25.ffn_up.weight,        torch.bfloat16 --> Q8_0, shape = {4096, 14336}\n",
      "INFO:hf-to-gguf:blk.25.ffn_norm.weight,      torch.bfloat16 --> F32, shape = {4096}\n",
      "INFO:hf-to-gguf:blk.25.attn_k.weight,        torch.bfloat16 --> Q8_0, shape = {4096, 1024}\n",
      "INFO:hf-to-gguf:blk.25.attn_output.weight,   torch.bfloat16 --> Q8_0, shape = {4096, 4096}\n",
      "INFO:hf-to-gguf:blk.25.attn_q.weight,        torch.bfloat16 --> Q8_0, shape = {4096, 4096}\n",
      "INFO:hf-to-gguf:blk.25.attn_v.weight,        torch.bfloat16 --> Q8_0, shape = {4096, 1024}\n",
      "INFO:hf-to-gguf:blk.26.attn_norm.weight,     torch.bfloat16 --> F32, shape = {4096}\n",
      "INFO:hf-to-gguf:blk.26.ffn_down.weight,      torch.bfloat16 --> Q8_0, shape = {14336, 4096}\n",
      "INFO:hf-to-gguf:blk.26.ffn_gate.weight,      torch.bfloat16 --> Q8_0, shape = {4096, 14336}\n",
      "INFO:hf-to-gguf:blk.26.ffn_up.weight,        torch.bfloat16 --> Q8_0, shape = {4096, 14336}\n",
      "INFO:hf-to-gguf:blk.26.ffn_norm.weight,      torch.bfloat16 --> F32, shape = {4096}\n",
      "INFO:hf-to-gguf:blk.26.attn_k.weight,        torch.bfloat16 --> Q8_0, shape = {4096, 1024}\n",
      "INFO:hf-to-gguf:blk.26.attn_output.weight,   torch.bfloat16 --> Q8_0, shape = {4096, 4096}\n",
      "INFO:hf-to-gguf:blk.26.attn_q.weight,        torch.bfloat16 --> Q8_0, shape = {4096, 4096}\n",
      "INFO:hf-to-gguf:blk.26.attn_v.weight,        torch.bfloat16 --> Q8_0, shape = {4096, 1024}\n",
      "INFO:hf-to-gguf:blk.27.attn_norm.weight,     torch.bfloat16 --> F32, shape = {4096}\n",
      "INFO:hf-to-gguf:blk.27.ffn_down.weight,      torch.bfloat16 --> Q8_0, shape = {14336, 4096}\n",
      "INFO:hf-to-gguf:blk.27.ffn_gate.weight,      torch.bfloat16 --> Q8_0, shape = {4096, 14336}\n",
      "INFO:hf-to-gguf:blk.27.ffn_up.weight,        torch.bfloat16 --> Q8_0, shape = {4096, 14336}\n",
      "INFO:hf-to-gguf:blk.27.ffn_norm.weight,      torch.bfloat16 --> F32, shape = {4096}\n",
      "INFO:hf-to-gguf:blk.27.attn_k.weight,        torch.bfloat16 --> Q8_0, shape = {4096, 1024}\n",
      "INFO:hf-to-gguf:blk.27.attn_output.weight,   torch.bfloat16 --> Q8_0, shape = {4096, 4096}\n",
      "INFO:hf-to-gguf:blk.27.attn_q.weight,        torch.bfloat16 --> Q8_0, shape = {4096, 4096}\n",
      "INFO:hf-to-gguf:blk.27.attn_v.weight,        torch.bfloat16 --> Q8_0, shape = {4096, 1024}\n",
      "INFO:hf-to-gguf:blk.28.attn_norm.weight,     torch.bfloat16 --> F32, shape = {4096}\n",
      "INFO:hf-to-gguf:blk.28.ffn_down.weight,      torch.bfloat16 --> Q8_0, shape = {14336, 4096}\n",
      "INFO:hf-to-gguf:blk.28.ffn_gate.weight,      torch.bfloat16 --> Q8_0, shape = {4096, 14336}\n",
      "INFO:hf-to-gguf:blk.28.ffn_up.weight,        torch.bfloat16 --> Q8_0, shape = {4096, 14336}\n",
      "INFO:hf-to-gguf:blk.28.ffn_norm.weight,      torch.bfloat16 --> F32, shape = {4096}\n",
      "INFO:hf-to-gguf:blk.28.attn_k.weight,        torch.bfloat16 --> Q8_0, shape = {4096, 1024}\n",
      "INFO:hf-to-gguf:blk.28.attn_output.weight,   torch.bfloat16 --> Q8_0, shape = {4096, 4096}\n",
      "INFO:hf-to-gguf:blk.28.attn_q.weight,        torch.bfloat16 --> Q8_0, shape = {4096, 4096}\n",
      "INFO:hf-to-gguf:blk.28.attn_v.weight,        torch.bfloat16 --> Q8_0, shape = {4096, 1024}\n",
      "INFO:hf-to-gguf:blk.29.attn_norm.weight,     torch.bfloat16 --> F32, shape = {4096}\n",
      "INFO:hf-to-gguf:blk.29.ffn_down.weight,      torch.bfloat16 --> Q8_0, shape = {14336, 4096}\n",
      "INFO:hf-to-gguf:blk.29.ffn_gate.weight,      torch.bfloat16 --> Q8_0, shape = {4096, 14336}\n",
      "INFO:hf-to-gguf:blk.29.ffn_up.weight,        torch.bfloat16 --> Q8_0, shape = {4096, 14336}\n",
      "INFO:hf-to-gguf:blk.29.ffn_norm.weight,      torch.bfloat16 --> F32, shape = {4096}\n",
      "INFO:hf-to-gguf:blk.29.attn_k.weight,        torch.bfloat16 --> Q8_0, shape = {4096, 1024}\n",
      "INFO:hf-to-gguf:blk.29.attn_output.weight,   torch.bfloat16 --> Q8_0, shape = {4096, 4096}\n",
      "INFO:hf-to-gguf:blk.29.attn_q.weight,        torch.bfloat16 --> Q8_0, shape = {4096, 4096}\n",
      "INFO:hf-to-gguf:blk.29.attn_v.weight,        torch.bfloat16 --> Q8_0, shape = {4096, 1024}\n",
      "INFO:hf-to-gguf:blk.30.attn_norm.weight,     torch.bfloat16 --> F32, shape = {4096}\n",
      "INFO:hf-to-gguf:blk.30.ffn_down.weight,      torch.bfloat16 --> Q8_0, shape = {14336, 4096}\n",
      "INFO:hf-to-gguf:blk.30.ffn_gate.weight,      torch.bfloat16 --> Q8_0, shape = {4096, 14336}\n",
      "INFO:hf-to-gguf:blk.30.ffn_up.weight,        torch.bfloat16 --> Q8_0, shape = {4096, 14336}\n",
      "INFO:hf-to-gguf:blk.30.ffn_norm.weight,      torch.bfloat16 --> F32, shape = {4096}\n",
      "INFO:hf-to-gguf:blk.30.attn_k.weight,        torch.bfloat16 --> Q8_0, shape = {4096, 1024}\n",
      "INFO:hf-to-gguf:blk.30.attn_output.weight,   torch.bfloat16 --> Q8_0, shape = {4096, 4096}\n",
      "INFO:hf-to-gguf:blk.30.attn_q.weight,        torch.bfloat16 --> Q8_0, shape = {4096, 4096}\n",
      "INFO:hf-to-gguf:blk.30.attn_v.weight,        torch.bfloat16 --> Q8_0, shape = {4096, 1024}\n",
      "INFO:hf-to-gguf:blk.31.attn_norm.weight,     torch.bfloat16 --> F32, shape = {4096}\n",
      "INFO:hf-to-gguf:blk.31.ffn_down.weight,      torch.bfloat16 --> Q8_0, shape = {14336, 4096}\n",
      "INFO:hf-to-gguf:blk.31.ffn_gate.weight,      torch.bfloat16 --> Q8_0, shape = {4096, 14336}\n",
      "INFO:hf-to-gguf:blk.31.ffn_up.weight,        torch.bfloat16 --> Q8_0, shape = {4096, 14336}\n",
      "INFO:hf-to-gguf:blk.31.ffn_norm.weight,      torch.bfloat16 --> F32, shape = {4096}\n",
      "INFO:hf-to-gguf:blk.31.attn_k.weight,        torch.bfloat16 --> Q8_0, shape = {4096, 1024}\n",
      "INFO:hf-to-gguf:blk.31.attn_output.weight,   torch.bfloat16 --> Q8_0, shape = {4096, 4096}\n",
      "INFO:hf-to-gguf:blk.31.attn_q.weight,        torch.bfloat16 --> Q8_0, shape = {4096, 4096}\n",
      "INFO:hf-to-gguf:blk.31.attn_v.weight,        torch.bfloat16 --> Q8_0, shape = {4096, 1024}\n",
      "INFO:hf-to-gguf:output_norm.weight,          torch.bfloat16 --> F32, shape = {4096}\n",
      "INFO:hf-to-gguf:Set meta model\n",
      "INFO:hf-to-gguf:Set model parameters\n",
      "INFO:hf-to-gguf:gguf: context length = 32768\n",
      "INFO:hf-to-gguf:gguf: embedding length = 4096\n",
      "INFO:hf-to-gguf:gguf: feed forward length = 14336\n",
      "INFO:hf-to-gguf:gguf: head count = 32\n",
      "INFO:hf-to-gguf:gguf: key-value head count = 8\n",
      "INFO:hf-to-gguf:gguf: rope theta = 1000000.0\n",
      "INFO:hf-to-gguf:gguf: rms norm epsilon = 1e-05\n",
      "INFO:hf-to-gguf:gguf: file type = 7\n",
      "INFO:hf-to-gguf:Set model tokenizer\n",
      "INFO:gguf.vocab:Setting special token type bos to 1\n",
      "INFO:gguf.vocab:Setting special token type eos to 2\n",
      "INFO:gguf.vocab:Setting special token type unk to 0\n",
      "INFO:gguf.vocab:Setting special token type pad to 770\n",
      "INFO:gguf.vocab:Setting add_bos_token to True\n",
      "INFO:gguf.vocab:Setting add_eos_token to False\n",
      "INFO:gguf.vocab:Setting chat_template to {%- if messages[0][\"role\"] == \"system\" %}\n",
      "    {%- set system_message = messages[0][\"content\"] %}\n",
      "    {%- set loop_messages = messages[1:] %}\n",
      "{%- else %}\n",
      "    {%- set loop_messages = messages %}\n",
      "{%- endif %}\n",
      "{%- if not tools is defined %}\n",
      "    {%- set tools = none %}\n",
      "{%- endif %}\n",
      "{%- set user_messages = loop_messages | selectattr(\"role\", \"equalto\", \"user\") | list %}\n",
      "\n",
      "{#- This block checks for alternating user/assistant messages, skipping tool calling messages #}\n",
      "{%- set ns = namespace() %}\n",
      "{%- set ns.index = 0 %}\n",
      "{%- for message in loop_messages %}\n",
      "    {%- if not (message.role == \"tool\" or message.role == \"tool_results\" or (message.tool_calls is defined and message.tool_calls is not none)) %}\n",
      "        {%- if (message[\"role\"] == \"user\") != (ns.index % 2 == 0) %}\n",
      "            {{- raise_exception(\"After the optional system message, conversation roles must alternate user/assistant/user/assistant/...\") }}\n",
      "        {%- endif %}\n",
      "        {%- set ns.index = ns.index + 1 %}\n",
      "    {%- endif %}\n",
      "{%- endfor %}\n",
      "\n",
      "{{- bos_token }}\n",
      "{%- for message in loop_messages %}\n",
      "    {%- if message[\"role\"] == \"user\" %}\n",
      "        {%- if tools is not none and (message == user_messages[-1]) %}\n",
      "            {{- \"[AVAILABLE_TOOLS] [\" }}\n",
      "            {%- for tool in tools %}\n",
      "                {%- set tool = tool.function %}\n",
      "                {{- '{\"type\": \"function\", \"function\": {' }}\n",
      "                {%- for key, val in tool.items() if key != \"return\" %}\n",
      "                    {%- if val is string %}\n",
      "                        {{- '\"' + key + '\": \"' + val + '\"' }}\n",
      "                    {%- else %}\n",
      "                        {{- '\"' + key + '\": ' + val|tojson }}\n",
      "                    {%- endif %}\n",
      "                    {%- if not loop.last %}\n",
      "                        {{- \", \" }}\n",
      "                    {%- endif %}\n",
      "                {%- endfor %}\n",
      "                {{- \"}}\" }}\n",
      "                {%- if not loop.last %}\n",
      "                    {{- \", \" }}\n",
      "                {%- else %}\n",
      "                    {{- \"]\" }}\n",
      "                {%- endif %}\n",
      "            {%- endfor %}\n",
      "            {{- \"[/AVAILABLE_TOOLS]\" }}\n",
      "            {%- endif %}\n",
      "        {%- if loop.last and system_message is defined %}\n",
      "            {{- \"[INST] \" + system_message + \"\\n\\n\" + message[\"content\"] + \"[/INST]\" }}\n",
      "        {%- else %}\n",
      "            {{- \"[INST] \" + message[\"content\"] + \"[/INST]\" }}\n",
      "        {%- endif %}\n",
      "    {%- elif message.tool_calls is defined and message.tool_calls is not none %}\n",
      "        {{- \"[TOOL_CALLS] [\" }}\n",
      "        {%- for tool_call in message.tool_calls %}\n",
      "            {%- set out = tool_call.function|tojson %}\n",
      "            {{- out[:-1] }}\n",
      "            {%- if not tool_call.id is defined or tool_call.id|length != 9 %}\n",
      "                {{- raise_exception(\"Tool call IDs should be alphanumeric strings with length 9!\") }}\n",
      "            {%- endif %}\n",
      "            {{- ', \"id\": \"' + tool_call.id + '\"}' }}\n",
      "            {%- if not loop.last %}\n",
      "                {{- \", \" }}\n",
      "            {%- else %}\n",
      "                {{- \"]\" + eos_token }}\n",
      "            {%- endif %}\n",
      "        {%- endfor %}\n",
      "    {%- elif message[\"role\"] == \"assistant\" %}\n",
      "        {{- \" \" + message[\"content\"]|trim + eos_token}}\n",
      "    {%- elif message[\"role\"] == \"tool_results\" or message[\"role\"] == \"tool\" %}\n",
      "        {%- if message.content is defined and message.content.content is defined %}\n",
      "            {%- set content = message.content.content %}\n",
      "        {%- else %}\n",
      "            {%- set content = message.content %}\n",
      "        {%- endif %}\n",
      "        {{- '[TOOL_RESULTS] {\"content\": ' + content|string + \", \" }}\n",
      "        {%- if not message.tool_call_id is defined or message.tool_call_id|length != 9 %}\n",
      "            {{- raise_exception(\"Tool call IDs should be alphanumeric strings with length 9!\") }}\n",
      "        {%- endif %}\n",
      "        {{- '\"call_id\": \"' + message.tool_call_id + '\"}[/TOOL_RESULTS]' }}\n",
      "    {%- else %}\n",
      "        {{- raise_exception(\"Only user and assistant roles are supported, with the exception of an initial optional system message!\") }}\n",
      "    {%- endif %}\n",
      "{%- endfor %}\n",
      "\n",
      "INFO:hf-to-gguf:Set model quantization version\n",
      "INFO:gguf.gguf_writer:Writing the following files:\n",
      "INFO:gguf.gguf_writer:/storage/ice1/5/1/mmahendran7/ft_mistral/unsloth.Q8_0.gguf: n_tensors = 291, total_size = 7.7G\n",
      "Writing: 100%|██████████| 7.70G/7.70G [01:20<00:00, 95.3Mbyte/s]\n",
      "INFO:hf-to-gguf:Model successfully exported to /storage/ice1/5/1/mmahendran7/ft_mistral/unsloth.Q8_0.gguf\n",
      "Unsloth: Conversion completed! Output location: /storage/ice1/5/1/mmahendran7/ft_mistral/unsloth.Q8_0.gguf\n"
     ]
    }
   ],
   "source": [
    "\n",
    "# Save this in 8B for now (faster)\n",
    "model.save_pretrained_gguf(\"ft_mistral\", tokenizer)"
   ]
  },
  {
   "cell_type": "code",
   "execution_count": 26,
   "metadata": {
    "id": "wlkoITyxKwzu"
   },
   "outputs": [
    {
     "name": "stderr",
     "output_type": "stream",
     "text": [
      "2024/11/29 15:05:24 routes.go:1197: INFO server config env=\"map[CUDA_VISIBLE_DEVICES:0 GPU_DEVICE_ORDINAL: HIP_VISIBLE_DEVICES: HSA_OVERRIDE_GFX_VERSION: HTTPS_PROXY: HTTP_PROXY: NO_PROXY: OLLAMA_DEBUG:false OLLAMA_FLASH_ATTENTION:false OLLAMA_GPU_OVERHEAD:0 OLLAMA_HOST:http://127.0.0.1:11434 OLLAMA_INTEL_GPU:false OLLAMA_KEEP_ALIVE:5m0s OLLAMA_LLM_LIBRARY: OLLAMA_LOAD_TIMEOUT:5m0s OLLAMA_MAX_LOADED_MODELS:0 OLLAMA_MAX_QUEUE:512 OLLAMA_MODELS:/home/hice1/mmahendran7/.ollama/models OLLAMA_MULTIUSER_CACHE:false OLLAMA_NOHISTORY:false OLLAMA_NOPRUNE:false OLLAMA_NUM_PARALLEL:0 OLLAMA_ORIGINS:[http://localhost https://localhost http://localhost:* https://localhost:* http://127.0.0.1 https://127.0.0.1 http://127.0.0.1:* https://127.0.0.1:* http://0.0.0.0 https://0.0.0.0 http://0.0.0.0:* https://0.0.0.0:* app://* file://* tauri://* vscode-webview://*] OLLAMA_SCHED_SPREAD:false OLLAMA_TMPDIR: ROCR_VISIBLE_DEVICES: http_proxy: https_proxy: no_proxy:]\"\n",
      "time=2024-11-29T15:05:24.675-05:00 level=INFO source=images.go:753 msg=\"total blobs: 4\"\n",
      "time=2024-11-29T15:05:24.685-05:00 level=INFO source=images.go:760 msg=\"total unused blobs removed: 0\"\n",
      "time=2024-11-29T15:05:24.689-05:00 level=INFO source=routes.go:1248 msg=\"Listening on 127.0.0.1:11434 (version 0.4.6)\"\n",
      "time=2024-11-29T15:05:24.689-05:00 level=INFO source=common.go:135 msg=\"extracting embedded files\" dir=/scratch/993264/ollama2454899131/runners\n",
      "time=2024-11-29T15:05:24.971-05:00 level=INFO source=common.go:49 msg=\"Dynamic LLM libraries\" runners=\"[cpu cpu_avx cpu_avx2 cuda_v11 cuda_v12 rocm]\"\n",
      "time=2024-11-29T15:05:24.971-05:00 level=INFO source=gpu.go:221 msg=\"looking for compatible GPUs\"\n",
      "time=2024-11-29T15:05:25.128-05:00 level=INFO source=types.go:123 msg=\"inference compute\" id=GPU-7e697944-9abb-af35-ad29-829bfa04dfdb library=cuda variant=v12 compute=7.0 driver=12.5 name=\"Tesla V100-PCIE-16GB\" total=\"15.8 GiB\" available=\"10.5 GiB\"\n"
     ]
    }
   ],
   "source": [
    "import subprocess\n",
    "import os\n",
    "\n",
    "ollama_path = os.path.abspath(\"./bin/bin/ollama\")\n",
    "subprocess.Popen([ollama_path, \"serve\"])\n",
    "import time\n",
    "time.sleep(5)"
   ]
  },
  {
   "cell_type": "code",
   "execution_count": 22,
   "metadata": {},
   "outputs": [
    {
     "name": "stdout",
     "output_type": "stream",
     "text": [
      "ls: cannot access '/usr/local/bin/ollama': No such file or directory\r\n"
     ]
    }
   ],
   "source": [
    "ls -l /usr/local/bin/ollama"
   ]
  },
  {
   "cell_type": "code",
   "execution_count": 27,
   "metadata": {
    "id": "ZrvHGS93Ky7o"
   },
   "outputs": [],
   "source": [
    "\n",
    "# # Try to create the model file from the GGUF thing\n",
    "# with open('ft_model/Modelfile', 'w') as f:\n",
    "#     f.write(\"FROM ft_model/unsloth.Q8_0.gguf\")\n",
    "    \n",
    "    \n",
    "import os\n",
    "\n",
    "gguf_path = os.path.abspath(\"/storage/ice1/5/1/mmahendran7/ft_mistral/unsloth.Q8_0.gguf\")\n",
    "\n",
    "with open('ft_mistral/Modelfile', 'w') as f:\n",
    "    f.write(f\"FROM {gguf_path}\")\n"
   ]
  },
  {
   "cell_type": "code",
   "execution_count": 9,
   "metadata": {},
   "outputs": [
    {
     "data": {
      "text/plain": [
       "<_io.TextIOWrapper name='ft_mistral/Modelfile' mode='w' encoding='UTF-8'>"
      ]
     },
     "execution_count": 9,
     "metadata": {},
     "output_type": "execute_result"
    }
   ],
   "source": [
    "f"
   ]
  },
  {
   "cell_type": "code",
   "execution_count": 28,
   "metadata": {
    "id": "UVoV65YbK0hU"
   },
   "outputs": [
    {
     "name": "stdout",
     "output_type": "stream",
     "text": [
      "[GIN] 2024/11/29 - 15:05:56 | 200 |      54.236µs |       127.0.0.1 | HEAD     \"/\"\n",
      "\u001b[?25ltransferring model data ⠋ \u001b[?25h\u001b[?25l\u001b[2K\u001b[1Gtransferring model data ⠹ \u001b[?25h\u001b[?25l\u001b[2K\u001b[1Gtransferring model data ⠸ \u001b[?25h\u001b[?25l\u001b[2K\u001b[1Gtransferring model data ⠼ \u001b[?25h\u001b[?25l\u001b[2K\u001b[1Gtransferring model data ⠴ \u001b[?25h\u001b[?25l\u001b[2K\u001b[1Gtransferring model data ⠴ \u001b[?25h\u001b[?25l\u001b[2K\u001b[1Gtransferring model data ⠦ \u001b[?25h\u001b[?25l\u001b[2K\u001b[1Gtransferring model data ⠇ \u001b[?25h\u001b[?25l\u001b[2K\u001b[1Gtransferring model data ⠏ \u001b[?25h\u001b[?25l\u001b[2K\u001b[1Gtransferring model data ⠋ \u001b[?25h\u001b[?25l\u001b[2K\u001b[1Gtransferring model data ⠋ \u001b[?25h\u001b[?25l\u001b[2K\u001b[1Gtransferring model data ⠙ \u001b[?25h\u001b[?25l\u001b[2K\u001b[1Gtransferring model data ⠸ \u001b[?25h\u001b[?25l\u001b[2K\u001b[1Gtransferring model data ⠼ \u001b[?25h\u001b[?25l\u001b[2K\u001b[1Gtransferring model data ⠴ \u001b[?25h\u001b[?25l\u001b[2K\u001b[1Gtransferring model data ⠦ \u001b[?25h\u001b[?25l\u001b[2K\u001b[1Gtransferring model data ⠦ \u001b[?25h\u001b[?25l\u001b[2K\u001b[1Gtransferring model data ⠇ \u001b[?25h\u001b[?25l\u001b[2K\u001b[1Gtransferring model data ⠏ \u001b[?25h\u001b[?25l\u001b[2K\u001b[1Gtransferring model data ⠋ \u001b[?25h\u001b[?25l\u001b[2K\u001b[1Gtransferring model data ⠋ \u001b[?25h\u001b[?25l\u001b[2K\u001b[1Gtransferring model data ⠙ \u001b[?25h\u001b[?25l\u001b[2K\u001b[1Gtransferring model data ⠸ \u001b[?25h\u001b[?25l\u001b[2K\u001b[1Gtransferring model data ⠼ \u001b[?25h\u001b[?25l\u001b[2K\u001b[1Gtransferring model data ⠴ \u001b[?25h\u001b[?25l\u001b[2K\u001b[1Gtransferring model data ⠦ \u001b[?25h\u001b[?25l\u001b[2K\u001b[1Gtransferring model data ⠦ \u001b[?25h\u001b[?25l\u001b[2K\u001b[1Gtransferring model data ⠧ \u001b[?25h\u001b[?25l\u001b[2K\u001b[1Gtransferring model data ⠏ \u001b[?25h\u001b[?25l\u001b[2K\u001b[1Gtransferring model data ⠋ \u001b[?25h\u001b[?25l\u001b[2K\u001b[1Gtransferring model data ⠙ \u001b[?25h\u001b[?25l\u001b[2K\u001b[1Gtransferring model data ⠙ \u001b[?25h\u001b[?25l\u001b[2K\u001b[1Gtransferring model data ⠹ \u001b[?25h\u001b[?25l\u001b[2K\u001b[1Gtransferring model data ⠼ \u001b[?25h\u001b[?25l\u001b[2K\u001b[1Gtransferring model data ⠴ \u001b[?25h\u001b[?25l\u001b[2K\u001b[1Gtransferring model data ⠦ \u001b[?25h\u001b[?25l\u001b[2K\u001b[1Gtransferring model data ⠧ \u001b[?25h\u001b[?25l\u001b[2K\u001b[1Gtransferring model data ⠧ \u001b[?25h\u001b[?25l\u001b[2K\u001b[1Gtransferring model data ⠏ \u001b[?25h\u001b[?25l\u001b[2K\u001b[1Gtransferring model data ⠋ \u001b[?25h\u001b[?25l\u001b[2K\u001b[1Gtransferring model data ⠙ \u001b[?25h\u001b[?25l\u001b[2K\u001b[1Gtransferring model data ⠹ \u001b[?25h\u001b[?25l\u001b[2K\u001b[1Gtransferring model data ⠹ \u001b[?25h\u001b[?25l\u001b[2K\u001b[1Gtransferring model data ⠼ \u001b[?25h\u001b[?25l\u001b[2K\u001b[1Gtransferring model data ⠴ \u001b[?25h\u001b[?25l\u001b[2K\u001b[1Gtransferring model data ⠦ \u001b[?25h\u001b[?25l\u001b[2K\u001b[1Gtransferring model data ⠧ \u001b[?25h\u001b[?25l\u001b[2K\u001b[1Gtransferring model data ⠧ \u001b[?25h\u001b[?25l\u001b[2K\u001b[1Gtransferring model data ⠇ \u001b[?25h\u001b[?25l\u001b[2K\u001b[1Gtransferring model data ⠋ \u001b[?25h\u001b[?25l\u001b[2K\u001b[1Gtransferring model data ⠙ \u001b[?25h\u001b[?25l\u001b[2K\u001b[1Gtransferring model data ⠹ \u001b[?25h\u001b[?25l\u001b[2K\u001b[1Gtransferring model data ⠹ \u001b[?25h\u001b[?25l\u001b[2K\u001b[1Gtransferring model data ⠸ \u001b[?25h\u001b[?25l\u001b[2K\u001b[1Gtransferring model data ⠴ \u001b[?25h\u001b[?25l\u001b[2K\u001b[1Gtransferring model data ⠦ \u001b[?25h\u001b[?25l\u001b[2K\u001b[1Gtransferring model data ⠧ \u001b[?25h\u001b[?25l\u001b[2K\u001b[1Gtransferring model data ⠧ \u001b[?25h\u001b[?25l\u001b[2K\u001b[1Gtransferring model data ⠇ \u001b[?25h\u001b[?25l\u001b[2K\u001b[1Gtransferring model data ⠋ \u001b[?25h\u001b[?25l\u001b[2K\u001b[1Gtransferring model data ⠙ \u001b[?25h\u001b[?25l\u001b[2K\u001b[1Gtransferring model data ⠹ \u001b[?25h\u001b[?25l\u001b[2K\u001b[1Gtransferring model data ⠹ \u001b[?25h\u001b[?25l\u001b[2K\u001b[1Gtransferring model data ⠸ \u001b[?25h\u001b[?25l\u001b[2K\u001b[1Gtransferring model data ⠴ \u001b[?25h\u001b[?25l\u001b[2K\u001b[1Gtransferring model data ⠦ \u001b[?25h\u001b[?25l\u001b[2K\u001b[1Gtransferring model data ⠧ \u001b[?25h\u001b[?25l\u001b[2K\u001b[1Gtransferring model data ⠇ \u001b[?25h\u001b[?25l\u001b[2K\u001b[1Gtransferring model data ⠇ \u001b[?25h\u001b[?25l\u001b[2K\u001b[1Gtransferring model data ⠋ \u001b[?25h\u001b[?25l\u001b[2K\u001b[1Gtransferring model data ⠙ \u001b[?25h\u001b[?25l\u001b[2K\u001b[1Gtransferring model data ⠙ \u001b[?25h\u001b[?25l\u001b[2K\u001b[1Gtransferring model data ⠸ \u001b[?25h\u001b[?25l\u001b[2K\u001b[1Gtransferring model data ⠸ \u001b[?25h\u001b[?25l\u001b[2K\u001b[1Gtransferring model data ⠼ \u001b[?25h\u001b[?25l\u001b[2K\u001b[1Gtransferring model data ⠦ \u001b[?25h\u001b[?25l\u001b[2K\u001b[1Gtransferring model data ⠧ \u001b[?25h\u001b[?25l\u001b[2K\u001b[1Gtransferring model data ⠇ \u001b[?25h\u001b[?25l\u001b[2K\u001b[1Gtransferring model data ⠏ \u001b[?25h\u001b[?25l\u001b[2K\u001b[1Gtransferring model data ⠏ \u001b[?25h\u001b[?25l\u001b[2K\u001b[1Gtransferring model data ⠙ \u001b[?25h\u001b[?25l\u001b[2K\u001b[1Gtransferring model data ⠹ \u001b[?25h\u001b[?25l\u001b[2K\u001b[1Gtransferring model data ⠸ \u001b[?25h\u001b[?25l\u001b[2K\u001b[1Gtransferring model data ⠼ \u001b[?25h\u001b[?25l\u001b[2K\u001b[1Gtransferring model data ⠼ \u001b[?25h\u001b[?25l\u001b[2K\u001b[1Gtransferring model data ⠦ \u001b[?25h\u001b[?25l\u001b[2K\u001b[1Gtransferring model data ⠧ \u001b[?25h\u001b[?25l\u001b[2K\u001b[1Gtransferring model data ⠇ \u001b[?25h\u001b[?25l\u001b[2K\u001b[1Gtransferring model data ⠏ \u001b[?25h\u001b[?25l\u001b[2K\u001b[1Gtransferring model data ⠏ \u001b[?25h\u001b[?25l\u001b[2K\u001b[1Gtransferring model data ⠋ \u001b[?25h\u001b[?25l\u001b[2K\u001b[1Gtransferring model data ⠹ \u001b[?25h\u001b[?25l\u001b[2K\u001b[1Gtransferring model data ⠸ \u001b[?25h\u001b[?25l\u001b[2K\u001b[1Gtransferring model data ⠼ \u001b[?25h\u001b[?25l\u001b[2K\u001b[1Gtransferring model data ⠴ \u001b[?25h\u001b[?25l\u001b[2K\u001b[1Gtransferring model data ⠴ \u001b[?25h\u001b[?25l\u001b[2K\u001b[1Gtransferring model data ⠧ \u001b[?25h\u001b[?25l\u001b[2K\u001b[1Gtransferring model data ⠇ \u001b[?25h\u001b[?25l\u001b[2K\u001b[1Gtransferring model data ⠏ \u001b[?25h\u001b[?25l\u001b[2K\u001b[1Gtransferring model data ⠋ \u001b[?25h\u001b[?25l\u001b[2K\u001b[1Gtransferring model data ⠋ \u001b[?25h\u001b[?25l\u001b[2K\u001b[1Gtransferring model data ⠙ \u001b[?25h\u001b[?25l\u001b[2K\u001b[1Gtransferring model data ⠸ \u001b[?25h\u001b[?25l\u001b[2K\u001b[1Gtransferring model data ⠸ \u001b[?25h\u001b[?25l\u001b[2K\u001b[1Gtransferring model data ⠴ \u001b[?25h\u001b[?25l\u001b[2K\u001b[1Gtransferring model data ⠦ \u001b[?25h\u001b[?25l\u001b[2K\u001b[1Gtransferring model data ⠧ \u001b[?25h\u001b[?25l\u001b[2K\u001b[1Gtransferring model data ⠧ \u001b[?25h\u001b[?25l\u001b[2K\u001b[1Gtransferring model data ⠇ \u001b[?25h\u001b[?25l\u001b[2K\u001b[1Gtransferring model data ⠏ \u001b[?25h\u001b[?25l\u001b[2K\u001b[1Gtransferring model data ⠙ \u001b[?25h\u001b[?25l\u001b[2K\u001b[1Gtransferring model data ⠹ \u001b[?25h\u001b[?25l\u001b[2K\u001b[1Gtransferring model data ⠸ \u001b[?25h\u001b[?25l\u001b[2K\u001b[1Gtransferring model data ⠸ \u001b[?25h\u001b[?25l\u001b[2K\u001b[1Gtransferring model data ⠼ \u001b[?25h\u001b[?25l\u001b[2K\u001b[1Gtransferring model data ⠦ \u001b[?25h\u001b[?25l\u001b[2K\u001b[1Gtransferring model data ⠧ \u001b[?25h\u001b[?25l\u001b[2K\u001b[1Gtransferring model data ⠇ \u001b[?25h\u001b[?25l\u001b[2K\u001b[1Gtransferring model data ⠇ \u001b[?25h\u001b[?25l\u001b[2K\u001b[1Gtransferring model data ⠏ \u001b[?25h\u001b[?25l\u001b[2K\u001b[1Gtransferring model data ⠙ \u001b[?25h\u001b[?25l\u001b[2K\u001b[1Gtransferring model data ⠹ \u001b[?25h\u001b[?25l\u001b[2K\u001b[1Gtransferring model data ⠸ \u001b[?25h\u001b[?25l\u001b[2K\u001b[1Gtransferring model data ⠸ \u001b[?25h\u001b[?25l\u001b[2K\u001b[1Gtransferring model data ⠼ \u001b[?25h\u001b[?25l\u001b[2K\u001b[1Gtransferring model data ⠦ \u001b[?25h\u001b[?25l\u001b[2K\u001b[1Gtransferring model data ⠧ \u001b[?25h\u001b[?25l\u001b[2K\u001b[1Gtransferring model data ⠇ \u001b[?25h\u001b[?25l\u001b[2K\u001b[1Gtransferring model data ⠇ \u001b[?25h\u001b[?25l\u001b[2K\u001b[1Gtransferring model data ⠏ \u001b[?25h\u001b[?25l\u001b[2K\u001b[1Gtransferring model data ⠙ \u001b[?25h\u001b[?25l\u001b[2K\u001b[1Gtransferring model data ⠙ \u001b[?25h\u001b[?25l\u001b[2K\u001b[1Gtransferring model data ⠸ \u001b[?25h\u001b[?25l\u001b[2K\u001b[1Gtransferring model data ⠼ \u001b[?25h\u001b[?25l\u001b[2K\u001b[1Gtransferring model data ⠼ \u001b[?25h\u001b[?25l\u001b[2K\u001b[1Gtransferring model data ⠦ \u001b[?25h\u001b[?25l\u001b[2K\u001b[1Gtransferring model data ⠧ \u001b[?25h\u001b[?25l\u001b[2K\u001b[1Gtransferring model data ⠇ \u001b[?25h\u001b[?25l\u001b[2K\u001b[1Gtransferring model data ⠏ \u001b[?25h\u001b[?25l\u001b[2K\u001b[1Gtransferring model data ⠏ \u001b[?25h\u001b[?25l\u001b[2K\u001b[1Gtransferring model data ⠋ \u001b[?25h\u001b[?25l\u001b[2K\u001b[1Gtransferring model data ⠹ \u001b[?25h\u001b[?25l\u001b[2K\u001b[1Gtransferring model data ⠸ \u001b[?25h\u001b[?25l\u001b[2K\u001b[1Gtransferring model data ⠼ \u001b[?25h\u001b[?25l\u001b[2K\u001b[1Gtransferring model data ⠼ \u001b[?25h\u001b[?25l\u001b[2K\u001b[1Gtransferring model data ⠴ \u001b[?25h\u001b[?25l\u001b[2K\u001b[1Gtransferring model data ⠦ \u001b[?25h\u001b[?25l\u001b[2K\u001b[1Gtransferring model data ⠇ \u001b[?25h\u001b[?25l\u001b[2K\u001b[1Gtransferring model data ⠇ \u001b[?25h\u001b[?25l\u001b[2K\u001b[1Gtransferring model data ⠏ \u001b[?25h\u001b[?25l\u001b[2K\u001b[1Gtransferring model data ⠙ \u001b[?25h\u001b[?25l\u001b[2K\u001b[1Gtransferring model data ⠹ \u001b[?25h\u001b[?25l\u001b[2K\u001b[1Gtransferring model data ⠸ \u001b[?25h\u001b[?25l\u001b[2K\u001b[1Gtransferring model data ⠼ \u001b[?25h\u001b[?25l\u001b[2K\u001b[1Gtransferring model data ⠼ \u001b[?25h\u001b[?25l\u001b[2K\u001b[1Gtransferring model data ⠦ \u001b[?25h\u001b[?25l\u001b[2K\u001b[1Gtransferring model data ⠧ \u001b[?25h\u001b[?25l\u001b[2K\u001b[1Gtransferring model data ⠇ \u001b[?25h\u001b[?25l\u001b[2K\u001b[1Gtransferring model data ⠏ \u001b[?25h\u001b[?25l\u001b[2K\u001b[1Gtransferring model data ⠏ \u001b[?25h\u001b[?25l\u001b[2K\u001b[1Gtransferring model data ⠙ \u001b[?25h\u001b[?25l\u001b[2K\u001b[1Gtransferring model data ⠹ \u001b[?25h\u001b[?25l\u001b[2K\u001b[1Gtransferring model data ⠸ \u001b[?25h\u001b[?25l\u001b[2K\u001b[1Gtransferring model data ⠼ \u001b[?25h\u001b[?25l\u001b[2K\u001b[1Gtransferring model data ⠼ \u001b[?25h\u001b[?25l\u001b[2K\u001b[1Gtransferring model data ⠴ \u001b[?25h\u001b[?25l\u001b[2K\u001b[1Gtransferring model data ⠧ \u001b[?25h\u001b[?25l\u001b[2K\u001b[1Gtransferring model data ⠇ \u001b[?25h\u001b[?25l\u001b[2K\u001b[1Gtransferring model data ⠏ \u001b[?25h\u001b[?25l\u001b[2K\u001b[1Gtransferring model data ⠏ \u001b[?25h\u001b[?25l\u001b[2K\u001b[1Gtransferring model data ⠋ \u001b[?25h\u001b[?25l\u001b[2K\u001b[1Gtransferring model data ⠹ \u001b[?25h\u001b[?25l\u001b[2K\u001b[1Gtransferring model data ⠸ \u001b[?25h\u001b[?25l\u001b[2K\u001b[1Gtransferring model data ⠼ \u001b[?25h\u001b[?25l\u001b[2K\u001b[1Gtransferring model data ⠴ \u001b[?25h\u001b[?25l\u001b[2K\u001b[1Gtransferring model data ⠴ \u001b[?25h\u001b[?25l\u001b[2K\u001b[1Gtransferring model data ⠦ \u001b[?25h\u001b[?25l\u001b[2K\u001b[1Gtransferring model data ⠇ \u001b[?25h\u001b[?25l\u001b[2K\u001b[1Gtransferring model data ⠏ \u001b[?25h\u001b[?25l\u001b[2K\u001b[1Gtransferring model data ⠋ \u001b[?25h\u001b[?25l\u001b[2K\u001b[1Gtransferring model data ⠙ \u001b[?25h\u001b[?25l\u001b[2K\u001b[1Gtransferring model data ⠙ \u001b[?25h\u001b[?25l\u001b[2K\u001b[1Gtransferring model data ⠸ \u001b[?25h\u001b[?25l\u001b[2K\u001b[1Gtransferring model data ⠼ \u001b[?25h\u001b[?25l\u001b[2K\u001b[1Gtransferring model data ⠴ \u001b[?25h\u001b[?25l\u001b[2K\u001b[1Gtransferring model data ⠴ \u001b[?25h\u001b[?25l\u001b[2K\u001b[1Gtransferring model data ⠦ \u001b[?25h\u001b[?25l\u001b[2K\u001b[1Gtransferring model data ⠇ \u001b[?25h\u001b[?25l\u001b[2K\u001b[1Gtransferring model data ⠏ \u001b[?25h\u001b[?25l\u001b[2K\u001b[1Gtransferring model data ⠋ \u001b[?25h\u001b[?25l\u001b[2K\u001b[1Gtransferring model data ⠙ \u001b[?25h\u001b[?25l\u001b[2K\u001b[1Gtransferring model data ⠙ \u001b[?25h\u001b[?25l\u001b[2K\u001b[1Gtransferring model data ⠸ \u001b[?25h\u001b[?25l\u001b[2K\u001b[1Gtransferring model data ⠼ \u001b[?25h\u001b[?25l\u001b[2K\u001b[1Gtransferring model data ⠴ \u001b[?25h\u001b[?25l\u001b[2K\u001b[1Gtransferring model data ⠦ \u001b[?25h\u001b[?25l\u001b[2K\u001b[1Gtransferring model data ⠦ \u001b[?25h\u001b[?25l\u001b[2K\u001b[1Gtransferring model data ⠧ \u001b[?25h\u001b[?25l\u001b[2K\u001b[1Gtransferring model data ⠏ \u001b[?25h\u001b[?25l\u001b[2K\u001b[1Gtransferring model data ⠋ \u001b[?25h\u001b[?25l\u001b[2K\u001b[1Gtransferring model data ⠙ \u001b[?25h\u001b[?25l\u001b[2K\u001b[1Gtransferring model data ⠙ \u001b[?25h\u001b[?25l\u001b[2K\u001b[1Gtransferring model data ⠹ \u001b[?25h\u001b[?25l\u001b[2K\u001b[1Gtransferring model data ⠼ \u001b[?25h\u001b[?25l\u001b[2K\u001b[1Gtransferring model data ⠴ \u001b[?25h\u001b[?25l\u001b[2K\u001b[1Gtransferring model data ⠦ \u001b[?25h\u001b[?25l\u001b[2K\u001b[1Gtransferring model data ⠧ \u001b[?25h\u001b[?25l\u001b[2K\u001b[1Gtransferring model data ⠧ \u001b[?25h\u001b[?25l\u001b[2K\u001b[1Gtransferring model data ⠏ \u001b[?25h\u001b[?25l\u001b[2K\u001b[1Gtransferring model data ⠋ \u001b[?25h\u001b[?25l\u001b[2K\u001b[1Gtransferring model data ⠙ \u001b[?25h\u001b[?25l\u001b[2K\u001b[1Gtransferring model data ⠹ \u001b[?25h\u001b[?25l\u001b[2K\u001b[1Gtransferring model data ⠹ \u001b[?25h\u001b[?25l\u001b[2K\u001b[1Gtransferring model data ⠸ \u001b[?25h\u001b[?25l\u001b[2K\u001b[1Gtransferring model data ⠴ \u001b[?25h\u001b[?25l\u001b[2K\u001b[1Gtransferring model data ⠦ \u001b[?25h\u001b[?25l\u001b[2K\u001b[1Gtransferring model data ⠧ \u001b[?25h\u001b[?25l\u001b[2K\u001b[1Gtransferring model data ⠧ \u001b[?25h\u001b[?25l\u001b[2K\u001b[1Gtransferring model data ⠇ \u001b[?25h\u001b[?25l\u001b[2K\u001b[1Gtransferring model data ⠋ \u001b[?25h\u001b[?25l\u001b[2K\u001b[1Gtransferring model data ⠙ \u001b[?25h\u001b[?25l\u001b[2K\u001b[1Gtransferring model data ⠹ \u001b[?25h\u001b[?25l\u001b[2K\u001b[1Gtransferring model data ⠹ \u001b[?25h\u001b[?25l\u001b[2K\u001b[1Gtransferring model data ⠸ \u001b[?25h\u001b[?25l\u001b[2K\u001b[1Gtransferring model data ⠴ \u001b[?25h\u001b[?25l\u001b[2K\u001b[1Gtransferring model data ⠦ \u001b[?25h\u001b[?25l\u001b[2K\u001b[1Gtransferring model data ⠧ \u001b[?25h\u001b[?25l\u001b[2K\u001b[1Gtransferring model data ⠧ \u001b[?25h\u001b[?25l\u001b[2K\u001b[1Gtransferring model data ⠇ \u001b[?25h\u001b[?25l\u001b[2K\u001b[1Gtransferring model data ⠋ \u001b[?25h\u001b[?25l\u001b[2K\u001b[1Gtransferring model data ⠙ \u001b[?25h\u001b[?25l\u001b[2K\u001b[1Gtransferring model data ⠹ \u001b[?25h\u001b[?25l\u001b[2K\u001b[1Gtransferring model data ⠹ \u001b[?25h\u001b[?25l\u001b[2K\u001b[1Gtransferring model data ⠸ \u001b[?25h\u001b[?25l\u001b[2K\u001b[1Gtransferring model data ⠴ \u001b[?25h\u001b[?25l\u001b[2K\u001b[1Gtransferring model data ⠦ \u001b[?25h\u001b[?25l\u001b[2K\u001b[1Gtransferring model data ⠧ \u001b[?25h\u001b[?25l\u001b[2K\u001b[1Gtransferring model data ⠧ \u001b[?25h\u001b[?25l\u001b[2K\u001b[1Gtransferring model data ⠇ \u001b[?25h\u001b[?25l\u001b[2K\u001b[1Gtransferring model data ⠋ \u001b[?25h\u001b[?25l\u001b[2K\u001b[1Gtransferring model data ⠙ \u001b[?25h\u001b[?25l\u001b[2K\u001b[1Gtransferring model data ⠹ \u001b[?25h\u001b[?25l\u001b[2K\u001b[1Gtransferring model data ⠹ \u001b[?25h\u001b[?25l\u001b[2K\u001b[1Gtransferring model data ⠸ \u001b[?25h\u001b[?25l\u001b[2K\u001b[1Gtransferring model data ⠴ \u001b[?25h\u001b[?25l\u001b[2K\u001b[1Gtransferring model data ⠦ \u001b[?25h\u001b[?25l\u001b[2K\u001b[1Gtransferring model data ⠧ \u001b[?25h\u001b[?25l\u001b[2K\u001b[1Gtransferring model data ⠧ \u001b[?25h\u001b[?25l\u001b[2K\u001b[1Gtransferring model data ⠇ \u001b[?25h\u001b[?25l\u001b[2K\u001b[1Gtransferring model data ⠋ \u001b[?25h\u001b[?25l\u001b[2K\u001b[1Gtransferring model data ⠙ \u001b[?25h\u001b[?25l\u001b[2K\u001b[1Gtransferring model data ⠹ \u001b[?25h\u001b[?25l\u001b[2K\u001b[1Gtransferring model data ⠸ \u001b[?25h\u001b[?25l\u001b[2K\u001b[1Gtransferring model data ⠸ \u001b[?25h\u001b[?25l\u001b[2K\u001b[1Gtransferring model data ⠴ \u001b[?25h\u001b[?25l\u001b[2K\u001b[1Gtransferring model data ⠦ \u001b[?25h\u001b[?25l\u001b[2K\u001b[1Gtransferring model data ⠧ \u001b[?25h\u001b[?25l\u001b[2K\u001b[1Gtransferring model data ⠧ \u001b[?25h\u001b[?25l\u001b[2K\u001b[1Gtransferring model data ⠏ \u001b[?25h\u001b[?25l\u001b[2K\u001b[1Gtransferring model data ⠏ \u001b[?25h\u001b[?25l\u001b[2K\u001b[1Gtransferring model data ⠙ \u001b[?25h\u001b[?25l\u001b[2K\u001b[1Gtransferring model data ⠹ \u001b[?25h\u001b[?25l\u001b[2K\u001b[1Gtransferring model data ⠸ \u001b[?25h\u001b[?25l\u001b[2K\u001b[1Gtransferring model data ⠼ \u001b[?25h\u001b[?25l\u001b[2K\u001b[1Gtransferring model data ⠼ \u001b[?25h\u001b[?25l\u001b[2K\u001b[1Gtransferring model data ⠴ \u001b[?25h[GIN] 2024/11/29 - 15:06:23 | 200 |     430.444µs |       127.0.0.1 | POST     \"/api/blobs/sha256:02476fdaf53f0f872a270ad4344a91a16bcbcbf0fc33fc19950508636061232b\"\n",
      "\u001b[?25l\u001b[2K\u001b[1Gtransferring model data 100% ⠧ \u001b[?25h\u001b[?25l\u001b[2K\u001b[1Gtransferring model data 100% ⠇ \u001b[?25h[GIN] 2024/11/29 - 15:06:23 | 200 |  214.061765ms |       127.0.0.1 | POST     \"/api/create\"\n",
      "\u001b[?25l\u001b[2K\u001b[1Gtransferring model data 100% \n",
      "using existing layer sha256:02476fdaf53f0f872a270ad4344a91a16bcbcbf0fc33fc19950508636061232b \n",
      "using existing layer sha256:04d026634f69c6932cb0a956c463170ae623a279696e3df93c7a91b82dc9cd61 \n",
      "writing manifest \n",
      "success \u001b[?25h\n"
     ]
    }
   ],
   "source": [
    "!./bin/bin/ollama create ft_mistral -f ./ft_mistral/Modelfile\n"
   ]
  },
  {
   "cell_type": "code",
   "execution_count": 11,
   "metadata": {
    "id": "kfRewslSK-eG"
   },
   "outputs": [
    {
     "name": "stdout",
     "output_type": "stream",
     "text": [
      "Defaulting to user installation because normal site-packages is not writeable\n",
      "Requirement already satisfied: langchain-ollama in /home/hice1/mmahendran7/.local/lib/python3.10/site-packages (0.2.0)\n",
      "Requirement already satisfied: langchain-core<0.4.0,>=0.3.0 in /home/hice1/mmahendran7/.local/lib/python3.10/site-packages (from langchain-ollama) (0.3.21)\n",
      "Requirement already satisfied: ollama<1,>=0.3.0 in /home/hice1/mmahendran7/.local/lib/python3.10/site-packages (from langchain-ollama) (0.4.1)\n",
      "Requirement already satisfied: jsonpatch<2.0,>=1.33 in /home/hice1/mmahendran7/.local/lib/python3.10/site-packages (from langchain-core<0.4.0,>=0.3.0->langchain-ollama) (1.33)\n",
      "Requirement already satisfied: langsmith<0.2.0,>=0.1.125 in /home/hice1/mmahendran7/.local/lib/python3.10/site-packages (from langchain-core<0.4.0,>=0.3.0->langchain-ollama) (0.1.147)\n",
      "Requirement already satisfied: typing-extensions>=4.7 in /home/hice1/mmahendran7/.local/lib/python3.10/site-packages (from langchain-core<0.4.0,>=0.3.0->langchain-ollama) (4.12.2)\n",
      "Requirement already satisfied: pydantic<3.0.0,>=2.5.2 in /home/hice1/mmahendran7/.local/lib/python3.10/site-packages (from langchain-core<0.4.0,>=0.3.0->langchain-ollama) (2.10.2)\n",
      "Requirement already satisfied: PyYAML>=5.3 in /storage/pace-apps/manual/packages/anaconda3/2023.03/lib/python3.10/site-packages (from langchain-core<0.4.0,>=0.3.0->langchain-ollama) (6.0)\n",
      "Requirement already satisfied: tenacity!=8.4.0,<10.0.0,>=8.1.0 in /home/hice1/mmahendran7/.local/lib/python3.10/site-packages (from langchain-core<0.4.0,>=0.3.0->langchain-ollama) (9.0.0)\n",
      "Requirement already satisfied: packaging<25,>=23.2 in /home/hice1/mmahendran7/.local/lib/python3.10/site-packages (from langchain-core<0.4.0,>=0.3.0->langchain-ollama) (24.2)\n",
      "Requirement already satisfied: httpx<0.28.0,>=0.27.0 in /home/hice1/mmahendran7/.local/lib/python3.10/site-packages (from ollama<1,>=0.3.0->langchain-ollama) (0.27.2)\n",
      "Requirement already satisfied: sniffio in /storage/pace-apps/manual/packages/anaconda3/2023.03/lib/python3.10/site-packages (from httpx<0.28.0,>=0.27.0->ollama<1,>=0.3.0->langchain-ollama) (1.2.0)\n",
      "Requirement already satisfied: idna in /storage/pace-apps/manual/packages/anaconda3/2023.03/lib/python3.10/site-packages (from httpx<0.28.0,>=0.27.0->ollama<1,>=0.3.0->langchain-ollama) (3.4)\n",
      "Requirement already satisfied: httpcore==1.* in /home/hice1/mmahendran7/.local/lib/python3.10/site-packages (from httpx<0.28.0,>=0.27.0->ollama<1,>=0.3.0->langchain-ollama) (1.0.7)\n",
      "Requirement already satisfied: anyio in /storage/pace-apps/manual/packages/anaconda3/2023.03/lib/python3.10/site-packages (from httpx<0.28.0,>=0.27.0->ollama<1,>=0.3.0->langchain-ollama) (3.5.0)\n",
      "Requirement already satisfied: certifi in /storage/pace-apps/manual/packages/anaconda3/2023.03/lib/python3.10/site-packages (from httpx<0.28.0,>=0.27.0->ollama<1,>=0.3.0->langchain-ollama) (2024.2.2)\n",
      "Requirement already satisfied: h11<0.15,>=0.13 in /home/hice1/mmahendran7/.local/lib/python3.10/site-packages (from httpcore==1.*->httpx<0.28.0,>=0.27.0->ollama<1,>=0.3.0->langchain-ollama) (0.14.0)\n",
      "Requirement already satisfied: jsonpointer>=1.9 in /storage/pace-apps/manual/packages/anaconda3/2023.03/lib/python3.10/site-packages (from jsonpatch<2.0,>=1.33->langchain-core<0.4.0,>=0.3.0->langchain-ollama) (2.1)\n",
      "Requirement already satisfied: requests-toolbelt<2.0.0,>=1.0.0 in /home/hice1/mmahendran7/.local/lib/python3.10/site-packages (from langsmith<0.2.0,>=0.1.125->langchain-core<0.4.0,>=0.3.0->langchain-ollama) (1.0.0)\n",
      "Requirement already satisfied: orjson<4.0.0,>=3.9.14 in /home/hice1/mmahendran7/.local/lib/python3.10/site-packages (from langsmith<0.2.0,>=0.1.125->langchain-core<0.4.0,>=0.3.0->langchain-ollama) (3.10.12)\n",
      "Requirement already satisfied: requests<3,>=2 in /home/hice1/mmahendran7/.local/lib/python3.10/site-packages (from langsmith<0.2.0,>=0.1.125->langchain-core<0.4.0,>=0.3.0->langchain-ollama) (2.32.3)\n",
      "Requirement already satisfied: annotated-types>=0.6.0 in /home/hice1/mmahendran7/.local/lib/python3.10/site-packages (from pydantic<3.0.0,>=2.5.2->langchain-core<0.4.0,>=0.3.0->langchain-ollama) (0.7.0)\n",
      "Requirement already satisfied: pydantic-core==2.27.1 in /home/hice1/mmahendran7/.local/lib/python3.10/site-packages (from pydantic<3.0.0,>=2.5.2->langchain-core<0.4.0,>=0.3.0->langchain-ollama) (2.27.1)\n",
      "Requirement already satisfied: urllib3<3,>=1.21.1 in /storage/pace-apps/manual/packages/anaconda3/2023.03/lib/python3.10/site-packages (from requests<3,>=2->langsmith<0.2.0,>=0.1.125->langchain-core<0.4.0,>=0.3.0->langchain-ollama) (1.26.15)\n",
      "Requirement already satisfied: charset-normalizer<4,>=2 in /storage/pace-apps/manual/packages/anaconda3/2023.03/lib/python3.10/site-packages (from requests<3,>=2->langsmith<0.2.0,>=0.1.125->langchain-core<0.4.0,>=0.3.0->langchain-ollama) (2.0.4)\n"
     ]
    }
   ],
   "source": [
    "# Start running inference using eval dataset\n",
    "# %%capture\n",
    "!pip install -U langchain-ollama"
   ]
  },
  {
   "cell_type": "code",
   "execution_count": 29,
   "metadata": {
    "id": "mG7PtX8TLCHN"
   },
   "outputs": [],
   "source": [
    "prompt_template = \"\"\"\n",
    "You are an expert financial analyst tasked with providing clear and accurate insights based on a company's financial history, derived from SEC filings you have been trained on. Your goal is to generate precise, data-driven responses to financial queries in a professional tone.\n",
    "\n",
    "Your response must:\n",
    "1. Be concise and well-structured, limited to 500 words.\n",
    "2. Focus only on the financial insights directly relevant to the question.\n",
    "3. Avoid adding any unnecessary context, disclaimers, or formatting such as markdown.\n",
    "4. Exclude speculation or personal opinions—only rely on the provided data.\n",
    "5. Do not repeat yourself in your responses. Do not give the same line of text more than once.\n",
    "\n",
    "Here is an example, the question and company will be given to you, and you have to generate a response:\n",
    "\n",
    "### Question: What do AAPL's earnings reports say about its growth potential?\n",
    "\n",
    "### Company: Apple Inc.\n",
    "\n",
    "### Response:\n",
    "Apple Inc. has demonstrated robust growth potential. Its earnings reports highlight consistent revenue growth exceeding 2% annually, driven by strong product demand and effective cost management.\n",
    "\n",
    "Here is your actual question and company it relates to:\n",
    "### Question: \n",
    "{}\n",
    "\n",
    "### Company: \n",
    "{}\n",
    "\n",
    "### Response: \n",
    "\"\"\""
   ]
  },
  {
   "cell_type": "code",
   "execution_count": 13,
   "metadata": {
    "id": "6Rm-Wq4hLELm"
   },
   "outputs": [],
   "source": [
    "# from langchain_core.prompts import ChatPromptTemplate\n",
    "# from langchain_ollama.llms import OllamaLLM\n",
    "# from tqdm import tqdm\n",
    "# import pandas as pd\n",
    "\n",
    "# prompt = ChatPromptTemplate.from_template(prompt_template)\n",
    "\n",
    "# model = OllamaLLM(model=\"ft_model_mistral\")\n",
    "\n",
    "# chain = prompt | model\n",
    "\n",
    "# eval_dataset = pd.read_csv('evaluation_dataset.csv')\n",
    "\n",
    "# idno = 0\n",
    "# answers = []\n",
    "\n",
    "# for question in tqdm(eval_dataset[\"Question\"]):\n",
    "#   output = chain.invoke({'query': question})\n",
    "#   answers.append({\n",
    "#       \"no\": idno,\n",
    "#       \"question\":question,\n",
    "#       \"answer\": output\n",
    "#   })\n",
    "#   idno += 1\n",
    "\n",
    "# final = pd.DataFrame(answers)\n",
    "# final.to_csv(\"mistral-7b-ft-output.csv\", index=False)"
   ]
  },
  {
   "cell_type": "code",
   "execution_count": null,
   "metadata": {},
   "outputs": [
    {
     "name": "stderr",
     "output_type": "stream",
     "text": [
      "  0%|          | 0/121 [00:00<?, ?it/s]"
     ]
    },
    {
     "name": "stdout",
     "output_type": "stream",
     "text": [
      "Processing batch 1\n",
      "Questions: [\"What is Meta's current dividend policy and how does it affect investors looking for dividends?\", \"DEXCOM INC's 2020 annual report mentions a number of risks and uncertainties that could affect the company's business. What are some of the most significant risks that DEXCOM INC faces in the near future?\", \"DEXCOM INC is a medical device company that focuses on continuous glucose monitoring systems. Based on the information provided, what are some of the biggest risks that could affect the company's future financial performance?\", 'DEXCOM INC is a medical device company that focuses on continuous glucose monitoring systems. What are some of the risks associated with their business?', \"Given the information provided, what is the company's outlook on its financial performance in the coming year?\", \"Given T-Mobile's financial history, what are some of the main risks associated with the company's debt levels?\", 'ON Semiconductor has experienced a decrease in revenue in 2023 compared to 2022. What are the main factors contributing to this decrease?', \"ON Semiconductor's revenue decreased slightly in 2023 compared to 2022. What are the main factors that contributed to this decrease?\", \"ON Semiconductor's revenue decreased slightly in 2023 compared to 2022. What are the primary reasons for this decrease?\", \"Honeywell's 2019 annual report mentions several risks that could impact its future performance. What are some of the most significant risks Honeywell faces, and how might they impact its financial results?\"]\n"
     ]
    },
    {
     "name": "stderr",
     "output_type": "stream",
     "text": [
      "time=2024-11-28T19:47:27.686-05:00 level=INFO source=sched.go:714 msg=\"new model will fit in available VRAM in single GPU, loading\" model=/home/hice1/mmahendran7/.ollama/models/blobs/sha256-3dd6bd2319a494b752856015b58dd5ea62b9bc197ca0420fdc00c8c9936b7521 gpu=GPU-14697b4a-1ecb-a9db-7a0f-715e67b5e23c parallel=4 available=78165377024 required=\"9.3 GiB\"\n",
      "time=2024-11-28T19:47:27.973-05:00 level=INFO source=server.go:105 msg=\"system memory\" total=\"2015.0 GiB\" free=\"1940.8 GiB\" free_swap=\"8.0 GiB\"\n",
      "time=2024-11-28T19:47:27.973-05:00 level=INFO source=memory.go:343 msg=\"offload to cuda\" layers.requested=-1 layers.model=33 layers.offload=33 layers.split=\"\" memory.available=\"[72.8 GiB]\" memory.gpu_overhead=\"0 B\" memory.required.full=\"9.3 GiB\" memory.required.partial=\"9.3 GiB\" memory.required.kv=\"1.0 GiB\" memory.required.allocations=\"[9.3 GiB]\" memory.weights.total=\"7.9 GiB\" memory.weights.repeating=\"7.8 GiB\" memory.weights.nonrepeating=\"136.0 MiB\" memory.graph.full=\"560.0 MiB\" memory.graph.partial=\"585.0 MiB\"\n",
      "time=2024-11-28T19:47:27.976-05:00 level=INFO source=server.go:380 msg=\"starting llama server\" cmd=\"/scratch/991158/ollama2405207891/runners/cuda_v12/ollama_llama_server --model /home/hice1/mmahendran7/.ollama/models/blobs/sha256-3dd6bd2319a494b752856015b58dd5ea62b9bc197ca0420fdc00c8c9936b7521 --ctx-size 8192 --batch-size 512 --n-gpu-layers 33 --threads 64 --parallel 4 --port 36847\"\n",
      "time=2024-11-28T19:47:27.978-05:00 level=INFO source=sched.go:449 msg=\"loaded runners\" count=1\n",
      "time=2024-11-28T19:47:27.978-05:00 level=INFO source=server.go:559 msg=\"waiting for llama runner to start responding\"\n",
      "time=2024-11-28T19:47:27.978-05:00 level=INFO source=server.go:593 msg=\"waiting for server to become available\" status=\"llm server error\"\n",
      "time=2024-11-28T19:47:28.078-05:00 level=INFO source=runner.go:939 msg=\"starting go runner\"\n",
      "time=2024-11-28T19:47:28.078-05:00 level=INFO source=runner.go:940 msg=system info=\"AVX = 1 | AVX_VNNI = 0 | AVX2 = 0 | AVX512 = 0 | AVX512_VBMI = 0 | AVX512_VNNI = 0 | AVX512_BF16 = 0 | FMA = 0 | NEON = 0 | SVE = 0 | ARM_FMA = 0 | F16C = 0 | FP16_VA = 0 | RISCV_VECT = 0 | WASM_SIMD = 0 | BLAS = 1 | SSE3 = 1 | SSSE3 = 1 | VSX = 0 | MATMUL_INT8 = 0 | LLAMAFILE = 1 | cgo(gcc)\" threads=64\n",
      "time=2024-11-28T19:47:28.078-05:00 level=INFO source=.:0 msg=\"Server listening on 127.0.0.1:36847\"\n",
      "llama_model_loader: loaded meta data with 35 key-value pairs and 291 tensors from /home/hice1/mmahendran7/.ollama/models/blobs/sha256-3dd6bd2319a494b752856015b58dd5ea62b9bc197ca0420fdc00c8c9936b7521 (version GGUF V3 (latest))\n",
      "llama_model_loader: Dumping metadata keys/values. Note: KV overrides do not apply in this output.\n",
      "llama_model_loader: - kv   0:                       general.architecture str              = llama\n",
      "llama_model_loader: - kv   1:                               general.type str              = model\n",
      "llama_model_loader: - kv   2:                               general.name str              = Mistral 7b Instruct v0.3 Bnb 4bit\n",
      "llama_model_loader: - kv   3:                            general.version str              = v0.3\n",
      "llama_model_loader: - kv   4:                       general.organization str              = Unsloth\n",
      "llama_model_loader: - kv   5:                           general.finetune str              = instruct-bnb-4bit\n",
      "llama_model_loader: - kv   6:                           general.basename str              = mistral\n",
      "llama_model_loader: - kv   7:                         general.size_label str              = 7B\n",
      "llama_model_loader: - kv   8:                          llama.block_count u32              = 32\n",
      "llama_model_loader: - kv   9:                       llama.context_length u32              = 32768\n",
      "llama_model_loader: - kv  10:                     llama.embedding_length u32              = 4096\n",
      "llama_model_loader: - kv  11:                  llama.feed_forward_length u32              = 14336\n",
      "llama_model_loader: - kv  12:                 llama.attention.head_count u32              = 32\n",
      "llama_model_loader: - kv  13:              llama.attention.head_count_kv u32              = 8\n",
      "llama_model_loader: - kv  14:                       llama.rope.freq_base f32              = 1000000.000000\n",
      "llama_model_loader: - kv  15:     llama.attention.layer_norm_rms_epsilon f32              = 0.000010\n",
      "llama_model_loader: - kv  16:                 llama.attention.key_length u32              = 128\n",
      "llama_model_loader: - kv  17:               llama.attention.value_length u32              = 128\n",
      "llama_model_loader: - kv  18:                          general.file_type u32              = 7\n",
      "llama_model_loader: - kv  19:                           llama.vocab_size u32              = 32768\n",
      "llama_model_loader: - kv  20:                 llama.rope.dimension_count u32              = 128\n",
      "llama_model_loader: - kv  21:                       tokenizer.ggml.model str              = llama\n",
      "llama_model_loader: - kv  22:                         tokenizer.ggml.pre str              = default\n",
      "llama_model_loader: - kv  23:                      tokenizer.ggml.tokens arr[str,32768]   = [\"<unk>\", \"<s>\", \"</s>\", \"[INST]\", \"[...\n",
      "llama_model_loader: - kv  24:                      tokenizer.ggml.scores arr[f32,32768]   = [-1000.000000, -1000.000000, -1000.00...\n",
      "llama_model_loader: - kv  25:                  tokenizer.ggml.token_type arr[i32,32768]   = [3, 3, 3, 3, 3, 3, 3, 3, 3, 3, 3, 3, ...\n",
      "llama_model_loader: - kv  26:                tokenizer.ggml.bos_token_id u32              = 1\n",
      "llama_model_loader: - kv  27:                tokenizer.ggml.eos_token_id u32              = 2\n",
      "llama_model_loader: - kv  28:            tokenizer.ggml.unknown_token_id u32              = 0\n",
      "llama_model_loader: - kv  29:            tokenizer.ggml.padding_token_id u32              = 770\n",
      "llama_model_loader: - kv  30:               tokenizer.ggml.add_bos_token bool             = true\n",
      "llama_model_loader: - kv  31:               tokenizer.ggml.add_eos_token bool             = false\n",
      "llama_model_loader: - kv  32:                    tokenizer.chat_template str              = {%- if messages[0][\"role\"] == \"system...\n",
      "llama_model_loader: - kv  33:            tokenizer.ggml.add_space_prefix bool             = true\n",
      "llama_model_loader: - kv  34:               general.quantization_version u32              = 2\n",
      "llama_model_loader: - type  f32:   65 tensors\n",
      "llama_model_loader: - type q8_0:  226 tensors\n",
      "llm_load_vocab: special_eos_id is not in special_eog_ids - the tokenizer config may be incorrect\n",
      "llm_load_vocab: special tokens cache size = 771\n",
      "llm_load_vocab: token to piece cache size = 0.1731 MB\n",
      "llm_load_print_meta: format           = GGUF V3 (latest)\n",
      "llm_load_print_meta: arch             = llama\n",
      "llm_load_print_meta: vocab type       = SPM\n",
      "llm_load_print_meta: n_vocab          = 32768\n",
      "llm_load_print_meta: n_merges         = 0\n",
      "llm_load_print_meta: vocab_only       = 0\n",
      "llm_load_print_meta: n_ctx_train      = 32768\n",
      "llm_load_print_meta: n_embd           = 4096\n",
      "llm_load_print_meta: n_layer          = 32\n",
      "llm_load_print_meta: n_head           = 32\n",
      "llm_load_print_meta: n_head_kv        = 8\n",
      "llm_load_print_meta: n_rot            = 128\n",
      "llm_load_print_meta: n_swa            = 0\n",
      "llm_load_print_meta: n_embd_head_k    = 128\n",
      "llm_load_print_meta: n_embd_head_v    = 128\n",
      "llm_load_print_meta: n_gqa            = 4\n",
      "llm_load_print_meta: n_embd_k_gqa     = 1024\n",
      "llm_load_print_meta: n_embd_v_gqa     = 1024\n",
      "llm_load_print_meta: f_norm_eps       = 0.0e+00\n",
      "llm_load_print_meta: f_norm_rms_eps   = 1.0e-05\n",
      "llm_load_print_meta: f_clamp_kqv      = 0.0e+00\n",
      "llm_load_print_meta: f_max_alibi_bias = 0.0e+00\n",
      "llm_load_print_meta: f_logit_scale    = 0.0e+00\n",
      "llm_load_print_meta: n_ff             = 14336\n",
      "llm_load_print_meta: n_expert         = 0\n",
      "llm_load_print_meta: n_expert_used    = 0\n",
      "llm_load_print_meta: causal attn      = 1\n",
      "llm_load_print_meta: pooling type     = 0\n",
      "llm_load_print_meta: rope type        = 0\n",
      "llm_load_print_meta: rope scaling     = linear\n",
      "llm_load_print_meta: freq_base_train  = 1000000.0\n",
      "llm_load_print_meta: freq_scale_train = 1\n",
      "llm_load_print_meta: n_ctx_orig_yarn  = 32768\n",
      "llm_load_print_meta: rope_finetuned   = unknown\n",
      "llm_load_print_meta: ssm_d_conv       = 0\n",
      "llm_load_print_meta: ssm_d_inner      = 0\n",
      "llm_load_print_meta: ssm_d_state      = 0\n",
      "llm_load_print_meta: ssm_dt_rank      = 0\n",
      "llm_load_print_meta: ssm_dt_b_c_rms   = 0\n",
      "llm_load_print_meta: model type       = 7B\n",
      "llm_load_print_meta: model ftype      = Q8_0\n",
      "llm_load_print_meta: model params     = 7.25 B\n",
      "llm_load_print_meta: model size       = 7.17 GiB (8.50 BPW) \n",
      "llm_load_print_meta: general.name     = Mistral 7b Instruct v0.3 Bnb 4bit\n",
      "llm_load_print_meta: BOS token        = 1 '<s>'\n",
      "llm_load_print_meta: EOS token        = 2 '</s>'\n",
      "llm_load_print_meta: UNK token        = 0 '<unk>'\n",
      "llm_load_print_meta: PAD token        = 770 '[control_768]'\n",
      "llm_load_print_meta: LF token         = 781 '<0x0A>'\n",
      "llm_load_print_meta: EOG token        = 2 '</s>'\n",
      "llm_load_print_meta: max token length = 48\n",
      "ggml_cuda_init: GGML_CUDA_FORCE_MMQ:    no\n",
      "ggml_cuda_init: GGML_CUDA_FORCE_CUBLAS: no\n",
      "ggml_cuda_init: found 1 CUDA devices:\n",
      "  Device 0: NVIDIA H100 80GB HBM3, compute capability 9.0, VMM: yes\n",
      "time=2024-11-28T19:47:28.229-05:00 level=INFO source=server.go:593 msg=\"waiting for server to become available\" status=\"llm server loading model\"\n",
      "llm_load_tensors: ggml ctx size =    0.27 MiB\n",
      "llm_load_tensors: offloading 32 repeating layers to GPU\n",
      "llm_load_tensors: offloading non-repeating layers to GPU\n",
      "llm_load_tensors: offloaded 33/33 layers to GPU\n",
      "llm_load_tensors:        CPU buffer size =   136.00 MiB\n",
      "llm_load_tensors:      CUDA0 buffer size =  7209.02 MiB\n",
      "llama_new_context_with_model: n_ctx      = 8192\n",
      "llama_new_context_with_model: n_batch    = 2048\n",
      "llama_new_context_with_model: n_ubatch   = 512\n",
      "llama_new_context_with_model: flash_attn = 0\n",
      "llama_new_context_with_model: freq_base  = 1000000.0\n",
      "llama_new_context_with_model: freq_scale = 1\n",
      "llama_kv_cache_init:      CUDA0 KV buffer size =  1024.00 MiB\n",
      "llama_new_context_with_model: KV self size  = 1024.00 MiB, K (f16):  512.00 MiB, V (f16):  512.00 MiB\n",
      "llama_new_context_with_model:  CUDA_Host  output buffer size =     0.56 MiB\n",
      "llama_new_context_with_model:      CUDA0 compute buffer size =   560.00 MiB\n",
      "llama_new_context_with_model:  CUDA_Host compute buffer size =    24.01 MiB\n",
      "llama_new_context_with_model: graph nodes  = 1030\n",
      "llama_new_context_with_model: graph splits = 2\n",
      "time=2024-11-28T19:47:29.986-05:00 level=INFO source=server.go:598 msg=\"llama runner started in 2.01 seconds\"\n",
      "llama_model_loader: loaded meta data with 35 key-value pairs and 291 tensors from /home/hice1/mmahendran7/.ollama/models/blobs/sha256-3dd6bd2319a494b752856015b58dd5ea62b9bc197ca0420fdc00c8c9936b7521 (version GGUF V3 (latest))\n",
      "llama_model_loader: Dumping metadata keys/values. Note: KV overrides do not apply in this output.\n",
      "llama_model_loader: - kv   0:                       general.architecture str              = llama\n",
      "llama_model_loader: - kv   1:                               general.type str              = model\n",
      "llama_model_loader: - kv   2:                               general.name str              = Mistral 7b Instruct v0.3 Bnb 4bit\n",
      "llama_model_loader: - kv   3:                            general.version str              = v0.3\n",
      "llama_model_loader: - kv   4:                       general.organization str              = Unsloth\n",
      "llama_model_loader: - kv   5:                           general.finetune str              = instruct-bnb-4bit\n",
      "llama_model_loader: - kv   6:                           general.basename str              = mistral\n",
      "llama_model_loader: - kv   7:                         general.size_label str              = 7B\n",
      "llama_model_loader: - kv   8:                          llama.block_count u32              = 32\n",
      "llama_model_loader: - kv   9:                       llama.context_length u32              = 32768\n",
      "llama_model_loader: - kv  10:                     llama.embedding_length u32              = 4096\n",
      "llama_model_loader: - kv  11:                  llama.feed_forward_length u32              = 14336\n",
      "llama_model_loader: - kv  12:                 llama.attention.head_count u32              = 32\n",
      "llama_model_loader: - kv  13:              llama.attention.head_count_kv u32              = 8\n",
      "llama_model_loader: - kv  14:                       llama.rope.freq_base f32              = 1000000.000000\n",
      "llama_model_loader: - kv  15:     llama.attention.layer_norm_rms_epsilon f32              = 0.000010\n",
      "llama_model_loader: - kv  16:                 llama.attention.key_length u32              = 128\n",
      "llama_model_loader: - kv  17:               llama.attention.value_length u32              = 128\n",
      "llama_model_loader: - kv  18:                          general.file_type u32              = 7\n",
      "llama_model_loader: - kv  19:                           llama.vocab_size u32              = 32768\n",
      "llama_model_loader: - kv  20:                 llama.rope.dimension_count u32              = 128\n",
      "llama_model_loader: - kv  21:                       tokenizer.ggml.model str              = llama\n",
      "llama_model_loader: - kv  22:                         tokenizer.ggml.pre str              = default\n",
      "llama_model_loader: - kv  23:                      tokenizer.ggml.tokens arr[str,32768]   = [\"<unk>\", \"<s>\", \"</s>\", \"[INST]\", \"[...\n",
      "llama_model_loader: - kv  24:                      tokenizer.ggml.scores arr[f32,32768]   = [-1000.000000, -1000.000000, -1000.00...\n",
      "llama_model_loader: - kv  25:                  tokenizer.ggml.token_type arr[i32,32768]   = [3, 3, 3, 3, 3, 3, 3, 3, 3, 3, 3, 3, ...\n",
      "llama_model_loader: - kv  26:                tokenizer.ggml.bos_token_id u32              = 1\n",
      "llama_model_loader: - kv  27:                tokenizer.ggml.eos_token_id u32              = 2\n",
      "llama_model_loader: - kv  28:            tokenizer.ggml.unknown_token_id u32              = 0\n",
      "llama_model_loader: - kv  29:            tokenizer.ggml.padding_token_id u32              = 770\n",
      "llama_model_loader: - kv  30:               tokenizer.ggml.add_bos_token bool             = true\n",
      "llama_model_loader: - kv  31:               tokenizer.ggml.add_eos_token bool             = false\n",
      "llama_model_loader: - kv  32:                    tokenizer.chat_template str              = {%- if messages[0][\"role\"] == \"system...\n",
      "llama_model_loader: - kv  33:            tokenizer.ggml.add_space_prefix bool             = true\n",
      "llama_model_loader: - kv  34:               general.quantization_version u32              = 2\n",
      "llama_model_loader: - type  f32:   65 tensors\n",
      "llama_model_loader: - type q8_0:  226 tensors\n",
      "llm_load_vocab: special_eos_id is not in special_eog_ids - the tokenizer config may be incorrect\n",
      "llm_load_vocab: special tokens cache size = 771\n",
      "llm_load_vocab: token to piece cache size = 0.1731 MB\n",
      "llm_load_print_meta: format           = GGUF V3 (latest)\n",
      "llm_load_print_meta: arch             = llama\n",
      "llm_load_print_meta: vocab type       = SPM\n",
      "llm_load_print_meta: n_vocab          = 32768\n",
      "llm_load_print_meta: n_merges         = 0\n",
      "llm_load_print_meta: vocab_only       = 1\n",
      "llm_load_print_meta: model type       = ?B\n",
      "llm_load_print_meta: model ftype      = all F32\n",
      "llm_load_print_meta: model params     = 7.25 B\n",
      "llm_load_print_meta: model size       = 7.17 GiB (8.50 BPW) \n",
      "llm_load_print_meta: general.name     = Mistral 7b Instruct v0.3 Bnb 4bit\n",
      "llm_load_print_meta: BOS token        = 1 '<s>'\n",
      "llm_load_print_meta: EOS token        = 2 '</s>'\n",
      "llm_load_print_meta: UNK token        = 0 '<unk>'\n",
      "llm_load_print_meta: PAD token        = 770 '[control_768]'\n",
      "llm_load_print_meta: LF token         = 781 '<0x0A>'\n",
      "llm_load_print_meta: EOG token        = 2 '</s>'\n",
      "llm_load_print_meta: max token length = 48\n",
      "llama_model_load: vocab only - skipping tensors\n"
     ]
    },
    {
     "name": "stdout",
     "output_type": "stream",
     "text": [
      "[GIN] 2024/11/28 - 19:47:30 | 200 |  3.431993993s |       127.0.0.1 | POST     \"/api/generate\"\n",
      "[GIN] 2024/11/28 - 19:47:32 | 200 |  1.521895196s |       127.0.0.1 | POST     \"/api/generate\"\n",
      "[GIN] 2024/11/28 - 19:47:34 | 200 |  2.406714643s |       127.0.0.1 | POST     \"/api/generate\"\n"
     ]
    }
   ],
   "source": [
    "import pandas as pd\n",
    "from tqdm import tqdm\n",
    "from langchain_core.prompts import ChatPromptTemplate\n",
    "from langchain_ollama.llms import OllamaLLM\n",
    "\n",
    "EOS_TOKEN = tokenizer.eos_token\n",
    "prompt = ChatPromptTemplate.from_template(prompt_template) + EOS_TOKEN\n",
    "model = OllamaLLM(model=\"ft_model_mistral\", max_tokens=500, stop=[EOS_TOKEN])\n",
    "chain = prompt | model\n",
    "\n",
    "eval_dataset = pd.read_csv('evaluation_dataset.csv')\n",
    "batch_size = 10\n",
    "checkpoint_interval = 200\n",
    "\n",
    "results = []\n",
    "\n",
    "\n",
    "\n",
    "for i in tqdm(range(0, len(eval_dataset), batch_size)):\n",
    "    batch = eval_dataset.iloc[i:i+batch_size]\n",
    "    questions = batch['Question'].tolist()        \n",
    "    companies = batch['Company'].tolist()  # Access company names\n",
    "\n",
    "    \n",
    "#     row = eval_dataset.iloc[i]\n",
    "#     question = row['Question']\n",
    "    \n",
    "#     output = chain.invoke({'query': question\n",
    "    print(f\"Processing batch {i//batch_size + 1}\")\n",
    "    print(f\"Questions: {questions}\")\n",
    "    \n",
    "    \n",
    "    queries = [\n",
    "        prompt_template.format(query=c+ \" \" + q).strip()\n",
    "        for q,c in zip(questions,companies)\n",
    "    ]\n",
    "\n",
    "#     queries = [\n",
    "#         prompt_template.format(query=q, company=c).strip()\n",
    "#         for q, c in zip(questions, companies)\n",
    "#     ]\n",
    "    \n",
    "    outputs = chain.batch([\n",
    "        {'query': query} for query in queries\n",
    "    ])\n",
    "\n",
    "    \n",
    "#     results.append({\n",
    "#         \"question_id\": row.name,\n",
    "#         \"company\": row['Company'],\n",
    "#         \"question\": question,\n",
    "#         \"ground_truth\": row['Answer'],\n",
    "#         \"model_output\": output\n",
    "#     })\n",
    "    \n",
    "#     if (i + 1) % checkpoint_interval == 0:\n",
    "#         pd.DataFrame(results).to_csv(f\"mistral-7b-ft-output_partial_{i+1}.csv\", index=False)\n",
    "    for j, output in enumerate(outputs):\n",
    "        print(f\"Question ID: {batch.index[j]}\")\n",
    "        print(f\"Question: {questions[j]}\")\n",
    "        print(f\"Model Output: {output.strip()}\")\n",
    "        results.append({\n",
    "            \"question_id\": batch.index[j],\n",
    "            \"company\": batch.iloc[j]['Company'],\n",
    "            \"question\": questions[j],\n",
    "            \"ground_truth\": batch.iloc[j]['Answer'],\n",
    "            \"model_output\": output.strip()\n",
    "        })\n",
    "\n",
    "    if (i + batch_size) % checkpoint_interval == 0 or (i + batch_size) >= len(eval_dataset):\n",
    "        pd.DataFrame(results).to_csv(f\"model_mistral-7b-ft-output_partial_{i+batch_size}.csv\", index=False)\n",
    "    \n",
    "\n",
    "final = pd.DataFrame(results)\n",
    "final.to_csv(\"model_mistral-7b-ft-output_final.csv\", index=False)"
   ]
  },
  {
   "cell_type": "code",
   "execution_count": 1,
   "metadata": {},
   "outputs": [
    {
     "ename": "NameError",
     "evalue": "name 'results' is not defined",
     "output_type": "error",
     "traceback": [
      "\u001b[0;31m---------------------------------------------------------------------------\u001b[0m",
      "\u001b[0;31mNameError\u001b[0m                                 Traceback (most recent call last)",
      "Cell \u001b[0;32mIn[1], line 1\u001b[0m\n\u001b[0;32m----> 1\u001b[0m \u001b[43mresults\u001b[49m\n",
      "\u001b[0;31mNameError\u001b[0m: name 'results' is not defined"
     ]
    }
   ],
   "source": [
    "results\n"
   ]
  },
  {
   "cell_type": "code",
   "execution_count": 32,
   "metadata": {},
   "outputs": [
    {
     "name": "stderr",
     "output_type": "stream",
     "text": [
      "  0%|          | 0/121 [00:00<?, ?it/s]"
     ]
    },
    {
     "name": "stdout",
     "output_type": "stream",
     "text": [
      "[GIN] 2024/11/29 - 15:10:03 | 200 |  1.209957183s |       127.0.0.1 | POST     \"/api/generate\"\n",
      "[GIN] 2024/11/29 - 15:10:07 | 200 |  4.181728544s |       127.0.0.1 | POST     \"/api/generate\"\n",
      "[GIN] 2024/11/29 - 15:10:12 | 200 |  4.382737858s |       127.0.0.1 | POST     \"/api/generate\"\n",
      "[GIN] 2024/11/29 - 15:10:17 | 200 |  5.211523156s |       127.0.0.1 | POST     \"/api/generate\"\n",
      "[GIN] 2024/11/29 - 15:10:19 | 200 |  2.040172362s |       127.0.0.1 | POST     \"/api/generate\"\n",
      "[GIN] 2024/11/29 - 15:10:22 | 200 |  3.463649052s |       127.0.0.1 | POST     \"/api/generate\"\n",
      "[GIN] 2024/11/29 - 15:10:24 | 200 |  2.215485752s |       127.0.0.1 | POST     \"/api/generate\"\n",
      "[GIN] 2024/11/29 - 15:10:27 | 200 |  2.954580152s |       127.0.0.1 | POST     \"/api/generate\"\n",
      "[GIN] 2024/11/29 - 15:10:29 | 200 |  1.074845904s |       127.0.0.1 | POST     \"/api/generate\"\n"
     ]
    },
    {
     "name": "stderr",
     "output_type": "stream",
     "text": [
      "  1%|          | 1/121 [00:32<1:04:32, 32.27s/it]"
     ]
    },
    {
     "name": "stdout",
     "output_type": "stream",
     "text": [
      "[GIN] 2024/11/29 - 15:10:34 | 200 |  5.520092003s |       127.0.0.1 | POST     \"/api/generate\"\n",
      "[GIN] 2024/11/29 - 15:10:35 | 200 |  1.122823649s |       127.0.0.1 | POST     \"/api/generate\"\n",
      "[GIN] 2024/11/29 - 15:10:40 | 200 |  5.180584542s |       127.0.0.1 | POST     \"/api/generate\"\n",
      "[GIN] 2024/11/29 - 15:10:41 | 200 |  941.925978ms |       127.0.0.1 | POST     \"/api/generate\"\n",
      "[GIN] 2024/11/29 - 15:10:45 | 200 |  3.279134692s |       127.0.0.1 | POST     \"/api/generate\"\n",
      "[GIN] 2024/11/29 - 15:10:47 | 200 |  2.692767022s |       127.0.0.1 | POST     \"/api/generate\"\n",
      "[GIN] 2024/11/29 - 15:10:48 | 200 |  938.950523ms |       127.0.0.1 | POST     \"/api/generate\"\n",
      "[GIN] 2024/11/29 - 15:10:51 | 200 |  2.453070408s |       127.0.0.1 | POST     \"/api/generate\"\n",
      "[GIN] 2024/11/29 - 15:10:52 | 200 |  1.715144435s |       127.0.0.1 | POST     \"/api/generate\"\n",
      "[GIN] 2024/11/29 - 15:10:56 | 200 |  3.751133011s |       127.0.0.1 | POST     \"/api/generate\"\n"
     ]
    },
    {
     "name": "stderr",
     "output_type": "stream",
     "text": [
      "  2%|▏         | 2/121 [00:59<58:11, 29.34s/it]  "
     ]
    },
    {
     "name": "stdout",
     "output_type": "stream",
     "text": [
      "[GIN] 2024/11/29 - 15:11:01 | 200 |  5.196955433s |       127.0.0.1 | POST     \"/api/generate\"\n",
      "[GIN] 2024/11/29 - 15:11:06 | 200 |  4.929378288s |       127.0.0.1 | POST     \"/api/generate\"\n",
      "[GIN] 2024/11/29 - 15:11:09 | 200 |  2.264394642s |       127.0.0.1 | POST     \"/api/generate\"\n",
      "[GIN] 2024/11/29 - 15:11:09 | 200 |  850.019379ms |       127.0.0.1 | POST     \"/api/generate\"\n",
      "[GIN] 2024/11/29 - 15:11:12 | 200 |  2.369524253s |       127.0.0.1 | POST     \"/api/generate\"\n",
      "[GIN] 2024/11/29 - 15:11:13 | 200 |  1.392182207s |       127.0.0.1 | POST     \"/api/generate\"\n",
      "[GIN] 2024/11/29 - 15:11:16 | 200 |  2.693930326s |       127.0.0.1 | POST     \"/api/generate\"\n",
      "[GIN] 2024/11/29 - 15:11:20 | 200 |  3.919896136s |       127.0.0.1 | POST     \"/api/generate\"\n",
      "[GIN] 2024/11/29 - 15:11:22 | 200 |  2.388599639s |       127.0.0.1 | POST     \"/api/generate\"\n",
      "[GIN] 2024/11/29 - 15:11:27 | 200 |  5.231489418s |       127.0.0.1 | POST     \"/api/generate\"\n"
     ]
    },
    {
     "name": "stderr",
     "output_type": "stream",
     "text": [
      "  2%|▏         | 3/121 [01:34<1:02:50, 31.95s/it]"
     ]
    },
    {
     "name": "stdout",
     "output_type": "stream",
     "text": [
      "[GIN] 2024/11/29 - 15:11:36 | 200 |  9.002586304s |       127.0.0.1 | POST     \"/api/generate\"\n",
      "[GIN] 2024/11/29 - 15:11:40 | 200 |  3.923594843s |       127.0.0.1 | POST     \"/api/generate\"\n",
      "[GIN] 2024/11/29 - 15:11:42 | 200 |  1.856370983s |       127.0.0.1 | POST     \"/api/generate\"\n",
      "[GIN] 2024/11/29 - 15:11:44 | 200 |  2.042068612s |       127.0.0.1 | POST     \"/api/generate\"\n",
      "[GIN] 2024/11/29 - 15:11:47 | 200 |  2.987723364s |       127.0.0.1 | POST     \"/api/generate\"\n",
      "[GIN] 2024/11/29 - 15:11:48 | 200 |  1.077916922s |       127.0.0.1 | POST     \"/api/generate\"\n",
      "[GIN] 2024/11/29 - 15:11:50 | 200 |  1.504387097s |       127.0.0.1 | POST     \"/api/generate\"\n",
      "[GIN] 2024/11/29 - 15:11:53 | 200 |  3.277332145s |       127.0.0.1 | POST     \"/api/generate\"\n",
      "[GIN] 2024/11/29 - 15:11:55 | 200 |  1.651222912s |       127.0.0.1 | POST     \"/api/generate\"\n",
      "[GIN] 2024/11/29 - 15:12:01 | 200 |  6.637675374s |       127.0.0.1 | POST     \"/api/generate\"\n"
     ]
    },
    {
     "name": "stderr",
     "output_type": "stream",
     "text": [
      "  3%|▎         | 4/121 [02:03<59:51, 30.70s/it]  "
     ]
    },
    {
     "name": "stdout",
     "output_type": "stream",
     "text": [
      "[GIN] 2024/11/29 - 15:12:05 | 200 |  3.798211708s |       127.0.0.1 | POST     \"/api/generate\"\n",
      "[GIN] 2024/11/29 - 15:12:08 | 200 |  2.777618626s |       127.0.0.1 | POST     \"/api/generate\"\n",
      "[GIN] 2024/11/29 - 15:12:13 | 200 |  4.617473765s |       127.0.0.1 | POST     \"/api/generate\"\n",
      "[GIN] 2024/11/29 - 15:12:19 | 200 |  6.357639616s |       127.0.0.1 | POST     \"/api/generate\"\n",
      "[GIN] 2024/11/29 - 15:12:20 | 200 |  1.108611998s |       127.0.0.1 | POST     \"/api/generate\"\n",
      "[GIN] 2024/11/29 - 15:12:22 | 200 |  2.189520595s |       127.0.0.1 | POST     \"/api/generate\"\n",
      "[GIN] 2024/11/29 - 15:12:24 | 200 |  2.019514665s |       127.0.0.1 | POST     \"/api/generate\"\n",
      "[GIN] 2024/11/29 - 15:12:30 | 200 |  5.458131174s |       127.0.0.1 | POST     \"/api/generate\"\n",
      "[GIN] 2024/11/29 - 15:12:33 | 200 |  3.472062186s |       127.0.0.1 | POST     \"/api/generate\"\n",
      "[GIN] 2024/11/29 - 15:12:36 | 200 |  2.378379755s |       127.0.0.1 | POST     \"/api/generate\"\n"
     ]
    },
    {
     "name": "stderr",
     "output_type": "stream",
     "text": [
      "  4%|▍         | 5/121 [02:39<1:03:17, 32.74s/it]"
     ]
    },
    {
     "name": "stdout",
     "output_type": "stream",
     "text": [
      "[GIN] 2024/11/29 - 15:12:42 | 200 |  5.959389991s |       127.0.0.1 | POST     \"/api/generate\"\n",
      "[GIN] 2024/11/29 - 15:12:42 | 200 |  957.325791ms |       127.0.0.1 | POST     \"/api/generate\"\n",
      "[GIN] 2024/11/29 - 15:12:45 | 200 |  2.824775794s |       127.0.0.1 | POST     \"/api/generate\"\n",
      "[GIN] 2024/11/29 - 15:12:48 | 200 |  2.597999385s |       127.0.0.1 | POST     \"/api/generate\"\n",
      "[GIN] 2024/11/29 - 15:12:49 | 200 |  1.248004459s |       127.0.0.1 | POST     \"/api/generate\"\n",
      "[GIN] 2024/11/29 - 15:12:51 | 200 |  1.747266944s |       127.0.0.1 | POST     \"/api/generate\"\n",
      "[GIN] 2024/11/29 - 15:12:53 | 200 |  1.932939002s |       127.0.0.1 | POST     \"/api/generate\"\n",
      "[GIN] 2024/11/29 - 15:12:55 | 200 |  2.339506581s |       127.0.0.1 | POST     \"/api/generate\"\n",
      "[GIN] 2024/11/29 - 15:12:58 | 200 |  3.311755513s |       127.0.0.1 | POST     \"/api/generate\"\n",
      "[GIN] 2024/11/29 - 15:13:01 | 200 |  2.047600473s |       127.0.0.1 | POST     \"/api/generate\"\n"
     ]
    },
    {
     "name": "stderr",
     "output_type": "stream",
     "text": [
      "  5%|▍         | 6/121 [03:03<56:42, 29.59s/it]  "
     ]
    },
    {
     "name": "stdout",
     "output_type": "stream",
     "text": [
      "[GIN] 2024/11/29 - 15:13:05 | 200 |  4.450753596s |       127.0.0.1 | POST     \"/api/generate\"\n",
      "[GIN] 2024/11/29 - 15:13:06 | 200 |  1.199525273s |       127.0.0.1 | POST     \"/api/generate\"\n",
      "[GIN] 2024/11/29 - 15:13:09 | 200 |  3.099119883s |       127.0.0.1 | POST     \"/api/generate\"\n",
      "[GIN] 2024/11/29 - 15:13:11 | 200 |  1.329861095s |       127.0.0.1 | POST     \"/api/generate\"\n",
      "[GIN] 2024/11/29 - 15:13:13 | 200 |  2.406520803s |       127.0.0.1 | POST     \"/api/generate\"\n",
      "[GIN] 2024/11/29 - 15:13:15 | 200 |  2.193640908s |       127.0.0.1 | POST     \"/api/generate\"\n",
      "[GIN] 2024/11/29 - 15:13:17 | 200 |  2.017009406s |       127.0.0.1 | POST     \"/api/generate\"\n",
      "[GIN] 2024/11/29 - 15:13:19 | 200 |  1.645062604s |       127.0.0.1 | POST     \"/api/generate\"\n",
      "[GIN] 2024/11/29 - 15:13:20 | 200 |  1.070380579s |       127.0.0.1 | POST     \"/api/generate\"\n",
      "[GIN] 2024/11/29 - 15:13:24 | 200 |  3.992501484s |       127.0.0.1 | POST     \"/api/generate\"\n"
     ]
    },
    {
     "name": "stderr",
     "output_type": "stream",
     "text": [
      "  6%|▌         | 7/121 [03:25<51:21, 27.04s/it]"
     ]
    },
    {
     "name": "stdout",
     "output_type": "stream",
     "text": [
      "[GIN] 2024/11/29 - 15:13:27 | 200 |  2.804116738s |       127.0.0.1 | POST     \"/api/generate\"\n",
      "[GIN] 2024/11/29 - 15:13:31 | 200 |  3.961879411s |       127.0.0.1 | POST     \"/api/generate\"\n",
      "[GIN] 2024/11/29 - 15:13:34 | 200 |  3.657500919s |       127.0.0.1 | POST     \"/api/generate\"\n",
      "[GIN] 2024/11/29 - 15:13:37 | 200 |  2.875450974s |       127.0.0.1 | POST     \"/api/generate\"\n",
      "[GIN] 2024/11/29 - 15:13:38 | 200 |  1.012682133s |       127.0.0.1 | POST     \"/api/generate\"\n",
      "[GIN] 2024/11/29 - 15:13:39 | 200 |  985.688726ms |       127.0.0.1 | POST     \"/api/generate\"\n",
      "[GIN] 2024/11/29 - 15:13:44 | 200 |  4.798992317s |       127.0.0.1 | POST     \"/api/generate\"\n",
      "[GIN] 2024/11/29 - 15:13:48 | 200 |  4.282693651s |       127.0.0.1 | POST     \"/api/generate\"\n",
      "[GIN] 2024/11/29 - 15:13:54 | 200 |  5.838198157s |       127.0.0.1 | POST     \"/api/generate\"\n",
      "[GIN] 2024/11/29 - 15:13:55 | 200 |  1.214938032s |       127.0.0.1 | POST     \"/api/generate\"\n"
     ]
    },
    {
     "name": "stderr",
     "output_type": "stream",
     "text": [
      "  7%|▋         | 8/121 [03:54<52:32, 27.90s/it]"
     ]
    },
    {
     "name": "stdout",
     "output_type": "stream",
     "text": [
      "[GIN] 2024/11/29 - 15:13:57 | 200 |  1.102973583s |       127.0.0.1 | POST     \"/api/generate\"\n",
      "[GIN] 2024/11/29 - 15:13:59 | 200 |   2.19570341s |       127.0.0.1 | POST     \"/api/generate\"\n",
      "[GIN] 2024/11/29 - 15:14:03 | 200 |   4.37904275s |       127.0.0.1 | POST     \"/api/generate\"\n",
      "[GIN] 2024/11/29 - 15:14:08 | 200 |  5.331512991s |       127.0.0.1 | POST     \"/api/generate\"\n",
      "[GIN] 2024/11/29 - 15:14:13 | 200 |  4.125609927s |       127.0.0.1 | POST     \"/api/generate\"\n",
      "[GIN] 2024/11/29 - 15:14:14 | 200 |  1.182117374s |       127.0.0.1 | POST     \"/api/generate\"\n",
      "[GIN] 2024/11/29 - 15:14:15 | 200 |  1.571757888s |       127.0.0.1 | POST     \"/api/generate\"\n",
      "[GIN] 2024/11/29 - 15:14:23 | 200 |  7.839364849s |       127.0.0.1 | POST     \"/api/generate\"\n",
      "[GIN] 2024/11/29 - 15:14:27 | 200 |  3.700320824s |       127.0.0.1 | POST     \"/api/generate\"\n",
      "[GIN] 2024/11/29 - 15:14:29 | 200 |  2.628853238s |       127.0.0.1 | POST     \"/api/generate\"\n"
     ]
    },
    {
     "name": "stderr",
     "output_type": "stream",
     "text": [
      "  7%|▋         | 9/121 [04:31<57:06, 30.59s/it]"
     ]
    },
    {
     "name": "stdout",
     "output_type": "stream",
     "text": [
      "[GIN] 2024/11/29 - 15:14:33 | 200 |  3.543597137s |       127.0.0.1 | POST     \"/api/generate\"\n",
      "[GIN] 2024/11/29 - 15:14:35 | 200 |  2.061040455s |       127.0.0.1 | POST     \"/api/generate\"\n",
      "[GIN] 2024/11/29 - 15:14:36 | 200 |  616.073519ms |       127.0.0.1 | POST     \"/api/generate\"\n",
      "[GIN] 2024/11/29 - 15:14:39 | 200 |  3.098652274s |       127.0.0.1 | POST     \"/api/generate\"\n",
      "[GIN] 2024/11/29 - 15:14:42 | 200 |  3.638584281s |       127.0.0.1 | POST     \"/api/generate\"\n",
      "[GIN] 2024/11/29 - 15:14:45 | 200 |  2.626459578s |       127.0.0.1 | POST     \"/api/generate\"\n",
      "[GIN] 2024/11/29 - 15:15:13 | 200 | 28.087481158s |       127.0.0.1 | POST     \"/api/generate\"\n",
      "[GIN] 2024/11/29 - 15:15:15 | 200 |   2.24868191s |       127.0.0.1 | POST     \"/api/generate\"\n",
      "[GIN] 2024/11/29 - 15:15:17 | 200 |  1.827618974s |       127.0.0.1 | POST     \"/api/generate\"\n",
      "[GIN] 2024/11/29 - 15:15:20 | 200 |  2.938090813s |       127.0.0.1 | POST     \"/api/generate\"\n"
     ]
    },
    {
     "name": "stderr",
     "output_type": "stream",
     "text": [
      "  8%|▊         | 10/121 [05:21<1:07:50, 36.67s/it]"
     ]
    },
    {
     "name": "stdout",
     "output_type": "stream",
     "text": [
      "[GIN] 2024/11/29 - 15:15:23 | 200 |  3.104355801s |       127.0.0.1 | POST     \"/api/generate\"\n",
      "[GIN] 2024/11/29 - 15:15:25 | 200 |  1.605718943s |       127.0.0.1 | POST     \"/api/generate\"\n",
      "[GIN] 2024/11/29 - 15:15:27 | 200 |  1.930034177s |       127.0.0.1 | POST     \"/api/generate\"\n",
      "[GIN] 2024/11/29 - 15:15:28 | 200 |  1.325684093s |       127.0.0.1 | POST     \"/api/generate\"\n",
      "[GIN] 2024/11/29 - 15:15:30 | 200 |  1.478358738s |       127.0.0.1 | POST     \"/api/generate\"\n",
      "[GIN] 2024/11/29 - 15:15:31 | 200 |   1.53096734s |       127.0.0.1 | POST     \"/api/generate\"\n",
      "[GIN] 2024/11/29 - 15:15:32 | 200 |  1.041047876s |       127.0.0.1 | POST     \"/api/generate\"\n",
      "[GIN] 2024/11/29 - 15:15:33 | 200 |  823.594476ms |       127.0.0.1 | POST     \"/api/generate\"\n",
      "[GIN] 2024/11/29 - 15:15:34 | 200 |  802.380214ms |       127.0.0.1 | POST     \"/api/generate\"\n",
      "[GIN] 2024/11/29 - 15:15:34 | 200 |  509.548217ms |       127.0.0.1 | POST     \"/api/generate\"\n"
     ]
    },
    {
     "name": "stderr",
     "output_type": "stream",
     "text": [
      "  9%|▉         | 11/121 [05:33<53:21, 29.10s/it]  "
     ]
    },
    {
     "name": "stdout",
     "output_type": "stream",
     "text": [
      "[GIN] 2024/11/29 - 15:15:35 | 200 |  877.661677ms |       127.0.0.1 | POST     \"/api/generate\"\n",
      "[GIN] 2024/11/29 - 15:15:40 | 200 |  4.657887449s |       127.0.0.1 | POST     \"/api/generate\"\n",
      "[GIN] 2024/11/29 - 15:15:42 | 200 |  1.851679377s |       127.0.0.1 | POST     \"/api/generate\"\n",
      "[GIN] 2024/11/29 - 15:15:44 | 200 |  2.721386259s |       127.0.0.1 | POST     \"/api/generate\"\n",
      "[GIN] 2024/11/29 - 15:15:47 | 200 |  2.367729647s |       127.0.0.1 | POST     \"/api/generate\"\n",
      "[GIN] 2024/11/29 - 15:15:50 | 200 |  2.904734568s |       127.0.0.1 | POST     \"/api/generate\"\n",
      "[GIN] 2024/11/29 - 15:15:57 | 200 |  6.835223304s |       127.0.0.1 | POST     \"/api/generate\"\n",
      "[GIN] 2024/11/29 - 15:15:58 | 200 |  1.328567449s |       127.0.0.1 | POST     \"/api/generate\"\n",
      "[GIN] 2024/11/29 - 15:15:59 | 200 |  609.564961ms |       127.0.0.1 | POST     \"/api/generate\"\n",
      "[GIN] 2024/11/29 - 15:15:59 | 200 |  790.296977ms |       127.0.0.1 | POST     \"/api/generate\"\n"
     ]
    },
    {
     "name": "stderr",
     "output_type": "stream",
     "text": [
      " 10%|▉         | 12/121 [05:58<50:49, 27.97s/it]"
     ]
    },
    {
     "name": "stdout",
     "output_type": "stream",
     "text": [
      "[GIN] 2024/11/29 - 15:16:01 | 200 |  1.305917641s |       127.0.0.1 | POST     \"/api/generate\"\n",
      "[GIN] 2024/11/29 - 15:16:04 | 200 |  2.908988462s |       127.0.0.1 | POST     \"/api/generate\"\n",
      "[GIN] 2024/11/29 - 15:16:05 | 200 |  1.113665657s |       127.0.0.1 | POST     \"/api/generate\"\n",
      "[GIN] 2024/11/29 - 15:16:06 | 200 |  1.361204157s |       127.0.0.1 | POST     \"/api/generate\"\n",
      "[GIN] 2024/11/29 - 15:16:07 | 200 |  1.113060971s |       127.0.0.1 | POST     \"/api/generate\"\n",
      "[GIN] 2024/11/29 - 15:16:09 | 200 |    1.6033051s |       127.0.0.1 | POST     \"/api/generate\"\n",
      "[GIN] 2024/11/29 - 15:16:10 | 200 |   1.70753772s |       127.0.0.1 | POST     \"/api/generate\"\n",
      "[GIN] 2024/11/29 - 15:16:14 | 200 |  3.562716827s |       127.0.0.1 | POST     \"/api/generate\"\n",
      "[GIN] 2024/11/29 - 15:16:16 | 200 |  1.662113405s |       127.0.0.1 | POST     \"/api/generate\"\n",
      "[GIN] 2024/11/29 - 15:16:18 | 200 |  2.771539142s |       127.0.0.1 | POST     \"/api/generate\"\n"
     ]
    },
    {
     "name": "stderr",
     "output_type": "stream",
     "text": [
      " 11%|█         | 13/121 [06:20<46:44, 25.96s/it]"
     ]
    },
    {
     "name": "stdout",
     "output_type": "stream",
     "text": [
      "[GIN] 2024/11/29 - 15:16:22 | 200 |  3.521197743s |       127.0.0.1 | POST     \"/api/generate\"\n",
      "[GIN] 2024/11/29 - 15:16:29 | 200 |  7.256918523s |       127.0.0.1 | POST     \"/api/generate\"\n",
      "[GIN] 2024/11/29 - 15:16:32 | 200 |  2.974319278s |       127.0.0.1 | POST     \"/api/generate\"\n",
      "[GIN] 2024/11/29 - 15:16:39 | 200 |  6.375747264s |       127.0.0.1 | POST     \"/api/generate\"\n",
      "[GIN] 2024/11/29 - 15:16:41 | 200 |   2.62770741s |       127.0.0.1 | POST     \"/api/generate\"\n",
      "[GIN] 2024/11/29 - 15:16:42 | 200 |  848.528124ms |       127.0.0.1 | POST     \"/api/generate\"\n",
      "[GIN] 2024/11/29 - 15:16:47 | 200 |  4.655514344s |       127.0.0.1 | POST     \"/api/generate\"\n",
      "[GIN] 2024/11/29 - 15:16:48 | 200 |  989.152654ms |       127.0.0.1 | POST     \"/api/generate\"\n",
      "[GIN] 2024/11/29 - 15:16:52 | 200 |  3.815733026s |       127.0.0.1 | POST     \"/api/generate\"\n",
      "[GIN] 2024/11/29 - 15:16:54 | 200 |  2.883194026s |       127.0.0.1 | POST     \"/api/generate\"\n"
     ]
    },
    {
     "name": "stderr",
     "output_type": "stream",
     "text": [
      " 12%|█▏        | 14/121 [06:54<50:39, 28.41s/it]"
     ]
    },
    {
     "name": "stdout",
     "output_type": "stream",
     "text": [
      "[GIN] 2024/11/29 - 15:16:56 | 200 |  1.602089054s |       127.0.0.1 | POST     \"/api/generate\"\n",
      "[GIN] 2024/11/29 - 15:17:05 | 200 |  8.670366907s |       127.0.0.1 | POST     \"/api/generate\"\n",
      "[GIN] 2024/11/29 - 15:17:06 | 200 |  1.310373691s |       127.0.0.1 | POST     \"/api/generate\"\n",
      "[GIN] 2024/11/29 - 15:17:07 | 200 |  591.308293ms |       127.0.0.1 | POST     \"/api/generate\"\n",
      "[GIN] 2024/11/29 - 15:17:11 | 200 |  4.509405023s |       127.0.0.1 | POST     \"/api/generate\"\n",
      "[GIN] 2024/11/29 - 15:17:12 | 200 |  1.229724933s |       127.0.0.1 | POST     \"/api/generate\"\n",
      "[GIN] 2024/11/29 - 15:17:17 | 200 |  4.440652778s |       127.0.0.1 | POST     \"/api/generate\"\n",
      "[GIN] 2024/11/29 - 15:17:21 | 200 |  3.808061542s |       127.0.0.1 | POST     \"/api/generate\"\n",
      "[GIN] 2024/11/29 - 15:17:22 | 200 |  1.093819711s |       127.0.0.1 | POST     \"/api/generate\"\n",
      "[GIN] 2024/11/29 - 15:17:24 | 200 |  2.220457263s |       127.0.0.1 | POST     \"/api/generate\"\n"
     ]
    },
    {
     "name": "stderr",
     "output_type": "stream",
     "text": [
      " 12%|█▏        | 15/121 [07:24<51:18, 29.04s/it]"
     ]
    },
    {
     "name": "stdout",
     "output_type": "stream",
     "text": [
      "[GIN] 2024/11/29 - 15:17:27 | 200 |  2.615371043s |       127.0.0.1 | POST     \"/api/generate\"\n",
      "[GIN] 2024/11/29 - 15:17:33 | 200 |  6.421400952s |       127.0.0.1 | POST     \"/api/generate\"\n",
      "[GIN] 2024/11/29 - 15:17:36 | 200 |  3.280151697s |       127.0.0.1 | POST     \"/api/generate\"\n",
      "[GIN] 2024/11/29 - 15:17:39 | 200 |   2.44068275s |       127.0.0.1 | POST     \"/api/generate\"\n",
      "[GIN] 2024/11/29 - 15:17:42 | 200 |  3.034922444s |       127.0.0.1 | POST     \"/api/generate\"\n",
      "[GIN] 2024/11/29 - 15:17:44 | 200 |  2.712079066s |       127.0.0.1 | POST     \"/api/generate\"\n",
      "[GIN] 2024/11/29 - 15:17:46 | 200 |  1.815842382s |       127.0.0.1 | POST     \"/api/generate\"\n",
      "[GIN] 2024/11/29 - 15:17:49 | 200 |  2.340939164s |       127.0.0.1 | POST     \"/api/generate\"\n",
      "[GIN] 2024/11/29 - 15:17:52 | 200 |  3.607538061s |       127.0.0.1 | POST     \"/api/generate\"\n",
      "[GIN] 2024/11/29 - 15:17:55 | 200 |   2.58969181s |       127.0.0.1 | POST     \"/api/generate\"\n"
     ]
    },
    {
     "name": "stderr",
     "output_type": "stream",
     "text": [
      " 13%|█▎        | 16/121 [07:56<52:03, 29.75s/it]"
     ]
    },
    {
     "name": "stdout",
     "output_type": "stream",
     "text": [
      "[GIN] 2024/11/29 - 15:17:58 | 200 |  3.134663792s |       127.0.0.1 | POST     \"/api/generate\"\n",
      "[GIN] 2024/11/29 - 15:18:00 | 200 |  2.466529156s |       127.0.0.1 | POST     \"/api/generate\"\n",
      "[GIN] 2024/11/29 - 15:18:06 | 200 |  5.681328634s |       127.0.0.1 | POST     \"/api/generate\"\n",
      "[GIN] 2024/11/29 - 15:18:09 | 200 |  3.100992689s |       127.0.0.1 | POST     \"/api/generate\"\n",
      "[GIN] 2024/11/29 - 15:18:13 | 200 |  3.822091842s |       127.0.0.1 | POST     \"/api/generate\"\n",
      "[GIN] 2024/11/29 - 15:18:16 | 200 |  2.577953949s |       127.0.0.1 | POST     \"/api/generate\"\n",
      "[GIN] 2024/11/29 - 15:18:18 | 200 |  2.741099641s |       127.0.0.1 | POST     \"/api/generate\"\n",
      "[GIN] 2024/11/29 - 15:18:19 | 200 |  1.079871876s |       127.0.0.1 | POST     \"/api/generate\"\n",
      "[GIN] 2024/11/29 - 15:18:20 | 200 |  378.481545ms |       127.0.0.1 | POST     \"/api/generate\"\n",
      "[GIN] 2024/11/29 - 15:18:21 | 200 |   1.56803854s |       127.0.0.1 | POST     \"/api/generate\"\n"
     ]
    },
    {
     "name": "stderr",
     "output_type": "stream",
     "text": [
      " 14%|█▍        | 17/121 [08:20<48:43, 28.11s/it]"
     ]
    },
    {
     "name": "stdout",
     "output_type": "stream",
     "text": [
      "[GIN] 2024/11/29 - 15:18:22 | 200 |   871.32647ms |       127.0.0.1 | POST     \"/api/generate\"\n",
      "[GIN] 2024/11/29 - 15:18:23 | 200 |  1.220197893s |       127.0.0.1 | POST     \"/api/generate\"\n",
      "[GIN] 2024/11/29 - 15:18:24 | 200 |  967.879189ms |       127.0.0.1 | POST     \"/api/generate\"\n",
      "[GIN] 2024/11/29 - 15:18:25 | 200 |  955.107349ms |       127.0.0.1 | POST     \"/api/generate\"\n",
      "[GIN] 2024/11/29 - 15:18:27 | 200 |   2.00055358s |       127.0.0.1 | POST     \"/api/generate\"\n",
      "[GIN] 2024/11/29 - 15:18:29 | 200 |  1.510369361s |       127.0.0.1 | POST     \"/api/generate\"\n",
      "[GIN] 2024/11/29 - 15:18:33 | 200 |  4.086153706s |       127.0.0.1 | POST     \"/api/generate\"\n",
      "[GIN] 2024/11/29 - 15:18:34 | 200 |  1.183733726s |       127.0.0.1 | POST     \"/api/generate\"\n",
      "[GIN] 2024/11/29 - 15:18:35 | 200 |  881.151371ms |       127.0.0.1 | POST     \"/api/generate\"\n",
      "[GIN] 2024/11/29 - 15:18:40 | 200 |  4.800392556s |       127.0.0.1 | POST     \"/api/generate\"\n"
     ]
    },
    {
     "name": "stderr",
     "output_type": "stream",
     "text": [
      " 15%|█▍        | 18/121 [08:40<44:08, 25.72s/it]"
     ]
    },
    {
     "name": "stdout",
     "output_type": "stream",
     "text": [
      "[GIN] 2024/11/29 - 15:18:42 | 200 |  2.517544783s |       127.0.0.1 | POST     \"/api/generate\"\n",
      "[GIN] 2024/11/29 - 15:18:45 | 200 |  2.662759158s |       127.0.0.1 | POST     \"/api/generate\"\n",
      "[GIN] 2024/11/29 - 15:18:50 | 200 |  4.819157587s |       127.0.0.1 | POST     \"/api/generate\"\n",
      "[GIN] 2024/11/29 - 15:18:52 | 200 |  1.891970376s |       127.0.0.1 | POST     \"/api/generate\"\n",
      "[GIN] 2024/11/29 - 15:18:54 | 200 |  2.221080689s |       127.0.0.1 | POST     \"/api/generate\"\n",
      "[GIN] 2024/11/29 - 15:18:55 | 200 |  1.315439851s |       127.0.0.1 | POST     \"/api/generate\"\n",
      "[GIN] 2024/11/29 - 15:18:58 | 200 |  2.649554457s |       127.0.0.1 | POST     \"/api/generate\"\n",
      "[GIN] 2024/11/29 - 15:19:03 | 200 |  5.109893945s |       127.0.0.1 | POST     \"/api/generate\"\n",
      "[GIN] 2024/11/29 - 15:19:07 | 200 |  3.628927257s |       127.0.0.1 | POST     \"/api/generate\"\n",
      "[GIN] 2024/11/29 - 15:19:10 | 200 |  3.151465105s |       127.0.0.1 | POST     \"/api/generate\"\n"
     ]
    },
    {
     "name": "stderr",
     "output_type": "stream",
     "text": [
      " 16%|█▌        | 19/121 [09:09<45:10, 26.57s/it]"
     ]
    },
    {
     "name": "stdout",
     "output_type": "stream",
     "text": [
      "[GIN] 2024/11/29 - 15:19:11 | 200 |  1.092621817s |       127.0.0.1 | POST     \"/api/generate\"\n",
      "[GIN] 2024/11/29 - 15:19:13 | 200 |   2.44093786s |       127.0.0.1 | POST     \"/api/generate\"\n",
      "[GIN] 2024/11/29 - 15:19:17 | 200 |  3.833174975s |       127.0.0.1 | POST     \"/api/generate\"\n",
      "[GIN] 2024/11/29 - 15:19:20 | 200 |  2.450538854s |       127.0.0.1 | POST     \"/api/generate\"\n",
      "[GIN] 2024/11/29 - 15:19:20 | 200 |  678.529478ms |       127.0.0.1 | POST     \"/api/generate\"\n",
      "[GIN] 2024/11/29 - 15:19:22 | 200 |  1.207986672s |       127.0.0.1 | POST     \"/api/generate\"\n",
      "[GIN] 2024/11/29 - 15:19:23 | 200 |   1.25968468s |       127.0.0.1 | POST     \"/api/generate\"\n",
      "[GIN] 2024/11/29 - 15:19:26 | 200 |  3.285903325s |       127.0.0.1 | POST     \"/api/generate\"\n",
      "[GIN] 2024/11/29 - 15:19:28 | 200 |  1.463332114s |       127.0.0.1 | POST     \"/api/generate\"\n",
      "[GIN] 2024/11/29 - 15:19:30 | 200 |   2.42708444s |       127.0.0.1 | POST     \"/api/generate\"\n"
     ]
    },
    {
     "name": "stderr",
     "output_type": "stream",
     "text": [
      " 17%|█▋        | 20/121 [09:33<43:22, 25.76s/it]"
     ]
    },
    {
     "name": "stdout",
     "output_type": "stream",
     "text": [
      "[GIN] 2024/11/29 - 15:19:35 | 200 |   4.80164217s |       127.0.0.1 | POST     \"/api/generate\"\n",
      "[GIN] 2024/11/29 - 15:19:38 | 200 |  2.769988881s |       127.0.0.1 | POST     \"/api/generate\"\n",
      "[GIN] 2024/11/29 - 15:19:39 | 200 |   1.21123243s |       127.0.0.1 | POST     \"/api/generate\"\n",
      "[GIN] 2024/11/29 - 15:19:41 | 200 |  2.677694865s |       127.0.0.1 | POST     \"/api/generate\"\n",
      "[GIN] 2024/11/29 - 15:19:46 | 200 |  4.781274013s |       127.0.0.1 | POST     \"/api/generate\"\n",
      "[GIN] 2024/11/29 - 15:19:49 | 200 |   2.97180011s |       127.0.0.1 | POST     \"/api/generate\"\n",
      "[GIN] 2024/11/29 - 15:19:53 | 200 |  3.511127358s |       127.0.0.1 | POST     \"/api/generate\"\n",
      "[GIN] 2024/11/29 - 15:19:57 | 200 |  3.930576767s |       127.0.0.1 | POST     \"/api/generate\"\n",
      "[GIN] 2024/11/29 - 15:19:59 | 200 |  2.451951363s |       127.0.0.1 | POST     \"/api/generate\"\n",
      "[GIN] 2024/11/29 - 15:20:03 | 200 |  3.640768776s |       127.0.0.1 | POST     \"/api/generate\"\n"
     ]
    },
    {
     "name": "stderr",
     "output_type": "stream",
     "text": [
      " 17%|█▋        | 21/121 [10:02<44:33, 26.74s/it]"
     ]
    },
    {
     "name": "stdout",
     "output_type": "stream",
     "text": [
      "[GIN] 2024/11/29 - 15:20:04 | 200 |  1.041571631s |       127.0.0.1 | POST     \"/api/generate\"\n",
      "[GIN] 2024/11/29 - 15:20:10 | 200 |   6.06998644s |       127.0.0.1 | POST     \"/api/generate\"\n",
      "[GIN] 2024/11/29 - 15:20:13 | 200 |  2.777965661s |       127.0.0.1 | POST     \"/api/generate\"\n",
      "[GIN] 2024/11/29 - 15:20:16 | 200 |  3.209300083s |       127.0.0.1 | POST     \"/api/generate\"\n",
      "[GIN] 2024/11/29 - 15:20:20 | 200 |  3.665889329s |       127.0.0.1 | POST     \"/api/generate\"\n",
      "[GIN] 2024/11/29 - 15:20:21 | 200 |  1.124017713s |       127.0.0.1 | POST     \"/api/generate\"\n",
      "[GIN] 2024/11/29 - 15:20:24 | 200 |  3.664775264s |       127.0.0.1 | POST     \"/api/generate\"\n",
      "[GIN] 2024/11/29 - 15:20:26 | 200 |  1.336003826s |       127.0.0.1 | POST     \"/api/generate\"\n",
      "[GIN] 2024/11/29 - 15:20:29 | 200 |  3.026756757s |       127.0.0.1 | POST     \"/api/generate\"\n",
      "[GIN] 2024/11/29 - 15:20:30 | 200 |  859.195779ms |       127.0.0.1 | POST     \"/api/generate\"\n"
     ]
    },
    {
     "name": "stderr",
     "output_type": "stream",
     "text": [
      " 18%|█▊        | 22/121 [10:30<44:57, 27.24s/it]"
     ]
    },
    {
     "name": "stdout",
     "output_type": "stream",
     "text": [
      "[GIN] 2024/11/29 - 15:20:32 | 200 |  2.674791845s |       127.0.0.1 | POST     \"/api/generate\"\n",
      "[GIN] 2024/11/29 - 15:20:33 | 200 |  1.134646778s |       127.0.0.1 | POST     \"/api/generate\"\n",
      "[GIN] 2024/11/29 - 15:20:35 | 200 |  1.966671482s |       127.0.0.1 | POST     \"/api/generate\"\n",
      "[GIN] 2024/11/29 - 15:20:37 | 200 |  1.399964995s |       127.0.0.1 | POST     \"/api/generate\"\n",
      "[GIN] 2024/11/29 - 15:20:38 | 200 |  1.454864556s |       127.0.0.1 | POST     \"/api/generate\"\n",
      "[GIN] 2024/11/29 - 15:20:40 | 200 |  2.032108358s |       127.0.0.1 | POST     \"/api/generate\"\n",
      "[GIN] 2024/11/29 - 15:20:42 | 200 |  1.287540666s |       127.0.0.1 | POST     \"/api/generate\"\n",
      "[GIN] 2024/11/29 - 15:20:45 | 200 |  3.925440666s |       127.0.0.1 | POST     \"/api/generate\"\n",
      "[GIN] 2024/11/29 - 15:20:48 | 200 |  2.921070946s |       127.0.0.1 | POST     \"/api/generate\"\n",
      "[GIN] 2024/11/29 - 15:20:51 | 200 |   2.42050466s |       127.0.0.1 | POST     \"/api/generate\"\n"
     ]
    },
    {
     "name": "stderr",
     "output_type": "stream",
     "text": [
      " 19%|█▉        | 23/121 [10:50<40:54, 25.05s/it]"
     ]
    },
    {
     "name": "stdout",
     "output_type": "stream",
     "text": [
      "[GIN] 2024/11/29 - 15:20:52 | 200 |  1.356509686s |       127.0.0.1 | POST     \"/api/generate\"\n",
      "[GIN] 2024/11/29 - 15:20:54 | 200 |  2.169443759s |       127.0.0.1 | POST     \"/api/generate\"\n",
      "[GIN] 2024/11/29 - 15:20:57 | 200 |  2.464636106s |       127.0.0.1 | POST     \"/api/generate\"\n",
      "[GIN] 2024/11/29 - 15:20:59 | 200 |    2.3979604s |       127.0.0.1 | POST     \"/api/generate\"\n",
      "[GIN] 2024/11/29 - 15:21:03 | 200 |   3.97091436s |       127.0.0.1 | POST     \"/api/generate\"\n",
      "[GIN] 2024/11/29 - 15:21:07 | 200 |   4.08653166s |       127.0.0.1 | POST     \"/api/generate\"\n",
      "[GIN] 2024/11/29 - 15:21:10 | 200 |  2.520740881s |       127.0.0.1 | POST     \"/api/generate\"\n",
      "[GIN] 2024/11/29 - 15:21:19 | 200 |  9.320343404s |       127.0.0.1 | POST     \"/api/generate\"\n",
      "[GIN] 2024/11/29 - 15:21:22 | 200 |   3.34083863s |       127.0.0.1 | POST     \"/api/generate\"\n",
      "[GIN] 2024/11/29 - 15:21:25 | 200 |  2.041941494s |       127.0.0.1 | POST     \"/api/generate\"\n"
     ]
    },
    {
     "name": "stderr",
     "output_type": "stream",
     "text": [
      " 20%|█▉        | 24/121 [11:25<45:10, 27.95s/it]"
     ]
    },
    {
     "name": "stdout",
     "output_type": "stream",
     "text": [
      "[GIN] 2024/11/29 - 15:21:27 | 200 |  2.381487838s |       127.0.0.1 | POST     \"/api/generate\"\n",
      "[GIN] 2024/11/29 - 15:21:28 | 200 |  1.032764138s |       127.0.0.1 | POST     \"/api/generate\"\n",
      "[GIN] 2024/11/29 - 15:21:33 | 200 |  5.020815987s |       127.0.0.1 | POST     \"/api/generate\"\n",
      "[GIN] 2024/11/29 - 15:21:34 | 200 |  1.044195598s |       127.0.0.1 | POST     \"/api/generate\"\n",
      "[GIN] 2024/11/29 - 15:21:36 | 200 |  2.099962168s |       127.0.0.1 | POST     \"/api/generate\"\n",
      "[GIN] 2024/11/29 - 15:21:40 | 200 |  3.913584539s |       127.0.0.1 | POST     \"/api/generate\"\n",
      "[GIN] 2024/11/29 - 15:21:47 | 200 |  7.191918208s |       127.0.0.1 | POST     \"/api/generate\"\n",
      "[GIN] 2024/11/29 - 15:21:48 | 200 |  1.037196499s |       127.0.0.1 | POST     \"/api/generate\"\n",
      "[GIN] 2024/11/29 - 15:21:50 | 200 |   1.92560237s |       127.0.0.1 | POST     \"/api/generate\"\n",
      "[GIN] 2024/11/29 - 15:21:57 | 200 |  6.606793552s |       127.0.0.1 | POST     \"/api/generate\"\n"
     ]
    },
    {
     "name": "stderr",
     "output_type": "stream",
     "text": [
      " 21%|██        | 25/121 [11:56<46:22, 28.98s/it]"
     ]
    },
    {
     "name": "stdout",
     "output_type": "stream",
     "text": [
      "[GIN] 2024/11/29 - 15:21:58 | 200 |  1.514753923s |       127.0.0.1 | POST     \"/api/generate\"\n",
      "[GIN] 2024/11/29 - 15:22:00 | 200 |  1.293849915s |       127.0.0.1 | POST     \"/api/generate\"\n",
      "[GIN] 2024/11/29 - 15:22:03 | 200 |  3.730380257s |       127.0.0.1 | POST     \"/api/generate\"\n",
      "[GIN] 2024/11/29 - 15:22:04 | 200 |  1.123230381s |       127.0.0.1 | POST     \"/api/generate\"\n",
      "[GIN] 2024/11/29 - 15:22:06 | 200 |   1.28191723s |       127.0.0.1 | POST     \"/api/generate\"\n",
      "[GIN] 2024/11/29 - 15:22:08 | 200 |  1.885117408s |       127.0.0.1 | POST     \"/api/generate\"\n",
      "[GIN] 2024/11/29 - 15:22:11 | 200 |  3.482624708s |       127.0.0.1 | POST     \"/api/generate\"\n",
      "[GIN] 2024/11/29 - 15:22:12 | 200 |  1.272090563s |       127.0.0.1 | POST     \"/api/generate\"\n",
      "[GIN] 2024/11/29 - 15:22:15 | 200 |  2.779777741s |       127.0.0.1 | POST     \"/api/generate\"\n",
      "[GIN] 2024/11/29 - 15:22:22 | 200 |  6.604573705s |       127.0.0.1 | POST     \"/api/generate\"\n"
     ]
    },
    {
     "name": "stderr",
     "output_type": "stream",
     "text": [
      " 21%|██▏       | 26/121 [12:24<45:22, 28.66s/it]"
     ]
    },
    {
     "name": "stdout",
     "output_type": "stream",
     "text": [
      "[GIN] 2024/11/29 - 15:22:26 | 200 |  4.433668084s |       127.0.0.1 | POST     \"/api/generate\"\n",
      "[GIN] 2024/11/29 - 15:22:29 | 200 |  2.366520696s |       127.0.0.1 | POST     \"/api/generate\"\n",
      "[GIN] 2024/11/29 - 15:22:31 | 200 |  2.473319941s |       127.0.0.1 | POST     \"/api/generate\"\n",
      "[GIN] 2024/11/29 - 15:22:34 | 200 |  3.193899985s |       127.0.0.1 | POST     \"/api/generate\"\n",
      "[GIN] 2024/11/29 - 15:22:38 | 200 |  3.361217462s |       127.0.0.1 | POST     \"/api/generate\"\n",
      "[GIN] 2024/11/29 - 15:23:01 | 200 | 23.049486219s |       127.0.0.1 | POST     \"/api/generate\"\n",
      "[GIN] 2024/11/29 - 15:23:01 | 200 |  705.960209ms |       127.0.0.1 | POST     \"/api/generate\"\n",
      "[GIN] 2024/11/29 - 15:23:02 | 200 |  935.639866ms |       127.0.0.1 | POST     \"/api/generate\"\n",
      "[GIN] 2024/11/29 - 15:23:09 | 200 |  6.412553132s |       127.0.0.1 | POST     \"/api/generate\"\n",
      "[GIN] 2024/11/29 - 15:23:14 | 200 |  4.820744875s |       127.0.0.1 | POST     \"/api/generate\"\n"
     ]
    },
    {
     "name": "stderr",
     "output_type": "stream",
     "text": [
      " 22%|██▏       | 27/121 [13:24<59:42, 38.11s/it]"
     ]
    },
    {
     "name": "stdout",
     "output_type": "stream",
     "text": [
      "[GIN] 2024/11/29 - 15:23:26 | 200 | 12.813556904s |       127.0.0.1 | POST     \"/api/generate\"\n",
      "[GIN] 2024/11/29 - 15:23:28 | 200 |  2.083211219s |       127.0.0.1 | POST     \"/api/generate\"\n",
      "[GIN] 2024/11/29 - 15:23:30 | 200 |  1.060285552s |       127.0.0.1 | POST     \"/api/generate\"\n",
      "[GIN] 2024/11/29 - 15:23:31 | 200 |  1.019485355s |       127.0.0.1 | POST     \"/api/generate\"\n",
      "[GIN] 2024/11/29 - 15:23:31 | 200 |   867.13235ms |       127.0.0.1 | POST     \"/api/generate\"\n",
      "[GIN] 2024/11/29 - 15:23:34 | 200 |  2.500050194s |       127.0.0.1 | POST     \"/api/generate\"\n",
      "[GIN] 2024/11/29 - 15:23:36 | 200 |  1.957741595s |       127.0.0.1 | POST     \"/api/generate\"\n",
      "[GIN] 2024/11/29 - 15:23:43 | 200 |  6.819741539s |       127.0.0.1 | POST     \"/api/generate\"\n",
      "[GIN] 2024/11/29 - 15:23:45 | 200 |  2.347011387s |       127.0.0.1 | POST     \"/api/generate\"\n",
      "[GIN] 2024/11/29 - 15:23:46 | 200 |  644.869589ms |       127.0.0.1 | POST     \"/api/generate\"\n"
     ]
    },
    {
     "name": "stderr",
     "output_type": "stream",
     "text": [
      " 23%|██▎       | 28/121 [13:46<51:19, 33.11s/it]"
     ]
    },
    {
     "name": "stdout",
     "output_type": "stream",
     "text": [
      "[GIN] 2024/11/29 - 15:23:48 | 200 |  2.129837662s |       127.0.0.1 | POST     \"/api/generate\"\n",
      "[GIN] 2024/11/29 - 15:23:50 | 200 |  1.748396457s |       127.0.0.1 | POST     \"/api/generate\"\n",
      "[GIN] 2024/11/29 - 15:23:51 | 200 |  1.219605812s |       127.0.0.1 | POST     \"/api/generate\"\n",
      "[GIN] 2024/11/29 - 15:23:55 | 200 |  4.128946894s |       127.0.0.1 | POST     \"/api/generate\"\n",
      "[GIN] 2024/11/29 - 15:23:56 | 200 |  1.500937738s |       127.0.0.1 | POST     \"/api/generate\"\n",
      "[GIN] 2024/11/29 - 15:23:59 | 200 |  2.569890924s |       127.0.0.1 | POST     \"/api/generate\"\n",
      "[GIN] 2024/11/29 - 15:24:02 | 200 |  3.438958233s |       127.0.0.1 | POST     \"/api/generate\"\n",
      "[GIN] 2024/11/29 - 15:24:12 | 200 |  9.504153028s |       127.0.0.1 | POST     \"/api/generate\"\n",
      "[GIN] 2024/11/29 - 15:24:16 | 200 |  3.816133652s |       127.0.0.1 | POST     \"/api/generate\"\n",
      "[GIN] 2024/11/29 - 15:24:17 | 200 |  1.108319907s |       127.0.0.1 | POST     \"/api/generate\"\n"
     ]
    },
    {
     "name": "stderr",
     "output_type": "stream",
     "text": [
      " 24%|██▍       | 29/121 [14:17<49:53, 32.54s/it]"
     ]
    },
    {
     "name": "stdout",
     "output_type": "stream",
     "text": [
      "[GIN] 2024/11/29 - 15:24:19 | 200 |  2.161524177s |       127.0.0.1 | POST     \"/api/generate\"\n",
      "[GIN] 2024/11/29 - 15:24:21 | 200 |  1.835321349s |       127.0.0.1 | POST     \"/api/generate\"\n",
      "[GIN] 2024/11/29 - 15:24:22 | 200 |  900.997707ms |       127.0.0.1 | POST     \"/api/generate\"\n",
      "[GIN] 2024/11/29 - 15:24:24 | 200 |  2.419092279s |       127.0.0.1 | POST     \"/api/generate\"\n",
      "[GIN] 2024/11/29 - 15:24:26 | 200 |  1.783231749s |       127.0.0.1 | POST     \"/api/generate\"\n",
      "[GIN] 2024/11/29 - 15:24:27 | 200 |  720.732183ms |       127.0.0.1 | POST     \"/api/generate\"\n",
      "[GIN] 2024/11/29 - 15:24:28 | 200 |  982.820492ms |       127.0.0.1 | POST     \"/api/generate\"\n",
      "[GIN] 2024/11/29 - 15:24:29 | 200 |  1.398747038s |       127.0.0.1 | POST     \"/api/generate\"\n",
      "[GIN] 2024/11/29 - 15:24:30 | 200 |  1.296425009s |       127.0.0.1 | POST     \"/api/generate\"\n",
      "[GIN] 2024/11/29 - 15:24:32 | 200 |  1.520402096s |       127.0.0.1 | POST     \"/api/generate\"\n"
     ]
    },
    {
     "name": "stderr",
     "output_type": "stream",
     "text": [
      " 25%|██▍       | 30/121 [14:31<40:55, 26.99s/it]"
     ]
    },
    {
     "name": "stdout",
     "output_type": "stream",
     "text": [
      "[GIN] 2024/11/29 - 15:24:33 | 200 |  1.157269226s |       127.0.0.1 | POST     \"/api/generate\"\n",
      "[GIN] 2024/11/29 - 15:24:36 | 200 |  2.867564521s |       127.0.0.1 | POST     \"/api/generate\"\n",
      "[GIN] 2024/11/29 - 15:24:40 | 200 |  4.213818041s |       127.0.0.1 | POST     \"/api/generate\"\n",
      "[GIN] 2024/11/29 - 15:24:43 | 200 |  2.603878926s |       127.0.0.1 | POST     \"/api/generate\"\n",
      "[GIN] 2024/11/29 - 15:24:44 | 200 |  1.224135706s |       127.0.0.1 | POST     \"/api/generate\"\n",
      "[GIN] 2024/11/29 - 15:24:46 | 200 |   2.05515636s |       127.0.0.1 | POST     \"/api/generate\"\n",
      "[GIN] 2024/11/29 - 15:24:49 | 200 |   2.69200094s |       127.0.0.1 | POST     \"/api/generate\"\n",
      "[GIN] 2024/11/29 - 15:24:51 | 200 |  2.630591278s |       127.0.0.1 | POST     \"/api/generate\"\n",
      "[GIN] 2024/11/29 - 15:24:55 | 200 |  3.148562249s |       127.0.0.1 | POST     \"/api/generate\"\n",
      "[GIN] 2024/11/29 - 15:24:58 | 200 |  3.750915073s |       127.0.0.1 | POST     \"/api/generate\"\n"
     ]
    },
    {
     "name": "stderr",
     "output_type": "stream",
     "text": [
      " 26%|██▌       | 31/121 [14:58<40:38, 27.09s/it]"
     ]
    },
    {
     "name": "stdout",
     "output_type": "stream",
     "text": [
      "[GIN] 2024/11/29 - 15:25:00 | 200 |  2.118934824s |       127.0.0.1 | POST     \"/api/generate\"\n",
      "[GIN] 2024/11/29 - 15:25:02 | 200 |  2.024424774s |       127.0.0.1 | POST     \"/api/generate\"\n",
      "[GIN] 2024/11/29 - 15:25:04 | 200 |   1.44310375s |       127.0.0.1 | POST     \"/api/generate\"\n",
      "[GIN] 2024/11/29 - 15:25:06 | 200 |  1.924934324s |       127.0.0.1 | POST     \"/api/generate\"\n",
      "[GIN] 2024/11/29 - 15:25:11 | 200 |  5.264233349s |       127.0.0.1 | POST     \"/api/generate\"\n",
      "[GIN] 2024/11/29 - 15:25:17 | 200 |  5.919780464s |       127.0.0.1 | POST     \"/api/generate\"\n",
      "[GIN] 2024/11/29 - 15:25:19 | 200 |  2.064854579s |       127.0.0.1 | POST     \"/api/generate\"\n",
      "[GIN] 2024/11/29 - 15:25:22 | 200 |  3.261027443s |       127.0.0.1 | POST     \"/api/generate\"\n",
      "[GIN] 2024/11/29 - 15:25:29 | 200 |  6.660146965s |       127.0.0.1 | POST     \"/api/generate\"\n",
      "[GIN] 2024/11/29 - 15:25:31 | 200 |  2.144662239s |       127.0.0.1 | POST     \"/api/generate\"\n"
     ]
    },
    {
     "name": "stderr",
     "output_type": "stream",
     "text": [
      " 26%|██▋       | 32/121 [15:31<42:45, 28.83s/it]"
     ]
    },
    {
     "name": "stdout",
     "output_type": "stream",
     "text": [
      "[GIN] 2024/11/29 - 15:25:33 | 200 |  2.163643847s |       127.0.0.1 | POST     \"/api/generate\"\n",
      "[GIN] 2024/11/29 - 15:25:41 | 200 |   7.57171887s |       127.0.0.1 | POST     \"/api/generate\"\n",
      "[GIN] 2024/11/29 - 15:25:42 | 200 |  1.572305313s |       127.0.0.1 | POST     \"/api/generate\"\n",
      "[GIN] 2024/11/29 - 15:25:45 | 200 |  2.677109699s |       127.0.0.1 | POST     \"/api/generate\"\n",
      "[GIN] 2024/11/29 - 15:25:46 | 200 |  1.275723759s |       127.0.0.1 | POST     \"/api/generate\"\n",
      "[GIN] 2024/11/29 - 15:25:48 | 200 |  1.327922305s |       127.0.0.1 | POST     \"/api/generate\"\n",
      "[GIN] 2024/11/29 - 15:25:51 | 200 |   3.40689541s |       127.0.0.1 | POST     \"/api/generate\"\n",
      "[GIN] 2024/11/29 - 15:25:58 | 200 |  6.602375529s |       127.0.0.1 | POST     \"/api/generate\"\n",
      "[GIN] 2024/11/29 - 15:26:01 | 200 |   3.02098728s |       127.0.0.1 | POST     \"/api/generate\"\n",
      "[GIN] 2024/11/29 - 15:26:03 | 200 |   1.97640944s |       127.0.0.1 | POST     \"/api/generate\"\n"
     ]
    },
    {
     "name": "stderr",
     "output_type": "stream",
     "text": [
      " 27%|██▋       | 33/121 [16:02<43:25, 29.61s/it]"
     ]
    },
    {
     "name": "stdout",
     "output_type": "stream",
     "text": [
      "[GIN] 2024/11/29 - 15:26:05 | 200 |  1.962658038s |       127.0.0.1 | POST     \"/api/generate\"\n",
      "[GIN] 2024/11/29 - 15:26:08 | 200 |   3.24683516s |       127.0.0.1 | POST     \"/api/generate\"\n",
      "[GIN] 2024/11/29 - 15:26:09 | 200 |  1.242986656s |       127.0.0.1 | POST     \"/api/generate\"\n",
      "[GIN] 2024/11/29 - 15:26:11 | 200 |  1.331069211s |       127.0.0.1 | POST     \"/api/generate\"\n",
      "[GIN] 2024/11/29 - 15:26:14 | 200 |  3.085903718s |       127.0.0.1 | POST     \"/api/generate\"\n",
      "[GIN] 2024/11/29 - 15:26:15 | 200 |  1.829669118s |       127.0.0.1 | POST     \"/api/generate\"\n",
      "[GIN] 2024/11/29 - 15:26:17 | 200 |  1.827325729s |       127.0.0.1 | POST     \"/api/generate\"\n",
      "[GIN] 2024/11/29 - 15:26:19 | 200 |  2.209152472s |       127.0.0.1 | POST     \"/api/generate\"\n",
      "[GIN] 2024/11/29 - 15:26:22 | 200 |  2.052696738s |       127.0.0.1 | POST     \"/api/generate\"\n",
      "[GIN] 2024/11/29 - 15:26:25 | 200 |  3.140060861s |       127.0.0.1 | POST     \"/api/generate\"\n"
     ]
    },
    {
     "name": "stderr",
     "output_type": "stream",
     "text": [
      " 28%|██▊       | 34/121 [16:24<39:34, 27.29s/it]"
     ]
    },
    {
     "name": "stdout",
     "output_type": "stream",
     "text": [
      "[GIN] 2024/11/29 - 15:26:27 | 200 |  1.908030492s |       127.0.0.1 | POST     \"/api/generate\"\n",
      "[GIN] 2024/11/29 - 15:26:29 | 200 |  2.188632144s |       127.0.0.1 | POST     \"/api/generate\"\n",
      "[GIN] 2024/11/29 - 15:26:32 | 200 |  2.739275317s |       127.0.0.1 | POST     \"/api/generate\"\n",
      "[GIN] 2024/11/29 - 15:26:33 | 200 |   1.10955742s |       127.0.0.1 | POST     \"/api/generate\"\n",
      "[GIN] 2024/11/29 - 15:26:35 | 200 |   1.88224086s |       127.0.0.1 | POST     \"/api/generate\"\n",
      "[GIN] 2024/11/29 - 15:26:36 | 200 |  1.972928718s |       127.0.0.1 | POST     \"/api/generate\"\n",
      "[GIN] 2024/11/29 - 15:26:39 | 200 |  2.899291514s |       127.0.0.1 | POST     \"/api/generate\"\n",
      "[GIN] 2024/11/29 - 15:26:41 | 200 |  1.834528606s |       127.0.0.1 | POST     \"/api/generate\"\n",
      "[GIN] 2024/11/29 - 15:26:43 | 200 |  2.263093315s |       127.0.0.1 | POST     \"/api/generate\"\n",
      "[GIN] 2024/11/29 - 15:26:48 | 200 |  4.386458207s |       127.0.0.1 | POST     \"/api/generate\"\n"
     ]
    },
    {
     "name": "stderr",
     "output_type": "stream",
     "text": [
      " 29%|██▉       | 35/121 [16:48<37:30, 26.16s/it]"
     ]
    },
    {
     "name": "stdout",
     "output_type": "stream",
     "text": [
      "[GIN] 2024/11/29 - 15:26:50 | 200 |  2.240635391s |       127.0.0.1 | POST     \"/api/generate\"\n",
      "[GIN] 2024/11/29 - 15:26:52 | 200 |  1.521192876s |       127.0.0.1 | POST     \"/api/generate\"\n",
      "[GIN] 2024/11/29 - 15:26:53 | 200 |  947.203493ms |       127.0.0.1 | POST     \"/api/generate\"\n",
      "[GIN] 2024/11/29 - 15:26:57 | 200 |  4.115042646s |       127.0.0.1 | POST     \"/api/generate\"\n",
      "[GIN] 2024/11/29 - 15:26:58 | 200 |  1.018631862s |       127.0.0.1 | POST     \"/api/generate\"\n",
      "[GIN] 2024/11/29 - 15:27:00 | 200 |  1.893792385s |       127.0.0.1 | POST     \"/api/generate\"\n",
      "[GIN] 2024/11/29 - 15:27:12 | 200 | 12.327391331s |       127.0.0.1 | POST     \"/api/generate\"\n",
      "[GIN] 2024/11/29 - 15:27:18 | 200 |  6.012016976s |       127.0.0.1 | POST     \"/api/generate\"\n",
      "[GIN] 2024/11/29 - 15:27:21 | 200 |  2.594759621s |       127.0.0.1 | POST     \"/api/generate\"\n",
      "[GIN] 2024/11/29 - 15:27:25 | 200 |  4.781031049s |       127.0.0.1 | POST     \"/api/generate\"\n"
     ]
    },
    {
     "name": "stderr",
     "output_type": "stream",
     "text": [
      " 30%|██▉       | 36/121 [17:26<42:17, 29.85s/it]"
     ]
    },
    {
     "name": "stdout",
     "output_type": "stream",
     "text": [
      "[GIN] 2024/11/29 - 15:27:29 | 200 |  3.232204694s |       127.0.0.1 | POST     \"/api/generate\"\n",
      "[GIN] 2024/11/29 - 15:27:32 | 200 |  3.481707607s |       127.0.0.1 | POST     \"/api/generate\"\n",
      "[GIN] 2024/11/29 - 15:27:33 | 200 |  1.314798612s |       127.0.0.1 | POST     \"/api/generate\"\n",
      "[GIN] 2024/11/29 - 15:27:35 | 200 |  1.292773605s |       127.0.0.1 | POST     \"/api/generate\"\n",
      "[GIN] 2024/11/29 - 15:27:36 | 200 |  1.630100714s |       127.0.0.1 | POST     \"/api/generate\"\n",
      "[GIN] 2024/11/29 - 15:27:39 | 200 |  2.985477044s |       127.0.0.1 | POST     \"/api/generate\"\n",
      "[GIN] 2024/11/29 - 15:27:41 | 200 |  1.817710305s |       127.0.0.1 | POST     \"/api/generate\"\n",
      "[GIN] 2024/11/29 - 15:27:42 | 200 |  879.517749ms |       127.0.0.1 | POST     \"/api/generate\"\n",
      "[GIN] 2024/11/29 - 15:27:43 | 200 |  1.347387669s |       127.0.0.1 | POST     \"/api/generate\"\n",
      "[GIN] 2024/11/29 - 15:27:44 | 200 |  454.055355ms |       127.0.0.1 | POST     \"/api/generate\"\n"
     ]
    },
    {
     "name": "stderr",
     "output_type": "stream",
     "text": [
      " 31%|███       | 37/121 [17:44<36:44, 26.24s/it]"
     ]
    },
    {
     "name": "stdout",
     "output_type": "stream",
     "text": [
      "[GIN] 2024/11/29 - 15:27:46 | 200 |  2.583696533s |       127.0.0.1 | POST     \"/api/generate\"\n",
      "[GIN] 2024/11/29 - 15:27:50 | 200 |   3.40080313s |       127.0.0.1 | POST     \"/api/generate\"\n",
      "[GIN] 2024/11/29 - 15:27:52 | 200 |  2.466822055s |       127.0.0.1 | POST     \"/api/generate\"\n",
      "[GIN] 2024/11/29 - 15:27:55 | 200 |  2.275651471s |       127.0.0.1 | POST     \"/api/generate\"\n",
      "[GIN] 2024/11/29 - 15:27:55 | 200 |  819.481398ms |       127.0.0.1 | POST     \"/api/generate\"\n",
      "[GIN] 2024/11/29 - 15:28:01 | 200 |  5.362274452s |       127.0.0.1 | POST     \"/api/generate\"\n",
      "[GIN] 2024/11/29 - 15:28:02 | 200 |  1.749564427s |       127.0.0.1 | POST     \"/api/generate\"\n",
      "[GIN] 2024/11/29 - 15:28:07 | 200 |   4.21590623s |       127.0.0.1 | POST     \"/api/generate\"\n",
      "[GIN] 2024/11/29 - 15:28:09 | 200 |  2.299690916s |       127.0.0.1 | POST     \"/api/generate\"\n",
      "[GIN] 2024/11/29 - 15:28:11 | 200 |    2.4206601s |       127.0.0.1 | POST     \"/api/generate\"\n"
     ]
    },
    {
     "name": "stderr",
     "output_type": "stream",
     "text": [
      " 31%|███▏      | 38/121 [18:10<36:16, 26.22s/it]"
     ]
    },
    {
     "name": "stdout",
     "output_type": "stream",
     "text": [
      "[GIN] 2024/11/29 - 15:28:13 | 200 |   1.15526161s |       127.0.0.1 | POST     \"/api/generate\"\n",
      "[GIN] 2024/11/29 - 15:28:15 | 200 |  2.001974212s |       127.0.0.1 | POST     \"/api/generate\"\n",
      "[GIN] 2024/11/29 - 15:28:16 | 200 |  1.523715861s |       127.0.0.1 | POST     \"/api/generate\"\n",
      "[GIN] 2024/11/29 - 15:28:21 | 200 |  4.905726705s |       127.0.0.1 | POST     \"/api/generate\"\n",
      "[GIN] 2024/11/29 - 15:28:25 | 200 |  4.252239184s |       127.0.0.1 | POST     \"/api/generate\"\n",
      "[GIN] 2024/11/29 - 15:28:27 | 200 |  1.259055203s |       127.0.0.1 | POST     \"/api/generate\"\n",
      "[GIN] 2024/11/29 - 15:28:28 | 200 |  1.506274243s |       127.0.0.1 | POST     \"/api/generate\"\n",
      "[GIN] 2024/11/29 - 15:28:30 | 200 |    2.3375723s |       127.0.0.1 | POST     \"/api/generate\"\n",
      "[GIN] 2024/11/29 - 15:28:32 | 200 |  1.813665118s |       127.0.0.1 | POST     \"/api/generate\"\n",
      "[GIN] 2024/11/29 - 15:28:36 | 200 |  3.729631936s |       127.0.0.1 | POST     \"/api/generate\"\n"
     ]
    },
    {
     "name": "stderr",
     "output_type": "stream",
     "text": [
      " 32%|███▏      | 39/121 [18:36<35:35, 26.04s/it]"
     ]
    },
    {
     "name": "stdout",
     "output_type": "stream",
     "text": [
      "[GIN] 2024/11/29 - 15:28:38 | 200 |  2.267408161s |       127.0.0.1 | POST     \"/api/generate\"\n",
      "[GIN] 2024/11/29 - 15:28:41 | 200 |  2.321127185s |       127.0.0.1 | POST     \"/api/generate\"\n",
      "[GIN] 2024/11/29 - 15:28:43 | 200 |  2.013524028s |       127.0.0.1 | POST     \"/api/generate\"\n",
      "[GIN] 2024/11/29 - 15:28:44 | 200 |  1.907987754s |       127.0.0.1 | POST     \"/api/generate\"\n",
      "[GIN] 2024/11/29 - 15:28:48 | 200 |  3.145852784s |       127.0.0.1 | POST     \"/api/generate\"\n",
      "[GIN] 2024/11/29 - 15:28:49 | 200 |  1.147308415s |       127.0.0.1 | POST     \"/api/generate\"\n",
      "[GIN] 2024/11/29 - 15:28:50 | 200 |  786.131647ms |       127.0.0.1 | POST     \"/api/generate\"\n",
      "[GIN] 2024/11/29 - 15:28:51 | 200 |  1.440456386s |       127.0.0.1 | POST     \"/api/generate\"\n",
      "[GIN] 2024/11/29 - 15:28:53 | 200 |   1.57454148s |       127.0.0.1 | POST     \"/api/generate\"\n",
      "[GIN] 2024/11/29 - 15:28:54 | 200 |  1.962278532s |       127.0.0.1 | POST     \"/api/generate\"\n"
     ]
    },
    {
     "name": "stderr",
     "output_type": "stream",
     "text": [
      " 33%|███▎      | 40/121 [18:54<31:57, 23.68s/it]"
     ]
    },
    {
     "name": "stdout",
     "output_type": "stream",
     "text": [
      "[GIN] 2024/11/29 - 15:28:56 | 200 |  1.826080927s |       127.0.0.1 | POST     \"/api/generate\"\n",
      "[GIN] 2024/11/29 - 15:28:58 | 200 |  1.788624989s |       127.0.0.1 | POST     \"/api/generate\"\n",
      "[GIN] 2024/11/29 - 15:29:01 | 200 |  2.377575223s |       127.0.0.1 | POST     \"/api/generate\"\n",
      "[GIN] 2024/11/29 - 15:29:05 | 200 |  4.488078397s |       127.0.0.1 | POST     \"/api/generate\"\n",
      "[GIN] 2024/11/29 - 15:29:07 | 200 |  1.821785815s |       127.0.0.1 | POST     \"/api/generate\"\n",
      "[GIN] 2024/11/29 - 15:29:08 | 200 |  1.461629919s |       127.0.0.1 | POST     \"/api/generate\"\n",
      "[GIN] 2024/11/29 - 15:29:15 | 200 |  6.571100353s |       127.0.0.1 | POST     \"/api/generate\"\n",
      "[GIN] 2024/11/29 - 15:29:16 | 200 |  1.337783668s |       127.0.0.1 | POST     \"/api/generate\"\n",
      "[GIN] 2024/11/29 - 15:29:19 | 200 |   2.79423855s |       127.0.0.1 | POST     \"/api/generate\"\n",
      "[GIN] 2024/11/29 - 15:29:20 | 200 |  1.407439392s |       127.0.0.1 | POST     \"/api/generate\"\n"
     ]
    },
    {
     "name": "stderr",
     "output_type": "stream",
     "text": [
      " 34%|███▍      | 41/121 [19:22<33:27, 25.10s/it]"
     ]
    },
    {
     "name": "stdout",
     "output_type": "stream",
     "text": [
      "[GIN] 2024/11/29 - 15:29:25 | 200 |   4.34536869s |       127.0.0.1 | POST     \"/api/generate\"\n",
      "[GIN] 2024/11/29 - 15:29:27 | 200 |  2.064287942s |       127.0.0.1 | POST     \"/api/generate\"\n",
      "[GIN] 2024/11/29 - 15:29:29 | 200 |  2.439228477s |       127.0.0.1 | POST     \"/api/generate\"\n",
      "[GIN] 2024/11/29 - 15:29:33 | 200 |  4.213823204s |       127.0.0.1 | POST     \"/api/generate\"\n",
      "[GIN] 2024/11/29 - 15:29:36 | 200 |   2.36519292s |       127.0.0.1 | POST     \"/api/generate\"\n",
      "[GIN] 2024/11/29 - 15:29:39 | 200 |  3.308797203s |       127.0.0.1 | POST     \"/api/generate\"\n",
      "[GIN] 2024/11/29 - 15:29:40 | 200 |  1.316256912s |       127.0.0.1 | POST     \"/api/generate\"\n",
      "[GIN] 2024/11/29 - 15:29:46 | 200 |  5.466751432s |       127.0.0.1 | POST     \"/api/generate\"\n",
      "[GIN] 2024/11/29 - 15:29:48 | 200 |   1.92671035s |       127.0.0.1 | POST     \"/api/generate\"\n",
      "[GIN] 2024/11/29 - 15:29:50 | 200 |  1.795476708s |       127.0.0.1 | POST     \"/api/generate\"\n"
     ]
    },
    {
     "name": "stderr",
     "output_type": "stream",
     "text": [
      " 35%|███▍      | 42/121 [19:52<34:47, 26.43s/it]"
     ]
    },
    {
     "name": "stdout",
     "output_type": "stream",
     "text": [
      "[GIN] 2024/11/29 - 15:29:54 | 200 |  4.607527164s |       127.0.0.1 | POST     \"/api/generate\"\n",
      "[GIN] 2024/11/29 - 15:29:56 | 200 |  1.900712677s |       127.0.0.1 | POST     \"/api/generate\"\n",
      "[GIN] 2024/11/29 - 15:30:00 | 200 |  3.424765178s |       127.0.0.1 | POST     \"/api/generate\"\n",
      "[GIN] 2024/11/29 - 15:30:02 | 200 |  2.347059431s |       127.0.0.1 | POST     \"/api/generate\"\n",
      "[GIN] 2024/11/29 - 15:30:03 | 200 |  1.271924153s |       127.0.0.1 | POST     \"/api/generate\"\n",
      "[GIN] 2024/11/29 - 15:30:06 | 200 |  2.506805053s |       127.0.0.1 | POST     \"/api/generate\"\n",
      "[GIN] 2024/11/29 - 15:30:11 | 200 |  5.173429767s |       127.0.0.1 | POST     \"/api/generate\"\n",
      "[GIN] 2024/11/29 - 15:30:15 | 200 |  4.082300434s |       127.0.0.1 | POST     \"/api/generate\"\n",
      "[GIN] 2024/11/29 - 15:30:16 | 200 |  1.357981039s |       127.0.0.1 | POST     \"/api/generate\"\n",
      "[GIN] 2024/11/29 - 15:30:18 | 200 |  1.726228657s |       127.0.0.1 | POST     \"/api/generate\"\n"
     ]
    },
    {
     "name": "stderr",
     "output_type": "stream",
     "text": [
      " 36%|███▌      | 43/121 [20:17<33:53, 26.07s/it]"
     ]
    },
    {
     "name": "stdout",
     "output_type": "stream",
     "text": [
      "[GIN] 2024/11/29 - 15:30:19 | 200 |  1.415612492s |       127.0.0.1 | POST     \"/api/generate\"\n",
      "[GIN] 2024/11/29 - 15:30:22 | 200 |  2.596155334s |       127.0.0.1 | POST     \"/api/generate\"\n",
      "[GIN] 2024/11/29 - 15:30:24 | 200 |  1.432098098s |       127.0.0.1 | POST     \"/api/generate\"\n",
      "[GIN] 2024/11/29 - 15:30:26 | 200 |  2.031527946s |       127.0.0.1 | POST     \"/api/generate\"\n",
      "[GIN] 2024/11/29 - 15:30:29 | 200 |  3.331540842s |       127.0.0.1 | POST     \"/api/generate\"\n",
      "[GIN] 2024/11/29 - 15:30:32 | 200 |  3.314914587s |       127.0.0.1 | POST     \"/api/generate\"\n",
      "[GIN] 2024/11/29 - 15:30:37 | 200 |  5.282760621s |       127.0.0.1 | POST     \"/api/generate\"\n",
      "[GIN] 2024/11/29 - 15:30:39 | 200 |  1.306400369s |       127.0.0.1 | POST     \"/api/generate\"\n",
      "[GIN] 2024/11/29 - 15:30:42 | 200 |  3.168146259s |       127.0.0.1 | POST     \"/api/generate\"\n",
      "[GIN] 2024/11/29 - 15:30:43 | 200 |  1.158284088s |       127.0.0.1 | POST     \"/api/generate\"\n"
     ]
    },
    {
     "name": "stderr",
     "output_type": "stream",
     "text": [
      " 36%|███▋      | 44/121 [20:44<33:35, 26.18s/it]"
     ]
    },
    {
     "name": "stdout",
     "output_type": "stream",
     "text": [
      "[GIN] 2024/11/29 - 15:30:46 | 200 |  2.808483916s |       127.0.0.1 | POST     \"/api/generate\"\n",
      "[GIN] 2024/11/29 - 15:30:47 | 200 |  1.531991085s |       127.0.0.1 | POST     \"/api/generate\"\n",
      "[GIN] 2024/11/29 - 15:30:49 | 200 |  1.154135389s |       127.0.0.1 | POST     \"/api/generate\"\n",
      "[GIN] 2024/11/29 - 15:30:50 | 200 |  1.666587782s |       127.0.0.1 | POST     \"/api/generate\"\n",
      "[GIN] 2024/11/29 - 15:30:52 | 200 |  1.267117764s |       127.0.0.1 | POST     \"/api/generate\"\n",
      "[GIN] 2024/11/29 - 15:30:54 | 200 |  2.034716567s |       127.0.0.1 | POST     \"/api/generate\"\n",
      "[GIN] 2024/11/29 - 15:30:56 | 200 |  2.709542191s |       127.0.0.1 | POST     \"/api/generate\"\n",
      "[GIN] 2024/11/29 - 15:30:59 | 200 |  2.818013845s |       127.0.0.1 | POST     \"/api/generate\"\n",
      "[GIN] 2024/11/29 - 15:31:00 | 200 |   1.21843326s |       127.0.0.1 | POST     \"/api/generate\"\n",
      "[GIN] 2024/11/29 - 15:31:01 | 200 |  654.263977ms |       127.0.0.1 | POST     \"/api/generate\"\n"
     ]
    },
    {
     "name": "stderr",
     "output_type": "stream",
     "text": [
      " 37%|███▋      | 45/121 [21:12<33:52, 26.75s/it]"
     ]
    },
    {
     "name": "stdout",
     "output_type": "stream",
     "text": [
      "[GIN] 2024/11/29 - 15:31:14 | 200 | 12.988036141s |       127.0.0.1 | POST     \"/api/generate\"\n",
      "[GIN] 2024/11/29 - 15:31:16 | 200 |  1.859650253s |       127.0.0.1 | POST     \"/api/generate\"\n",
      "[GIN] 2024/11/29 - 15:31:21 | 200 |  5.265483213s |       127.0.0.1 | POST     \"/api/generate\"\n",
      "[GIN] 2024/11/29 - 15:31:24 | 200 |  2.577519678s |       127.0.0.1 | POST     \"/api/generate\"\n",
      "[GIN] 2024/11/29 - 15:31:26 | 200 |   2.35698385s |       127.0.0.1 | POST     \"/api/generate\"\n",
      "[GIN] 2024/11/29 - 15:31:31 | 200 |  5.136096861s |       127.0.0.1 | POST     \"/api/generate\"\n",
      "[GIN] 2024/11/29 - 15:31:33 | 200 |  1.420872158s |       127.0.0.1 | POST     \"/api/generate\"\n",
      "[GIN] 2024/11/29 - 15:31:34 | 200 |  1.057502295s |       127.0.0.1 | POST     \"/api/generate\"\n",
      "[GIN] 2024/11/29 - 15:31:36 | 200 |  2.022936365s |       127.0.0.1 | POST     \"/api/generate\"\n",
      "[GIN] 2024/11/29 - 15:31:38 | 200 |  2.175346808s |       127.0.0.1 | POST     \"/api/generate\"\n"
     ]
    },
    {
     "name": "stderr",
     "output_type": "stream",
     "text": [
      " 38%|███▊      | 46/121 [21:38<33:10, 26.54s/it]"
     ]
    },
    {
     "name": "stdout",
     "output_type": "stream",
     "text": [
      "[GIN] 2024/11/29 - 15:31:40 | 200 |  2.180397571s |       127.0.0.1 | POST     \"/api/generate\"\n",
      "[GIN] 2024/11/29 - 15:31:42 | 200 |  1.486627524s |       127.0.0.1 | POST     \"/api/generate\"\n",
      "[GIN] 2024/11/29 - 15:31:47 | 200 |  5.612676123s |       127.0.0.1 | POST     \"/api/generate\"\n",
      "[GIN] 2024/11/29 - 15:31:49 | 200 |  1.532134857s |       127.0.0.1 | POST     \"/api/generate\"\n",
      "[GIN] 2024/11/29 - 15:31:52 | 200 |  2.885216039s |       127.0.0.1 | POST     \"/api/generate\"\n",
      "[GIN] 2024/11/29 - 15:31:58 | 200 |  6.506676794s |       127.0.0.1 | POST     \"/api/generate\"\n",
      "[GIN] 2024/11/29 - 15:31:59 | 200 |  1.113072552s |       127.0.0.1 | POST     \"/api/generate\"\n",
      "[GIN] 2024/11/29 - 15:32:02 | 200 |  2.660264188s |       127.0.0.1 | POST     \"/api/generate\"\n",
      "[GIN] 2024/11/29 - 15:32:05 | 200 |  2.721226711s |       127.0.0.1 | POST     \"/api/generate\"\n",
      "[GIN] 2024/11/29 - 15:32:07 | 200 |   2.66169321s |       127.0.0.1 | POST     \"/api/generate\"\n"
     ]
    },
    {
     "name": "stderr",
     "output_type": "stream",
     "text": [
      " 39%|███▉      | 47/121 [22:06<33:30, 27.16s/it]"
     ]
    },
    {
     "name": "stdout",
     "output_type": "stream",
     "text": [
      "[GIN] 2024/11/29 - 15:32:09 | 200 |  1.421428476s |       127.0.0.1 | POST     \"/api/generate\"\n",
      "[GIN] 2024/11/29 - 15:32:12 | 200 |  2.961933972s |       127.0.0.1 | POST     \"/api/generate\"\n",
      "[GIN] 2024/11/29 - 15:32:14 | 200 |  1.992403884s |       127.0.0.1 | POST     \"/api/generate\"\n",
      "[GIN] 2024/11/29 - 15:32:16 | 200 |  2.072865575s |       127.0.0.1 | POST     \"/api/generate\"\n",
      "[GIN] 2024/11/29 - 15:32:19 | 200 |  2.972436532s |       127.0.0.1 | POST     \"/api/generate\"\n",
      "[GIN] 2024/11/29 - 15:32:21 | 200 |  2.423243309s |       127.0.0.1 | POST     \"/api/generate\"\n",
      "[GIN] 2024/11/29 - 15:32:24 | 200 |  2.771099493s |       127.0.0.1 | POST     \"/api/generate\"\n",
      "[GIN] 2024/11/29 - 15:32:25 | 200 |  1.587908827s |       127.0.0.1 | POST     \"/api/generate\"\n",
      "[GIN] 2024/11/29 - 15:32:29 | 200 |  3.235228296s |       127.0.0.1 | POST     \"/api/generate\"\n",
      "[GIN] 2024/11/29 - 15:32:40 | 200 | 11.679091783s |       127.0.0.1 | POST     \"/api/generate\"\n"
     ]
    },
    {
     "name": "stderr",
     "output_type": "stream",
     "text": [
      " 40%|███▉      | 48/121 [22:40<35:33, 29.23s/it]"
     ]
    },
    {
     "name": "stdout",
     "output_type": "stream",
     "text": [
      "[GIN] 2024/11/29 - 15:32:43 | 200 |  2.327305898s |       127.0.0.1 | POST     \"/api/generate\"\n",
      "[GIN] 2024/11/29 - 15:32:44 | 200 |   1.53108012s |       127.0.0.1 | POST     \"/api/generate\"\n",
      "[GIN] 2024/11/29 - 15:32:46 | 200 |  2.211643819s |       127.0.0.1 | POST     \"/api/generate\"\n",
      "[GIN] 2024/11/29 - 15:32:48 | 200 |  1.453580191s |       127.0.0.1 | POST     \"/api/generate\"\n",
      "[GIN] 2024/11/29 - 15:32:50 | 200 |  2.284372001s |       127.0.0.1 | POST     \"/api/generate\"\n",
      "[GIN] 2024/11/29 - 15:32:51 | 200 |  832.712459ms |       127.0.0.1 | POST     \"/api/generate\"\n",
      "[GIN] 2024/11/29 - 15:32:54 | 200 |  3.201990549s |       127.0.0.1 | POST     \"/api/generate\"\n",
      "[GIN] 2024/11/29 - 15:32:58 | 200 |  3.429593887s |       127.0.0.1 | POST     \"/api/generate\"\n",
      "[GIN] 2024/11/29 - 15:32:59 | 200 |  1.510757794s |       127.0.0.1 | POST     \"/api/generate\"\n",
      "[GIN] 2024/11/29 - 15:33:00 | 200 |  1.137057985s |       127.0.0.1 | POST     \"/api/generate\"\n"
     ]
    },
    {
     "name": "stderr",
     "output_type": "stream",
     "text": [
      " 40%|████      | 49/121 [22:59<31:22, 26.15s/it]"
     ]
    },
    {
     "name": "stdout",
     "output_type": "stream",
     "text": [
      "[GIN] 2024/11/29 - 15:33:02 | 200 |  1.355765425s |       127.0.0.1 | POST     \"/api/generate\"\n",
      "[GIN] 2024/11/29 - 15:33:06 | 200 |  4.230816496s |       127.0.0.1 | POST     \"/api/generate\"\n",
      "[GIN] 2024/11/29 - 15:33:08 | 200 |  2.524725898s |       127.0.0.1 | POST     \"/api/generate\"\n",
      "[GIN] 2024/11/29 - 15:33:10 | 200 |   1.19184661s |       127.0.0.1 | POST     \"/api/generate\"\n",
      "[GIN] 2024/11/29 - 15:33:11 | 200 |  872.323468ms |       127.0.0.1 | POST     \"/api/generate\"\n",
      "[GIN] 2024/11/29 - 15:33:12 | 200 |  1.105504945s |       127.0.0.1 | POST     \"/api/generate\"\n",
      "[GIN] 2024/11/29 - 15:33:16 | 200 |  4.762202008s |       127.0.0.1 | POST     \"/api/generate\"\n",
      "[GIN] 2024/11/29 - 15:33:18 | 200 |  1.579841661s |       127.0.0.1 | POST     \"/api/generate\"\n",
      "[GIN] 2024/11/29 - 15:33:22 | 200 |  3.762441088s |       127.0.0.1 | POST     \"/api/generate\"\n",
      "[GIN] 2024/11/29 - 15:33:24 | 200 |   2.52613308s |       127.0.0.1 | POST     \"/api/generate\"\n"
     ]
    },
    {
     "name": "stderr",
     "output_type": "stream",
     "text": [
      " 41%|████▏     | 50/121 [23:24<30:24, 25.70s/it]"
     ]
    },
    {
     "name": "stdout",
     "output_type": "stream",
     "text": [
      "[GIN] 2024/11/29 - 15:33:26 | 200 |  2.079989046s |       127.0.0.1 | POST     \"/api/generate\"\n",
      "[GIN] 2024/11/29 - 15:33:31 | 200 |  4.546324285s |       127.0.0.1 | POST     \"/api/generate\"\n",
      "[GIN] 2024/11/29 - 15:33:33 | 200 |  2.459427894s |       127.0.0.1 | POST     \"/api/generate\"\n",
      "[GIN] 2024/11/29 - 15:33:37 | 200 |  3.490838441s |       127.0.0.1 | POST     \"/api/generate\"\n",
      "[GIN] 2024/11/29 - 15:33:39 | 200 |  1.790668242s |       127.0.0.1 | POST     \"/api/generate\"\n",
      "[GIN] 2024/11/29 - 15:33:40 | 200 |  1.068478145s |       127.0.0.1 | POST     \"/api/generate\"\n",
      "[GIN] 2024/11/29 - 15:33:42 | 200 |   2.31431552s |       127.0.0.1 | POST     \"/api/generate\"\n",
      "[GIN] 2024/11/29 - 15:33:44 | 200 |  1.648145139s |       127.0.0.1 | POST     \"/api/generate\"\n",
      "[GIN] 2024/11/29 - 15:33:50 | 200 |  6.355490958s |       127.0.0.1 | POST     \"/api/generate\"\n",
      "[GIN] 2024/11/29 - 15:33:53 | 200 |  2.596042181s |       127.0.0.1 | POST     \"/api/generate\"\n"
     ]
    },
    {
     "name": "stderr",
     "output_type": "stream",
     "text": [
      " 42%|████▏     | 51/121 [23:54<31:32, 27.03s/it]"
     ]
    },
    {
     "name": "stdout",
     "output_type": "stream",
     "text": [
      "[GIN] 2024/11/29 - 15:33:56 | 200 |  3.839248253s |       127.0.0.1 | POST     \"/api/generate\"\n",
      "[GIN] 2024/11/29 - 15:33:57 | 200 |  853.904217ms |       127.0.0.1 | POST     \"/api/generate\"\n",
      "[GIN] 2024/11/29 - 15:34:02 | 200 |  4.670576124s |       127.0.0.1 | POST     \"/api/generate\"\n",
      "[GIN] 2024/11/29 - 15:34:06 | 200 |  3.999804549s |       127.0.0.1 | POST     \"/api/generate\"\n",
      "[GIN] 2024/11/29 - 15:34:10 | 200 |  3.589106278s |       127.0.0.1 | POST     \"/api/generate\"\n",
      "[GIN] 2024/11/29 - 15:34:13 | 200 |  3.447956657s |       127.0.0.1 | POST     \"/api/generate\"\n",
      "[GIN] 2024/11/29 - 15:34:15 | 200 |  1.743439771s |       127.0.0.1 | POST     \"/api/generate\"\n",
      "[GIN] 2024/11/29 - 15:34:17 | 200 |  1.975533271s |       127.0.0.1 | POST     \"/api/generate\"\n",
      "[GIN] 2024/11/29 - 15:34:19 | 200 |  1.941990353s |       127.0.0.1 | POST     \"/api/generate\"\n",
      "[GIN] 2024/11/29 - 15:34:20 | 200 |  1.171076139s |       127.0.0.1 | POST     \"/api/generate\"\n"
     ]
    },
    {
     "name": "stderr",
     "output_type": "stream",
     "text": [
      " 43%|████▎     | 52/121 [24:21<30:54, 26.87s/it]"
     ]
    },
    {
     "name": "stdout",
     "output_type": "stream",
     "text": [
      "[GIN] 2024/11/29 - 15:34:23 | 200 |  3.094020057s |       127.0.0.1 | POST     \"/api/generate\"\n",
      "[GIN] 2024/11/29 - 15:34:27 | 200 |   3.74863849s |       127.0.0.1 | POST     \"/api/generate\"\n",
      "[GIN] 2024/11/29 - 15:34:29 | 200 |  2.161392883s |       127.0.0.1 | POST     \"/api/generate\"\n",
      "[GIN] 2024/11/29 - 15:34:31 | 200 |  2.306947078s |       127.0.0.1 | POST     \"/api/generate\"\n",
      "[GIN] 2024/11/29 - 15:34:32 | 200 |  1.105101565s |       127.0.0.1 | POST     \"/api/generate\"\n",
      "[GIN] 2024/11/29 - 15:34:36 | 200 |  3.740061117s |       127.0.0.1 | POST     \"/api/generate\"\n",
      "[GIN] 2024/11/29 - 15:34:39 | 200 |  3.416029749s |       127.0.0.1 | POST     \"/api/generate\"\n",
      "[GIN] 2024/11/29 - 15:34:41 | 200 |  1.414857129s |       127.0.0.1 | POST     \"/api/generate\"\n",
      "[GIN] 2024/11/29 - 15:34:43 | 200 |  1.796528868s |       127.0.0.1 | POST     \"/api/generate\"\n",
      "[GIN] 2024/11/29 - 15:34:48 | 200 |  5.719737926s |       127.0.0.1 | POST     \"/api/generate\"\n"
     ]
    },
    {
     "name": "stderr",
     "output_type": "stream",
     "text": [
      " 44%|████▍     | 53/121 [24:49<30:57, 27.31s/it]"
     ]
    },
    {
     "name": "stdout",
     "output_type": "stream",
     "text": [
      "[GIN] 2024/11/29 - 15:34:51 | 200 |  2.905131749s |       127.0.0.1 | POST     \"/api/generate\"\n",
      "[GIN] 2024/11/29 - 15:34:52 | 200 |  929.152713ms |       127.0.0.1 | POST     \"/api/generate\"\n",
      "[GIN] 2024/11/29 - 15:34:55 | 200 |   3.18213789s |       127.0.0.1 | POST     \"/api/generate\"\n",
      "[GIN] 2024/11/29 - 15:34:56 | 200 |  684.713132ms |       127.0.0.1 | POST     \"/api/generate\"\n",
      "[GIN] 2024/11/29 - 15:34:59 | 200 |  3.281474748s |       127.0.0.1 | POST     \"/api/generate\"\n",
      "[GIN] 2024/11/29 - 15:35:02 | 200 |  2.973903248s |       127.0.0.1 | POST     \"/api/generate\"\n",
      "[GIN] 2024/11/29 - 15:35:06 | 200 |  3.432249838s |       127.0.0.1 | POST     \"/api/generate\"\n",
      "[GIN] 2024/11/29 - 15:35:07 | 200 |  1.068165142s |       127.0.0.1 | POST     \"/api/generate\"\n",
      "[GIN] 2024/11/29 - 15:35:08 | 200 |  1.570223911s |       127.0.0.1 | POST     \"/api/generate\"\n",
      "[GIN] 2024/11/29 - 15:35:12 | 200 |  3.370736469s |       127.0.0.1 | POST     \"/api/generate\"\n"
     ]
    },
    {
     "name": "stderr",
     "output_type": "stream",
     "text": [
      " 45%|████▍     | 54/121 [25:14<29:51, 26.74s/it]"
     ]
    },
    {
     "name": "stdout",
     "output_type": "stream",
     "text": [
      "[GIN] 2024/11/29 - 15:35:17 | 200 |   4.90728228s |       127.0.0.1 | POST     \"/api/generate\"\n",
      "[GIN] 2024/11/29 - 15:35:18 | 200 |  1.361201463s |       127.0.0.1 | POST     \"/api/generate\"\n",
      "[GIN] 2024/11/29 - 15:35:19 | 200 |  969.627945ms |       127.0.0.1 | POST     \"/api/generate\"\n",
      "[GIN] 2024/11/29 - 15:35:20 | 200 |  879.740827ms |       127.0.0.1 | POST     \"/api/generate\"\n",
      "[GIN] 2024/11/29 - 15:35:21 | 200 |  1.199081256s |       127.0.0.1 | POST     \"/api/generate\"\n",
      "[GIN] 2024/11/29 - 15:35:24 | 200 |  2.706385267s |       127.0.0.1 | POST     \"/api/generate\"\n",
      "[GIN] 2024/11/29 - 15:35:36 | 200 | 11.631811016s |       127.0.0.1 | POST     \"/api/generate\"\n",
      "[GIN] 2024/11/29 - 15:35:40 | 200 |   4.72494386s |       127.0.0.1 | POST     \"/api/generate\"\n",
      "[GIN] 2024/11/29 - 15:35:43 | 200 |   2.92773317s |       127.0.0.1 | POST     \"/api/generate\"\n",
      "[GIN] 2024/11/29 - 15:35:46 | 200 |  3.106621893s |       127.0.0.1 | POST     \"/api/generate\"\n"
     ]
    },
    {
     "name": "stderr",
     "output_type": "stream",
     "text": [
      " 45%|████▌     | 55/121 [25:46<31:02, 28.22s/it]"
     ]
    },
    {
     "name": "stdout",
     "output_type": "stream",
     "text": [
      "[GIN] 2024/11/29 - 15:35:48 | 200 |  2.126356405s |       127.0.0.1 | POST     \"/api/generate\"\n",
      "[GIN] 2024/11/29 - 15:35:50 | 200 |   1.46429626s |       127.0.0.1 | POST     \"/api/generate\"\n",
      "[GIN] 2024/11/29 - 15:35:51 | 200 |  1.516576435s |       127.0.0.1 | POST     \"/api/generate\"\n",
      "[GIN] 2024/11/29 - 15:35:55 | 200 |  3.381249819s |       127.0.0.1 | POST     \"/api/generate\"\n",
      "[GIN] 2024/11/29 - 15:35:59 | 200 |  3.928817211s |       127.0.0.1 | POST     \"/api/generate\"\n",
      "[GIN] 2024/11/29 - 15:36:02 | 200 |  3.673502783s |       127.0.0.1 | POST     \"/api/generate\"\n",
      "[GIN] 2024/11/29 - 15:36:03 | 200 |  1.003478437s |       127.0.0.1 | POST     \"/api/generate\"\n",
      "[GIN] 2024/11/29 - 15:36:05 | 200 |  1.447090128s |       127.0.0.1 | POST     \"/api/generate\"\n",
      "[GIN] 2024/11/29 - 15:57:13 | 200 |         21m8s |       127.0.0.1 | POST     \"/api/generate\"\n",
      "[GIN] 2024/11/29 - 15:57:16 | 200 |  2.912247225s |       127.0.0.1 | POST     \"/api/generate\"\n"
     ]
    },
    {
     "name": "stderr",
     "output_type": "stream",
     "text": [
      " 46%|████▋     | 56/121 [47:17<7:21:02, 407.12s/it]"
     ]
    },
    {
     "name": "stdout",
     "output_type": "stream",
     "text": [
      "[GIN] 2024/11/29 - 15:57:20 | 200 |  3.556546344s |       127.0.0.1 | POST     \"/api/generate\"\n",
      "[GIN] 2024/11/29 - 15:57:24 | 200 |  4.203103909s |       127.0.0.1 | POST     \"/api/generate\"\n",
      "[GIN] 2024/11/29 - 15:57:28 | 200 |  4.265968101s |       127.0.0.1 | POST     \"/api/generate\"\n",
      "[GIN] 2024/11/29 - 15:57:34 | 200 |  6.115721091s |       127.0.0.1 | POST     \"/api/generate\"\n",
      "[GIN] 2024/11/29 - 15:57:36 | 200 |  1.538416975s |       127.0.0.1 | POST     \"/api/generate\"\n",
      "[GIN] 2024/11/29 - 15:57:40 | 200 |    4.3825932s |       127.0.0.1 | POST     \"/api/generate\"\n",
      "[GIN] 2024/11/29 - 15:57:44 | 200 |  3.558519431s |       127.0.0.1 | POST     \"/api/generate\"\n",
      "[GIN] 2024/11/29 - 15:57:45 | 200 |  1.727791118s |       127.0.0.1 | POST     \"/api/generate\"\n",
      "[GIN] 2024/11/29 - 15:57:47 | 200 |  1.960426148s |       127.0.0.1 | POST     \"/api/generate\"\n",
      "[GIN] 2024/11/29 - 15:57:49 | 200 |  1.560840915s |       127.0.0.1 | POST     \"/api/generate\"\n"
     ]
    },
    {
     "name": "stderr",
     "output_type": "stream",
     "text": [
      " 47%|████▋     | 57/121 [47:49<5:14:07, 294.50s/it]"
     ]
    },
    {
     "name": "stdout",
     "output_type": "stream",
     "text": [
      "[GIN] 2024/11/29 - 15:57:51 | 200 |  2.378959437s |       127.0.0.1 | POST     \"/api/generate\"\n",
      "[GIN] 2024/11/29 - 15:57:56 | 200 |  4.728510972s |       127.0.0.1 | POST     \"/api/generate\"\n",
      "[GIN] 2024/11/29 - 15:57:58 | 200 |  2.113674965s |       127.0.0.1 | POST     \"/api/generate\"\n",
      "[GIN] 2024/11/29 - 15:58:04 | 200 |  5.847003403s |       127.0.0.1 | POST     \"/api/generate\"\n",
      "[GIN] 2024/11/29 - 15:58:06 | 200 |  2.273781377s |       127.0.0.1 | POST     \"/api/generate\"\n",
      "[GIN] 2024/11/29 - 15:58:09 | 200 |  2.757579035s |       127.0.0.1 | POST     \"/api/generate\"\n",
      "[GIN] 2024/11/29 - 15:58:12 | 200 |  2.507087068s |       127.0.0.1 | POST     \"/api/generate\"\n",
      "[GIN] 2024/11/29 - 15:58:13 | 200 |  1.681319958s |       127.0.0.1 | POST     \"/api/generate\"\n",
      "[GIN] 2024/11/29 - 15:58:20 | 200 |  6.273238798s |       127.0.0.1 | POST     \"/api/generate\"\n",
      "[GIN] 2024/11/29 - 15:58:21 | 200 |  1.237748207s |       127.0.0.1 | POST     \"/api/generate\"\n"
     ]
    },
    {
     "name": "stderr",
     "output_type": "stream",
     "text": [
      " 48%|████▊     | 58/121 [48:25<3:47:37, 216.79s/it]"
     ]
    },
    {
     "name": "stdout",
     "output_type": "stream",
     "text": [
      "[GIN] 2024/11/29 - 15:58:27 | 200 |  6.030011986s |       127.0.0.1 | POST     \"/api/generate\"\n",
      "[GIN] 2024/11/29 - 15:58:28 | 200 |  912.386212ms |       127.0.0.1 | POST     \"/api/generate\"\n",
      "[GIN] 2024/11/29 - 15:58:31 | 200 |  2.782157195s |       127.0.0.1 | POST     \"/api/generate\"\n",
      "[GIN] 2024/11/29 - 15:58:34 | 200 |  3.250078535s |       127.0.0.1 | POST     \"/api/generate\"\n",
      "[GIN] 2024/11/29 - 15:58:35 | 200 |  1.382325131s |       127.0.0.1 | POST     \"/api/generate\"\n",
      "[GIN] 2024/11/29 - 15:58:37 | 200 |  1.674602314s |       127.0.0.1 | POST     \"/api/generate\"\n",
      "[GIN] 2024/11/29 - 15:58:38 | 200 |  1.441851616s |       127.0.0.1 | POST     \"/api/generate\"\n",
      "[GIN] 2024/11/29 - 15:58:42 | 200 |  4.061281153s |       127.0.0.1 | POST     \"/api/generate\"\n",
      "[GIN] 2024/11/29 - 15:58:44 | 200 |  1.540203596s |       127.0.0.1 | POST     \"/api/generate\"\n",
      "[GIN] 2024/11/29 - 15:58:50 | 200 |  5.814512262s |       127.0.0.1 | POST     \"/api/generate\"\n"
     ]
    },
    {
     "name": "stderr",
     "output_type": "stream",
     "text": [
      " 49%|████▉     | 59/121 [48:54<2:45:52, 160.52s/it]"
     ]
    },
    {
     "name": "stdout",
     "output_type": "stream",
     "text": [
      "[GIN] 2024/11/29 - 15:58:56 | 200 |   6.35148147s |       127.0.0.1 | POST     \"/api/generate\"\n",
      "[GIN] 2024/11/29 - 15:58:58 | 200 |  1.776741026s |       127.0.0.1 | POST     \"/api/generate\"\n",
      "[GIN] 2024/11/29 - 15:58:59 | 200 |  1.268352064s |       127.0.0.1 | POST     \"/api/generate\"\n",
      "[GIN] 2024/11/29 - 15:59:00 | 200 |  1.126907687s |       127.0.0.1 | POST     \"/api/generate\"\n",
      "[GIN] 2024/11/29 - 15:59:02 | 200 |  1.371414852s |       127.0.0.1 | POST     \"/api/generate\"\n",
      "[GIN] 2024/11/29 - 15:59:03 | 200 |  1.743216946s |       127.0.0.1 | POST     \"/api/generate\"\n",
      "[GIN] 2024/11/29 - 15:59:08 | 200 |   4.81141582s |       127.0.0.1 | POST     \"/api/generate\"\n",
      "[GIN] 2024/11/29 - 15:59:12 | 200 |  3.904876052s |       127.0.0.1 | POST     \"/api/generate\"\n",
      "[GIN] 2024/11/29 - 15:59:17 | 200 |  4.578474093s |       127.0.0.1 | POST     \"/api/generate\"\n",
      "[GIN] 2024/11/29 - 15:59:20 | 200 |  3.606432046s |       127.0.0.1 | POST     \"/api/generate\"\n"
     ]
    },
    {
     "name": "stderr",
     "output_type": "stream",
     "text": [
      " 50%|████▉     | 60/121 [49:20<2:02:08, 120.14s/it]"
     ]
    },
    {
     "name": "stdout",
     "output_type": "stream",
     "text": [
      "[GIN] 2024/11/29 - 15:59:22 | 200 |  1.666660111s |       127.0.0.1 | POST     \"/api/generate\"\n",
      "[GIN] 2024/11/29 - 15:59:25 | 200 |  3.010276954s |       127.0.0.1 | POST     \"/api/generate\"\n",
      "[GIN] 2024/11/29 - 15:59:27 | 200 |  2.188650575s |       127.0.0.1 | POST     \"/api/generate\"\n",
      "[GIN] 2024/11/29 - 15:59:31 | 200 |  3.506090502s |       127.0.0.1 | POST     \"/api/generate\"\n",
      "[GIN] 2024/11/29 - 15:59:32 | 200 |  1.717187725s |       127.0.0.1 | POST     \"/api/generate\"\n",
      "[GIN] 2024/11/29 - 15:59:36 | 200 |  3.399411858s |       127.0.0.1 | POST     \"/api/generate\"\n",
      "[GIN] 2024/11/29 - 15:59:38 | 200 |  2.633661178s |       127.0.0.1 | POST     \"/api/generate\"\n",
      "[GIN] 2024/11/29 - 15:59:44 | 200 |  5.757442931s |       127.0.0.1 | POST     \"/api/generate\"\n",
      "[GIN] 2024/11/29 - 15:59:46 | 200 |  1.809980484s |       127.0.0.1 | POST     \"/api/generate\"\n",
      "[GIN] 2024/11/29 - 15:59:47 | 200 |  1.124867163s |       127.0.0.1 | POST     \"/api/generate\"\n"
     ]
    },
    {
     "name": "stderr",
     "output_type": "stream",
     "text": [
      " 50%|█████     | 61/121 [49:46<1:32:02, 92.04s/it] "
     ]
    },
    {
     "name": "stdout",
     "output_type": "stream",
     "text": [
      "[GIN] 2024/11/29 - 15:59:48 | 200 |  1.315659398s |       127.0.0.1 | POST     \"/api/generate\"\n",
      "[GIN] 2024/11/29 - 15:59:49 | 200 |  514.770801ms |       127.0.0.1 | POST     \"/api/generate\"\n",
      "[GIN] 2024/11/29 - 15:59:54 | 200 |  5.462081087s |       127.0.0.1 | POST     \"/api/generate\"\n",
      "[GIN] 2024/11/29 - 15:59:56 | 200 |   1.64780876s |       127.0.0.1 | POST     \"/api/generate\"\n",
      "[GIN] 2024/11/29 - 15:59:58 | 200 |  1.988640576s |       127.0.0.1 | POST     \"/api/generate\"\n",
      "[GIN] 2024/11/29 - 16:00:01 | 200 |  2.988205299s |       127.0.0.1 | POST     \"/api/generate\"\n",
      "[GIN] 2024/11/29 - 16:00:02 | 200 |  1.442100255s |       127.0.0.1 | POST     \"/api/generate\"\n",
      "[GIN] 2024/11/29 - 16:00:07 | 200 |  4.750929291s |       127.0.0.1 | POST     \"/api/generate\"\n",
      "[GIN] 2024/11/29 - 16:00:10 | 200 |  2.924035005s |       127.0.0.1 | POST     \"/api/generate\"\n",
      "[GIN] 2024/11/29 - 16:00:11 | 200 |  1.088690267s |       127.0.0.1 | POST     \"/api/generate\"\n"
     ]
    },
    {
     "name": "stderr",
     "output_type": "stream",
     "text": [
      " 51%|█████     | 62/121 [50:14<1:11:31, 72.73s/it]"
     ]
    },
    {
     "name": "stdout",
     "output_type": "stream",
     "text": [
      "[GIN] 2024/11/29 - 16:00:16 | 200 |  4.842572519s |       127.0.0.1 | POST     \"/api/generate\"\n",
      "[GIN] 2024/11/29 - 16:00:18 | 200 |  1.702447797s |       127.0.0.1 | POST     \"/api/generate\"\n",
      "[GIN] 2024/11/29 - 16:00:24 | 200 |  6.474355023s |       127.0.0.1 | POST     \"/api/generate\"\n",
      "[GIN] 2024/11/29 - 16:00:27 | 200 |  2.443314622s |       127.0.0.1 | POST     \"/api/generate\"\n",
      "[GIN] 2024/11/29 - 16:00:31 | 200 |  4.523903161s |       127.0.0.1 | POST     \"/api/generate\"\n",
      "[GIN] 2024/11/29 - 16:00:33 | 200 |  1.521058776s |       127.0.0.1 | POST     \"/api/generate\"\n",
      "[GIN] 2024/11/29 - 16:00:36 | 200 |  3.010285911s |       127.0.0.1 | POST     \"/api/generate\"\n",
      "[GIN] 2024/11/29 - 16:00:37 | 200 |  1.266588088s |       127.0.0.1 | POST     \"/api/generate\"\n",
      "[GIN] 2024/11/29 - 16:00:40 | 200 |  2.539387593s |       127.0.0.1 | POST     \"/api/generate\"\n",
      "[GIN] 2024/11/29 - 16:00:40 | 200 |  763.416299ms |       127.0.0.1 | POST     \"/api/generate\"\n"
     ]
    },
    {
     "name": "stderr",
     "output_type": "stream",
     "text": [
      " 52%|█████▏    | 63/121 [50:42<57:28, 59.46s/it]  "
     ]
    },
    {
     "name": "stdout",
     "output_type": "stream",
     "text": [
      "[GIN] 2024/11/29 - 16:00:45 | 200 |  4.218042535s |       127.0.0.1 | POST     \"/api/generate\"\n",
      "[GIN] 2024/11/29 - 16:00:50 | 200 |   5.69130942s |       127.0.0.1 | POST     \"/api/generate\"\n",
      "[GIN] 2024/11/29 - 16:00:55 | 200 |  4.821284261s |       127.0.0.1 | POST     \"/api/generate\"\n",
      "[GIN] 2024/11/29 - 16:00:57 | 200 |  1.522731047s |       127.0.0.1 | POST     \"/api/generate\"\n",
      "[GIN] 2024/11/29 - 16:00:58 | 200 |  879.808275ms |       127.0.0.1 | POST     \"/api/generate\"\n",
      "[GIN] 2024/11/29 - 16:00:59 | 200 |  1.003582293s |       127.0.0.1 | POST     \"/api/generate\"\n",
      "[GIN] 2024/11/29 - 16:01:01 | 200 |  2.418998497s |       127.0.0.1 | POST     \"/api/generate\"\n",
      "[GIN] 2024/11/29 - 16:01:02 | 200 |  1.440761275s |       127.0.0.1 | POST     \"/api/generate\"\n",
      "[GIN] 2024/11/29 - 16:01:07 | 200 |   4.85447407s |       127.0.0.1 | POST     \"/api/generate\"\n",
      "[GIN] 2024/11/29 - 16:01:10 | 200 |  2.947041672s |       127.0.0.1 | POST     \"/api/generate\"\n"
     ]
    },
    {
     "name": "stderr",
     "output_type": "stream",
     "text": [
      " 53%|█████▎    | 64/121 [51:11<47:38, 50.14s/it]"
     ]
    },
    {
     "name": "stdout",
     "output_type": "stream",
     "text": [
      "[GIN] 2024/11/29 - 16:01:13 | 200 |  2.812046579s |       127.0.0.1 | POST     \"/api/generate\"\n",
      "[GIN] 2024/11/29 - 16:01:15 | 200 |  1.965189145s |       127.0.0.1 | POST     \"/api/generate\"\n",
      "[GIN] 2024/11/29 - 16:01:18 | 200 |  3.054113718s |       127.0.0.1 | POST     \"/api/generate\"\n",
      "[GIN] 2024/11/29 - 16:01:23 | 200 |  4.656475703s |       127.0.0.1 | POST     \"/api/generate\"\n",
      "[GIN] 2024/11/29 - 16:01:28 | 200 |  5.552139694s |       127.0.0.1 | POST     \"/api/generate\"\n",
      "[GIN] 2024/11/29 - 16:01:30 | 200 |  1.383227817s |       127.0.0.1 | POST     \"/api/generate\"\n",
      "[GIN] 2024/11/29 - 16:01:33 | 200 |  2.960584212s |       127.0.0.1 | POST     \"/api/generate\"\n",
      "[GIN] 2024/11/29 - 16:01:35 | 200 |   2.46598236s |       127.0.0.1 | POST     \"/api/generate\"\n",
      "[GIN] 2024/11/29 - 16:01:38 | 200 |  2.694585772s |       127.0.0.1 | POST     \"/api/generate\"\n",
      "[GIN] 2024/11/29 - 16:01:40 | 200 |   2.67822563s |       127.0.0.1 | POST     \"/api/generate\"\n"
     ]
    },
    {
     "name": "stderr",
     "output_type": "stream",
     "text": [
      " 54%|█████▎    | 65/121 [51:40<40:52, 43.80s/it]"
     ]
    },
    {
     "name": "stdout",
     "output_type": "stream",
     "text": [
      "[GIN] 2024/11/29 - 16:01:42 | 200 |   1.56532225s |       127.0.0.1 | POST     \"/api/generate\"\n",
      "[GIN] 2024/11/29 - 16:01:44 | 200 |  2.354669579s |       127.0.0.1 | POST     \"/api/generate\"\n",
      "[GIN] 2024/11/29 - 16:01:48 | 200 |  3.916193069s |       127.0.0.1 | POST     \"/api/generate\"\n",
      "[GIN] 2024/11/29 - 16:01:50 | 200 |  1.673716781s |       127.0.0.1 | POST     \"/api/generate\"\n",
      "[GIN] 2024/11/29 - 16:01:52 | 200 |  2.407635973s |       127.0.0.1 | POST     \"/api/generate\"\n",
      "[GIN] 2024/11/29 - 16:02:04 | 200 | 11.606313989s |       127.0.0.1 | POST     \"/api/generate\"\n",
      "[GIN] 2024/11/29 - 16:02:07 | 200 |  2.904139115s |       127.0.0.1 | POST     \"/api/generate\"\n",
      "[GIN] 2024/11/29 - 16:02:11 | 200 |  3.841198724s |       127.0.0.1 | POST     \"/api/generate\"\n",
      "[GIN] 2024/11/29 - 16:02:16 | 200 |  5.239241409s |       127.0.0.1 | POST     \"/api/generate\"\n",
      "[GIN] 2024/11/29 - 16:02:17 | 200 |  1.214992297s |       127.0.0.1 | POST     \"/api/generate\"\n"
     ]
    },
    {
     "name": "stderr",
     "output_type": "stream",
     "text": [
      " 55%|█████▍    | 66/121 [52:22<39:43, 43.34s/it]"
     ]
    },
    {
     "name": "stdout",
     "output_type": "stream",
     "text": [
      "[GIN] 2024/11/29 - 16:02:24 | 200 |  7.096241267s |       127.0.0.1 | POST     \"/api/generate\"\n",
      "[GIN] 2024/11/29 - 16:02:25 | 200 |  1.011372785s |       127.0.0.1 | POST     \"/api/generate\"\n",
      "[GIN] 2024/11/29 - 16:02:26 | 200 |  636.662907ms |       127.0.0.1 | POST     \"/api/generate\"\n",
      "[GIN] 2024/11/29 - 16:02:27 | 200 |  988.470192ms |       127.0.0.1 | POST     \"/api/generate\"\n",
      "[GIN] 2024/11/29 - 16:02:30 | 200 |  3.219497796s |       127.0.0.1 | POST     \"/api/generate\"\n",
      "[GIN] 2024/11/29 - 16:02:32 | 200 |  1.853953063s |       127.0.0.1 | POST     \"/api/generate\"\n",
      "[GIN] 2024/11/29 - 16:02:36 | 200 |  3.517716602s |       127.0.0.1 | POST     \"/api/generate\"\n",
      "[GIN] 2024/11/29 - 16:02:42 | 200 |   6.33709976s |       127.0.0.1 | POST     \"/api/generate\"\n",
      "[GIN] 2024/11/29 - 16:02:46 | 200 |   3.82661643s |       127.0.0.1 | POST     \"/api/generate\"\n",
      "[GIN] 2024/11/29 - 16:02:48 | 200 |  2.545435466s |       127.0.0.1 | POST     \"/api/generate\"\n"
     ]
    },
    {
     "name": "stderr",
     "output_type": "stream",
     "text": [
      " 55%|█████▌    | 67/121 [52:48<34:20, 38.16s/it]"
     ]
    },
    {
     "name": "stdout",
     "output_type": "stream",
     "text": [
      "[GIN] 2024/11/29 - 16:02:50 | 200 |  2.117869614s |       127.0.0.1 | POST     \"/api/generate\"\n",
      "[GIN] 2024/11/29 - 16:02:54 | 200 |  3.205734138s |       127.0.0.1 | POST     \"/api/generate\"\n",
      "[GIN] 2024/11/29 - 16:02:59 | 200 |  5.270212995s |       127.0.0.1 | POST     \"/api/generate\"\n",
      "[GIN] 2024/11/29 - 16:03:07 | 200 |  8.565175023s |       127.0.0.1 | POST     \"/api/generate\"\n",
      "[GIN] 2024/11/29 - 16:03:08 | 200 |  690.488829ms |       127.0.0.1 | POST     \"/api/generate\"\n",
      "[GIN] 2024/11/29 - 16:03:12 | 200 |  4.221448332s |       127.0.0.1 | POST     \"/api/generate\"\n",
      "[GIN] 2024/11/29 - 16:03:15 | 200 |  2.678791813s |       127.0.0.1 | POST     \"/api/generate\"\n",
      "[GIN] 2024/11/29 - 16:03:18 | 200 |  2.968105031s |       127.0.0.1 | POST     \"/api/generate\"\n",
      "[GIN] 2024/11/29 - 16:03:22 | 200 |   4.43236048s |       127.0.0.1 | POST     \"/api/generate\"\n",
      "[GIN] 2024/11/29 - 16:03:25 | 200 |  2.663385777s |       127.0.0.1 | POST     \"/api/generate\"\n"
     ]
    },
    {
     "name": "stderr",
     "output_type": "stream",
     "text": [
      " 56%|█████▌    | 68/121 [53:27<33:48, 38.28s/it]"
     ]
    },
    {
     "name": "stdout",
     "output_type": "stream",
     "text": [
      "[GIN] 2024/11/29 - 16:03:29 | 200 |  3.839601529s |       127.0.0.1 | POST     \"/api/generate\"\n",
      "[GIN] 2024/11/29 - 16:03:34 | 200 |  5.429255114s |       127.0.0.1 | POST     \"/api/generate\"\n",
      "[GIN] 2024/11/29 - 16:03:36 | 200 |  1.413600598s |       127.0.0.1 | POST     \"/api/generate\"\n",
      "[GIN] 2024/11/29 - 16:03:38 | 200 |   2.47871263s |       127.0.0.1 | POST     \"/api/generate\"\n",
      "[GIN] 2024/11/29 - 16:03:39 | 200 |  1.161462687s |       127.0.0.1 | POST     \"/api/generate\"\n",
      "[GIN] 2024/11/29 - 16:03:47 | 200 |  7.901126556s |       127.0.0.1 | POST     \"/api/generate\"\n",
      "[GIN] 2024/11/29 - 16:03:49 | 200 |   1.65038537s |       127.0.0.1 | POST     \"/api/generate\"\n",
      "[GIN] 2024/11/29 - 16:03:51 | 200 |  2.006431833s |       127.0.0.1 | POST     \"/api/generate\"\n",
      "[GIN] 2024/11/29 - 16:03:52 | 200 |  1.182128848s |       127.0.0.1 | POST     \"/api/generate\"\n",
      "[GIN] 2024/11/29 - 16:03:55 | 200 |  2.804812701s |       127.0.0.1 | POST     \"/api/generate\"\n"
     ]
    },
    {
     "name": "stderr",
     "output_type": "stream",
     "text": [
      " 57%|█████▋    | 69/121 [53:56<30:45, 35.49s/it]"
     ]
    },
    {
     "name": "stdout",
     "output_type": "stream",
     "text": [
      "[GIN] 2024/11/29 - 16:03:58 | 200 |  2.921660997s |       127.0.0.1 | POST     \"/api/generate\"\n",
      "[GIN] 2024/11/29 - 16:04:00 | 200 |  2.475340064s |       127.0.0.1 | POST     \"/api/generate\"\n",
      "[GIN] 2024/11/29 - 16:04:03 | 200 |  3.117584448s |       127.0.0.1 | POST     \"/api/generate\"\n",
      "[GIN] 2024/11/29 - 16:04:05 | 200 |  1.358759037s |       127.0.0.1 | POST     \"/api/generate\"\n",
      "[GIN] 2024/11/29 - 16:04:06 | 200 |  1.364330295s |       127.0.0.1 | POST     \"/api/generate\"\n",
      "[GIN] 2024/11/29 - 16:04:11 | 200 |   5.17142675s |       127.0.0.1 | POST     \"/api/generate\"\n",
      "[GIN] 2024/11/29 - 16:04:13 | 200 |  1.516113265s |       127.0.0.1 | POST     \"/api/generate\"\n",
      "[GIN] 2024/11/29 - 16:04:16 | 200 |  3.079579945s |       127.0.0.1 | POST     \"/api/generate\"\n",
      "[GIN] 2024/11/29 - 16:04:17 | 200 |  1.278515946s |       127.0.0.1 | POST     \"/api/generate\"\n",
      "[GIN] 2024/11/29 - 16:04:18 | 200 |  651.166594ms |       127.0.0.1 | POST     \"/api/generate\"\n"
     ]
    },
    {
     "name": "stderr",
     "output_type": "stream",
     "text": [
      " 58%|█████▊    | 70/121 [54:17<26:35, 31.29s/it]"
     ]
    },
    {
     "name": "stdout",
     "output_type": "stream",
     "text": [
      "[GIN] 2024/11/29 - 16:04:19 | 200 |  1.473604645s |       127.0.0.1 | POST     \"/api/generate\"\n",
      "[GIN] 2024/11/29 - 16:04:22 | 200 |  2.749392459s |       127.0.0.1 | POST     \"/api/generate\"\n",
      "[GIN] 2024/11/29 - 16:04:24 | 200 |  1.674806395s |       127.0.0.1 | POST     \"/api/generate\"\n",
      "[GIN] 2024/11/29 - 16:04:26 | 200 |  2.577053369s |       127.0.0.1 | POST     \"/api/generate\"\n",
      "[GIN] 2024/11/29 - 16:04:29 | 200 |  2.565207632s |       127.0.0.1 | POST     \"/api/generate\"\n",
      "[GIN] 2024/11/29 - 16:04:34 | 200 |  4.676252176s |       127.0.0.1 | POST     \"/api/generate\"\n",
      "[GIN] 2024/11/29 - 16:04:39 | 200 |  5.625954267s |       127.0.0.1 | POST     \"/api/generate\"\n",
      "[GIN] 2024/11/29 - 16:04:42 | 200 |  2.966570998s |       127.0.0.1 | POST     \"/api/generate\"\n",
      "[GIN] 2024/11/29 - 16:04:44 | 200 |     2.199714s |       127.0.0.1 | POST     \"/api/generate\"\n",
      "[GIN] 2024/11/29 - 16:04:48 | 200 |  3.204869371s |       127.0.0.1 | POST     \"/api/generate\"\n"
     ]
    },
    {
     "name": "stderr",
     "output_type": "stream",
     "text": [
      " 59%|█████▊    | 71/121 [54:52<27:03, 32.47s/it]"
     ]
    },
    {
     "name": "stdout",
     "output_type": "stream",
     "text": [
      "[GIN] 2024/11/29 - 16:04:55 | 200 |  6.949477124s |       127.0.0.1 | POST     \"/api/generate\"\n",
      "[GIN] 2024/11/29 - 16:04:56 | 200 |  1.797244356s |       127.0.0.1 | POST     \"/api/generate\"\n",
      "[GIN] 2024/11/29 - 16:05:09 | 200 | 12.965788063s |       127.0.0.1 | POST     \"/api/generate\"\n",
      "[GIN] 2024/11/29 - 16:05:13 | 200 |  3.164678956s |       127.0.0.1 | POST     \"/api/generate\"\n",
      "[GIN] 2024/11/29 - 16:05:14 | 200 |  1.874997053s |       127.0.0.1 | POST     \"/api/generate\"\n",
      "[GIN] 2024/11/29 - 16:05:18 | 200 |  3.263905027s |       127.0.0.1 | POST     \"/api/generate\"\n",
      "[GIN] 2024/11/29 - 16:05:19 | 200 |  1.491051164s |       127.0.0.1 | POST     \"/api/generate\"\n",
      "[GIN] 2024/11/29 - 16:05:20 | 200 |  1.254211571s |       127.0.0.1 | POST     \"/api/generate\"\n",
      "[GIN] 2024/11/29 - 16:05:22 | 200 |  1.382029047s |       127.0.0.1 | POST     \"/api/generate\"\n",
      "[GIN] 2024/11/29 - 16:05:25 | 200 |  3.684658697s |       127.0.0.1 | POST     \"/api/generate\"\n"
     ]
    },
    {
     "name": "stderr",
     "output_type": "stream",
     "text": [
      " 60%|█████▉    | 72/121 [55:27<27:01, 33.10s/it]"
     ]
    },
    {
     "name": "stdout",
     "output_type": "stream",
     "text": [
      "[GIN] 2024/11/29 - 16:05:29 | 200 |  3.683071285s |       127.0.0.1 | POST     \"/api/generate\"\n",
      "[GIN] 2024/11/29 - 16:05:31 | 200 |  1.868158327s |       127.0.0.1 | POST     \"/api/generate\"\n",
      "[GIN] 2024/11/29 - 16:05:36 | 200 |  4.976049946s |       127.0.0.1 | POST     \"/api/generate\"\n",
      "[GIN] 2024/11/29 - 16:05:40 | 200 |  4.331420548s |       127.0.0.1 | POST     \"/api/generate\"\n",
      "[GIN] 2024/11/29 - 16:05:42 | 200 |  1.450802874s |       127.0.0.1 | POST     \"/api/generate\"\n",
      "[GIN] 2024/11/29 - 16:05:43 | 200 |  1.295514898s |       127.0.0.1 | POST     \"/api/generate\"\n",
      "[GIN] 2024/11/29 - 16:05:46 | 200 |  2.530212304s |       127.0.0.1 | POST     \"/api/generate\"\n",
      "[GIN] 2024/11/29 - 16:05:49 | 200 |  3.408842382s |       127.0.0.1 | POST     \"/api/generate\"\n",
      "[GIN] 2024/11/29 - 16:05:50 | 200 |  802.662054ms |       127.0.0.1 | POST     \"/api/generate\"\n",
      "[GIN] 2024/11/29 - 16:05:51 | 200 |  1.572306044s |       127.0.0.1 | POST     \"/api/generate\"\n"
     ]
    },
    {
     "name": "stderr",
     "output_type": "stream",
     "text": [
      " 60%|██████    | 73/121 [55:56<25:28, 31.84s/it]"
     ]
    },
    {
     "name": "stdout",
     "output_type": "stream",
     "text": [
      "[GIN] 2024/11/29 - 16:05:58 | 200 |  6.644121865s |       127.0.0.1 | POST     \"/api/generate\"\n",
      "[GIN] 2024/11/29 - 16:06:02 | 200 |  3.803006047s |       127.0.0.1 | POST     \"/api/generate\"\n",
      "[GIN] 2024/11/29 - 16:06:05 | 200 |  3.408507202s |       127.0.0.1 | POST     \"/api/generate\"\n",
      "[GIN] 2024/11/29 - 16:06:06 | 200 |  1.204048666s |       127.0.0.1 | POST     \"/api/generate\"\n",
      "[GIN] 2024/11/29 - 16:06:07 | 200 |  993.653552ms |       127.0.0.1 | POST     \"/api/generate\"\n",
      "[GIN] 2024/11/29 - 16:06:10 | 200 |  2.595030305s |       127.0.0.1 | POST     \"/api/generate\"\n",
      "[GIN] 2024/11/29 - 16:06:12 | 200 |  1.663013073s |       127.0.0.1 | POST     \"/api/generate\"\n",
      "[GIN] 2024/11/29 - 16:06:14 | 200 |  2.041380314s |       127.0.0.1 | POST     \"/api/generate\"\n",
      "[GIN] 2024/11/29 - 16:06:15 | 200 |   1.53119236s |       127.0.0.1 | POST     \"/api/generate\"\n",
      "[GIN] 2024/11/29 - 16:06:17 | 200 |  2.161309427s |       127.0.0.1 | POST     \"/api/generate\"\n"
     ]
    },
    {
     "name": "stderr",
     "output_type": "stream",
     "text": [
      " 61%|██████    | 74/121 [56:16<22:13, 28.37s/it]"
     ]
    },
    {
     "name": "stdout",
     "output_type": "stream",
     "text": [
      "[GIN] 2024/11/29 - 16:06:18 | 200 |   865.08704ms |       127.0.0.1 | POST     \"/api/generate\"\n",
      "[GIN] 2024/11/29 - 16:06:20 | 200 |  1.255352996s |       127.0.0.1 | POST     \"/api/generate\"\n",
      "[GIN] 2024/11/29 - 16:06:23 | 200 |  3.683850367s |       127.0.0.1 | POST     \"/api/generate\"\n",
      "[GIN] 2024/11/29 - 16:06:25 | 200 |  1.472990673s |       127.0.0.1 | POST     \"/api/generate\"\n",
      "[GIN] 2024/11/29 - 16:06:27 | 200 |  2.578062958s |       127.0.0.1 | POST     \"/api/generate\"\n",
      "[GIN] 2024/11/29 - 16:06:31 | 200 |   4.04109324s |       127.0.0.1 | POST     \"/api/generate\"\n",
      "[GIN] 2024/11/29 - 16:06:33 | 200 |  2.014470816s |       127.0.0.1 | POST     \"/api/generate\"\n",
      "[GIN] 2024/11/29 - 16:06:37 | 200 |  3.663339525s |       127.0.0.1 | POST     \"/api/generate\"\n",
      "[GIN] 2024/11/29 - 16:06:43 | 200 |  5.828663734s |       127.0.0.1 | POST     \"/api/generate\"\n",
      "[GIN] 2024/11/29 - 16:06:45 | 200 |  2.422610803s |       127.0.0.1 | POST     \"/api/generate\"\n"
     ]
    },
    {
     "name": "stderr",
     "output_type": "stream",
     "text": [
      " 62%|██████▏   | 75/121 [56:45<21:51, 28.52s/it]"
     ]
    },
    {
     "name": "stdout",
     "output_type": "stream",
     "text": [
      "[GIN] 2024/11/29 - 16:06:47 | 200 |  1.878156364s |       127.0.0.1 | POST     \"/api/generate\"\n",
      "[GIN] 2024/11/29 - 16:06:49 | 200 |  1.602465719s |       127.0.0.1 | POST     \"/api/generate\"\n",
      "[GIN] 2024/11/29 - 16:06:53 | 200 |  4.383546971s |       127.0.0.1 | POST     \"/api/generate\"\n",
      "[GIN] 2024/11/29 - 16:06:56 | 200 |  3.026204245s |       127.0.0.1 | POST     \"/api/generate\"\n",
      "[GIN] 2024/11/29 - 16:06:57 | 200 |  593.675996ms |       127.0.0.1 | POST     \"/api/generate\"\n",
      "[GIN] 2024/11/29 - 16:06:58 | 200 |  1.002379955s |       127.0.0.1 | POST     \"/api/generate\"\n",
      "[GIN] 2024/11/29 - 16:07:02 | 200 |  4.100282295s |       127.0.0.1 | POST     \"/api/generate\"\n",
      "[GIN] 2024/11/29 - 16:07:03 | 200 |  1.010456836s |       127.0.0.1 | POST     \"/api/generate\"\n",
      "[GIN] 2024/11/29 - 16:07:07 | 200 |  3.765087052s |       127.0.0.1 | POST     \"/api/generate\"\n",
      "[GIN] 2024/11/29 - 16:07:14 | 200 |  6.904364983s |       127.0.0.1 | POST     \"/api/generate\"\n"
     ]
    },
    {
     "name": "stderr",
     "output_type": "stream",
     "text": [
      " 63%|██████▎   | 76/121 [57:14<21:26, 28.59s/it]"
     ]
    },
    {
     "name": "stdout",
     "output_type": "stream",
     "text": [
      "[GIN] 2024/11/29 - 16:07:16 | 200 |   2.36559306s |       127.0.0.1 | POST     \"/api/generate\"\n",
      "[GIN] 2024/11/29 - 16:07:18 | 200 |  2.513965532s |       127.0.0.1 | POST     \"/api/generate\"\n",
      "[GIN] 2024/11/29 - 16:07:20 | 200 |  1.371386892s |       127.0.0.1 | POST     \"/api/generate\"\n",
      "[GIN] 2024/11/29 - 16:07:25 | 200 |  5.300341791s |       127.0.0.1 | POST     \"/api/generate\"\n",
      "[GIN] 2024/11/29 - 16:07:30 | 200 |  5.109843831s |       127.0.0.1 | POST     \"/api/generate\"\n",
      "[GIN] 2024/11/29 - 16:07:33 | 200 |  3.135808983s |       127.0.0.1 | POST     \"/api/generate\"\n",
      "[GIN] 2024/11/29 - 16:07:36 | 200 |  2.681497006s |       127.0.0.1 | POST     \"/api/generate\"\n",
      "[GIN] 2024/11/29 - 16:07:40 | 200 |  4.015457613s |       127.0.0.1 | POST     \"/api/generate\"\n",
      "[GIN] 2024/11/29 - 16:07:41 | 200 |  1.284041012s |       127.0.0.1 | POST     \"/api/generate\"\n",
      "[GIN] 2024/11/29 - 16:07:44 | 200 |  2.628802507s |       127.0.0.1 | POST     \"/api/generate\"\n"
     ]
    },
    {
     "name": "stderr",
     "output_type": "stream",
     "text": [
      " 64%|██████▎   | 77/121 [57:47<21:56, 29.92s/it]"
     ]
    },
    {
     "name": "stdout",
     "output_type": "stream",
     "text": [
      "[GIN] 2024/11/29 - 16:07:49 | 200 |  4.946567102s |       127.0.0.1 | POST     \"/api/generate\"\n",
      "[GIN] 2024/11/29 - 16:07:51 | 200 |  2.392739832s |       127.0.0.1 | POST     \"/api/generate\"\n",
      "[GIN] 2024/11/29 - 16:07:54 | 200 |  2.537057968s |       127.0.0.1 | POST     \"/api/generate\"\n",
      "[GIN] 2024/11/29 - 16:08:07 | 200 | 13.212923603s |       127.0.0.1 | POST     \"/api/generate\"\n",
      "[GIN] 2024/11/29 - 16:08:12 | 200 |  4.675218915s |       127.0.0.1 | POST     \"/api/generate\"\n",
      "[GIN] 2024/11/29 - 16:08:15 | 200 |   2.89820536s |       127.0.0.1 | POST     \"/api/generate\"\n",
      "[GIN] 2024/11/29 - 16:08:17 | 200 |  2.022950506s |       127.0.0.1 | POST     \"/api/generate\"\n",
      "[GIN] 2024/11/29 - 16:08:20 | 200 |   3.36944073s |       127.0.0.1 | POST     \"/api/generate\"\n",
      "[GIN] 2024/11/29 - 16:08:21 | 200 |  1.212230156s |       127.0.0.1 | POST     \"/api/generate\"\n",
      "[GIN] 2024/11/29 - 16:08:23 | 200 |  1.963364305s |       127.0.0.1 | POST     \"/api/generate\"\n"
     ]
    },
    {
     "name": "stderr",
     "output_type": "stream",
     "text": [
      " 64%|██████▍   | 78/121 [58:24<22:56, 32.01s/it]"
     ]
    },
    {
     "name": "stdout",
     "output_type": "stream",
     "text": [
      "[GIN] 2024/11/29 - 16:08:26 | 200 |  2.587457835s |       127.0.0.1 | POST     \"/api/generate\"\n",
      "[GIN] 2024/11/29 - 16:08:29 | 200 |  3.433423516s |       127.0.0.1 | POST     \"/api/generate\"\n",
      "[GIN] 2024/11/29 - 16:08:32 | 200 |  2.531370496s |       127.0.0.1 | POST     \"/api/generate\"\n",
      "[GIN] 2024/11/29 - 16:08:35 | 200 |   2.67808529s |       127.0.0.1 | POST     \"/api/generate\"\n",
      "[GIN] 2024/11/29 - 16:08:38 | 200 |  3.008471387s |       127.0.0.1 | POST     \"/api/generate\"\n",
      "[GIN] 2024/11/29 - 16:08:40 | 200 |  2.646879588s |       127.0.0.1 | POST     \"/api/generate\"\n",
      "[GIN] 2024/11/29 - 16:08:43 | 200 |  2.564310118s |       127.0.0.1 | POST     \"/api/generate\"\n",
      "[GIN] 2024/11/29 - 16:08:45 | 200 |  1.918307034s |       127.0.0.1 | POST     \"/api/generate\"\n",
      "[GIN] 2024/11/29 - 16:08:46 | 200 |  1.159194749s |       127.0.0.1 | POST     \"/api/generate\"\n",
      "[GIN] 2024/11/29 - 16:08:47 | 200 |  1.231495943s |       127.0.0.1 | POST     \"/api/generate\"\n"
     ]
    },
    {
     "name": "stderr",
     "output_type": "stream",
     "text": [
      " 65%|██████▌   | 79/121 [58:47<20:32, 29.34s/it]"
     ]
    },
    {
     "name": "stdout",
     "output_type": "stream",
     "text": [
      "[GIN] 2024/11/29 - 16:08:49 | 200 |  1.913139905s |       127.0.0.1 | POST     \"/api/generate\"\n",
      "[GIN] 2024/11/29 - 16:08:55 | 200 |  6.444111259s |       127.0.0.1 | POST     \"/api/generate\"\n",
      "[GIN] 2024/11/29 - 16:08:57 | 200 |  1.647072655s |       127.0.0.1 | POST     \"/api/generate\"\n",
      "[GIN] 2024/11/29 - 16:09:00 | 200 |  3.208796017s |       127.0.0.1 | POST     \"/api/generate\"\n",
      "[GIN] 2024/11/29 - 16:09:03 | 200 |  2.239199063s |       127.0.0.1 | POST     \"/api/generate\"\n",
      "[GIN] 2024/11/29 - 16:09:06 | 200 |   2.99882746s |       127.0.0.1 | POST     \"/api/generate\"\n",
      "[GIN] 2024/11/29 - 16:09:08 | 200 |  2.193660076s |       127.0.0.1 | POST     \"/api/generate\"\n",
      "[GIN] 2024/11/29 - 16:09:09 | 200 |  1.144282155s |       127.0.0.1 | POST     \"/api/generate\"\n",
      "[GIN] 2024/11/29 - 16:09:11 | 200 |  1.824093543s |       127.0.0.1 | POST     \"/api/generate\"\n",
      "[GIN] 2024/11/29 - 16:09:15 | 200 |  4.359344975s |       127.0.0.1 | POST     \"/api/generate\"\n"
     ]
    },
    {
     "name": "stderr",
     "output_type": "stream",
     "text": [
      " 66%|██████▌   | 80/121 [59:16<20:08, 29.47s/it]"
     ]
    },
    {
     "name": "stdout",
     "output_type": "stream",
     "text": [
      "[GIN] 2024/11/29 - 16:09:19 | 200 |  3.637631782s |       127.0.0.1 | POST     \"/api/generate\"\n",
      "[GIN] 2024/11/29 - 16:09:22 | 200 |  3.560198854s |       127.0.0.1 | POST     \"/api/generate\"\n",
      "[GIN] 2024/11/29 - 16:09:23 | 200 |  943.391607ms |       127.0.0.1 | POST     \"/api/generate\"\n",
      "[GIN] 2024/11/29 - 16:09:26 | 200 |  2.723966474s |       127.0.0.1 | POST     \"/api/generate\"\n",
      "[GIN] 2024/11/29 - 16:09:28 | 200 |  2.345063843s |       127.0.0.1 | POST     \"/api/generate\"\n",
      "[GIN] 2024/11/29 - 16:09:31 | 200 |   3.06097103s |       127.0.0.1 | POST     \"/api/generate\"\n",
      "[GIN] 2024/11/29 - 16:09:33 | 200 |  1.613020477s |       127.0.0.1 | POST     \"/api/generate\"\n",
      "[GIN] 2024/11/29 - 16:09:35 | 200 |  2.023166052s |       127.0.0.1 | POST     \"/api/generate\"\n",
      "[GIN] 2024/11/29 - 16:09:36 | 200 |  1.368717737s |       127.0.0.1 | POST     \"/api/generate\"\n",
      "[GIN] 2024/11/29 - 16:09:43 | 200 |  6.142045567s |       127.0.0.1 | POST     \"/api/generate\"\n"
     ]
    },
    {
     "name": "stderr",
     "output_type": "stream",
     "text": [
      " 67%|██████▋   | 81/121 [59:42<18:50, 28.27s/it]"
     ]
    },
    {
     "name": "stdout",
     "output_type": "stream",
     "text": [
      "[GIN] 2024/11/29 - 16:09:44 | 200 |   1.68493871s |       127.0.0.1 | POST     \"/api/generate\"\n",
      "[GIN] 2024/11/29 - 16:09:47 | 200 |  3.024823673s |       127.0.0.1 | POST     \"/api/generate\"\n",
      "[GIN] 2024/11/29 - 16:09:49 | 200 |  1.879783121s |       127.0.0.1 | POST     \"/api/generate\"\n",
      "[GIN] 2024/11/29 - 16:09:50 | 200 |  1.021537714s |       127.0.0.1 | POST     \"/api/generate\"\n",
      "[GIN] 2024/11/29 - 16:09:51 | 200 |  954.273611ms |       127.0.0.1 | POST     \"/api/generate\"\n",
      "[GIN] 2024/11/29 - 16:09:53 | 200 |  1.570753977s |       127.0.0.1 | POST     \"/api/generate\"\n",
      "[GIN] 2024/11/29 - 16:09:55 | 200 |  2.269534651s |       127.0.0.1 | POST     \"/api/generate\"\n",
      "[GIN] 2024/11/29 - 16:09:58 | 200 |  2.631771884s |       127.0.0.1 | POST     \"/api/generate\"\n",
      "[GIN] 2024/11/29 - 16:10:00 | 200 |   2.31894134s |       127.0.0.1 | POST     \"/api/generate\"\n",
      "[GIN] 2024/11/29 - 16:10:01 | 200 |  675.961822ms |       127.0.0.1 | POST     \"/api/generate\"\n"
     ]
    },
    {
     "name": "stderr",
     "output_type": "stream",
     "text": [
      " 68%|██████▊   | 82/121 [1:00:01<16:34, 25.50s/it]"
     ]
    },
    {
     "name": "stdout",
     "output_type": "stream",
     "text": [
      "[GIN] 2024/11/29 - 16:10:03 | 200 |  2.666236428s |       127.0.0.1 | POST     \"/api/generate\"\n",
      "[GIN] 2024/11/29 - 16:10:08 | 200 |  5.166335236s |       127.0.0.1 | POST     \"/api/generate\"\n",
      "[GIN] 2024/11/29 - 16:10:09 | 200 |  934.717784ms |       127.0.0.1 | POST     \"/api/generate\"\n",
      "[GIN] 2024/11/29 - 16:10:10 | 200 |  953.405689ms |       127.0.0.1 | POST     \"/api/generate\"\n",
      "[GIN] 2024/11/29 - 16:10:11 | 200 |  1.082948719s |       127.0.0.1 | POST     \"/api/generate\"\n",
      "[GIN] 2024/11/29 - 16:10:12 | 200 |  407.363196ms |       127.0.0.1 | POST     \"/api/generate\"\n",
      "[GIN] 2024/11/29 - 16:10:16 | 200 |  3.908303508s |       127.0.0.1 | POST     \"/api/generate\"\n",
      "[GIN] 2024/11/29 - 16:10:18 | 200 |  2.287542471s |       127.0.0.1 | POST     \"/api/generate\"\n",
      "[GIN] 2024/11/29 - 16:10:22 | 200 |  3.506460012s |       127.0.0.1 | POST     \"/api/generate\"\n",
      "[GIN] 2024/11/29 - 16:10:23 | 200 |  1.013996734s |       127.0.0.1 | POST     \"/api/generate\"\n"
     ]
    },
    {
     "name": "stderr",
     "output_type": "stream",
     "text": [
      " 69%|██████▊   | 83/121 [1:00:22<15:18, 24.17s/it]"
     ]
    },
    {
     "name": "stdout",
     "output_type": "stream",
     "text": [
      "[GIN] 2024/11/29 - 16:10:24 | 200 |  1.797387194s |       127.0.0.1 | POST     \"/api/generate\"\n",
      "[GIN] 2024/11/29 - 16:10:26 | 200 |  1.197292693s |       127.0.0.1 | POST     \"/api/generate\"\n",
      "[GIN] 2024/11/29 - 16:10:27 | 200 |   979.03721ms |       127.0.0.1 | POST     \"/api/generate\"\n",
      "[GIN] 2024/11/29 - 16:10:30 | 200 |  3.502320999s |       127.0.0.1 | POST     \"/api/generate\"\n",
      "[GIN] 2024/11/29 - 16:10:33 | 200 |  3.436838751s |       127.0.0.1 | POST     \"/api/generate\"\n",
      "[GIN] 2024/11/29 - 16:10:35 | 200 |  1.213590021s |       127.0.0.1 | POST     \"/api/generate\"\n",
      "[GIN] 2024/11/29 - 16:10:37 | 200 |   2.30933576s |       127.0.0.1 | POST     \"/api/generate\"\n",
      "[GIN] 2024/11/29 - 16:10:42 | 200 |  5.031689161s |       127.0.0.1 | POST     \"/api/generate\"\n",
      "[GIN] 2024/11/29 - 16:10:48 | 200 |  5.915212274s |       127.0.0.1 | POST     \"/api/generate\"\n",
      "[GIN] 2024/11/29 - 16:10:53 | 200 |   4.71592409s |       127.0.0.1 | POST     \"/api/generate\"\n"
     ]
    },
    {
     "name": "stderr",
     "output_type": "stream",
     "text": [
      " 69%|██████▉   | 84/121 [1:00:52<15:53, 25.78s/it]"
     ]
    },
    {
     "name": "stdout",
     "output_type": "stream",
     "text": [
      "[GIN] 2024/11/29 - 16:10:54 | 200 |  1.196507861s |       127.0.0.1 | POST     \"/api/generate\"\n",
      "[GIN] 2024/11/29 - 16:10:55 | 200 |  1.150060994s |       127.0.0.1 | POST     \"/api/generate\"\n",
      "[GIN] 2024/11/29 - 16:10:56 | 200 |  578.164709ms |       127.0.0.1 | POST     \"/api/generate\"\n",
      "[GIN] 2024/11/29 - 16:10:56 | 200 |  818.381328ms |       127.0.0.1 | POST     \"/api/generate\"\n",
      "[GIN] 2024/11/29 - 16:10:59 | 200 |   2.69889045s |       127.0.0.1 | POST     \"/api/generate\"\n",
      "[GIN] 2024/11/29 - 16:11:00 | 200 |  1.107773758s |       127.0.0.1 | POST     \"/api/generate\"\n",
      "[GIN] 2024/11/29 - 16:11:02 | 200 |  1.901791564s |       127.0.0.1 | POST     \"/api/generate\"\n",
      "[GIN] 2024/11/29 - 16:11:06 | 200 |  3.910080772s |       127.0.0.1 | POST     \"/api/generate\"\n",
      "[GIN] 2024/11/29 - 16:11:07 | 200 |  1.073581198s |       127.0.0.1 | POST     \"/api/generate\"\n",
      "[GIN] 2024/11/29 - 16:11:09 | 200 |  1.735255583s |       127.0.0.1 | POST     \"/api/generate\"\n"
     ]
    },
    {
     "name": "stderr",
     "output_type": "stream",
     "text": [
      " 70%|███████   | 85/121 [1:01:10<14:11, 23.67s/it]"
     ]
    },
    {
     "name": "stdout",
     "output_type": "stream",
     "text": [
      "[GIN] 2024/11/29 - 16:11:13 | 200 |  3.749024761s |       127.0.0.1 | POST     \"/api/generate\"\n",
      "[GIN] 2024/11/29 - 16:11:15 | 200 |  1.977248979s |       127.0.0.1 | POST     \"/api/generate\"\n",
      "[GIN] 2024/11/29 - 16:11:16 | 200 |   1.64230799s |       127.0.0.1 | POST     \"/api/generate\"\n",
      "[GIN] 2024/11/29 - 16:11:20 | 200 |  4.096220721s |       127.0.0.1 | POST     \"/api/generate\"\n",
      "[GIN] 2024/11/29 - 16:11:24 | 200 |   3.34033468s |       127.0.0.1 | POST     \"/api/generate\"\n",
      "[GIN] 2024/11/29 - 16:11:26 | 200 |  1.996445114s |       127.0.0.1 | POST     \"/api/generate\"\n",
      "[GIN] 2024/11/29 - 16:11:27 | 200 |  1.483245478s |       127.0.0.1 | POST     \"/api/generate\"\n",
      "[GIN] 2024/11/29 - 16:11:30 | 200 |  3.087345813s |       127.0.0.1 | POST     \"/api/generate\"\n",
      "[GIN] 2024/11/29 - 16:11:35 | 200 |  4.542844143s |       127.0.0.1 | POST     \"/api/generate\"\n",
      "[GIN] 2024/11/29 - 16:11:38 | 200 |   3.50067737s |       127.0.0.1 | POST     \"/api/generate\"\n"
     ]
    },
    {
     "name": "stderr",
     "output_type": "stream",
     "text": [
      " 71%|███████   | 86/121 [1:01:38<14:32, 24.92s/it]"
     ]
    },
    {
     "name": "stdout",
     "output_type": "stream",
     "text": [
      "[GIN] 2024/11/29 - 16:11:40 | 200 |  2.174521008s |       127.0.0.1 | POST     \"/api/generate\"\n",
      "[GIN] 2024/11/29 - 16:11:43 | 200 |  2.248359165s |       127.0.0.1 | POST     \"/api/generate\"\n",
      "[GIN] 2024/11/29 - 16:11:48 | 200 |  5.595467713s |       127.0.0.1 | POST     \"/api/generate\"\n",
      "[GIN] 2024/11/29 - 16:11:53 | 200 |  5.135753936s |       127.0.0.1 | POST     \"/api/generate\"\n",
      "[GIN] 2024/11/29 - 16:11:54 | 200 |  742.421891ms |       127.0.0.1 | POST     \"/api/generate\"\n",
      "[GIN] 2024/11/29 - 16:11:59 | 200 |  5.100997813s |       127.0.0.1 | POST     \"/api/generate\"\n",
      "[GIN] 2024/11/29 - 16:12:01 | 200 |  1.656927414s |       127.0.0.1 | POST     \"/api/generate\"\n",
      "[GIN] 2024/11/29 - 16:12:03 | 200 |  2.525889933s |       127.0.0.1 | POST     \"/api/generate\"\n",
      "[GIN] 2024/11/29 - 16:12:06 | 200 |   2.26337217s |       127.0.0.1 | POST     \"/api/generate\"\n",
      "[GIN] 2024/11/29 - 16:12:08 | 200 |  2.664115578s |       127.0.0.1 | POST     \"/api/generate\"\n"
     ]
    },
    {
     "name": "stderr",
     "output_type": "stream",
     "text": [
      " 72%|███████▏  | 87/121 [1:02:08<14:55, 26.35s/it]"
     ]
    },
    {
     "name": "stdout",
     "output_type": "stream",
     "text": [
      "[GIN] 2024/11/29 - 16:12:10 | 200 |  1.715430726s |       127.0.0.1 | POST     \"/api/generate\"\n",
      "[GIN] 2024/11/29 - 16:12:14 | 200 |  4.356043439s |       127.0.0.1 | POST     \"/api/generate\"\n",
      "[GIN] 2024/11/29 - 16:12:16 | 200 |  1.723422996s |       127.0.0.1 | POST     \"/api/generate\"\n",
      "[GIN] 2024/11/29 - 16:12:21 | 200 |  4.457336823s |       127.0.0.1 | POST     \"/api/generate\"\n",
      "[GIN] 2024/11/29 - 16:12:22 | 200 |  945.196388ms |       127.0.0.1 | POST     \"/api/generate\"\n",
      "[GIN] 2024/11/29 - 16:12:23 | 200 |  935.214086ms |       127.0.0.1 | POST     \"/api/generate\"\n",
      "[GIN] 2024/11/29 - 16:12:30 | 200 |  7.291558368s |       127.0.0.1 | POST     \"/api/generate\"\n",
      "[GIN] 2024/11/29 - 16:12:33 | 200 |  3.178459627s |       127.0.0.1 | POST     \"/api/generate\"\n",
      "[GIN] 2024/11/29 - 16:12:36 | 200 |  2.566932721s |       127.0.0.1 | POST     \"/api/generate\"\n",
      "[GIN] 2024/11/29 - 16:12:37 | 200 |  971.973109ms |       127.0.0.1 | POST     \"/api/generate\"\n"
     ]
    },
    {
     "name": "stderr",
     "output_type": "stream",
     "text": [
      " 73%|███████▎  | 88/121 [1:02:36<14:48, 26.93s/it]"
     ]
    },
    {
     "name": "stdout",
     "output_type": "stream",
     "text": [
      "[GIN] 2024/11/29 - 16:12:38 | 200 |  1.856243721s |       127.0.0.1 | POST     \"/api/generate\"\n",
      "[GIN] 2024/11/29 - 16:12:40 | 200 |   1.70133969s |       127.0.0.1 | POST     \"/api/generate\"\n",
      "[GIN] 2024/11/29 - 16:12:43 | 200 |  2.819145062s |       127.0.0.1 | POST     \"/api/generate\"\n",
      "[GIN] 2024/11/29 - 16:12:46 | 200 |   3.24424856s |       127.0.0.1 | POST     \"/api/generate\"\n",
      "[GIN] 2024/11/29 - 16:12:48 | 200 |  1.577914785s |       127.0.0.1 | POST     \"/api/generate\"\n",
      "[GIN] 2024/11/29 - 16:12:49 | 200 |  1.029127477s |       127.0.0.1 | POST     \"/api/generate\"\n",
      "[GIN] 2024/11/29 - 16:12:51 | 200 |  2.535702832s |       127.0.0.1 | POST     \"/api/generate\"\n",
      "[GIN] 2024/11/29 - 16:12:53 | 200 |  1.649903767s |       127.0.0.1 | POST     \"/api/generate\"\n",
      "[GIN] 2024/11/29 - 16:12:56 | 200 |  3.211594511s |       127.0.0.1 | POST     \"/api/generate\"\n",
      "[GIN] 2024/11/29 - 16:12:57 | 200 |  1.199401521s |       127.0.0.1 | POST     \"/api/generate\"\n"
     ]
    },
    {
     "name": "stderr",
     "output_type": "stream",
     "text": [
      " 74%|███████▎  | 89/121 [1:02:56<13:15, 24.87s/it]"
     ]
    },
    {
     "name": "stdout",
     "output_type": "stream",
     "text": [
      "[GIN] 2024/11/29 - 16:12:58 | 200 |  1.080688242s |       127.0.0.1 | POST     \"/api/generate\"\n",
      "[GIN] 2024/11/29 - 16:13:01 | 200 |  2.557056918s |       127.0.0.1 | POST     \"/api/generate\"\n",
      "[GIN] 2024/11/29 - 16:13:05 | 200 |  3.624167355s |       127.0.0.1 | POST     \"/api/generate\"\n",
      "[GIN] 2024/11/29 - 16:13:10 | 200 |  5.676666065s |       127.0.0.1 | POST     \"/api/generate\"\n",
      "[GIN] 2024/11/29 - 16:13:12 | 200 |  1.805970495s |       127.0.0.1 | POST     \"/api/generate\"\n",
      "[GIN] 2024/11/29 - 16:13:13 | 200 |  975.140808ms |       127.0.0.1 | POST     \"/api/generate\"\n",
      "[GIN] 2024/11/29 - 16:13:16 | 200 |  2.875639984s |       127.0.0.1 | POST     \"/api/generate\"\n",
      "[GIN] 2024/11/29 - 16:13:19 | 200 |  2.858825054s |       127.0.0.1 | POST     \"/api/generate\"\n",
      "[GIN] 2024/11/29 - 16:13:20 | 200 |  1.508344735s |       127.0.0.1 | POST     \"/api/generate\"\n",
      "[GIN] 2024/11/29 - 16:13:22 | 200 |  1.241902676s |       127.0.0.1 | POST     \"/api/generate\"\n"
     ]
    },
    {
     "name": "stderr",
     "output_type": "stream",
     "text": [
      " 74%|███████▍  | 90/121 [1:03:23<13:07, 25.40s/it]"
     ]
    },
    {
     "name": "stdout",
     "output_type": "stream",
     "text": [
      "[GIN] 2024/11/29 - 16:13:25 | 200 |  3.476186338s |       127.0.0.1 | POST     \"/api/generate\"\n",
      "[GIN] 2024/11/29 - 16:13:26 | 200 |  883.122785ms |       127.0.0.1 | POST     \"/api/generate\"\n",
      "[GIN] 2024/11/29 - 16:13:32 | 200 |  6.258873604s |       127.0.0.1 | POST     \"/api/generate\"\n",
      "[GIN] 2024/11/29 - 16:13:34 | 200 |  1.277833848s |       127.0.0.1 | POST     \"/api/generate\"\n",
      "[GIN] 2024/11/29 - 16:13:37 | 200 |   3.45456922s |       127.0.0.1 | POST     \"/api/generate\"\n",
      "[GIN] 2024/11/29 - 16:13:39 | 200 |  1.717177049s |       127.0.0.1 | POST     \"/api/generate\"\n",
      "[GIN] 2024/11/29 - 16:13:40 | 200 |  1.572937661s |       127.0.0.1 | POST     \"/api/generate\"\n",
      "[GIN] 2024/11/29 - 16:13:42 | 200 |  1.556329079s |       127.0.0.1 | POST     \"/api/generate\"\n",
      "[GIN] 2024/11/29 - 16:13:43 | 200 |  827.070155ms |       127.0.0.1 | POST     \"/api/generate\"\n",
      "[GIN] 2024/11/29 - 16:13:45 | 200 |  2.232645377s |       127.0.0.1 | POST     \"/api/generate\"\n"
     ]
    },
    {
     "name": "stderr",
     "output_type": "stream",
     "text": [
      " 75%|███████▌  | 91/121 [1:03:44<12:00, 24.03s/it]"
     ]
    },
    {
     "name": "stdout",
     "output_type": "stream",
     "text": [
      "[GIN] 2024/11/29 - 16:13:46 | 200 |  1.034797185s |       127.0.0.1 | POST     \"/api/generate\"\n",
      "[GIN] 2024/11/29 - 16:13:47 | 200 |  1.048990857s |       127.0.0.1 | POST     \"/api/generate\"\n",
      "[GIN] 2024/11/29 - 16:13:48 | 200 |  951.918028ms |       127.0.0.1 | POST     \"/api/generate\"\n",
      "[GIN] 2024/11/29 - 16:13:49 | 200 |  1.229769054s |       127.0.0.1 | POST     \"/api/generate\"\n",
      "[GIN] 2024/11/29 - 16:13:51 | 200 |  1.372569583s |       127.0.0.1 | POST     \"/api/generate\"\n",
      "[GIN] 2024/11/29 - 16:13:52 | 200 |  968.788777ms |       127.0.0.1 | POST     \"/api/generate\"\n",
      "[GIN] 2024/11/29 - 16:13:53 | 200 |  1.823779973s |       127.0.0.1 | POST     \"/api/generate\"\n",
      "[GIN] 2024/11/29 - 16:13:56 | 200 |  2.474836188s |       127.0.0.1 | POST     \"/api/generate\"\n",
      "[GIN] 2024/11/29 - 16:13:57 | 200 |  1.274513799s |       127.0.0.1 | POST     \"/api/generate\"\n",
      "[GIN] 2024/11/29 - 16:14:00 | 200 |  2.475606234s |       127.0.0.1 | POST     \"/api/generate\"\n"
     ]
    },
    {
     "name": "stderr",
     "output_type": "stream",
     "text": [
      " 76%|███████▌  | 92/121 [1:04:03<10:58, 22.69s/it]"
     ]
    },
    {
     "name": "stdout",
     "output_type": "stream",
     "text": [
      "[GIN] 2024/11/29 - 16:14:05 | 200 |  5.941587973s |       127.0.0.1 | POST     \"/api/generate\"\n",
      "[GIN] 2024/11/29 - 16:14:09 | 200 |  3.252571578s |       127.0.0.1 | POST     \"/api/generate\"\n",
      "[GIN] 2024/11/29 - 16:14:13 | 200 |  4.149699354s |       127.0.0.1 | POST     \"/api/generate\"\n",
      "[GIN] 2024/11/29 - 16:14:17 | 200 |  3.657192295s |       127.0.0.1 | POST     \"/api/generate\"\n",
      "[GIN] 2024/11/29 - 16:14:21 | 200 |  4.036721085s |       127.0.0.1 | POST     \"/api/generate\"\n",
      "[GIN] 2024/11/29 - 16:14:22 | 200 |   1.31744117s |       127.0.0.1 | POST     \"/api/generate\"\n",
      "[GIN] 2024/11/29 - 16:14:23 | 200 |  827.186216ms |       127.0.0.1 | POST     \"/api/generate\"\n",
      "[GIN] 2024/11/29 - 16:14:23 | 200 |  738.557002ms |       127.0.0.1 | POST     \"/api/generate\"\n",
      "[GIN] 2024/11/29 - 16:14:25 | 200 |  1.908383809s |       127.0.0.1 | POST     \"/api/generate\"\n",
      "[GIN] 2024/11/29 - 16:14:26 | 200 |  737.925515ms |       127.0.0.1 | POST     \"/api/generate\"\n"
     ]
    },
    {
     "name": "stderr",
     "output_type": "stream",
     "text": [
      " 77%|███████▋  | 93/121 [1:04:25<10:27, 22.39s/it]"
     ]
    },
    {
     "name": "stdout",
     "output_type": "stream",
     "text": [
      "[GIN] 2024/11/29 - 16:14:27 | 200 |  1.054256523s |       127.0.0.1 | POST     \"/api/generate\"\n",
      "[GIN] 2024/11/29 - 16:14:29 | 200 |  2.075646092s |       127.0.0.1 | POST     \"/api/generate\"\n",
      "[GIN] 2024/11/29 - 16:14:31 | 200 |  1.495543927s |       127.0.0.1 | POST     \"/api/generate\"\n",
      "[GIN] 2024/11/29 - 16:14:32 | 200 |  1.146640797s |       127.0.0.1 | POST     \"/api/generate\"\n",
      "[GIN] 2024/11/29 - 16:14:33 | 200 |  1.451752502s |       127.0.0.1 | POST     \"/api/generate\"\n",
      "[GIN] 2024/11/29 - 16:14:36 | 200 |  2.249914687s |       127.0.0.1 | POST     \"/api/generate\"\n",
      "[GIN] 2024/11/29 - 16:14:39 | 200 |  2.908845036s |       127.0.0.1 | POST     \"/api/generate\"\n",
      "[GIN] 2024/11/29 - 16:14:43 | 200 |  3.973487507s |       127.0.0.1 | POST     \"/api/generate\"\n",
      "[GIN] 2024/11/29 - 16:14:46 | 200 |  3.695895261s |       127.0.0.1 | POST     \"/api/generate\"\n",
      "[GIN] 2024/11/29 - 16:14:49 | 200 |  2.522835982s |       127.0.0.1 | POST     \"/api/generate\"\n"
     ]
    },
    {
     "name": "stderr",
     "output_type": "stream",
     "text": [
      " 78%|███████▊  | 94/121 [1:04:47<10:01, 22.29s/it]"
     ]
    },
    {
     "name": "stdout",
     "output_type": "stream",
     "text": [
      "[GIN] 2024/11/29 - 16:14:49 | 200 |  507.666399ms |       127.0.0.1 | POST     \"/api/generate\"\n",
      "[GIN] 2024/11/29 - 16:14:56 | 200 |  6.963033206s |       127.0.0.1 | POST     \"/api/generate\"\n",
      "[GIN] 2024/11/29 - 16:15:01 | 200 |  4.453210575s |       127.0.0.1 | POST     \"/api/generate\"\n",
      "[GIN] 2024/11/29 - 16:15:03 | 200 |    2.3908687s |       127.0.0.1 | POST     \"/api/generate\"\n",
      "[GIN] 2024/11/29 - 16:15:07 | 200 |  3.981524701s |       127.0.0.1 | POST     \"/api/generate\"\n",
      "[GIN] 2024/11/29 - 16:15:09 | 200 |  1.660742049s |       127.0.0.1 | POST     \"/api/generate\"\n",
      "[GIN] 2024/11/29 - 16:15:13 | 200 |   3.91076316s |       127.0.0.1 | POST     \"/api/generate\"\n",
      "[GIN] 2024/11/29 - 16:15:14 | 200 |  1.883698983s |       127.0.0.1 | POST     \"/api/generate\"\n",
      "[GIN] 2024/11/29 - 16:15:18 | 200 |  3.546702281s |       127.0.0.1 | POST     \"/api/generate\"\n",
      "[GIN] 2024/11/29 - 16:15:19 | 200 |  971.197862ms |       127.0.0.1 | POST     \"/api/generate\"\n"
     ]
    },
    {
     "name": "stderr",
     "output_type": "stream",
     "text": [
      " 79%|███████▊  | 95/121 [1:05:25<11:39, 26.89s/it]"
     ]
    },
    {
     "name": "stdout",
     "output_type": "stream",
     "text": [
      "[GIN] 2024/11/29 - 16:15:27 | 200 |  7.832725181s |       127.0.0.1 | POST     \"/api/generate\"\n",
      "[GIN] 2024/11/29 - 16:15:31 | 200 |  4.224845422s |       127.0.0.1 | POST     \"/api/generate\"\n",
      "[GIN] 2024/11/29 - 16:15:34 | 200 |  2.443081293s |       127.0.0.1 | POST     \"/api/generate\"\n",
      "[GIN] 2024/11/29 - 16:15:36 | 200 |  2.777474123s |       127.0.0.1 | POST     \"/api/generate\"\n",
      "[GIN] 2024/11/29 - 16:15:37 | 200 |  880.695998ms |       127.0.0.1 | POST     \"/api/generate\"\n",
      "[GIN] 2024/11/29 - 16:15:40 | 200 |  3.284073364s |       127.0.0.1 | POST     \"/api/generate\"\n",
      "[GIN] 2024/11/29 - 16:15:42 | 200 |  1.380919061s |       127.0.0.1 | POST     \"/api/generate\"\n",
      "[GIN] 2024/11/29 - 16:15:44 | 200 |  1.918668988s |       127.0.0.1 | POST     \"/api/generate\"\n",
      "[GIN] 2024/11/29 - 16:15:48 | 200 |  4.546036246s |       127.0.0.1 | POST     \"/api/generate\"\n",
      "[GIN] 2024/11/29 - 16:15:54 | 200 |  5.399967387s |       127.0.0.1 | POST     \"/api/generate\"\n"
     ]
    },
    {
     "name": "stderr",
     "output_type": "stream",
     "text": [
      " 79%|███████▉  | 96/121 [1:05:54<11:29, 27.59s/it]"
     ]
    },
    {
     "name": "stdout",
     "output_type": "stream",
     "text": [
      "[GIN] 2024/11/29 - 16:15:56 | 200 |  2.353922157s |       127.0.0.1 | POST     \"/api/generate\"\n",
      "[GIN] 2024/11/29 - 16:15:57 | 200 |    1.0848332s |       127.0.0.1 | POST     \"/api/generate\"\n",
      "[GIN] 2024/11/29 - 16:16:02 | 200 |   4.50408586s |       127.0.0.1 | POST     \"/api/generate\"\n",
      "[GIN] 2024/11/29 - 16:16:05 | 200 |  3.629450578s |       127.0.0.1 | POST     \"/api/generate\"\n",
      "[GIN] 2024/11/29 - 16:16:09 | 200 |  3.644410265s |       127.0.0.1 | POST     \"/api/generate\"\n",
      "[GIN] 2024/11/29 - 16:16:13 | 200 |  3.577341143s |       127.0.0.1 | POST     \"/api/generate\"\n",
      "[GIN] 2024/11/29 - 16:16:14 | 200 |  1.049545098s |       127.0.0.1 | POST     \"/api/generate\"\n",
      "[GIN] 2024/11/29 - 16:16:16 | 200 |  2.656954637s |       127.0.0.1 | POST     \"/api/generate\"\n",
      "[GIN] 2024/11/29 - 16:16:17 | 200 |  1.215458908s |       127.0.0.1 | POST     \"/api/generate\"\n",
      "[GIN] 2024/11/29 - 16:16:19 | 200 |  1.272404753s |       127.0.0.1 | POST     \"/api/generate\"\n"
     ]
    },
    {
     "name": "stderr",
     "output_type": "stream",
     "text": [
      " 80%|████████  | 97/121 [1:06:22<11:03, 27.63s/it]"
     ]
    },
    {
     "name": "stdout",
     "output_type": "stream",
     "text": [
      "[GIN] 2024/11/29 - 16:16:24 | 200 |  5.058700225s |       127.0.0.1 | POST     \"/api/generate\"\n",
      "[GIN] 2024/11/29 - 16:16:26 | 200 |  2.125722623s |       127.0.0.1 | POST     \"/api/generate\"\n",
      "[GIN] 2024/11/29 - 16:16:28 | 200 |  1.778399111s |       127.0.0.1 | POST     \"/api/generate\"\n",
      "[GIN] 2024/11/29 - 16:16:29 | 200 |  1.424605627s |       127.0.0.1 | POST     \"/api/generate\"\n",
      "[GIN] 2024/11/29 - 16:16:31 | 200 |  2.161593286s |       127.0.0.1 | POST     \"/api/generate\"\n",
      "[GIN] 2024/11/29 - 16:16:33 | 200 |  1.481555359s |       127.0.0.1 | POST     \"/api/generate\"\n",
      "[GIN] 2024/11/29 - 16:16:33 | 200 |  690.183644ms |       127.0.0.1 | POST     \"/api/generate\"\n",
      "[GIN] 2024/11/29 - 16:16:38 | 200 |  4.169891912s |       127.0.0.1 | POST     \"/api/generate\"\n",
      "[GIN] 2024/11/29 - 16:16:39 | 200 |  981.294339ms |       127.0.0.1 | POST     \"/api/generate\"\n",
      "[GIN] 2024/11/29 - 16:16:40 | 200 |  1.017768102s |       127.0.0.1 | POST     \"/api/generate\"\n"
     ]
    },
    {
     "name": "stderr",
     "output_type": "stream",
     "text": [
      " 81%|████████  | 98/121 [1:06:39<09:22, 24.46s/it]"
     ]
    },
    {
     "name": "stdout",
     "output_type": "stream",
     "text": [
      "[GIN] 2024/11/29 - 16:16:41 | 200 |  1.227568523s |       127.0.0.1 | POST     \"/api/generate\"\n",
      "[GIN] 2024/11/29 - 16:16:43 | 200 |   2.08306846s |       127.0.0.1 | POST     \"/api/generate\"\n",
      "[GIN] 2024/11/29 - 16:16:47 | 200 |  3.688279929s |       127.0.0.1 | POST     \"/api/generate\"\n",
      "[GIN] 2024/11/29 - 16:16:51 | 200 |  4.539316794s |       127.0.0.1 | POST     \"/api/generate\"\n",
      "[GIN] 2024/11/29 - 16:16:53 | 200 |  1.767097694s |       127.0.0.1 | POST     \"/api/generate\"\n",
      "[GIN] 2024/11/29 - 16:16:54 | 200 |  1.121539276s |       127.0.0.1 | POST     \"/api/generate\"\n",
      "[GIN] 2024/11/29 - 16:16:56 | 200 |  1.854559923s |       127.0.0.1 | POST     \"/api/generate\"\n",
      "[GIN] 2024/11/29 - 16:16:59 | 200 |  3.109159991s |       127.0.0.1 | POST     \"/api/generate\"\n",
      "[GIN] 2024/11/29 - 16:17:01 | 200 |  1.800989748s |       127.0.0.1 | POST     \"/api/generate\"\n",
      "[GIN] 2024/11/29 - 16:17:02 | 200 |  1.285256832s |       127.0.0.1 | POST     \"/api/generate\"\n"
     ]
    },
    {
     "name": "stderr",
     "output_type": "stream",
     "text": [
      " 82%|████████▏ | 99/121 [1:07:03<08:59, 24.52s/it]"
     ]
    },
    {
     "name": "stdout",
     "output_type": "stream",
     "text": [
      "[GIN] 2024/11/29 - 16:17:06 | 200 |  3.381902388s |       127.0.0.1 | POST     \"/api/generate\"\n",
      "[GIN] 2024/11/29 - 16:17:08 | 200 |  2.223589582s |       127.0.0.1 | POST     \"/api/generate\"\n",
      "[GIN] 2024/11/29 - 16:17:09 | 200 |  1.085352766s |       127.0.0.1 | POST     \"/api/generate\"\n",
      "[GIN] 2024/11/29 - 16:17:10 | 200 |  1.617269426s |       127.0.0.1 | POST     \"/api/generate\"\n",
      "[GIN] 2024/11/29 - 16:17:12 | 200 |  1.104168135s |       127.0.0.1 | POST     \"/api/generate\"\n",
      "[GIN] 2024/11/29 - 16:17:15 | 200 |  3.047731337s |       127.0.0.1 | POST     \"/api/generate\"\n",
      "[GIN] 2024/11/29 - 16:17:18 | 200 |  3.514707423s |       127.0.0.1 | POST     \"/api/generate\"\n",
      "[GIN] 2024/11/29 - 16:17:21 | 200 |  3.284004962s |       127.0.0.1 | POST     \"/api/generate\"\n",
      "[GIN] 2024/11/29 - 16:17:23 | 200 |  1.581160055s |       127.0.0.1 | POST     \"/api/generate\"\n",
      "[GIN] 2024/11/29 - 16:17:24 | 200 |  1.177190968s |       127.0.0.1 | POST     \"/api/generate\"\n"
     ]
    },
    {
     "name": "stderr",
     "output_type": "stream",
     "text": [
      " 83%|████████▎ | 100/121 [1:07:23<08:04, 23.07s/it]"
     ]
    },
    {
     "name": "stdout",
     "output_type": "stream",
     "text": [
      "[GIN] 2024/11/29 - 16:17:25 | 200 |  954.711033ms |       127.0.0.1 | POST     \"/api/generate\"\n",
      "[GIN] 2024/11/29 - 16:17:27 | 200 |  1.414257747s |       127.0.0.1 | POST     \"/api/generate\"\n",
      "[GIN] 2024/11/29 - 16:17:28 | 200 |  1.260808672s |       127.0.0.1 | POST     \"/api/generate\"\n",
      "[GIN] 2024/11/29 - 16:17:29 | 200 |  1.005736005s |       127.0.0.1 | POST     \"/api/generate\"\n",
      "[GIN] 2024/11/29 - 16:17:31 | 200 |  1.705390172s |       127.0.0.1 | POST     \"/api/generate\"\n",
      "[GIN] 2024/11/29 - 16:17:35 | 200 |  4.167086012s |       127.0.0.1 | POST     \"/api/generate\"\n",
      "[GIN] 2024/11/29 - 16:17:37 | 200 |  1.825291341s |       127.0.0.1 | POST     \"/api/generate\"\n",
      "[GIN] 2024/11/29 - 16:17:43 | 200 |  6.512285175s |       127.0.0.1 | POST     \"/api/generate\"\n",
      "[GIN] 2024/11/29 - 16:17:45 | 200 |  1.404170064s |       127.0.0.1 | POST     \"/api/generate\"\n",
      "[GIN] 2024/11/29 - 16:17:49 | 200 |  4.728286832s |       127.0.0.1 | POST     \"/api/generate\"\n"
     ]
    },
    {
     "name": "stderr",
     "output_type": "stream",
     "text": [
      " 83%|████████▎ | 101/121 [1:07:49<08:02, 24.10s/it]"
     ]
    },
    {
     "name": "stdout",
     "output_type": "stream",
     "text": [
      "[GIN] 2024/11/29 - 16:17:52 | 200 |  2.483066353s |       127.0.0.1 | POST     \"/api/generate\"\n",
      "[GIN] 2024/11/29 - 16:17:55 | 200 |  3.397979815s |       127.0.0.1 | POST     \"/api/generate\"\n",
      "[GIN] 2024/11/29 - 16:17:56 | 200 |  1.239469972s |       127.0.0.1 | POST     \"/api/generate\"\n",
      "[GIN] 2024/11/29 - 16:17:58 | 200 |  1.342744746s |       127.0.0.1 | POST     \"/api/generate\"\n",
      "[GIN] 2024/11/29 - 16:18:02 | 200 |  4.093636197s |       127.0.0.1 | POST     \"/api/generate\"\n",
      "[GIN] 2024/11/29 - 16:18:04 | 200 |  2.512195724s |       127.0.0.1 | POST     \"/api/generate\"\n",
      "[GIN] 2024/11/29 - 16:18:06 | 200 |  1.984190781s |       127.0.0.1 | POST     \"/api/generate\"\n",
      "[GIN] 2024/11/29 - 16:18:10 | 200 |  3.757840985s |       127.0.0.1 | POST     \"/api/generate\"\n",
      "[GIN] 2024/11/29 - 16:18:13 | 200 |  3.378173071s |       127.0.0.1 | POST     \"/api/generate\"\n",
      "[GIN] 2024/11/29 - 16:18:15 | 200 |  1.569930151s |       127.0.0.1 | POST     \"/api/generate\"\n"
     ]
    },
    {
     "name": "stderr",
     "output_type": "stream",
     "text": [
      " 84%|████████▍ | 102/121 [1:08:16<07:53, 24.95s/it]"
     ]
    },
    {
     "name": "stdout",
     "output_type": "stream",
     "text": [
      "[GIN] 2024/11/29 - 16:18:19 | 200 |  3.626870716s |       127.0.0.1 | POST     \"/api/generate\"\n",
      "[GIN] 2024/11/29 - 16:18:19 | 200 |  378.998478ms |       127.0.0.1 | POST     \"/api/generate\"\n",
      "[GIN] 2024/11/29 - 16:18:23 | 200 |  3.970812642s |       127.0.0.1 | POST     \"/api/generate\"\n",
      "[GIN] 2024/11/29 - 16:18:25 | 200 |  2.205474066s |       127.0.0.1 | POST     \"/api/generate\"\n",
      "[GIN] 2024/11/29 - 16:18:28 | 200 |  3.121253822s |       127.0.0.1 | POST     \"/api/generate\"\n",
      "[GIN] 2024/11/29 - 16:18:31 | 200 |  2.264885833s |       127.0.0.1 | POST     \"/api/generate\"\n",
      "[GIN] 2024/11/29 - 16:18:34 | 200 |  3.850008729s |       127.0.0.1 | POST     \"/api/generate\"\n",
      "[GIN] 2024/11/29 - 16:18:36 | 200 |  1.203670105s |       127.0.0.1 | POST     \"/api/generate\"\n",
      "[GIN] 2024/11/29 - 16:18:37 | 200 |  1.176498919s |       127.0.0.1 | POST     \"/api/generate\"\n",
      "[GIN] 2024/11/29 - 16:18:43 | 200 |  5.685643156s |       127.0.0.1 | POST     \"/api/generate\"\n"
     ]
    },
    {
     "name": "stderr",
     "output_type": "stream",
     "text": [
      " 85%|████████▌ | 103/121 [1:08:43<07:37, 25.42s/it]"
     ]
    },
    {
     "name": "stdout",
     "output_type": "stream",
     "text": [
      "[GIN] 2024/11/29 - 16:18:45 | 200 |   2.64415925s |       127.0.0.1 | POST     \"/api/generate\"\n",
      "[GIN] 2024/11/29 - 16:18:47 | 200 |  2.285208424s |       127.0.0.1 | POST     \"/api/generate\"\n",
      "[GIN] 2024/11/29 - 16:18:50 | 200 |  2.799336483s |       127.0.0.1 | POST     \"/api/generate\"\n",
      "[GIN] 2024/11/29 - 16:18:52 | 200 |  1.603803173s |       127.0.0.1 | POST     \"/api/generate\"\n",
      "[GIN] 2024/11/29 - 16:18:53 | 200 |      1.21009s |       127.0.0.1 | POST     \"/api/generate\"\n",
      "[GIN] 2024/11/29 - 16:18:56 | 200 |  2.742547063s |       127.0.0.1 | POST     \"/api/generate\"\n",
      "[GIN] 2024/11/29 - 16:18:57 | 200 |  1.230613285s |       127.0.0.1 | POST     \"/api/generate\"\n",
      "[GIN] 2024/11/29 - 16:18:59 | 200 |  1.907533731s |       127.0.0.1 | POST     \"/api/generate\"\n",
      "[GIN] 2024/11/29 - 16:19:04 | 200 |  4.789373723s |       127.0.0.1 | POST     \"/api/generate\"\n",
      "[GIN] 2024/11/29 - 16:40:15 | 200 |        21m11s |       127.0.0.1 | POST     \"/api/generate\"\n"
     ]
    },
    {
     "name": "stderr",
     "output_type": "stream",
     "text": [
      " 86%|████████▌ | 104/121 [1:30:19<1:55:13, 406.66s/it]"
     ]
    },
    {
     "name": "stdout",
     "output_type": "stream",
     "text": [
      "[GIN] 2024/11/29 - 16:40:21 | 200 |  5.831572084s |       127.0.0.1 | POST     \"/api/generate\"\n",
      "[GIN] 2024/11/29 - 16:40:26 | 200 |  4.766496618s |       127.0.0.1 | POST     \"/api/generate\"\n",
      "[GIN] 2024/11/29 - 16:40:28 | 200 |  1.403131697s |       127.0.0.1 | POST     \"/api/generate\"\n",
      "[GIN] 2024/11/29 - 16:40:30 | 200 |  2.887437978s |       127.0.0.1 | POST     \"/api/generate\"\n",
      "[GIN] 2024/11/29 - 16:40:35 | 200 |  4.829244196s |       127.0.0.1 | POST     \"/api/generate\"\n",
      "[GIN] 2024/11/29 - 16:40:42 | 200 |  6.637489098s |       127.0.0.1 | POST     \"/api/generate\"\n",
      "[GIN] 2024/11/29 - 16:40:43 | 200 |    1.1030139s |       127.0.0.1 | POST     \"/api/generate\"\n",
      "[GIN] 2024/11/29 - 16:40:44 | 200 |   1.00457067s |       127.0.0.1 | POST     \"/api/generate\"\n",
      "[GIN] 2024/11/29 - 16:40:48 | 200 |  3.970790653s |       127.0.0.1 | POST     \"/api/generate\"\n",
      "[GIN] 2024/11/29 - 16:40:49 | 200 |  1.382514345s |       127.0.0.1 | POST     \"/api/generate\"\n"
     ]
    },
    {
     "name": "stderr",
     "output_type": "stream",
     "text": [
      " 87%|████████▋ | 105/121 [1:30:49<1:18:16, 293.53s/it]"
     ]
    },
    {
     "name": "stdout",
     "output_type": "stream",
     "text": [
      "[GIN] 2024/11/29 - 16:40:51 | 200 |  1.563066714s |       127.0.0.1 | POST     \"/api/generate\"\n",
      "[GIN] 2024/11/29 - 16:40:56 | 200 |  5.365548237s |       127.0.0.1 | POST     \"/api/generate\"\n",
      "[GIN] 2024/11/29 - 16:40:57 | 200 |   1.10340762s |       127.0.0.1 | POST     \"/api/generate\"\n",
      "[GIN] 2024/11/29 - 16:40:59 | 200 |  1.526513807s |       127.0.0.1 | POST     \"/api/generate\"\n",
      "[GIN] 2024/11/29 - 16:41:01 | 200 |  2.438233952s |       127.0.0.1 | POST     \"/api/generate\"\n",
      "[GIN] 2024/11/29 - 16:41:03 | 200 |  1.191848737s |       127.0.0.1 | POST     \"/api/generate\"\n",
      "[GIN] 2024/11/29 - 16:41:04 | 200 |  1.883336412s |       127.0.0.1 | POST     \"/api/generate\"\n",
      "[GIN] 2024/11/29 - 16:41:09 | 200 |  4.988809477s |       127.0.0.1 | POST     \"/api/generate\"\n",
      "[GIN] 2024/11/29 - 16:41:13 | 200 |  3.168318273s |       127.0.0.1 | POST     \"/api/generate\"\n",
      "[GIN] 2024/11/29 - 16:41:20 | 200 |  6.874657397s |       127.0.0.1 | POST     \"/api/generate\"\n"
     ]
    },
    {
     "name": "stderr",
     "output_type": "stream",
     "text": [
      " 88%|████████▊ | 106/121 [1:31:21<53:46, 215.07s/it]  "
     ]
    },
    {
     "name": "stdout",
     "output_type": "stream",
     "text": [
      "[GIN] 2024/11/29 - 16:41:23 | 200 |  3.438571057s |       127.0.0.1 | POST     \"/api/generate\"\n",
      "[GIN] 2024/11/29 - 16:41:25 | 200 |  1.558452428s |       127.0.0.1 | POST     \"/api/generate\"\n",
      "[GIN] 2024/11/29 - 16:41:27 | 200 |  2.020409593s |       127.0.0.1 | POST     \"/api/generate\"\n",
      "[GIN] 2024/11/29 - 16:41:28 | 200 |  1.603957943s |       127.0.0.1 | POST     \"/api/generate\"\n",
      "[GIN] 2024/11/29 - 16:41:30 | 200 |  1.913506972s |       127.0.0.1 | POST     \"/api/generate\"\n",
      "[GIN] 2024/11/29 - 16:41:32 | 200 |  1.833913657s |       127.0.0.1 | POST     \"/api/generate\"\n",
      "[GIN] 2024/11/29 - 16:41:35 | 200 |  3.323486573s |       127.0.0.1 | POST     \"/api/generate\"\n",
      "[GIN] 2024/11/29 - 16:41:38 | 200 |  2.992277126s |       127.0.0.1 | POST     \"/api/generate\"\n",
      "[GIN] 2024/11/29 - 16:41:40 | 200 |  1.447395554s |       127.0.0.1 | POST     \"/api/generate\"\n",
      "[GIN] 2024/11/29 - 16:41:45 | 200 |  5.354187773s |       127.0.0.1 | POST     \"/api/generate\"\n"
     ]
    },
    {
     "name": "stderr",
     "output_type": "stream",
     "text": [
      " 88%|████████▊ | 107/121 [1:31:44<36:47, 157.66s/it]"
     ]
    },
    {
     "name": "stdout",
     "output_type": "stream",
     "text": [
      "[GIN] 2024/11/29 - 16:41:47 | 200 |  1.645830991s |       127.0.0.1 | POST     \"/api/generate\"\n",
      "[GIN] 2024/11/29 - 16:41:49 | 200 |  2.508497172s |       127.0.0.1 | POST     \"/api/generate\"\n",
      "[GIN] 2024/11/29 - 16:41:51 | 200 |  2.099946993s |       127.0.0.1 | POST     \"/api/generate\"\n",
      "[GIN] 2024/11/29 - 16:41:53 | 200 |  2.206937892s |       127.0.0.1 | POST     \"/api/generate\"\n",
      "[GIN] 2024/11/29 - 16:41:57 | 200 |  3.461167044s |       127.0.0.1 | POST     \"/api/generate\"\n",
      "[GIN] 2024/11/29 - 16:41:58 | 200 |  1.093352001s |       127.0.0.1 | POST     \"/api/generate\"\n",
      "[GIN] 2024/11/29 - 16:42:00 | 200 |  1.946967777s |       127.0.0.1 | POST     \"/api/generate\"\n",
      "[GIN] 2024/11/29 - 16:42:02 | 200 |  2.179483124s |       127.0.0.1 | POST     \"/api/generate\"\n",
      "[GIN] 2024/11/29 - 16:42:04 | 200 |  1.864238113s |       127.0.0.1 | POST     \"/api/generate\"\n",
      "[GIN] 2024/11/29 - 16:42:06 | 200 |   1.52083606s |       127.0.0.1 | POST     \"/api/generate\"\n"
     ]
    },
    {
     "name": "stderr",
     "output_type": "stream",
     "text": [
      " 89%|████████▉ | 108/121 [1:32:07<25:22, 117.10s/it]"
     ]
    },
    {
     "name": "stdout",
     "output_type": "stream",
     "text": [
      "[GIN] 2024/11/29 - 16:42:09 | 200 |  3.547689979s |       127.0.0.1 | POST     \"/api/generate\"\n",
      "[GIN] 2024/11/29 - 16:42:11 | 200 |  2.143804499s |       127.0.0.1 | POST     \"/api/generate\"\n",
      "[GIN] 2024/11/29 - 16:42:12 | 200 |   598.97353ms |       127.0.0.1 | POST     \"/api/generate\"\n",
      "[GIN] 2024/11/29 - 16:42:13 | 200 |  1.074239453s |       127.0.0.1 | POST     \"/api/generate\"\n",
      "[GIN] 2024/11/29 - 16:42:16 | 200 |  2.950265379s |       127.0.0.1 | POST     \"/api/generate\"\n",
      "[GIN] 2024/11/29 - 16:42:21 | 200 |  4.681565863s |       127.0.0.1 | POST     \"/api/generate\"\n",
      "[GIN] 2024/11/29 - 16:42:22 | 200 |   1.12219268s |       127.0.0.1 | POST     \"/api/generate\"\n",
      "[GIN] 2024/11/29 - 16:42:24 | 200 |  2.543515135s |       127.0.0.1 | POST     \"/api/generate\"\n",
      "[GIN] 2024/11/29 - 16:42:26 | 200 |   2.01480148s |       127.0.0.1 | POST     \"/api/generate\"\n",
      "[GIN] 2024/11/29 - 16:42:29 | 200 |  2.445460542s |       127.0.0.1 | POST     \"/api/generate\"\n"
     ]
    },
    {
     "name": "stderr",
     "output_type": "stream",
     "text": [
      " 90%|█████████ | 109/121 [1:32:28<17:40, 88.42s/it] "
     ]
    },
    {
     "name": "stdout",
     "output_type": "stream",
     "text": [
      "[GIN] 2024/11/29 - 16:42:31 | 200 |  1.890852122s |       127.0.0.1 | POST     \"/api/generate\"\n",
      "[GIN] 2024/11/29 - 16:42:34 | 200 |  3.707211836s |       127.0.0.1 | POST     \"/api/generate\"\n",
      "[GIN] 2024/11/29 - 16:42:39 | 200 |  4.703297082s |       127.0.0.1 | POST     \"/api/generate\"\n",
      "[GIN] 2024/11/29 - 16:42:40 | 200 |  1.243335787s |       127.0.0.1 | POST     \"/api/generate\"\n",
      "[GIN] 2024/11/29 - 16:42:42 | 200 |  2.118474605s |       127.0.0.1 | POST     \"/api/generate\"\n",
      "[GIN] 2024/11/29 - 16:42:44 | 200 |   1.50634409s |       127.0.0.1 | POST     \"/api/generate\"\n",
      "[GIN] 2024/11/29 - 16:42:45 | 200 |  965.242304ms |       127.0.0.1 | POST     \"/api/generate\"\n",
      "[GIN] 2024/11/29 - 16:42:47 | 200 |  1.891474396s |       127.0.0.1 | POST     \"/api/generate\"\n",
      "[GIN] 2024/11/29 - 16:42:48 | 200 |  1.346427921s |       127.0.0.1 | POST     \"/api/generate\"\n",
      "[GIN] 2024/11/29 - 16:42:53 | 200 |  5.031075066s |       127.0.0.1 | POST     \"/api/generate\"\n"
     ]
    },
    {
     "name": "stderr",
     "output_type": "stream",
     "text": [
      " 91%|█████████ | 110/121 [1:32:56<12:50, 70.07s/it]"
     ]
    },
    {
     "name": "stdout",
     "output_type": "stream",
     "text": [
      "[GIN] 2024/11/29 - 16:42:58 | 200 |  4.738661367s |       127.0.0.1 | POST     \"/api/generate\"\n",
      "[GIN] 2024/11/29 - 16:43:03 | 200 |  4.943782908s |       127.0.0.1 | POST     \"/api/generate\"\n",
      "[GIN] 2024/11/29 - 16:43:08 | 200 |  4.741683644s |       127.0.0.1 | POST     \"/api/generate\"\n",
      "[GIN] 2024/11/29 - 16:43:09 | 200 |  1.442854909s |       127.0.0.1 | POST     \"/api/generate\"\n",
      "[GIN] 2024/11/29 - 16:43:11 | 200 |  1.991375837s |       127.0.0.1 | POST     \"/api/generate\"\n",
      "[GIN] 2024/11/29 - 16:43:13 | 200 |  1.664650591s |       127.0.0.1 | POST     \"/api/generate\"\n",
      "[GIN] 2024/11/29 - 16:43:17 | 200 |  3.961594972s |       127.0.0.1 | POST     \"/api/generate\"\n",
      "[GIN] 2024/11/29 - 16:43:18 | 200 |  1.082494697s |       127.0.0.1 | POST     \"/api/generate\"\n",
      "[GIN] 2024/11/29 - 16:43:21 | 200 |  3.344865694s |       127.0.0.1 | POST     \"/api/generate\"\n",
      "[GIN] 2024/11/29 - 16:43:24 | 200 |  2.981616336s |       127.0.0.1 | POST     \"/api/generate\"\n"
     ]
    },
    {
     "name": "stderr",
     "output_type": "stream",
     "text": [
      " 92%|█████████▏| 111/121 [1:33:27<09:44, 58.43s/it]"
     ]
    },
    {
     "name": "stdout",
     "output_type": "stream",
     "text": [
      "[GIN] 2024/11/29 - 16:43:29 | 200 |  5.086205857s |       127.0.0.1 | POST     \"/api/generate\"\n",
      "[GIN] 2024/11/29 - 16:43:30 | 200 |  1.116189752s |       127.0.0.1 | POST     \"/api/generate\"\n",
      "[GIN] 2024/11/29 - 16:43:31 | 200 |  1.233050956s |       127.0.0.1 | POST     \"/api/generate\"\n",
      "[GIN] 2024/11/29 - 16:43:35 | 200 |  3.428717149s |       127.0.0.1 | POST     \"/api/generate\"\n",
      "[GIN] 2024/11/29 - 16:43:36 | 200 |   1.56676708s |       127.0.0.1 | POST     \"/api/generate\"\n",
      "[GIN] 2024/11/29 - 16:43:40 | 200 |  3.210270185s |       127.0.0.1 | POST     \"/api/generate\"\n",
      "[GIN] 2024/11/29 - 16:43:41 | 200 |  838.864836ms |       127.0.0.1 | POST     \"/api/generate\"\n",
      "[GIN] 2024/11/29 - 16:43:43 | 200 |  2.841492398s |       127.0.0.1 | POST     \"/api/generate\"\n",
      "[GIN] 2024/11/29 - 16:43:46 | 200 |  2.131121405s |       127.0.0.1 | POST     \"/api/generate\"\n",
      "[GIN] 2024/11/29 - 16:43:47 | 200 |  1.593681858s |       127.0.0.1 | POST     \"/api/generate\"\n"
     ]
    },
    {
     "name": "stderr",
     "output_type": "stream",
     "text": [
      " 93%|█████████▎| 112/121 [1:33:49<07:07, 47.52s/it]"
     ]
    },
    {
     "name": "stdout",
     "output_type": "stream",
     "text": [
      "[GIN] 2024/11/29 - 16:43:51 | 200 |  4.078175712s |       127.0.0.1 | POST     \"/api/generate\"\n",
      "[GIN] 2024/11/29 - 16:43:54 | 200 |  2.586631806s |       127.0.0.1 | POST     \"/api/generate\"\n",
      "[GIN] 2024/11/29 - 16:43:57 | 200 |  3.602927568s |       127.0.0.1 | POST     \"/api/generate\"\n",
      "[GIN] 2024/11/29 - 16:44:00 | 200 |  2.958643819s |       127.0.0.1 | POST     \"/api/generate\"\n",
      "[GIN] 2024/11/29 - 16:44:03 | 200 |  2.815722024s |       127.0.0.1 | POST     \"/api/generate\"\n",
      "[GIN] 2024/11/29 - 16:44:06 | 200 |  2.882823294s |       127.0.0.1 | POST     \"/api/generate\"\n",
      "[GIN] 2024/11/29 - 16:44:08 | 200 |  2.376922123s |       127.0.0.1 | POST     \"/api/generate\"\n",
      "[GIN] 2024/11/29 - 16:44:15 | 200 |   6.15782767s |       127.0.0.1 | POST     \"/api/generate\"\n",
      "[GIN] 2024/11/29 - 16:44:18 | 200 |  3.158626742s |       127.0.0.1 | POST     \"/api/generate\"\n",
      "[GIN] 2024/11/29 - 16:44:21 | 200 |   2.85814663s |       127.0.0.1 | POST     \"/api/generate\"\n"
     ]
    },
    {
     "name": "stderr",
     "output_type": "stream",
     "text": [
      " 93%|█████████▎| 113/121 [1:34:24<05:50, 43.81s/it]"
     ]
    },
    {
     "name": "stdout",
     "output_type": "stream",
     "text": [
      "[GIN] 2024/11/29 - 16:44:26 | 200 |  5.734998915s |       127.0.0.1 | POST     \"/api/generate\"\n",
      "[GIN] 2024/11/29 - 16:44:28 | 200 |  2.009707293s |       127.0.0.1 | POST     \"/api/generate\"\n",
      "[GIN] 2024/11/29 - 16:44:31 | 200 |  2.377429684s |       127.0.0.1 | POST     \"/api/generate\"\n",
      "[GIN] 2024/11/29 - 16:44:33 | 200 |  2.255070897s |       127.0.0.1 | POST     \"/api/generate\"\n",
      "[GIN] 2024/11/29 - 16:44:36 | 200 |  3.110860503s |       127.0.0.1 | POST     \"/api/generate\"\n",
      "[GIN] 2024/11/29 - 16:44:39 | 200 |  2.861061342s |       127.0.0.1 | POST     \"/api/generate\"\n",
      "[GIN] 2024/11/29 - 16:44:40 | 200 |  1.102900973s |       127.0.0.1 | POST     \"/api/generate\"\n",
      "[GIN] 2024/11/29 - 16:44:41 | 200 |  1.101704003s |       127.0.0.1 | POST     \"/api/generate\"\n",
      "[GIN] 2024/11/29 - 16:44:47 | 200 |  5.501412386s |       127.0.0.1 | POST     \"/api/generate\"\n",
      "[GIN] 2024/11/29 - 16:44:49 | 200 |  2.292029907s |       127.0.0.1 | POST     \"/api/generate\"\n"
     ]
    },
    {
     "name": "stderr",
     "output_type": "stream",
     "text": [
      " 94%|█████████▍| 114/121 [1:34:48<04:24, 37.77s/it]"
     ]
    },
    {
     "name": "stdout",
     "output_type": "stream",
     "text": [
      "[GIN] 2024/11/29 - 16:44:50 | 200 |  1.034745709s |       127.0.0.1 | POST     \"/api/generate\"\n",
      "[GIN] 2024/11/29 - 16:44:53 | 200 |  3.003953842s |       127.0.0.1 | POST     \"/api/generate\"\n",
      "[GIN] 2024/11/29 - 16:44:56 | 200 |  2.895357508s |       127.0.0.1 | POST     \"/api/generate\"\n",
      "[GIN] 2024/11/29 - 16:44:57 | 200 |   1.19172703s |       127.0.0.1 | POST     \"/api/generate\"\n",
      "[GIN] 2024/11/29 - 16:45:00 | 200 |  3.236919407s |       127.0.0.1 | POST     \"/api/generate\"\n",
      "[GIN] 2024/11/29 - 16:45:02 | 200 |  1.361923575s |       127.0.0.1 | POST     \"/api/generate\"\n",
      "[GIN] 2024/11/29 - 16:45:05 | 200 |  3.160326749s |       127.0.0.1 | POST     \"/api/generate\"\n",
      "[GIN] 2024/11/29 - 16:45:06 | 200 |  1.584272752s |       127.0.0.1 | POST     \"/api/generate\"\n",
      "[GIN] 2024/11/29 - 16:45:10 | 200 |  3.913498007s |       127.0.0.1 | POST     \"/api/generate\"\n",
      "[GIN] 2024/11/29 - 16:45:12 | 200 |  1.287031867s |       127.0.0.1 | POST     \"/api/generate\"\n"
     ]
    },
    {
     "name": "stderr",
     "output_type": "stream",
     "text": [
      " 95%|█████████▌| 115/121 [1:35:11<03:21, 33.56s/it]"
     ]
    },
    {
     "name": "stdout",
     "output_type": "stream",
     "text": [
      "[GIN] 2024/11/29 - 16:45:14 | 200 |  2.104505368s |       127.0.0.1 | POST     \"/api/generate\"\n",
      "[GIN] 2024/11/29 - 16:45:18 | 200 |  4.282954053s |       127.0.0.1 | POST     \"/api/generate\"\n",
      "[GIN] 2024/11/29 - 16:45:20 | 200 |  1.751442416s |       127.0.0.1 | POST     \"/api/generate\"\n",
      "[GIN] 2024/11/29 - 16:45:21 | 200 |  1.361751616s |       127.0.0.1 | POST     \"/api/generate\"\n",
      "[GIN] 2024/11/29 - 16:45:23 | 200 |  2.225725441s |       127.0.0.1 | POST     \"/api/generate\"\n",
      "[GIN] 2024/11/29 - 16:45:25 | 200 |  1.624543299s |       127.0.0.1 | POST     \"/api/generate\"\n",
      "[GIN] 2024/11/29 - 16:45:26 | 200 |  1.313057224s |       127.0.0.1 | POST     \"/api/generate\"\n",
      "[GIN] 2024/11/29 - 16:45:28 | 200 |   1.66181399s |       127.0.0.1 | POST     \"/api/generate\"\n",
      "[GIN] 2024/11/29 - 16:45:29 | 200 |  681.688745ms |       127.0.0.1 | POST     \"/api/generate\"\n",
      "[GIN] 2024/11/29 - 16:45:30 | 200 |  1.523435453s |       127.0.0.1 | POST     \"/api/generate\"\n"
     ]
    },
    {
     "name": "stderr",
     "output_type": "stream",
     "text": [
      " 96%|█████████▌| 116/121 [1:35:33<02:29, 29.93s/it]"
     ]
    },
    {
     "name": "stdout",
     "output_type": "stream",
     "text": [
      "[GIN] 2024/11/29 - 16:45:35 | 200 |  4.999002023s |       127.0.0.1 | POST     \"/api/generate\"\n",
      "[GIN] 2024/11/29 - 16:45:37 | 200 |  1.753923486s |       127.0.0.1 | POST     \"/api/generate\"\n",
      "[GIN] 2024/11/29 - 16:45:41 | 200 |   4.25478344s |       127.0.0.1 | POST     \"/api/generate\"\n",
      "[GIN] 2024/11/29 - 16:45:44 | 200 |  3.265276772s |       127.0.0.1 | POST     \"/api/generate\"\n",
      "[GIN] 2024/11/29 - 16:45:48 | 200 |   3.09679976s |       127.0.0.1 | POST     \"/api/generate\"\n",
      "[GIN] 2024/11/29 - 16:45:50 | 200 |   2.45071657s |       127.0.0.1 | POST     \"/api/generate\"\n",
      "[GIN] 2024/11/29 - 16:45:53 | 200 |  3.138957327s |       127.0.0.1 | POST     \"/api/generate\"\n",
      "[GIN] 2024/11/29 - 16:45:55 | 200 |   1.93162329s |       127.0.0.1 | POST     \"/api/generate\"\n",
      "[GIN] 2024/11/29 - 16:45:59 | 200 |  3.488940624s |       127.0.0.1 | POST     \"/api/generate\"\n",
      "[GIN] 2024/11/29 - 16:46:03 | 200 |  3.973200432s |       127.0.0.1 | POST     \"/api/generate\"\n"
     ]
    },
    {
     "name": "stderr",
     "output_type": "stream",
     "text": [
      " 97%|█████████▋| 117/121 [1:36:02<01:58, 29.66s/it]"
     ]
    },
    {
     "name": "stdout",
     "output_type": "stream",
     "text": [
      "[GIN] 2024/11/29 - 16:46:04 | 200 |  1.649150759s |       127.0.0.1 | POST     \"/api/generate\"\n",
      "[GIN] 2024/11/29 - 16:46:05 | 200 |  941.913895ms |       127.0.0.1 | POST     \"/api/generate\"\n",
      "[GIN] 2024/11/29 - 16:46:09 | 200 |  3.559612397s |       127.0.0.1 | POST     \"/api/generate\"\n",
      "[GIN] 2024/11/29 - 16:46:11 | 200 |  2.031666879s |       127.0.0.1 | POST     \"/api/generate\"\n",
      "[GIN] 2024/11/29 - 16:46:14 | 200 |  2.771360418s |       127.0.0.1 | POST     \"/api/generate\"\n",
      "[GIN] 2024/11/29 - 16:46:16 | 200 |  2.833379526s |       127.0.0.1 | POST     \"/api/generate\"\n",
      "[GIN] 2024/11/29 - 16:46:18 | 200 |  1.189622699s |       127.0.0.1 | POST     \"/api/generate\"\n",
      "[GIN] 2024/11/29 - 16:46:19 | 200 |  1.785626745s |       127.0.0.1 | POST     \"/api/generate\"\n",
      "[GIN] 2024/11/29 - 16:46:21 | 200 |  2.108603539s |       127.0.0.1 | POST     \"/api/generate\"\n",
      "[GIN] 2024/11/29 - 16:46:23 | 200 |  1.326429912s |       127.0.0.1 | POST     \"/api/generate\"\n"
     ]
    },
    {
     "name": "stderr",
     "output_type": "stream",
     "text": [
      " 98%|█████████▊| 118/121 [1:36:22<01:20, 26.70s/it]"
     ]
    },
    {
     "name": "stdout",
     "output_type": "stream",
     "text": [
      "[GIN] 2024/11/29 - 16:46:24 | 200 |  1.223379058s |       127.0.0.1 | POST     \"/api/generate\"\n",
      "[GIN] 2024/11/29 - 16:46:25 | 200 |  1.151929965s |       127.0.0.1 | POST     \"/api/generate\"\n",
      "[GIN] 2024/11/29 - 16:46:26 | 200 |  1.265787236s |       127.0.0.1 | POST     \"/api/generate\"\n",
      "[GIN] 2024/11/29 - 16:46:30 | 200 |  3.927361426s |       127.0.0.1 | POST     \"/api/generate\"\n",
      "[GIN] 2024/11/29 - 16:46:34 | 200 |  3.946153396s |       127.0.0.1 | POST     \"/api/generate\"\n",
      "[GIN] 2024/11/29 - 16:46:40 | 200 |   5.38744426s |       127.0.0.1 | POST     \"/api/generate\"\n",
      "[GIN] 2024/11/29 - 16:46:45 | 200 |  4.962217284s |       127.0.0.1 | POST     \"/api/generate\"\n",
      "[GIN] 2024/11/29 - 16:46:52 | 200 |  7.743034731s |       127.0.0.1 | POST     \"/api/generate\"\n",
      "[GIN] 2024/11/29 - 16:46:58 | 200 |     6.015025s |       127.0.0.1 | POST     \"/api/generate\"\n",
      "[GIN] 2024/11/29 - 16:47:02 | 200 |  3.498219229s |       127.0.0.1 | POST     \"/api/generate\"\n"
     ]
    },
    {
     "name": "stderr",
     "output_type": "stream",
     "text": [
      " 98%|█████████▊| 119/121 [1:37:02<01:01, 30.66s/it]"
     ]
    },
    {
     "name": "stdout",
     "output_type": "stream",
     "text": [
      "[GIN] 2024/11/29 - 16:47:04 | 200 |  1.999200947s |       127.0.0.1 | POST     \"/api/generate\"\n",
      "[GIN] 2024/11/29 - 16:47:05 | 200 |  1.212401305s |       127.0.0.1 | POST     \"/api/generate\"\n",
      "[GIN] 2024/11/29 - 16:47:08 | 200 |  2.434343233s |       127.0.0.1 | POST     \"/api/generate\"\n",
      "[GIN] 2024/11/29 - 16:47:09 | 200 |   962.51289ms |       127.0.0.1 | POST     \"/api/generate\"\n",
      "[GIN] 2024/11/29 - 16:47:11 | 200 |  2.354945116s |       127.0.0.1 | POST     \"/api/generate\"\n",
      "[GIN] 2024/11/29 - 16:47:12 | 200 |   1.57063499s |       127.0.0.1 | POST     \"/api/generate\"\n",
      "[GIN] 2024/11/29 - 16:47:14 | 200 |  1.314541118s |       127.0.0.1 | POST     \"/api/generate\"\n",
      "[GIN] 2024/11/29 - 16:47:15 | 200 |  1.412190806s |       127.0.0.1 | POST     \"/api/generate\"\n",
      "[GIN] 2024/11/29 - 16:47:20 | 200 |   5.18037508s |       127.0.0.1 | POST     \"/api/generate\"\n",
      "[GIN] 2024/11/29 - 16:47:24 | 200 |  3.684069106s |       127.0.0.1 | POST     \"/api/generate\"\n"
     ]
    },
    {
     "name": "stderr",
     "output_type": "stream",
     "text": [
      " 99%|█████████▉| 120/121 [1:37:25<00:28, 28.58s/it]"
     ]
    },
    {
     "name": "stdout",
     "output_type": "stream",
     "text": [
      "[GIN] 2024/11/29 - 16:47:28 | 200 |  3.504965972s |       127.0.0.1 | POST     \"/api/generate\"\n",
      "[GIN] 2024/11/29 - 16:47:30 | 200 |   1.85547277s |       127.0.0.1 | POST     \"/api/generate\"\n",
      "[GIN] 2024/11/29 - 16:47:31 | 200 |  1.283733953s |       127.0.0.1 | POST     \"/api/generate\"\n",
      "[GIN] 2024/11/29 - 16:47:35 | 200 |  3.904293761s |       127.0.0.1 | POST     \"/api/generate\"\n",
      "[GIN] 2024/11/29 - 16:47:38 | 200 |  3.109726202s |       127.0.0.1 | POST     \"/api/generate\"\n",
      "[GIN] 2024/11/29 - 16:47:40 | 200 |  1.845732539s |       127.0.0.1 | POST     \"/api/generate\"\n",
      "[GIN] 2024/11/29 - 16:47:42 | 200 |  2.410371718s |       127.0.0.1 | POST     \"/api/generate\"\n",
      "[GIN] 2024/11/29 - 16:47:46 | 200 |  3.665022436s |       127.0.0.1 | POST     \"/api/generate\"\n",
      "[GIN] 2024/11/29 - 16:47:47 | 200 |  1.451462964s |       127.0.0.1 | POST     \"/api/generate\"\n",
      "[GIN] 2024/11/29 - 16:47:50 | 200 |  3.213823281s |       127.0.0.1 | POST     \"/api/generate\"\n"
     ]
    },
    {
     "name": "stderr",
     "output_type": "stream",
     "text": [
      "100%|██████████| 121/121 [1:37:50<00:00, 48.51s/it]"
     ]
    },
    {
     "name": "stdout",
     "output_type": "stream",
     "text": [
      "[GIN] 2024/11/29 - 16:47:52 | 200 |  1.407894813s |       127.0.0.1 | POST     \"/api/generate\"\n"
     ]
    },
    {
     "name": "stderr",
     "output_type": "stream",
     "text": [
      "\n"
     ]
    }
   ],
   "source": [
    "import pandas as pd\n",
    "from tqdm import tqdm\n",
    "from langchain_core.prompts import ChatPromptTemplate\n",
    "from langchain_ollama.llms import OllamaLLM\n",
    "\n",
    "EOS_TOKEN = tokenizer.eos_token\n",
    "prompt = ChatPromptTemplate.from_template(prompt_template) + EOS_TOKEN\n",
    "model = OllamaLLM(model=\"ft_model_mistral\", max_tokens=500, stop=[EOS_TOKEN])\n",
    "chain = prompt | model\n",
    "\n",
    "eval_dataset = pd.read_csv('evaluation_dataset.csv')\n",
    "batch_size = 10\n",
    "checkpoint_interval = 200\n",
    "\n",
    "results = []\n",
    "\n",
    "for i in tqdm(range(0, len(eval_dataset), batch_size)):\n",
    "    batch = eval_dataset.iloc[i:i+batch_size]\n",
    "    questions = batch['Question'].tolist()\n",
    "    companies = batch['Company'].tolist()\n",
    "\n",
    "\n",
    "    prompts = [prompt_template.format(q,c).strip() + EOS_TOKEN for q,c in zip(questions, companies)]\n",
    "#     print(prompts)\n",
    "    outputs = model.batch(prompts)\n",
    "    \n",
    "    \n",
    "\n",
    "    for j, output in enumerate(outputs):\n",
    "        results.append({\n",
    "            \"question_id\": batch.index[j],\n",
    "            \"company\": batch.iloc[j]['Company'],\n",
    "            \"question\": questions[j],\n",
    "            \"ground_truth\": batch.iloc[j]['Answer'],\n",
    "            \"model_output\": output.strip(),\n",
    "            \n",
    "        })\n",
    "    \n",
    "#     if i==20:\n",
    "#         break\n",
    "    \n",
    "    if (i + batch_size) % checkpoint_interval == 0 or (i + batch_size) >= len(eval_dataset):\n",
    "        pd.DataFrame(results).to_csv(f\"model_mistral-7b-ft-output_partial_{i+batch_size}.csv\", index=False)\n",
    "        \n",
    "\n",
    "final = pd.DataFrame(results)\n",
    "final.to_csv(\"finetune_output.csv\", index=False)\n",
    "        \n"
   ]
  },
  {
   "cell_type": "code",
   "execution_count": 31,
   "metadata": {},
   "outputs": [],
   "source": [
    "final = pd.DataFrame(results)\n",
    "final.to_csv(\"newtest_mistral-7b-ft-output_final.csv\", index=False)"
   ]
  },
  {
   "cell_type": "code",
   "execution_count": 45,
   "metadata": {},
   "outputs": [
    {
     "name": "stdout",
     "output_type": "stream",
     "text": [
      "0    What is Meta's current dividend policy and how...\n",
      "1    DEXCOM INC's 2020 annual report mentions a num...\n",
      "2    DEXCOM INC is a medical device company that fo...\n",
      "3    DEXCOM INC is a medical device company that fo...\n",
      "4    Given the information provided, what is the co...\n",
      "Name: Question, dtype: object\n"
     ]
    }
   ],
   "source": [
    "print(eval_dataset['Question'].head())  # Verify sample questions\n"
   ]
  },
  {
   "cell_type": "code",
   "execution_count": 33,
   "metadata": {},
   "outputs": [
    {
     "name": "stdout",
     "output_type": "stream",
     "text": [
      "Defaulting to user installation because normal site-packages is not writeable\n",
      "Collecting sacrebleu\n",
      "  Downloading sacrebleu-2.4.3-py3-none-any.whl (103 kB)\n",
      "\u001b[2K     \u001b[90m━━━━━━━━━━━━━━━━━━━━━━━━━━━━━━━━━━━━━━━\u001b[0m \u001b[32m104.0/104.0 kB\u001b[0m \u001b[31m2.1 MB/s\u001b[0m eta \u001b[36m0:00:00\u001b[0ma \u001b[36m0:00:01\u001b[0m\n",
      "\u001b[?25hCollecting portalocker\n",
      "  Downloading portalocker-3.0.0-py3-none-any.whl (19 kB)\n",
      "Requirement already satisfied: numpy>=1.17 in /storage/pace-apps/manual/packages/anaconda3/2023.03/lib/python3.10/site-packages (from sacrebleu) (1.24.3)\n",
      "Collecting colorama\n",
      "  Downloading colorama-0.4.6-py2.py3-none-any.whl (25 kB)\n",
      "Requirement already satisfied: regex in /home/hice1/mmahendran7/.local/lib/python3.10/site-packages (from sacrebleu) (2024.11.6)\n",
      "Requirement already satisfied: lxml in /storage/pace-apps/manual/packages/anaconda3/2023.03/lib/python3.10/site-packages (from sacrebleu) (4.9.2)\n",
      "Collecting tabulate>=0.8.9\n",
      "  Downloading tabulate-0.9.0-py3-none-any.whl (35 kB)\n",
      "Installing collected packages: tabulate, portalocker, colorama, sacrebleu\n",
      "\u001b[33m  WARNING: The script tabulate is installed in '/home/hice1/mmahendran7/.local/bin' which is not on PATH.\n",
      "  Consider adding this directory to PATH or, if you prefer to suppress this warning, use --no-warn-script-location.\u001b[0m\u001b[33m\n",
      "\u001b[0m\u001b[33m  WARNING: The script sacrebleu is installed in '/home/hice1/mmahendran7/.local/bin' which is not on PATH.\n",
      "  Consider adding this directory to PATH or, if you prefer to suppress this warning, use --no-warn-script-location.\u001b[0m\u001b[33m\n",
      "\u001b[0mSuccessfully installed colorama-0.4.6 portalocker-3.0.0 sacrebleu-2.4.3 tabulate-0.9.0\n",
      "Defaulting to user installation because normal site-packages is not writeable\n",
      "Collecting bert_score\n",
      "  Downloading bert_score-0.3.13-py3-none-any.whl (61 kB)\n",
      "\u001b[2K     \u001b[90m━━━━━━━━━━━━━━━━━━━━━━━━━━━━━━━━━━━━━━━━\u001b[0m \u001b[32m61.1/61.1 kB\u001b[0m \u001b[31m1.3 MB/s\u001b[0m eta \u001b[36m0:00:00\u001b[0ma \u001b[36m0:00:01\u001b[0m\n",
      "\u001b[?25hRequirement already satisfied: transformers>=3.0.0 in /home/hice1/mmahendran7/.local/lib/python3.10/site-packages (from bert_score) (4.46.3)\n",
      "Requirement already satisfied: numpy in /storage/pace-apps/manual/packages/anaconda3/2023.03/lib/python3.10/site-packages (from bert_score) (1.24.3)\n",
      "Requirement already satisfied: tqdm>=4.31.1 in /home/hice1/mmahendran7/.local/lib/python3.10/site-packages (from bert_score) (4.67.1)\n",
      "Requirement already satisfied: torch>=1.0.0 in /home/hice1/mmahendran7/.local/lib/python3.10/site-packages (from bert_score) (2.5.1)\n",
      "Requirement already satisfied: packaging>=20.9 in /home/hice1/mmahendran7/.local/lib/python3.10/site-packages (from bert_score) (24.2)\n",
      "Requirement already satisfied: requests in /home/hice1/mmahendran7/.local/lib/python3.10/site-packages (from bert_score) (2.32.3)\n",
      "Requirement already satisfied: pandas>=1.0.1 in /storage/pace-apps/manual/packages/anaconda3/2023.03/lib/python3.10/site-packages (from bert_score) (2.2.0)\n",
      "Requirement already satisfied: matplotlib in /storage/pace-apps/manual/packages/anaconda3/2023.03/lib/python3.10/site-packages (from bert_score) (3.7.1)\n",
      "Requirement already satisfied: pytz>=2020.1 in /storage/pace-apps/manual/packages/anaconda3/2023.03/lib/python3.10/site-packages (from pandas>=1.0.1->bert_score) (2022.7)\n",
      "Requirement already satisfied: tzdata>=2022.7 in /storage/pace-apps/manual/packages/anaconda3/2023.03/lib/python3.10/site-packages (from pandas>=1.0.1->bert_score) (2023.4)\n",
      "Requirement already satisfied: python-dateutil>=2.8.2 in /storage/pace-apps/manual/packages/anaconda3/2023.03/lib/python3.10/site-packages (from pandas>=1.0.1->bert_score) (2.8.2)\n",
      "Requirement already satisfied: nvidia-curand-cu12==10.3.5.147 in /home/hice1/mmahendran7/.local/lib/python3.10/site-packages (from torch>=1.0.0->bert_score) (10.3.5.147)\n",
      "Requirement already satisfied: networkx in /home/hice1/mmahendran7/.local/lib/python3.10/site-packages (from torch>=1.0.0->bert_score) (3.4.2)\n",
      "Requirement already satisfied: jinja2 in /storage/pace-apps/manual/packages/anaconda3/2023.03/lib/python3.10/site-packages (from torch>=1.0.0->bert_score) (3.1.2)\n",
      "Requirement already satisfied: typing-extensions>=4.8.0 in /home/hice1/mmahendran7/.local/lib/python3.10/site-packages (from torch>=1.0.0->bert_score) (4.12.2)\n",
      "Requirement already satisfied: nvidia-nvtx-cu12==12.4.127 in /home/hice1/mmahendran7/.local/lib/python3.10/site-packages (from torch>=1.0.0->bert_score) (12.4.127)\n",
      "Requirement already satisfied: nvidia-cudnn-cu12==9.1.0.70 in /home/hice1/mmahendran7/.local/lib/python3.10/site-packages (from torch>=1.0.0->bert_score) (9.1.0.70)\n",
      "Requirement already satisfied: triton==3.1.0 in /home/hice1/mmahendran7/.local/lib/python3.10/site-packages (from torch>=1.0.0->bert_score) (3.1.0)\n",
      "Requirement already satisfied: nvidia-cusolver-cu12==11.6.1.9 in /home/hice1/mmahendran7/.local/lib/python3.10/site-packages (from torch>=1.0.0->bert_score) (11.6.1.9)\n",
      "Requirement already satisfied: fsspec in /home/hice1/mmahendran7/.local/lib/python3.10/site-packages (from torch>=1.0.0->bert_score) (2024.9.0)\n",
      "Requirement already satisfied: nvidia-cuda-cupti-cu12==12.4.127 in /home/hice1/mmahendran7/.local/lib/python3.10/site-packages (from torch>=1.0.0->bert_score) (12.4.127)\n",
      "Requirement already satisfied: nvidia-cuda-runtime-cu12==12.4.127 in /home/hice1/mmahendran7/.local/lib/python3.10/site-packages (from torch>=1.0.0->bert_score) (12.4.127)\n",
      "Requirement already satisfied: nvidia-cublas-cu12==12.4.5.8 in /home/hice1/mmahendran7/.local/lib/python3.10/site-packages (from torch>=1.0.0->bert_score) (12.4.5.8)\n",
      "Requirement already satisfied: sympy==1.13.1 in /home/hice1/mmahendran7/.local/lib/python3.10/site-packages (from torch>=1.0.0->bert_score) (1.13.1)\n",
      "Requirement already satisfied: nvidia-nccl-cu12==2.21.5 in /home/hice1/mmahendran7/.local/lib/python3.10/site-packages (from torch>=1.0.0->bert_score) (2.21.5)\n",
      "Requirement already satisfied: nvidia-nvjitlink-cu12==12.4.127 in /home/hice1/mmahendran7/.local/lib/python3.10/site-packages (from torch>=1.0.0->bert_score) (12.4.127)\n",
      "Requirement already satisfied: nvidia-cufft-cu12==11.2.1.3 in /home/hice1/mmahendran7/.local/lib/python3.10/site-packages (from torch>=1.0.0->bert_score) (11.2.1.3)\n",
      "Requirement already satisfied: filelock in /storage/pace-apps/manual/packages/anaconda3/2023.03/lib/python3.10/site-packages (from torch>=1.0.0->bert_score) (3.9.0)\n",
      "Requirement already satisfied: nvidia-cuda-nvrtc-cu12==12.4.127 in /home/hice1/mmahendran7/.local/lib/python3.10/site-packages (from torch>=1.0.0->bert_score) (12.4.127)\n",
      "Requirement already satisfied: nvidia-cusparse-cu12==12.3.1.170 in /home/hice1/mmahendran7/.local/lib/python3.10/site-packages (from torch>=1.0.0->bert_score) (12.3.1.170)\n",
      "Requirement already satisfied: mpmath<1.4,>=1.1.0 in /home/hice1/mmahendran7/.local/lib/python3.10/site-packages (from sympy==1.13.1->torch>=1.0.0->bert_score) (1.3.0)\n",
      "Requirement already satisfied: tokenizers<0.21,>=0.20 in /home/hice1/mmahendran7/.local/lib/python3.10/site-packages (from transformers>=3.0.0->bert_score) (0.20.3)\n",
      "Requirement already satisfied: pyyaml>=5.1 in /storage/pace-apps/manual/packages/anaconda3/2023.03/lib/python3.10/site-packages (from transformers>=3.0.0->bert_score) (6.0)\n",
      "Requirement already satisfied: safetensors>=0.4.1 in /home/hice1/mmahendran7/.local/lib/python3.10/site-packages (from transformers>=3.0.0->bert_score) (0.4.5)\n",
      "Requirement already satisfied: regex!=2019.12.17 in /home/hice1/mmahendran7/.local/lib/python3.10/site-packages (from transformers>=3.0.0->bert_score) (2024.11.6)\n",
      "Requirement already satisfied: huggingface-hub<1.0,>=0.23.2 in /home/hice1/mmahendran7/.local/lib/python3.10/site-packages (from transformers>=3.0.0->bert_score) (0.26.3)\n",
      "Requirement already satisfied: pillow>=6.2.0 in /storage/pace-apps/manual/packages/anaconda3/2023.03/lib/python3.10/site-packages (from matplotlib->bert_score) (9.4.0)\n",
      "Requirement already satisfied: cycler>=0.10 in /storage/pace-apps/manual/packages/anaconda3/2023.03/lib/python3.10/site-packages (from matplotlib->bert_score) (0.11.0)\n",
      "Requirement already satisfied: pyparsing>=2.3.1 in /storage/pace-apps/manual/packages/anaconda3/2023.03/lib/python3.10/site-packages (from matplotlib->bert_score) (3.0.9)\n",
      "Requirement already satisfied: kiwisolver>=1.0.1 in /storage/pace-apps/manual/packages/anaconda3/2023.03/lib/python3.10/site-packages (from matplotlib->bert_score) (1.4.4)\n",
      "Requirement already satisfied: fonttools>=4.22.0 in /storage/pace-apps/manual/packages/anaconda3/2023.03/lib/python3.10/site-packages (from matplotlib->bert_score) (4.25.0)\n",
      "Requirement already satisfied: contourpy>=1.0.1 in /storage/pace-apps/manual/packages/anaconda3/2023.03/lib/python3.10/site-packages (from matplotlib->bert_score) (1.0.5)\n",
      "Requirement already satisfied: urllib3<3,>=1.21.1 in /storage/pace-apps/manual/packages/anaconda3/2023.03/lib/python3.10/site-packages (from requests->bert_score) (1.26.15)\n",
      "Requirement already satisfied: charset-normalizer<4,>=2 in /storage/pace-apps/manual/packages/anaconda3/2023.03/lib/python3.10/site-packages (from requests->bert_score) (2.0.4)\n",
      "Requirement already satisfied: certifi>=2017.4.17 in /storage/pace-apps/manual/packages/anaconda3/2023.03/lib/python3.10/site-packages (from requests->bert_score) (2024.2.2)\n",
      "Requirement already satisfied: idna<4,>=2.5 in /storage/pace-apps/manual/packages/anaconda3/2023.03/lib/python3.10/site-packages (from requests->bert_score) (3.4)\n",
      "Requirement already satisfied: six>=1.5 in /storage/pace-apps/manual/packages/anaconda3/2023.03/lib/python3.10/site-packages (from python-dateutil>=2.8.2->pandas>=1.0.1->bert_score) (1.16.0)\n",
      "Requirement already satisfied: MarkupSafe>=2.0 in /storage/pace-apps/manual/packages/anaconda3/2023.03/lib/python3.10/site-packages (from jinja2->torch>=1.0.0->bert_score) (2.1.1)\n",
      "Installing collected packages: bert_score\n",
      "\u001b[33m  WARNING: The scripts bert-score and bert-score-show are installed in '/home/hice1/mmahendran7/.local/bin' which is not on PATH.\n",
      "  Consider adding this directory to PATH or, if you prefer to suppress this warning, use --no-warn-script-location.\u001b[0m\u001b[33m\n",
      "\u001b[0mSuccessfully installed bert_score-0.3.13\n"
     ]
    }
   ],
   "source": [
    "!pip install sacrebleu\n",
    "!pip install bert_score"
   ]
  },
  {
   "cell_type": "code",
   "execution_count": 34,
   "metadata": {},
   "outputs": [],
   "source": [
    "import pandas as pd\n",
    "\n",
    "# Load the finetune output CSV file\n",
    "finetune_output = pd.read_csv(\"finetune_output.csv\")\n",
    "\n",
    "# Extract the ground_truth column as references\n",
    "references = finetune_output['ground_truth'].tolist()\n",
    "\n",
    "# Extract the model_output column as hypothesis\n",
    "hypothesis = finetune_output['model_output'].tolist()\n",
    "\n",
    "\n",
    "\n"
   ]
  },
  {
   "cell_type": "code",
   "execution_count": 35,
   "metadata": {},
   "outputs": [
    {
     "name": "stdout",
     "output_type": "stream",
     "text": [
      "BLEU Score: 39.7422\n"
     ]
    }
   ],
   "source": [
    "from sacrebleu import corpus_bleu\n",
    "\n",
    "references_for_bleu = [[ref] for ref in references]\n",
    "bleu = corpus_bleu(hypothesis, references_for_bleu)\n",
    "print(f\"BLEU Score: {bleu.score:.4f}\")"
   ]
  },
  {
   "cell_type": "code",
   "execution_count": 36,
   "metadata": {},
   "outputs": [
    {
     "name": "stderr",
     "output_type": "stream",
     "text": [
      "Some weights of RobertaModel were not initialized from the model checkpoint at roberta-large and are newly initialized: ['roberta.pooler.dense.bias', 'roberta.pooler.dense.weight']\n",
      "You should probably TRAIN this model on a down-stream task to be able to use it for predictions and inference.\n"
     ]
    },
    {
     "name": "stdout",
     "output_type": "stream",
     "text": [
      "BERTScore - Precision: 0.1818, Recall: 0.2105, F1: 0.1962\n"
     ]
    }
   ],
   "source": [
    "from bert_score import score as bert_score\n",
    "\n",
    "P, R, F1 = bert_score(hypothesis, references, lang=\"en\", rescale_with_baseline=True)\n",
    "print(f\"BERTScore - Precision: {P.mean().item():.4f}, Recall: {R.mean().item():.4f}, F1: {F1.mean().item():.4f}\")\n"
   ]
  },
  {
   "cell_type": "code",
   "execution_count": null,
   "metadata": {},
   "outputs": [],
   "source": []
  }
 ],
 "metadata": {
  "colab": {
   "provenance": []
  },
  "kernelspec": {
   "display_name": "Python 3 (ipykernel)",
   "language": "python",
   "name": "python3"
  },
  "language_info": {
   "codemirror_mode": {
    "name": "ipython",
    "version": 3
   },
   "file_extension": ".py",
   "mimetype": "text/x-python",
   "name": "python",
   "nbconvert_exporter": "python",
   "pygments_lexer": "ipython3",
   "version": "3.10.13"
  }
 },
 "nbformat": 4,
 "nbformat_minor": 1
}
