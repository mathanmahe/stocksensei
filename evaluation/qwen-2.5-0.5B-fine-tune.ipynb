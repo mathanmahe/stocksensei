{
 "cells": [
  {
   "cell_type": "markdown",
   "metadata": {},
   "source": [
    "# Qwen Fine Tuning Script\n",
    "- Fine tune a QWEN model\n",
    "- Show how to output model weights to GGUF Format so we can use it easily via Ollama (useful if we want to host these local models on the StockSensei deployment)"
   ]
  },
  {
   "cell_type": "markdown",
   "metadata": {},
   "source": [
    "## Part 1: Model Finetuning (HuggingFace, MLX)"
   ]
  },
  {
   "cell_type": "code",
   "execution_count": 1,
   "metadata": {},
   "outputs": [
    {
     "name": "stdout",
     "output_type": "stream",
     "text": [
      "Requirement already satisfied: datasets in /Users/willferguson/miniconda3/envs/cs_6220/lib/python3.11/site-packages (3.1.0)\n",
      "Requirement already satisfied: filelock in /Users/willferguson/miniconda3/envs/cs_6220/lib/python3.11/site-packages (from datasets) (3.16.1)\n",
      "Requirement already satisfied: numpy>=1.17 in /Users/willferguson/miniconda3/envs/cs_6220/lib/python3.11/site-packages (from datasets) (1.26.4)\n",
      "Requirement already satisfied: pyarrow>=15.0.0 in /Users/willferguson/miniconda3/envs/cs_6220/lib/python3.11/site-packages (from datasets) (18.1.0)\n",
      "Requirement already satisfied: dill<0.3.9,>=0.3.0 in /Users/willferguson/miniconda3/envs/cs_6220/lib/python3.11/site-packages (from datasets) (0.3.8)\n",
      "Requirement already satisfied: pandas in /Users/willferguson/miniconda3/envs/cs_6220/lib/python3.11/site-packages (from datasets) (2.2.3)\n",
      "Requirement already satisfied: requests>=2.32.2 in /Users/willferguson/miniconda3/envs/cs_6220/lib/python3.11/site-packages (from datasets) (2.32.3)\n",
      "Requirement already satisfied: tqdm>=4.66.3 in /Users/willferguson/miniconda3/envs/cs_6220/lib/python3.11/site-packages (from datasets) (4.66.6)\n",
      "Requirement already satisfied: xxhash in /Users/willferguson/miniconda3/envs/cs_6220/lib/python3.11/site-packages (from datasets) (3.5.0)\n",
      "Requirement already satisfied: multiprocess<0.70.17 in /Users/willferguson/miniconda3/envs/cs_6220/lib/python3.11/site-packages (from datasets) (0.70.16)\n",
      "Requirement already satisfied: fsspec<=2024.9.0,>=2023.1.0 in /Users/willferguson/miniconda3/envs/cs_6220/lib/python3.11/site-packages (from fsspec[http]<=2024.9.0,>=2023.1.0->datasets) (2024.9.0)\n",
      "Requirement already satisfied: aiohttp in /Users/willferguson/miniconda3/envs/cs_6220/lib/python3.11/site-packages (from datasets) (3.10.10)\n",
      "Requirement already satisfied: huggingface-hub>=0.23.0 in /Users/willferguson/miniconda3/envs/cs_6220/lib/python3.11/site-packages (from datasets) (0.26.2)\n",
      "Requirement already satisfied: packaging in /Users/willferguson/miniconda3/envs/cs_6220/lib/python3.11/site-packages (from datasets) (24.1)\n",
      "Requirement already satisfied: pyyaml>=5.1 in /Users/willferguson/miniconda3/envs/cs_6220/lib/python3.11/site-packages (from datasets) (6.0.2)\n",
      "Requirement already satisfied: aiohappyeyeballs>=2.3.0 in /Users/willferguson/miniconda3/envs/cs_6220/lib/python3.11/site-packages (from aiohttp->datasets) (2.4.3)\n",
      "Requirement already satisfied: aiosignal>=1.1.2 in /Users/willferguson/miniconda3/envs/cs_6220/lib/python3.11/site-packages (from aiohttp->datasets) (1.3.1)\n",
      "Requirement already satisfied: attrs>=17.3.0 in /Users/willferguson/miniconda3/envs/cs_6220/lib/python3.11/site-packages (from aiohttp->datasets) (24.2.0)\n",
      "Requirement already satisfied: frozenlist>=1.1.1 in /Users/willferguson/miniconda3/envs/cs_6220/lib/python3.11/site-packages (from aiohttp->datasets) (1.5.0)\n",
      "Requirement already satisfied: multidict<7.0,>=4.5 in /Users/willferguson/miniconda3/envs/cs_6220/lib/python3.11/site-packages (from aiohttp->datasets) (6.1.0)\n",
      "Requirement already satisfied: yarl<2.0,>=1.12.0 in /Users/willferguson/miniconda3/envs/cs_6220/lib/python3.11/site-packages (from aiohttp->datasets) (1.17.0)\n",
      "Requirement already satisfied: typing-extensions>=3.7.4.3 in /Users/willferguson/miniconda3/envs/cs_6220/lib/python3.11/site-packages (from huggingface-hub>=0.23.0->datasets) (4.12.2)\n",
      "Requirement already satisfied: charset-normalizer<4,>=2 in /Users/willferguson/miniconda3/envs/cs_6220/lib/python3.11/site-packages (from requests>=2.32.2->datasets) (3.4.0)\n",
      "Requirement already satisfied: idna<4,>=2.5 in /Users/willferguson/miniconda3/envs/cs_6220/lib/python3.11/site-packages (from requests>=2.32.2->datasets) (3.10)\n",
      "Requirement already satisfied: urllib3<3,>=1.21.1 in /Users/willferguson/miniconda3/envs/cs_6220/lib/python3.11/site-packages (from requests>=2.32.2->datasets) (2.2.3)\n",
      "Requirement already satisfied: certifi>=2017.4.17 in /Users/willferguson/miniconda3/envs/cs_6220/lib/python3.11/site-packages (from requests>=2.32.2->datasets) (2024.8.30)\n",
      "Requirement already satisfied: python-dateutil>=2.8.2 in /Users/willferguson/miniconda3/envs/cs_6220/lib/python3.11/site-packages (from pandas->datasets) (2.9.0)\n",
      "Requirement already satisfied: pytz>=2020.1 in /Users/willferguson/miniconda3/envs/cs_6220/lib/python3.11/site-packages (from pandas->datasets) (2024.2)\n",
      "Requirement already satisfied: tzdata>=2022.7 in /Users/willferguson/miniconda3/envs/cs_6220/lib/python3.11/site-packages (from pandas->datasets) (2024.2)\n",
      "Requirement already satisfied: six>=1.5 in /Users/willferguson/miniconda3/envs/cs_6220/lib/python3.11/site-packages (from python-dateutil>=2.8.2->pandas->datasets) (1.16.0)\n",
      "Requirement already satisfied: propcache>=0.2.0 in /Users/willferguson/miniconda3/envs/cs_6220/lib/python3.11/site-packages (from yarl<2.0,>=1.12.0->aiohttp->datasets) (0.2.0)\n",
      "Note: you may need to restart the kernel to use updated packages.\n",
      "Requirement already satisfied: transformers in /Users/willferguson/miniconda3/envs/cs_6220/lib/python3.11/site-packages (4.46.3)\n",
      "Requirement already satisfied: filelock in /Users/willferguson/miniconda3/envs/cs_6220/lib/python3.11/site-packages (from transformers) (3.16.1)\n",
      "Requirement already satisfied: huggingface-hub<1.0,>=0.23.2 in /Users/willferguson/miniconda3/envs/cs_6220/lib/python3.11/site-packages (from transformers) (0.26.2)\n",
      "Requirement already satisfied: numpy>=1.17 in /Users/willferguson/miniconda3/envs/cs_6220/lib/python3.11/site-packages (from transformers) (1.26.4)\n",
      "Requirement already satisfied: packaging>=20.0 in /Users/willferguson/miniconda3/envs/cs_6220/lib/python3.11/site-packages (from transformers) (24.1)\n",
      "Requirement already satisfied: pyyaml>=5.1 in /Users/willferguson/miniconda3/envs/cs_6220/lib/python3.11/site-packages (from transformers) (6.0.2)\n",
      "Requirement already satisfied: regex!=2019.12.17 in /Users/willferguson/miniconda3/envs/cs_6220/lib/python3.11/site-packages (from transformers) (2024.11.6)\n",
      "Requirement already satisfied: requests in /Users/willferguson/miniconda3/envs/cs_6220/lib/python3.11/site-packages (from transformers) (2.32.3)\n",
      "Requirement already satisfied: tokenizers<0.21,>=0.20 in /Users/willferguson/miniconda3/envs/cs_6220/lib/python3.11/site-packages (from transformers) (0.20.3)\n",
      "Requirement already satisfied: safetensors>=0.4.1 in /Users/willferguson/miniconda3/envs/cs_6220/lib/python3.11/site-packages (from transformers) (0.4.5)\n",
      "Requirement already satisfied: tqdm>=4.27 in /Users/willferguson/miniconda3/envs/cs_6220/lib/python3.11/site-packages (from transformers) (4.66.6)\n",
      "Requirement already satisfied: fsspec>=2023.5.0 in /Users/willferguson/miniconda3/envs/cs_6220/lib/python3.11/site-packages (from huggingface-hub<1.0,>=0.23.2->transformers) (2024.9.0)\n",
      "Requirement already satisfied: typing-extensions>=3.7.4.3 in /Users/willferguson/miniconda3/envs/cs_6220/lib/python3.11/site-packages (from huggingface-hub<1.0,>=0.23.2->transformers) (4.12.2)\n",
      "Requirement already satisfied: charset-normalizer<4,>=2 in /Users/willferguson/miniconda3/envs/cs_6220/lib/python3.11/site-packages (from requests->transformers) (3.4.0)\n",
      "Requirement already satisfied: idna<4,>=2.5 in /Users/willferguson/miniconda3/envs/cs_6220/lib/python3.11/site-packages (from requests->transformers) (3.10)\n",
      "Requirement already satisfied: urllib3<3,>=1.21.1 in /Users/willferguson/miniconda3/envs/cs_6220/lib/python3.11/site-packages (from requests->transformers) (2.2.3)\n",
      "Requirement already satisfied: certifi>=2017.4.17 in /Users/willferguson/miniconda3/envs/cs_6220/lib/python3.11/site-packages (from requests->transformers) (2024.8.30)\n",
      "Note: you may need to restart the kernel to use updated packages.\n",
      "Requirement already satisfied: huggingface_hub in /Users/willferguson/miniconda3/envs/cs_6220/lib/python3.11/site-packages (0.26.2)\n",
      "Requirement already satisfied: filelock in /Users/willferguson/miniconda3/envs/cs_6220/lib/python3.11/site-packages (from huggingface_hub) (3.16.1)\n",
      "Requirement already satisfied: fsspec>=2023.5.0 in /Users/willferguson/miniconda3/envs/cs_6220/lib/python3.11/site-packages (from huggingface_hub) (2024.9.0)\n",
      "Requirement already satisfied: packaging>=20.9 in /Users/willferguson/miniconda3/envs/cs_6220/lib/python3.11/site-packages (from huggingface_hub) (24.1)\n",
      "Requirement already satisfied: pyyaml>=5.1 in /Users/willferguson/miniconda3/envs/cs_6220/lib/python3.11/site-packages (from huggingface_hub) (6.0.2)\n",
      "Requirement already satisfied: requests in /Users/willferguson/miniconda3/envs/cs_6220/lib/python3.11/site-packages (from huggingface_hub) (2.32.3)\n",
      "Requirement already satisfied: tqdm>=4.42.1 in /Users/willferguson/miniconda3/envs/cs_6220/lib/python3.11/site-packages (from huggingface_hub) (4.66.6)\n",
      "Requirement already satisfied: typing-extensions>=3.7.4.3 in /Users/willferguson/miniconda3/envs/cs_6220/lib/python3.11/site-packages (from huggingface_hub) (4.12.2)\n",
      "Requirement already satisfied: charset-normalizer<4,>=2 in /Users/willferguson/miniconda3/envs/cs_6220/lib/python3.11/site-packages (from requests->huggingface_hub) (3.4.0)\n",
      "Requirement already satisfied: idna<4,>=2.5 in /Users/willferguson/miniconda3/envs/cs_6220/lib/python3.11/site-packages (from requests->huggingface_hub) (3.10)\n",
      "Requirement already satisfied: urllib3<3,>=1.21.1 in /Users/willferguson/miniconda3/envs/cs_6220/lib/python3.11/site-packages (from requests->huggingface_hub) (2.2.3)\n",
      "Requirement already satisfied: certifi>=2017.4.17 in /Users/willferguson/miniconda3/envs/cs_6220/lib/python3.11/site-packages (from requests->huggingface_hub) (2024.8.30)\n",
      "Note: you may need to restart the kernel to use updated packages.\n",
      "Requirement already satisfied: mlx_lm in /Users/willferguson/miniconda3/envs/cs_6220/lib/python3.11/site-packages (0.4.0)\n",
      "Collecting mlx_lm\n",
      "  Using cached mlx_lm-0.20.1-py3-none-any.whl.metadata (9.0 kB)\n",
      "INFO: pip is looking at multiple versions of mlx-lm to determine which version is compatible with other requirements. This could take a while.\n",
      "  Using cached mlx_lm-0.19.3-py3-none-any.whl.metadata (8.9 kB)\n",
      "  Using cached mlx_lm-0.19.2-py3-none-any.whl.metadata (8.1 kB)\n",
      "  Using cached mlx_lm-0.19.1-py3-none-any.whl.metadata (8.1 kB)\n",
      "  Using cached mlx_lm-0.19.0-py3-none-any.whl.metadata (7.3 kB)\n",
      "  Using cached mlx_lm-0.18.2-py3-none-any.whl.metadata (7.3 kB)\n",
      "  Using cached mlx_lm-0.18.1-py3-none-any.whl.metadata (6.9 kB)\n",
      "  Using cached mlx_lm-0.17.1-py3-none-any.whl.metadata (5.8 kB)\n",
      "INFO: pip is still looking at multiple versions of mlx-lm to determine which version is compatible with other requirements. This could take a while.\n",
      "  Using cached mlx_lm-0.17.0-py3-none-any.whl.metadata (5.8 kB)\n",
      "  Using cached mlx_lm-0.16.1-py3-none-any.whl.metadata (5.8 kB)\n",
      "  Using cached mlx_lm-0.16.0-py3-none-any.whl.metadata (5.8 kB)\n",
      "  Using cached mlx_lm-0.15.3-py3-none-any.whl.metadata (5.8 kB)\n",
      "  Using cached mlx_lm-0.15.2-py3-none-any.whl.metadata (5.7 kB)\n",
      "INFO: This is taking longer than usual. You might need to provide the dependency resolver with stricter constraints to reduce runtime. See https://pip.pypa.io/warnings/backtracking for guidance. If you want to abort this run, press Ctrl + C.\n",
      "  Using cached mlx_lm-0.15.1-py3-none-any.whl.metadata (5.7 kB)\n",
      "  Using cached mlx_lm-0.15.0-py3-none-any.whl.metadata (5.7 kB)\n",
      "  Using cached mlx_lm-0.14.3-py3-none-any.whl.metadata (5.6 kB)\n",
      "  Using cached mlx_lm-0.14.2-py3-none-any.whl.metadata (5.1 kB)\n",
      "  Using cached mlx_lm-0.14.1-py3-none-any.whl.metadata (5.1 kB)\n",
      "  Using cached mlx_lm-0.14.0-py3-none-any.whl.metadata (5.0 kB)\n",
      "  Using cached mlx_lm-0.13.1-py3-none-any.whl.metadata (5.0 kB)\n",
      "  Using cached mlx_lm-0.13.0-py3-none-any.whl.metadata (5.0 kB)\n",
      "  Using cached mlx_lm-0.12.1-py3-none-any.whl.metadata (5.0 kB)\n",
      "  Using cached mlx_lm-0.12.0-py3-none-any.whl.metadata (5.0 kB)\n",
      "  Using cached mlx_lm-0.11.0-py3-none-any.whl.metadata (5.0 kB)\n",
      "  Using cached mlx_lm-0.10.0-py3-none-any.whl.metadata (5.0 kB)\n",
      "  Using cached mlx_lm-0.9.0-py3-none-any.whl.metadata (5.1 kB)\n",
      "  Using cached mlx_lm-0.8.0-py3-none-any.whl.metadata (5.1 kB)\n",
      "  Using cached mlx_lm-0.7.0-py3-none-any.whl.metadata (5.1 kB)\n",
      "  Using cached mlx_lm-0.6.0-py3-none-any.whl.metadata (5.1 kB)\n",
      "  Using cached mlx_lm-0.5.0-py3-none-any.whl.metadata (5.1 kB)\n",
      "Requirement already satisfied: mlx>=0.6 in /Users/willferguson/miniconda3/envs/cs_6220/lib/python3.11/site-packages (from mlx_lm) (0.7.0)\n",
      "Requirement already satisfied: numpy in /Users/willferguson/miniconda3/envs/cs_6220/lib/python3.11/site-packages (from mlx_lm) (1.26.4)\n",
      "Requirement already satisfied: transformers>=4.38.0 in /Users/willferguson/miniconda3/envs/cs_6220/lib/python3.11/site-packages (from mlx_lm) (4.46.3)\n",
      "Requirement already satisfied: protobuf in /Users/willferguson/miniconda3/envs/cs_6220/lib/python3.11/site-packages (from mlx_lm) (5.28.3)\n",
      "Requirement already satisfied: pyyaml in /Users/willferguson/miniconda3/envs/cs_6220/lib/python3.11/site-packages (from mlx_lm) (6.0.2)\n",
      "Requirement already satisfied: jinja2 in /Users/willferguson/miniconda3/envs/cs_6220/lib/python3.11/site-packages (from mlx_lm) (3.1.4)\n",
      "Requirement already satisfied: filelock in /Users/willferguson/miniconda3/envs/cs_6220/lib/python3.11/site-packages (from transformers>=4.38.0->mlx_lm) (3.16.1)\n",
      "Requirement already satisfied: huggingface-hub<1.0,>=0.23.2 in /Users/willferguson/miniconda3/envs/cs_6220/lib/python3.11/site-packages (from transformers>=4.38.0->mlx_lm) (0.26.2)\n",
      "Requirement already satisfied: packaging>=20.0 in /Users/willferguson/miniconda3/envs/cs_6220/lib/python3.11/site-packages (from transformers>=4.38.0->mlx_lm) (24.1)\n",
      "Requirement already satisfied: regex!=2019.12.17 in /Users/willferguson/miniconda3/envs/cs_6220/lib/python3.11/site-packages (from transformers>=4.38.0->mlx_lm) (2024.11.6)\n",
      "Requirement already satisfied: requests in /Users/willferguson/miniconda3/envs/cs_6220/lib/python3.11/site-packages (from transformers>=4.38.0->mlx_lm) (2.32.3)\n",
      "Requirement already satisfied: tokenizers<0.21,>=0.20 in /Users/willferguson/miniconda3/envs/cs_6220/lib/python3.11/site-packages (from transformers>=4.38.0->mlx_lm) (0.20.3)\n",
      "Requirement already satisfied: safetensors>=0.4.1 in /Users/willferguson/miniconda3/envs/cs_6220/lib/python3.11/site-packages (from transformers>=4.38.0->mlx_lm) (0.4.5)\n",
      "Requirement already satisfied: tqdm>=4.27 in /Users/willferguson/miniconda3/envs/cs_6220/lib/python3.11/site-packages (from transformers>=4.38.0->mlx_lm) (4.66.6)\n",
      "Requirement already satisfied: MarkupSafe>=2.0 in /Users/willferguson/miniconda3/envs/cs_6220/lib/python3.11/site-packages (from jinja2->mlx_lm) (3.0.2)\n",
      "Requirement already satisfied: fsspec>=2023.5.0 in /Users/willferguson/miniconda3/envs/cs_6220/lib/python3.11/site-packages (from huggingface-hub<1.0,>=0.23.2->transformers>=4.38.0->mlx_lm) (2024.9.0)\n",
      "Requirement already satisfied: typing-extensions>=3.7.4.3 in /Users/willferguson/miniconda3/envs/cs_6220/lib/python3.11/site-packages (from huggingface-hub<1.0,>=0.23.2->transformers>=4.38.0->mlx_lm) (4.12.2)\n",
      "Requirement already satisfied: charset-normalizer<4,>=2 in /Users/willferguson/miniconda3/envs/cs_6220/lib/python3.11/site-packages (from requests->transformers>=4.38.0->mlx_lm) (3.4.0)\n",
      "Requirement already satisfied: idna<4,>=2.5 in /Users/willferguson/miniconda3/envs/cs_6220/lib/python3.11/site-packages (from requests->transformers>=4.38.0->mlx_lm) (3.10)\n",
      "Requirement already satisfied: urllib3<3,>=1.21.1 in /Users/willferguson/miniconda3/envs/cs_6220/lib/python3.11/site-packages (from requests->transformers>=4.38.0->mlx_lm) (2.2.3)\n",
      "Requirement already satisfied: certifi>=2017.4.17 in /Users/willferguson/miniconda3/envs/cs_6220/lib/python3.11/site-packages (from requests->transformers>=4.38.0->mlx_lm) (2024.8.30)\n",
      "Note: you may need to restart the kernel to use updated packages.\n",
      "Requirement already satisfied: pandas in /Users/willferguson/miniconda3/envs/cs_6220/lib/python3.11/site-packages (2.2.3)\n",
      "Requirement already satisfied: numpy>=1.23.2 in /Users/willferguson/miniconda3/envs/cs_6220/lib/python3.11/site-packages (from pandas) (1.26.4)\n",
      "Requirement already satisfied: python-dateutil>=2.8.2 in /Users/willferguson/miniconda3/envs/cs_6220/lib/python3.11/site-packages (from pandas) (2.9.0)\n",
      "Requirement already satisfied: pytz>=2020.1 in /Users/willferguson/miniconda3/envs/cs_6220/lib/python3.11/site-packages (from pandas) (2024.2)\n",
      "Requirement already satisfied: tzdata>=2022.7 in /Users/willferguson/miniconda3/envs/cs_6220/lib/python3.11/site-packages (from pandas) (2024.2)\n",
      "Requirement already satisfied: six>=1.5 in /Users/willferguson/miniconda3/envs/cs_6220/lib/python3.11/site-packages (from python-dateutil>=2.8.2->pandas) (1.16.0)\n",
      "Note: you may need to restart the kernel to use updated packages.\n"
     ]
    }
   ],
   "source": [
    "# First, install necessary dependencies\n",
    "%pip install datasets\n",
    "%pip install transformers\n",
    "%pip install huggingface_hub\n",
    "%pip install -U mlx_lm\n",
    "%pip install pandas"
   ]
  },
  {
   "cell_type": "markdown",
   "metadata": {},
   "source": [
    "Download the model from the huggingface cli using the following prompt in your terminal\n",
    "\n",
    "```bash\n",
    "huggingface-cli login\n",
    "#Paste your huggingface token in#\n",
    "```\n"
   ]
  },
  {
   "cell_type": "code",
   "execution_count": 2,
   "metadata": {},
   "outputs": [
    {
     "name": "stdout",
     "output_type": "stream",
     "text": [
      "Fetching 10 files: 100%|██████████████████████| 10/10 [00:00<00:00, 3023.79it/s]\n",
      "/Users/willferguson/Downloads/GT Fall 2024/CS 6220/cs6220-project/models\n"
     ]
    }
   ],
   "source": [
    "# Download the model from huggingface\n",
    "!huggingface-cli download Qwen/Qwen2.5-0.5B-Instruct --local-dir='../models/'"
   ]
  },
  {
   "cell_type": "markdown",
   "metadata": {},
   "source": [
    "Now we need to create the datasets. MLX is expecting a test, train and validation dataset in the following form\n",
    "\n",
    "```json\n",
    "{'prompt': \"What is your name?\", \"completion\": \"Will Ferguson\"}\n",
    "```"
   ]
  },
  {
   "cell_type": "code",
   "execution_count": 3,
   "metadata": {},
   "outputs": [],
   "source": [
    "import pandas as pd\n",
    "import json\n",
    "import os"
   ]
  },
  {
   "cell_type": "code",
   "execution_count": 4,
   "metadata": {},
   "outputs": [],
   "source": [
    "def ingest_train_data(directory: str):\n",
    "    all_data = []\n",
    "    for file in os.listdir(directory):\n",
    "        path = os.path.join(directory, file)\n",
    "        with open(path, 'r') as f:\n",
    "            data = json.load(f)\n",
    "            company_name = data['company']\n",
    "            # drop keys that don't matter\n",
    "            del_keys = [\n",
    "                'state_location'\n",
    "                'cik',\n",
    "                'company',\n",
    "                'filing_type',\n",
    "                'filing_date',\n",
    "                'period_of_report',\n",
    "                'sic',\n",
    "                'state_of_inc',\n",
    "                'fiscal_year_end',\n",
    "                'filing_html_index',\n",
    "                'htm_filing_link',\n",
    "                'complete_text_filing_link',\n",
    "                'filename'\n",
    "            ]\n",
    "            all_data.extend([(data[text], text, company_name) for text in data.keys() if text not in del_keys])\n",
    "    return all_data\n",
    "\n",
    "\n",
    "def create_master_dataset(directory: str):\n",
    "    df = pd.DataFrame(columns=[\"prompt\", \"completion\"])\n",
    "    data = ingest_train_data('../data/')\n",
    "    for completion, item, company in data:\n",
    "        prompt = f\"What did {item} in {company}'s SEC 10-K filing say?\"\n",
    "        df.loc[len(df.index)] = [prompt, completion]\n",
    "    return df\n",
    "\n",
    "directory = '../data/'\n",
    "master_set = create_master_dataset(directory=directory)"
   ]
  },
  {
   "cell_type": "code",
   "execution_count": 5,
   "metadata": {},
   "outputs": [
    {
     "name": "stdout",
     "output_type": "stream",
     "text": [
      "Requirement already satisfied: scikit-learn in /Users/willferguson/miniconda3/envs/cs_6220/lib/python3.11/site-packages (1.5.2)\n",
      "Requirement already satisfied: numpy>=1.19.5 in /Users/willferguson/miniconda3/envs/cs_6220/lib/python3.11/site-packages (from scikit-learn) (1.26.4)\n",
      "Requirement already satisfied: scipy>=1.6.0 in /Users/willferguson/miniconda3/envs/cs_6220/lib/python3.11/site-packages (from scikit-learn) (1.14.1)\n",
      "Requirement already satisfied: joblib>=1.2.0 in /Users/willferguson/miniconda3/envs/cs_6220/lib/python3.11/site-packages (from scikit-learn) (1.4.2)\n",
      "Requirement already satisfied: threadpoolctl>=3.1.0 in /Users/willferguson/miniconda3/envs/cs_6220/lib/python3.11/site-packages (from scikit-learn) (3.5.0)\n",
      "Note: you may need to restart the kernel to use updated packages.\n"
     ]
    }
   ],
   "source": [
    "%pip install scikit-learn\n",
    "from sklearn.model_selection import train_test_split"
   ]
  },
  {
   "cell_type": "code",
   "execution_count": 6,
   "metadata": {},
   "outputs": [],
   "source": [
    "\n",
    "def split(df: pd.DataFrame):\n",
    "    train, test = train_test_split(df, test_size=0.2, random_state=143)\n",
    "    test, val = train_test_split(test, test_size=0.25, random_state=143)\n",
    "    train.to_json('../tmp/train.jsonl', orient='records', lines=True)\n",
    "    test.to_json('../tmp/test.jsonl', orient='records', lines=True)\n",
    "    val.to_json('../tmp/valid.jsonl', orient='records', lines=True)\n",
    "\n",
    "split(master_set)"
   ]
  },
  {
   "cell_type": "code",
   "execution_count": 2,
   "metadata": {},
   "outputs": [
    {
     "name": "stdout",
     "output_type": "stream",
     "text": [
      "('10.16', ('', '', ''), 'x86_64')\n"
     ]
    }
   ],
   "source": [
    "\n",
    "!export SYSTEM_VERSION_COMPAT=0\n",
    "import platform; print(platform.mac_ver())"
   ]
  },
  {
   "cell_type": "markdown",
   "metadata": {},
   "source": [
    "Now we can fine-tune the model with a simple MLX call"
   ]
  },
  {
   "cell_type": "code",
   "execution_count": 8,
   "metadata": {},
   "outputs": [
    {
     "name": "stdout",
     "output_type": "stream",
     "text": [
      "Traceback (most recent call last):\n",
      "  File \"/Users/willferguson/miniconda3/envs/cs_6220/lib/python3.11/site-packages/mlx/_os_warning.py\", line 7, in <module>\n",
      "    raise ImportError(\n",
      "ImportError: Only macOS 13.5 and newer are supported, not 10.16\n",
      "\n",
      "The above exception was the direct cause of the following exception:\n",
      "\n",
      "Traceback (most recent call last):\n",
      "  File \"<frozen runpy>\", line 189, in _run_module_as_main\n",
      "  File \"<frozen runpy>\", line 112, in _get_module_details\n",
      "  File \"/Users/willferguson/miniconda3/envs/cs_6220/lib/python3.11/site-packages/mlx_lm/__init__.py\", line 3, in <module>\n",
      "    from .utils import convert, generate, load\n",
      "  File \"/Users/willferguson/miniconda3/envs/cs_6220/lib/python3.11/site-packages/mlx_lm/utils.py\", line 14, in <module>\n",
      "    import mlx.core as mx\n",
      "ImportError: initialization failed\n"
     ]
    }
   ],
   "source": [
    "data = '../tmp/'\n",
    "model = '/Users/willferguson/Downloads/GT Fall 2024/CS 6220/cs6220-project/models'\n",
    "\n",
    "# Fine Tune the Model\n",
    "!python -m mlx_lm.lora \\\n",
    "  --model '/Users/willferguson/Downloads/GT Fall 2024/CS 6220/cs6220-project/models' \\\n",
    "  --data './tmp/' \\\n",
    "  --train \\\n",
    "  --batch-size 4\\\n",
    "  --lora-layers 16\\\n",
    "  --iters 1000"
   ]
  },
  {
   "cell_type": "code",
   "execution_count": null,
   "metadata": {},
   "outputs": [],
   "source": []
  }
 ],
 "metadata": {
  "kernelspec": {
   "display_name": "cs_6220",
   "language": "python",
   "name": "python3"
  },
  "language_info": {
   "codemirror_mode": {
    "name": "ipython",
    "version": 3
   },
   "file_extension": ".py",
   "mimetype": "text/x-python",
   "name": "python",
   "nbconvert_exporter": "python",
   "pygments_lexer": "ipython3",
   "version": "3.11.10"
  }
 },
 "nbformat": 4,
 "nbformat_minor": 2
}
